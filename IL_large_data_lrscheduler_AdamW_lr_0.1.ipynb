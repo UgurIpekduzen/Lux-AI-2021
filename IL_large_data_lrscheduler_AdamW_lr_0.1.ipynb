{
 "cells": [
  {
   "cell_type": "code",
   "execution_count": 1,
   "metadata": {},
   "outputs": [],
   "source": [
    "import numpy as np\n",
    "import json\n",
    "from pathlib import Path\n",
    "import os\n",
    "import random\n",
    "from tqdm.notebook import tqdm\n",
    "import torch\n",
    "from torch import nn\n",
    "import torch.nn.functional as F\n",
    "from torch.utils.data import Dataset, DataLoader\n",
    "import torch.optim as optim\n",
    "from sklearn.model_selection import train_test_split\n",
    "import matplotlib.pyplot as plt\n",
    "from ipywidgets import IntProgress\n",
    "from torchsummary import summary"
   ]
  },
  {
   "cell_type": "code",
   "execution_count": 2,
   "metadata": {},
   "outputs": [],
   "source": [
    "torch.cuda.empty_cache()\n",
    "learning_rate = 1e-1\n",
    "lambda_c = 0.1\n",
    "num_epochs = 100\n",
    "op_name = \"AdamW\"\n",
    "# op_name = \"SGD\""
   ]
  },
  {
   "cell_type": "code",
   "execution_count": 3,
   "metadata": {},
   "outputs": [],
   "source": [
    "def seed_everything(seed_value):\n",
    "    random.seed(seed_value)\n",
    "    np.random.seed(seed_value)\n",
    "    torch.manual_seed(seed_value)\n",
    "    os.environ['PYTHONHASHSEED'] = str(seed_value)\n",
    "    \n",
    "    if torch.cuda.is_available(): \n",
    "        torch.cuda.manual_seed(seed_value)\n",
    "        torch.cuda.manual_seed_all(seed_value)\n",
    "        torch.backends.cudnn.deterministic = True\n",
    "        torch.backends.cudnn.benchmark = True\n",
    "\n",
    "seed = 42\n",
    "seed_everything(seed)"
   ]
  },
  {
   "cell_type": "code",
   "execution_count": 4,
   "metadata": {},
   "outputs": [],
   "source": [
    "def to_label(action):\n",
    "    strs = action.split(' ')\n",
    "    unit_id = strs[1]\n",
    "    if strs[0] == 'm':\n",
    "        label = {'c': None, 'n': 0, 's': 1, 'w': 2, 'e': 3}[strs[2]]\n",
    "    elif strs[0] == 'bcity':\n",
    "        label = 4\n",
    "    else:\n",
    "        label = None\n",
    "    return unit_id, label\n",
    "\n",
    "def depleted_resources(obs):\n",
    "    for u in obs['updates']:\n",
    "        if u.split(' ')[0] == 'r':\n",
    "            return False\n",
    "    return True\n",
    "\n",
    "def create_dataset_from_json(episode_dir, team_name='Toad Brigade'): \n",
    "    obses = {}\n",
    "    samples = []\n",
    "    append = samples.append\n",
    "    \n",
    "    episodes = [path for path in Path(episode_dir).glob('*.json') if 'output' not in path.name]\n",
    "    for filepath in tqdm(episodes): \n",
    "        with open(filepath) as f:\n",
    "            json_load = json.load(f)\n",
    "\n",
    "        ep_id = json_load['info']['EpisodeId']\n",
    "        index = np.argmax([r or 0 for r in json_load['rewards']])\n",
    "        if json_load['info']['TeamNames'][index] != team_name:\n",
    "            print(index,filepath)\n",
    "            continue\n",
    "\n",
    "        for i in range(len(json_load['steps'])-1):\n",
    "            if json_load['steps'][i][index]['status'] == 'ACTIVE':\n",
    "                actions = json_load['steps'][i+1][index]['action']\n",
    "                obs = json_load['steps'][i][0]['observation']\n",
    "                \n",
    "                if depleted_resources(obs):\n",
    "                    break\n",
    "                \n",
    "                obs['player'] = index\n",
    "                obs = dict([\n",
    "                    (k,v) for k,v in obs.items() \n",
    "                    if k in ['step', 'updates', 'player', 'width', 'height']\n",
    "                ])\n",
    "                obs_id = f'{ep_id}_{i}'\n",
    "                obses[obs_id] = obs\n",
    "                                \n",
    "                for action in actions:\n",
    "                    unit_id, label = to_label(action)\n",
    "                    if label is not None:\n",
    "                        append((obs_id, unit_id, label))\n",
    "\n",
    "    return obses, samples"
   ]
  },
  {
   "cell_type": "code",
   "execution_count": 5,
   "metadata": {},
   "outputs": [
    {
     "data": {
      "application/vnd.jupyter.widget-view+json": {
       "model_id": "b0115f32017c46ae8488fe6c177a79aa",
       "version_major": 2,
       "version_minor": 0
      },
      "text/plain": [
       "  0%|          | 0/1126 [00:00<?, ?it/s]"
      ]
     },
     "metadata": {},
     "output_type": "display_data"
    },
    {
     "name": "stdout",
     "output_type": "stream",
     "text": [
      "0 ../input/lux-ai-episodes/30032982.json\n",
      "1 ../input/lux-ai-episodes/29881187.json\n",
      "1 ../input/lux-ai-episodes/30084250.json\n",
      "1 ../input/lux-ai-episodes/29941134.json\n",
      "0 ../input/lux-ai-episodes/29941132.json\n",
      "0 ../input/lux-ai-episodes/30362914.json\n",
      "0 ../input/lux-ai-episodes/29429006.json\n",
      "1 ../input/lux-ai-episodes/29881186.json\n",
      "1 ../input/lux-ai-episodes/30226842.json\n",
      "0 ../input/lux-ai-episodes/30310209.json\n",
      "0 ../input/lux-ai-episodes/29694898.json\n",
      "0 ../input/lux-ai-episodes/28825750.json\n",
      "0 ../input/lux-ai-episodes/29697620.json\n",
      "0 ../input/lux-ai-episodes/26886148.json\n",
      "0 ../input/lux-ai-episodes/30362915.json\n",
      "1 ../input/lux-ai-episodes/29695641.json\n",
      "0 ../input/lux-ai-episodes/29851612.json\n",
      "1 ../input/lux-ai-episodes/29698613.json\n",
      "0 ../input/lux-ai-episodes/30114472.json\n",
      "1 ../input/lux-ai-episodes/29919414.json\n",
      "0 ../input/lux-ai-episodes/29744239.json\n",
      "1 ../input/lux-ai-episodes/30457789.json\n",
      "1 ../input/lux-ai-episodes/30155524.json\n",
      "0 ../input/lux-ai-episodes/29831871.json\n",
      "0 ../input/lux-ai-episodes/29692665.json\n",
      "0 ../input/lux-ai-episodes/30407208.json\n",
      "0 ../input/lux-ai-episodes/29626219.json\n",
      "0 ../input/lux-ai-episodes/29698856.json\n",
      "0 ../input/lux-ai-episodes/29690669.json\n",
      "1 ../input/lux-ai-episodes/29416859.json\n",
      "1 ../input/lux-ai-episodes/29700092.json\n",
      "1 ../input/lux-ai-episodes/30394596.json\n",
      "1 ../input/lux-ai-episodes/29693652.json\n",
      "1 ../input/lux-ai-episodes/29812064.json\n",
      "0 ../input/lux-ai-episodes/29692913.json\n",
      "1 ../input/lux-ai-episodes/29696879.json\n",
      "1 ../input/lux-ai-episodes/29861259.json\n",
      "1 ../input/lux-ai-episodes/29700835.json\n",
      "1 ../input/lux-ai-episodes/29755987.json\n",
      "1 ../input/lux-ai-episodes/29700091.json\n",
      "0 ../input/lux-ai-episodes/29696385.json\n",
      "1 ../input/lux-ai-episodes/30309682.json\n",
      "0 ../input/lux-ai-episodes/29275514.json\n",
      "1 ../input/lux-ai-episodes/29801938.json\n",
      "0 ../input/lux-ai-episodes/29693160.json\n",
      "0 ../input/lux-ai-episodes/29921059.json\n",
      "1 ../input/lux-ai-episodes/30352004.json\n",
      "0 ../input/lux-ai-episodes/29691163.json\n",
      "0 ../input/lux-ai-episodes/30352006.json\n",
      "0 ../input/lux-ai-episodes/30062989.json\n",
      "1 ../input/lux-ai-episodes/29951063.json\n",
      "1 ../input/lux-ai-episodes/29694151.json\n",
      "1 ../input/lux-ai-episodes/29693903.json\n",
      "0 ../input/lux-ai-episodes/29861715.json\n",
      "1 ../input/lux-ai-episodes/30407209.json\n",
      "0 ../input/lux-ai-episodes/29697872.json\n",
      "0 ../input/lux-ai-episodes/29239610.json\n",
      "1 ../input/lux-ai-episodes/29096611.json\n",
      "0 ../input/lux-ai-episodes/29776178.json\n",
      "1 ../input/lux-ai-episodes/29736725.json\n",
      "0 ../input/lux-ai-episodes/29861714.json\n",
      "1 ../input/lux-ai-episodes/29960940.json\n",
      "1 ../input/lux-ai-episodes/29356120.json\n",
      "1 ../input/lux-ai-episodes/29695889.json\n",
      "0 ../input/lux-ai-episodes/28416434.json\n",
      "1 ../input/lux-ai-episodes/30458832.json\n",
      "1 ../input/lux-ai-episodes/29910945.json\n",
      "0 ../input/lux-ai-episodes/30053306.json\n",
      "1 ../input/lux-ai-episodes/30105867.json\n",
      "0 ../input/lux-ai-episodes/26863030.json\n",
      "0 ../input/lux-ai-episodes/29901266.json\n",
      "1 ../input/lux-ai-episodes/29275279.json\n",
      "1 ../input/lux-ai-episodes/29693410.json\n",
      "1 ../input/lux-ai-episodes/30373583.json\n",
      "1 ../input/lux-ai-episodes/29692664.json\n",
      "0 ../input/lux-ai-episodes/30062990.json\n",
      "1 ../input/lux-ai-episodes/29807420.json\n",
      "0 ../input/lux-ai-episodes/30426145.json\n",
      "1 ../input/lux-ai-episodes/29691921.json\n",
      "0 ../input/lux-ai-episodes/29698364.json\n",
      "0 ../input/lux-ai-episodes/30155478.json\n",
      "1 ../input/lux-ai-episodes/29699842.json\n",
      "1 ../input/lux-ai-episodes/30145230.json\n",
      "1 ../input/lux-ai-episodes/30331044.json\n",
      "1 ../input/lux-ai-episodes/28867416.json\n",
      "0 ../input/lux-ai-episodes/30017529.json\n",
      "0 ../input/lux-ai-episodes/29569228.json\n",
      "1 ../input/lux-ai-episodes/29693406.json\n",
      "0 ../input/lux-ai-episodes/30320404.json\n",
      "0 ../input/lux-ai-episodes/30385302.json\n",
      "1 ../input/lux-ai-episodes/29901314.json\n",
      "0 ../input/lux-ai-episodes/30310328.json\n",
      "1 ../input/lux-ai-episodes/29769198.json\n",
      "1 ../input/lux-ai-episodes/29901317.json\n",
      "0 ../input/lux-ai-episodes/29697871.json\n",
      "1 ../input/lux-ai-episodes/30124925.json\n",
      "1 ../input/lux-ai-episodes/30134936.json\n",
      "1 ../input/lux-ai-episodes/30436988.json\n",
      "1 ../input/lux-ai-episodes/30383985.json\n",
      "0 ../input/lux-ai-episodes/30436332.json\n",
      "0 ../input/lux-ai-episodes/29951068.json\n",
      "1 ../input/lux-ai-episodes/29697375.json\n",
      "1 ../input/lux-ai-episodes/29426142.json\n",
      "0 ../input/lux-ai-episodes/30268504.json\n",
      "1 ../input/lux-ai-episodes/29753090.json\n",
      "0 ../input/lux-ai-episodes/29695888.json\n",
      "1 ../input/lux-ai-episodes/29732193.json\n",
      "0 ../input/lux-ai-episodes/30073321.json\n",
      "1 ../input/lux-ai-episodes/26742638.json\n",
      "1 ../input/lux-ai-episodes/30448107.json\n",
      "0 ../input/lux-ai-episodes/29636809.json\n",
      "1 ../input/lux-ai-episodes/29910351.json\n",
      "0 ../input/lux-ai-episodes/30012393.json\n",
      "1 ../input/lux-ai-episodes/26795899.json\n",
      "0 ../input/lux-ai-episodes/29302107.json\n",
      "0 ../input/lux-ai-episodes/29991186.json\n",
      "1 ../input/lux-ai-episodes/30267552.json\n",
      "0 ../input/lux-ai-episodes/29732903.json\n",
      "1 ../input/lux-ai-episodes/30362911.json\n",
      "1 ../input/lux-ai-episodes/29696384.json\n",
      "0 ../input/lux-ai-episodes/29900823.json\n",
      "0 ../input/lux-ai-episodes/26826225.json\n",
      "0 ../input/lux-ai-episodes/29707607.json\n",
      "1 ../input/lux-ai-episodes/29704004.json\n",
      "0 ../input/lux-ai-episodes/30186129.json\n",
      "0 ../input/lux-ai-episodes/29811185.json\n",
      "0 ../input/lux-ai-episodes/29559381.json\n",
      "1 ../input/lux-ai-episodes/30278923.json\n",
      "0 ../input/lux-ai-episodes/29712394.json\n",
      "1 ../input/lux-ai-episodes/26893313.json\n",
      "1 ../input/lux-ai-episodes/29738211.json\n",
      "0 ../input/lux-ai-episodes/29698367.json\n",
      "1 ../input/lux-ai-episodes/29651842.json\n",
      "0 ../input/lux-ai-episodes/30436957.json\n",
      "1 ../input/lux-ai-episodes/28416242.json\n",
      "1 ../input/lux-ai-episodes/30257480.json\n",
      "1 ../input/lux-ai-episodes/29697122.json\n",
      "0 ../input/lux-ai-episodes/26905405.json\n",
      "1 ../input/lux-ai-episodes/29771034.json\n",
      "0 ../input/lux-ai-episodes/30052754.json\n",
      "0 ../input/lux-ai-episodes/28952416.json\n",
      "1 ../input/lux-ai-episodes/30155473.json\n",
      "0 ../input/lux-ai-episodes/29691178.json\n",
      "1 ../input/lux-ai-episodes/29960948.json\n",
      "1 ../input/lux-ai-episodes/29721605.json\n",
      "0 ../input/lux-ai-episodes/29701096.json\n",
      "0 ../input/lux-ai-episodes/30299243.json\n",
      "1 ../input/lux-ai-episodes/30330499.json\n",
      "0 ../input/lux-ai-episodes/29392880.json\n",
      "0 ../input/lux-ai-episodes/30216215.json\n",
      "0 ../input/lux-ai-episodes/29742122.json\n",
      "0 ../input/lux-ai-episodes/30247576.json\n",
      "0 ../input/lux-ai-episodes/30011716.json\n",
      "0 ../input/lux-ai-episodes/30022284.json\n",
      "1 ../input/lux-ai-episodes/29694397.json\n",
      "1 ../input/lux-ai-episodes/30436942.json\n",
      "0 ../input/lux-ai-episodes/30395984.json\n",
      "0 ../input/lux-ai-episodes/30436947.json\n",
      "1 ../input/lux-ai-episodes/29745607.json\n",
      "0 ../input/lux-ai-episodes/29851611.json\n",
      "1 ../input/lux-ai-episodes/29694477.json\n",
      "1 ../input/lux-ai-episodes/30115014.json\n",
      "0 ../input/lux-ai-episodes/29691670.json\n",
      "1 ../input/lux-ai-episodes/26693490.json\n",
      "1 ../input/lux-ai-episodes/29392879.json\n",
      "1 ../input/lux-ai-episodes/30042903.json\n",
      "0 ../input/lux-ai-episodes/30406631.json\n",
      "1 ../input/lux-ai-episodes/29713597.json\n",
      "0 ../input/lux-ai-episodes/28468853.json\n",
      "1 ../input/lux-ai-episodes/30155479.json\n",
      "0 ../input/lux-ai-episodes/30362917.json\n",
      "0 ../input/lux-ai-episodes/29079471.json\n",
      "1 ../input/lux-ai-episodes/29656356.json\n",
      "0 ../input/lux-ai-episodes/29691672.json\n",
      "1 ../input/lux-ai-episodes/30383979.json\n",
      "0 ../input/lux-ai-episodes/29429247.json\n",
      "0 ../input/lux-ai-episodes/30226319.json\n",
      "0 ../input/lux-ai-episodes/29699597.json\n",
      "0 ../input/lux-ai-episodes/30216720.json\n",
      "1 ../input/lux-ai-episodes/29726786.json\n",
      "0 ../input/lux-ai-episodes/29991741.json\n",
      "1 ../input/lux-ai-episodes/30124451.json\n",
      "0 ../input/lux-ai-episodes/29691503.json\n",
      "1 ../input/lux-ai-episodes/30469616.json\n",
      "1 ../input/lux-ai-episodes/29284416.json\n",
      "0 ../input/lux-ai-episodes/29821761.json\n",
      "1 ../input/lux-ai-episodes/29931130.json\n",
      "0 ../input/lux-ai-episodes/30083692.json\n",
      "0 ../input/lux-ai-episodes/29588210.json\n",
      "0 ../input/lux-ai-episodes/26791851.json\n",
      "1 ../input/lux-ai-episodes/29699104.json\n",
      "0 ../input/lux-ai-episodes/29347011.json\n",
      "1 ../input/lux-ai-episodes/30024877.json\n",
      "0 ../input/lux-ai-episodes/29690929.json\n",
      "0 ../input/lux-ai-episodes/29665793.json\n",
      "1 ../input/lux-ai-episodes/30165882.json\n",
      "1 ../input/lux-ai-episodes/29694644.json\n",
      "0 ../input/lux-ai-episodes/30362261.json\n",
      "0 ../input/lux-ai-episodes/30373590.json\n",
      "0 ../input/lux-ai-episodes/29831930.json\n",
      "1 ../input/lux-ai-episodes/30289261.json\n",
      "0 ../input/lux-ai-episodes/29410785.json\n",
      "0 ../input/lux-ai-episodes/29981641.json\n",
      "1 ../input/lux-ai-episodes/29891112.json\n",
      "0 ../input/lux-ai-episodes/29694209.json\n",
      "0 ../input/lux-ai-episodes/29695394.json\n",
      "0 ../input/lux-ai-episodes/30341571.json\n",
      "0 ../input/lux-ai-episodes/29891629.json\n",
      "1 ../input/lux-ai-episodes/29871802.json\n",
      "0 ../input/lux-ai-episodes/30083693.json\n",
      "1 ../input/lux-ai-episodes/30001937.json\n",
      "1 ../input/lux-ai-episodes/29881688.json\n",
      "0 ../input/lux-ai-episodes/30278969.json\n",
      "0 ../input/lux-ai-episodes/30446788.json\n",
      "0 ../input/lux-ai-episodes/30268496.json\n",
      "0 ../input/lux-ai-episodes/29699350.json\n",
      "1 ../input/lux-ai-episodes/30186162.json\n",
      "0 ../input/lux-ai-episodes/30196262.json\n",
      "0 ../input/lux-ai-episodes/26720475.json\n",
      "0 ../input/lux-ai-episodes/29821641.json\n",
      "1 ../input/lux-ai-episodes/30134939.json\n",
      "0 ../input/lux-ai-episodes/29275287.json\n",
      "0 ../input/lux-ai-episodes/29410822.json\n",
      "1 ../input/lux-ai-episodes/30237330.json\n",
      "0 ../input/lux-ai-episodes/29700588.json\n",
      "1 ../input/lux-ai-episodes/30063510.json\n",
      "0 ../input/lux-ai-episodes/29370052.json\n",
      "1 ../input/lux-ai-episodes/30236823.json\n",
      "0 ../input/lux-ai-episodes/29697621.json\n",
      "0 ../input/lux-ai-episodes/30396608.json\n",
      "1 ../input/lux-ai-episodes/29694897.json\n",
      "0 ../input/lux-ai-episodes/30468332.json\n",
      "0 ../input/lux-ai-episodes/30155480.json\n",
      "0 ../input/lux-ai-episodes/29696632.json\n",
      "1 ../input/lux-ai-episodes/30084251.json\n",
      "0 ../input/lux-ai-episodes/30480122.json\n",
      "1 ../input/lux-ai-episodes/29625986.json\n",
      "0 ../input/lux-ai-episodes/30320403.json\n",
      "0 ../input/lux-ai-episodes/30426178.json\n",
      "0 ../input/lux-ai-episodes/29971312.json\n",
      "1 ../input/lux-ai-episodes/30145226.json\n",
      "0 ../input/lux-ai-episodes/29695393.json\n",
      "0 ../input/lux-ai-episodes/29646507.json\n",
      "1 ../input/lux-ai-episodes/30073920.json\n",
      "0 ../input/lux-ai-episodes/29698118.json\n",
      "0 ../input/lux-ai-episodes/26777442.json\n",
      "1 ../input/lux-ai-episodes/30196270.json\n",
      "1 ../input/lux-ai-episodes/29751920.json\n",
      "1 ../input/lux-ai-episodes/29693897.json\n",
      "0 ../input/lux-ai-episodes/29692909.json\n",
      "1 ../input/lux-ai-episodes/29699598.json\n",
      "0 ../input/lux-ai-episodes/29699105.json\n",
      "0 ../input/lux-ai-episodes/29841269.json\n",
      "0 ../input/lux-ai-episodes/26694432.json\n",
      "0 ../input/lux-ai-episodes/29329003.json\n",
      "1 ../input/lux-ai-episodes/30248081.json\n",
      "0 ../input/lux-ai-episodes/29700339.json\n",
      "1 ../input/lux-ai-episodes/30362876.json\n",
      "0 ../input/lux-ai-episodes/30299788.json\n",
      "1 ../input/lux-ai-episodes/29483591.json\n",
      "0 ../input/lux-ai-episodes/30104757.json\n",
      "0 ../input/lux-ai-episodes/29931129.json\n",
      "1 ../input/lux-ai-episodes/30165886.json\n",
      "1 ../input/lux-ai-episodes/26870434.json\n",
      "1 ../input/lux-ai-episodes/29760653.json\n",
      "1 ../input/lux-ai-episodes/29762294.json\n",
      "0 ../input/lux-ai-episodes/29778055.json\n",
      "0 ../input/lux-ai-episodes/29708339.json\n",
      "0 ../input/lux-ai-episodes/30226859.json\n",
      "0 ../input/lux-ai-episodes/29699844.json\n",
      "1 ../input/lux-ai-episodes/30373584.json\n",
      "1 ../input/lux-ai-episodes/29841738.json\n",
      "1 ../input/lux-ai-episodes/29721591.json\n",
      "1 ../input/lux-ai-episodes/29722767.json\n",
      "1 ../input/lux-ai-episodes/30331073.json\n",
      "0 ../input/lux-ai-episodes/29698614.json\n",
      "0 ../input/lux-ai-episodes/29700585.json\n",
      "1 ../input/lux-ai-episodes/29802444.json\n",
      "0 ../input/lux-ai-episodes/26692184.json\n",
      "0 ../input/lux-ai-episodes/29698120.json\n",
      "1 ../input/lux-ai-episodes/29971249.json\n",
      "1 ../input/lux-ai-episodes/29981633.json\n",
      "0 ../input/lux-ai-episodes/30022857.json\n",
      "0 ../input/lux-ai-episodes/29693162.json\n",
      "1 ../input/lux-ai-episodes/30478848.json\n",
      "1 ../input/lux-ai-episodes/30124923.json\n",
      "0 ../input/lux-ai-episodes/29578640.json\n",
      "1 ../input/lux-ai-episodes/29941135.json\n",
      "1 ../input/lux-ai-episodes/29696633.json\n",
      "0 ../input/lux-ai-episodes/30447768.json\n",
      "0 ../input/lux-ai-episodes/29841686.json\n",
      "0 ../input/lux-ai-episodes/30406621.json\n",
      "0 ../input/lux-ai-episodes/29698860.json\n",
      "0 ../input/lux-ai-episodes/29812512.json\n",
      "1 ../input/lux-ai-episodes/29701084.json\n",
      "1 ../input/lux-ai-episodes/29821638.json\n",
      "0 ../input/lux-ai-episodes/29736298.json\n",
      "0 ../input/lux-ai-episodes/29792569.json\n",
      "1 ../input/lux-ai-episodes/29692169.json\n",
      "0 ../input/lux-ai-episodes/29311074.json\n",
      "0 ../input/lux-ai-episodes/29455892.json\n",
      "1 ../input/lux-ai-episodes/29695146.json\n",
      "0 ../input/lux-ai-episodes/30489419.json\n",
      "1 ../input/lux-ai-episodes/29700341.json\n",
      "1 ../input/lux-ai-episodes/30175942.json\n",
      "1 ../input/lux-ai-episodes/30165880.json\n",
      "1 ../input/lux-ai-episodes/30425558.json\n",
      "1 ../input/lux-ai-episodes/29691423.json\n",
      "0 ../input/lux-ai-episodes/30001301.json\n",
      "0 ../input/lux-ai-episodes/29716671.json\n",
      "0 ../input/lux-ai-episodes/29696878.json\n",
      "0 ../input/lux-ai-episodes/29699349.json\n",
      "0 ../input/lux-ai-episodes/29472017.json\n",
      "0 ../input/lux-ai-episodes/30145219.json\n",
      "0 ../input/lux-ai-episodes/30014407.json\n",
      "1 ../input/lux-ai-episodes/29991750.json\n",
      "1 ../input/lux-ai-episodes/29792205.json\n",
      "0 ../input/lux-ai-episodes/30415692.json\n",
      "1 ../input/lux-ai-episodes/30206053.json\n",
      "1 ../input/lux-ai-episodes/30094507.json\n",
      "0 ../input/lux-ai-episodes/30331047.json\n",
      "1 ../input/lux-ai-episodes/29484737.json\n",
      "0 ../input/lux-ai-episodes/29346999.json\n",
      "0 ../input/lux-ai-episodes/29891572.json\n",
      "0 ../input/lux-ai-episodes/29697125.json\n",
      "0 ../input/lux-ai-episodes/30124924.json\n",
      "1 ../input/lux-ai-episodes/29257409.json\n",
      "0 ../input/lux-ai-episodes/29691922.json\n",
      "0 ../input/lux-ai-episodes/28809722.json\n",
      "0 ../input/lux-ai-episodes/29704712.json\n",
      "1 ../input/lux-ai-episodes/29578394.json\n",
      "1 ../input/lux-ai-episodes/29861440.json\n",
      "0 ../input/lux-ai-episodes/29694643.json\n",
      "1 ../input/lux-ai-episodes/29693657.json\n",
      "1 ../input/lux-ai-episodes/30186123.json\n",
      "1 ../input/lux-ai-episodes/30104759.json\n",
      "1 ../input/lux-ai-episodes/30426214.json\n",
      "1 ../input/lux-ai-episodes/29971317.json\n",
      "0 ../input/lux-ai-episodes/26767236.json\n",
      "0 ../input/lux-ai-episodes/30206558.json\n",
      "1 ../input/lux-ai-episodes/30094504.json\n",
      "1 ../input/lux-ai-episodes/29697378.json\n",
      "1 ../input/lux-ai-episodes/28682329.json\n",
      "1 ../input/lux-ai-episodes/29746240.json\n",
      "0 ../input/lux-ai-episodes/29760392.json\n",
      "0 ../input/lux-ai-episodes/29347042.json\n",
      "1 ../input/lux-ai-episodes/29792681.json\n",
      "1 ../input/lux-ai-episodes/30289294.json\n",
      "0 ../input/lux-ai-episodes/29578373.json\n",
      "0 ../input/lux-ai-episodes/29871724.json\n",
      "1 ../input/lux-ai-episodes/29691424.json\n",
      "1 ../input/lux-ai-episodes/29738061.json\n",
      "1 ../input/lux-ai-episodes/30278438.json\n",
      "0 ../input/lux-ai-episodes/30373587.json\n",
      "0 ../input/lux-ai-episodes/29786865.json\n",
      "1 ../input/lux-ai-episodes/30319871.json\n",
      "0 ../input/lux-ai-episodes/29851175.json\n",
      "1 ../input/lux-ai-episodes/29692419.json\n",
      "0 ../input/lux-ai-episodes/30034836.json\n",
      "0 ../input/lux-ai-episodes/29695642.json\n",
      "0 ../input/lux-ai-episodes/30186124.json\n",
      "0 ../input/lux-ai-episodes/29546601.json\n",
      "0 ../input/lux-ai-episodes/29695147.json\n",
      "1 ../input/lux-ai-episodes/29694019.json\n",
      "1 ../input/lux-ai-episodes/29961012.json\n",
      "1 ../input/lux-ai-episodes/29694398.json\n",
      "0 ../input/lux-ai-episodes/30394558.json\n",
      "1 ../input/lux-ai-episodes/29920409.json\n",
      "1 ../input/lux-ai-episodes/29711946.json\n",
      "0 ../input/lux-ai-episodes/29701341.json\n",
      "1 ../input/lux-ai-episodes/29700831.json\n",
      "1 ../input/lux-ai-episodes/29465909.json\n",
      "0 ../input/lux-ai-episodes/30341542.json\n",
      "0 ../input/lux-ai-episodes/29981634.json\n",
      "1 ../input/lux-ai-episodes/30175454.json\n",
      "1 ../input/lux-ai-episodes/29782015.json\n",
      "1 ../input/lux-ai-episodes/29694152.json\n",
      "1 ../input/lux-ai-episodes/29960945.json\n",
      "1 ../input/lux-ai-episodes/29841739.json\n",
      "1 ../input/lux-ai-episodes/29692171.json\n",
      "0 ../input/lux-ai-episodes/29691855.json\n",
      "1 ../input/lux-ai-episodes/29656381.json\n",
      "0 ../input/lux-ai-episodes/29702005.json\n",
      "1 ../input/lux-ai-episodes/29716945.json\n",
      "0 ../input/lux-ai-episodes/30489792.json\n",
      "1 ../input/lux-ai-episodes/29765974.json\n",
      "0 ../input/lux-ai-episodes/30186121.json\n",
      "1 ../input/lux-ai-episodes/29726790.json\n",
      "1 ../input/lux-ai-episodes/29521534.json\n",
      "0 ../input/lux-ai-episodes/30352003.json\n",
      "1 ../input/lux-ai-episodes/29831465.json\n",
      "1 ../input/lux-ai-episodes/29549786.json\n",
      "1 ../input/lux-ai-episodes/29447153.json\n",
      "1 ../input/lux-ai-episodes/29692416.json\n",
      "1 ../input/lux-ai-episodes/29691177.json\n",
      "0 ../input/lux-ai-episodes/29930474.json\n",
      "1 ../input/lux-ai-episodes/29891113.json\n",
      "1 ../input/lux-ai-episodes/29696139.json\n",
      "0 ../input/lux-ai-episodes/29971418.json\n",
      "1 ../input/lux-ai-episodes/30206560.json\n",
      "1 ../input/lux-ai-episodes/29257410.json\n",
      "0 ../input/lux-ai-episodes/29696137.json\n",
      "obses: 237170 samples: 1460691\n"
     ]
    }
   ],
   "source": [
    "episode_dir = '../input/lux-ai-episodes'\n",
    "obses, samples = create_dataset_from_json(episode_dir)\n",
    "print('obses:', len(obses), 'samples:', len(samples))"
   ]
  },
  {
   "cell_type": "code",
   "execution_count": 6,
   "metadata": {},
   "outputs": [
    {
     "name": "stdout",
     "output_type": "stream",
     "text": [
      "north: 382547\n",
      "south: 373710\n",
      "west : 307699\n",
      "east : 304856\n",
      "bcity: 91879\n"
     ]
    }
   ],
   "source": [
    "labels = [sample[-1] for sample in samples]\n",
    "actions = ['north', 'south', 'west', 'east', 'bcity']\n",
    "for value, count in zip(*np.unique(labels, return_counts=True)):\n",
    "    print(f'{actions[value]:^5}: {count:>3}')"
   ]
  },
  {
   "cell_type": "code",
   "execution_count": 7,
   "metadata": {},
   "outputs": [],
   "source": [
    "# Input for Neural Network\n",
    "def make_input(obs, unit_id):\n",
    "    width, height = obs['width'], obs['height']\n",
    "    x_shift = (32 - width) // 2\n",
    "    y_shift = (32 - height) // 2\n",
    "    cities = {}\n",
    "    \n",
    "    b = np.zeros((20, 32, 32), dtype=np.float32)\n",
    "    \n",
    "    for update in obs['updates']:\n",
    "        strs = update.split(' ')\n",
    "        input_identifier = strs[0]\n",
    "        \n",
    "        if input_identifier == 'u':\n",
    "            x = int(strs[4]) + x_shift\n",
    "            y = int(strs[5]) + y_shift\n",
    "            wood = int(strs[7])\n",
    "            coal = int(strs[8])\n",
    "            uranium = int(strs[9])\n",
    "            if unit_id == strs[3]:\n",
    "                # Position and Cargo\n",
    "                b[:2, x, y] = (\n",
    "                    1,\n",
    "                    (wood + coal + uranium) / 100\n",
    "                )\n",
    "            else:\n",
    "                # Units\n",
    "                team = int(strs[2])\n",
    "                cooldown = float(strs[6])\n",
    "                idx = 2 + (team - obs['player']) % 2 * 3\n",
    "                b[idx:idx + 3, x, y] = (\n",
    "                    1,\n",
    "                    cooldown / 6,\n",
    "                    (wood + coal + uranium) / 100\n",
    "                )\n",
    "        elif input_identifier == 'ct':\n",
    "            # CityTiles\n",
    "            team = int(strs[1])\n",
    "            city_id = strs[2]\n",
    "            x = int(strs[3]) + x_shift\n",
    "            y = int(strs[4]) + y_shift\n",
    "            idx = 8 + (team - obs['player']) % 2 * 2\n",
    "            b[idx:idx + 2, x, y] = (\n",
    "                1,\n",
    "                cities[city_id]\n",
    "            )\n",
    "        elif input_identifier == 'r':\n",
    "            # Resources\n",
    "            r_type = strs[1]\n",
    "            x = int(strs[2]) + x_shift\n",
    "            y = int(strs[3]) + y_shift\n",
    "            amt = int(float(strs[4]))\n",
    "            b[{'wood': 12, 'coal': 13, 'uranium': 14}[r_type], x, y] = amt / 800\n",
    "        elif input_identifier == 'rp':\n",
    "            # Research Points\n",
    "            team = int(strs[1])\n",
    "            rp = int(strs[2])\n",
    "            b[15 + (team - obs['player']) % 2, :] = min(rp, 200) / 200\n",
    "        elif input_identifier == 'c':\n",
    "            # Cities\n",
    "            city_id = strs[2]\n",
    "            fuel = float(strs[3])\n",
    "            lightupkeep = float(strs[4])\n",
    "            cities[city_id] = min(fuel / lightupkeep, 10) / 10\n",
    "    \n",
    "    # Day/Night Cycle\n",
    "    b[17, :] = obs['step'] % 40 / 40\n",
    "    # Turns\n",
    "    b[18, :] = obs['step'] / 360\n",
    "    # Map Size\n",
    "    b[19, x_shift:32 - x_shift, y_shift:32 - y_shift] = 1\n",
    "\n",
    "    return b\n",
    "\n",
    "\n",
    "class LuxDataset(Dataset):\n",
    "    def __init__(self, obses, samples):\n",
    "        self.obses = obses\n",
    "        self.samples = samples\n",
    "        \n",
    "    def __len__(self):\n",
    "        return len(self.samples)\n",
    "\n",
    "    def __getitem__(self, idx):\n",
    "        obs_id, unit_id, action = self.samples[idx]\n",
    "        obs = self.obses[obs_id]\n",
    "        state = make_input(obs, unit_id)\n",
    "        \n",
    "        return state, action"
   ]
  },
  {
   "cell_type": "code",
   "execution_count": 8,
   "metadata": {},
   "outputs": [],
   "source": [
    "# Neural Network for Lux AI\n",
    "class BasicConv2d(nn.Module):\n",
    "    def __init__(self, input_dim, output_dim, kernel_size, bn):\n",
    "        super().__init__()\n",
    "        self.conv = nn.Conv2d(\n",
    "            input_dim, output_dim, \n",
    "            kernel_size=kernel_size, \n",
    "            padding=(kernel_size[0] // 2, kernel_size[1] // 2)\n",
    "        )\n",
    "        self.bn = nn.BatchNorm2d(output_dim) if bn else None\n",
    "\n",
    "    def forward(self, x):\n",
    "        h = self.conv(x)\n",
    "        h = self.bn(h) if self.bn is not None else h\n",
    "        return h\n",
    "\n",
    "\n",
    "class LuxNet(nn.Module):\n",
    "    def __init__(self):\n",
    "        super().__init__()\n",
    "        layers, filters = 12, 32\n",
    "        self.conv0 = BasicConv2d(20, filters, (3, 3), True)\n",
    "        self.blocks = nn.ModuleList([BasicConv2d(filters, filters, (3, 3), True) for _ in range(layers)])\n",
    "        self.head_p = nn.Linear(filters, 5, bias=False)\n",
    "\n",
    "    def forward(self, x):\n",
    "        h = F.relu_(self.conv0(x))\n",
    "        for block in self.blocks:\n",
    "            h = F.relu_(h + block(h))\n",
    "        h_head = (h * x[:,:1]).view(h.size(0), h.size(1), -1).sum(-1)\n",
    "        p = self.head_p(h_head)\n",
    "        return p"
   ]
  },
  {
   "cell_type": "code",
   "execution_count": 10,
   "metadata": {},
   "outputs": [],
   "source": [
    "def train_model(model, dataloaders_dict, criterion, optimizer, num_epochs):\n",
    "    best_acc = 0.0\n",
    "    \n",
    "    train_losses = []\n",
    "    val_losses = []\n",
    "    \n",
    "    train_accs = []\n",
    "    val_accs = []\n",
    "    lrs = []\n",
    "\n",
    "    lambda1 = lambda epoch: lambda_c ** epoch\n",
    "    scheduler = optim.lr_scheduler.LambdaLR(optimizer, lr_lambda=lambda1)\n",
    "\n",
    "    for epoch in range(num_epochs):\n",
    "        model.cuda()\n",
    "        \n",
    "        for phase in ['train', 'val']:\n",
    "            if phase == 'train':\n",
    "                model.train()\n",
    "            else:\n",
    "                model.eval()\n",
    "                \n",
    "            epoch_loss = 0.0\n",
    "            epoch_acc = 0\n",
    "            \n",
    "            dataloader = dataloaders_dict[phase]\n",
    "            for item in tqdm(dataloader, leave=False):\n",
    "                states = item[0].cuda().float()\n",
    "                actions = item[1].cuda().long()\n",
    "\n",
    "                optimizer.zero_grad()\n",
    "                with torch.set_grad_enabled(phase == 'train'):\n",
    "                    policy = model(states)\n",
    "                    loss = criterion(policy, actions)\n",
    "                    _, preds = torch.max(policy, 1)\n",
    "\n",
    "                    if phase == 'train':\n",
    "                        loss.backward()\n",
    "                        optimizer.step()\n",
    "\n",
    "                    epoch_loss += torch.mul(loss.item(), len(policy)).cpu()\n",
    "                    epoch_acc += torch.sum(preds == actions.data).cpu()\n",
    "\n",
    "            data_size = len(dataloader.dataset)\n",
    "            \n",
    "            epoch_loss = epoch_loss / data_size\n",
    "            epoch_acc = epoch_acc.double() / data_size\n",
    "            \n",
    "            if phase == 'train':\n",
    "                train_losses.append(epoch_loss)\n",
    "                train_accs.append(epoch_acc)\n",
    "            else:\n",
    "                val_losses.append(epoch_loss)\n",
    "                val_accs.append(epoch_acc)\n",
    "\n",
    "            print(f'Epoch {epoch + 1}/{num_epochs} |  LR: {scheduler.get_last_lr()} | {phase:^5} | Loss: {epoch_loss:.4f} | Acc: {epoch_acc:.4f}')\n",
    "        \n",
    "        if epoch_acc > best_acc:\n",
    "            traced = torch.jit.trace(model.cpu(), torch.rand(1, 20, 32, 32))\n",
    "            traced.save(f'./pretrained_models_with_large_data/model_{epoch_acc}.pth')\n",
    "            best_acc = epoch_acc\n",
    "        else:\n",
    "            scheduler.step()\n",
    "        lrs.append(optimizer.param_groups[0][\"lr\"])\n",
    "    \n",
    "    return train_losses, train_accs, val_losses, val_accs, lrs"
   ]
  },
  {
   "cell_type": "code",
   "execution_count": 9,
   "metadata": {},
   "outputs": [
    {
     "name": "stdout",
     "output_type": "stream",
     "text": [
      "----------------------------------------------------------------\n",
      "        Layer (type)               Output Shape         Param #\n",
      "================================================================\n",
      "            Conv2d-1           [-1, 32, 32, 32]           5,792\n",
      "       BatchNorm2d-2           [-1, 32, 32, 32]              64\n",
      "       BasicConv2d-3           [-1, 32, 32, 32]               0\n",
      "            Conv2d-4           [-1, 32, 32, 32]           9,248\n",
      "       BatchNorm2d-5           [-1, 32, 32, 32]              64\n",
      "       BasicConv2d-6           [-1, 32, 32, 32]               0\n",
      "            Conv2d-7           [-1, 32, 32, 32]           9,248\n",
      "       BatchNorm2d-8           [-1, 32, 32, 32]              64\n",
      "       BasicConv2d-9           [-1, 32, 32, 32]               0\n",
      "           Conv2d-10           [-1, 32, 32, 32]           9,248\n",
      "      BatchNorm2d-11           [-1, 32, 32, 32]              64\n",
      "      BasicConv2d-12           [-1, 32, 32, 32]               0\n",
      "           Conv2d-13           [-1, 32, 32, 32]           9,248\n",
      "      BatchNorm2d-14           [-1, 32, 32, 32]              64\n",
      "      BasicConv2d-15           [-1, 32, 32, 32]               0\n",
      "           Conv2d-16           [-1, 32, 32, 32]           9,248\n",
      "      BatchNorm2d-17           [-1, 32, 32, 32]              64\n",
      "      BasicConv2d-18           [-1, 32, 32, 32]               0\n",
      "           Conv2d-19           [-1, 32, 32, 32]           9,248\n",
      "      BatchNorm2d-20           [-1, 32, 32, 32]              64\n",
      "      BasicConv2d-21           [-1, 32, 32, 32]               0\n",
      "           Conv2d-22           [-1, 32, 32, 32]           9,248\n",
      "      BatchNorm2d-23           [-1, 32, 32, 32]              64\n",
      "      BasicConv2d-24           [-1, 32, 32, 32]               0\n",
      "           Conv2d-25           [-1, 32, 32, 32]           9,248\n",
      "      BatchNorm2d-26           [-1, 32, 32, 32]              64\n",
      "      BasicConv2d-27           [-1, 32, 32, 32]               0\n",
      "           Conv2d-28           [-1, 32, 32, 32]           9,248\n",
      "      BatchNorm2d-29           [-1, 32, 32, 32]              64\n",
      "      BasicConv2d-30           [-1, 32, 32, 32]               0\n",
      "           Conv2d-31           [-1, 32, 32, 32]           9,248\n",
      "      BatchNorm2d-32           [-1, 32, 32, 32]              64\n",
      "      BasicConv2d-33           [-1, 32, 32, 32]               0\n",
      "           Conv2d-34           [-1, 32, 32, 32]           9,248\n",
      "      BatchNorm2d-35           [-1, 32, 32, 32]              64\n",
      "      BasicConv2d-36           [-1, 32, 32, 32]               0\n",
      "           Conv2d-37           [-1, 32, 32, 32]           9,248\n",
      "      BatchNorm2d-38           [-1, 32, 32, 32]              64\n",
      "      BasicConv2d-39           [-1, 32, 32, 32]               0\n",
      "           Linear-40                    [-1, 5]             160\n",
      "================================================================\n",
      "Total params: 117,760\n",
      "Trainable params: 117,760\n",
      "Non-trainable params: 0\n",
      "----------------------------------------------------------------\n",
      "Input size (MB): 0.08\n",
      "Forward/backward pass size (MB): 9.75\n",
      "Params size (MB): 0.45\n",
      "Estimated Total Size (MB): 10.28\n",
      "----------------------------------------------------------------\n"
     ]
    }
   ],
   "source": [
    "device = torch.device(\"cuda\" if torch.cuda.is_available() else \"cpu\") \n",
    "model = LuxNet().to(device)\n",
    "summary(model, (20, 32, 32))\n",
    "train, val = train_test_split(samples, test_size=0.1, random_state=42, stratify=labels)\n",
    "batch_size = 64\n",
    "train_loader = DataLoader(\n",
    "    LuxDataset(obses, train), \n",
    "    batch_size=batch_size, \n",
    "    shuffle=True, \n",
    "    num_workers=2\n",
    ")\n",
    "val_loader = DataLoader(\n",
    "    LuxDataset(obses, val), \n",
    "    batch_size=batch_size, \n",
    "    shuffle=False, \n",
    "    num_workers=2\n",
    ")\n",
    "dataloaders_dict = {\"train\": train_loader, \"val\": val_loader}\n",
    "criterion = nn.CrossEntropyLoss()\n",
    "\n",
    "optimizers = { \n",
    "    'AdamW': optim.AdamW(params=model.parameters(),lr=learning_rate),\n",
    "    'SGD': optim.SGD(model.parameters(), lr=learning_rate, momentum=0.9)\n",
    "    }"
   ]
  },
  {
   "cell_type": "code",
   "execution_count": 22,
   "metadata": {},
   "outputs": [
    {
     "name": "stdout",
     "output_type": "stream",
     "text": [
      "Optimizer: AdamW\n"
     ]
    },
    {
     "data": {
      "application/vnd.jupyter.widget-view+json": {
       "model_id": "1de6bbf08b4d4cba8fc49779039ceff9",
       "version_major": 2,
       "version_minor": 0
      },
      "text/plain": [
       "  0%|          | 0/20541 [00:00<?, ?it/s]"
      ]
     },
     "metadata": {},
     "output_type": "display_data"
    },
    {
     "name": "stdout",
     "output_type": "stream",
     "text": [
      "Epoch 1/100 |  LR: [0.1] | train | Loss: 1.5457 | Acc: 0.2577\n"
     ]
    },
    {
     "data": {
      "application/vnd.jupyter.widget-view+json": {
       "model_id": "e6a8ae3e75214cd595b9de39330ba6cf",
       "version_major": 2,
       "version_minor": 0
      },
      "text/plain": [
       "  0%|          | 0/2283 [00:00<?, ?it/s]"
      ]
     },
     "metadata": {},
     "output_type": "display_data"
    },
    {
     "name": "stdout",
     "output_type": "stream",
     "text": [
      "Epoch 1/100 |  LR: [0.1] |  val  | Loss: 1.5466 | Acc: 0.2562\n"
     ]
    },
    {
     "data": {
      "application/vnd.jupyter.widget-view+json": {
       "model_id": "dc7f66489a7042358a203bdde5738351",
       "version_major": 2,
       "version_minor": 0
      },
      "text/plain": [
       "  0%|          | 0/20541 [00:00<?, ?it/s]"
      ]
     },
     "metadata": {},
     "output_type": "display_data"
    },
    {
     "name": "stdout",
     "output_type": "stream",
     "text": [
      "Epoch 2/100 |  LR: [0.1] | train | Loss: 1.5345 | Acc: 0.2584\n"
     ]
    },
    {
     "data": {
      "application/vnd.jupyter.widget-view+json": {
       "model_id": "58cabb5ff4fd4193a96143bc43539d23",
       "version_major": 2,
       "version_minor": 0
      },
      "text/plain": [
       "  0%|          | 0/2283 [00:00<?, ?it/s]"
      ]
     },
     "metadata": {},
     "output_type": "display_data"
    },
    {
     "name": "stdout",
     "output_type": "stream",
     "text": [
      "Epoch 2/100 |  LR: [0.1] |  val  | Loss: 1.5329 | Acc: 0.2619\n"
     ]
    },
    {
     "data": {
      "application/vnd.jupyter.widget-view+json": {
       "model_id": "5902cd36d5204d51975361d97c58166a",
       "version_major": 2,
       "version_minor": 0
      },
      "text/plain": [
       "  0%|          | 0/20541 [00:00<?, ?it/s]"
      ]
     },
     "metadata": {},
     "output_type": "display_data"
    },
    {
     "name": "stdout",
     "output_type": "stream",
     "text": [
      "Epoch 3/100 |  LR: [0.1] | train | Loss: 1.5333 | Acc: 0.2590\n"
     ]
    },
    {
     "data": {
      "application/vnd.jupyter.widget-view+json": {
       "model_id": "66b74ce6af8e4fe5ab677dd0d3e9a6f5",
       "version_major": 2,
       "version_minor": 0
      },
      "text/plain": [
       "  0%|          | 0/2283 [00:00<?, ?it/s]"
      ]
     },
     "metadata": {},
     "output_type": "display_data"
    },
    {
     "name": "stdout",
     "output_type": "stream",
     "text": [
      "Epoch 3/100 |  LR: [0.1] |  val  | Loss: 1.5397 | Acc: 0.2558\n"
     ]
    },
    {
     "data": {
      "application/vnd.jupyter.widget-view+json": {
       "model_id": "1fce1b3cce2644db8658e8973d19d481",
       "version_major": 2,
       "version_minor": 0
      },
      "text/plain": [
       "  0%|          | 0/20541 [00:00<?, ?it/s]"
      ]
     },
     "metadata": {},
     "output_type": "display_data"
    },
    {
     "name": "stdout",
     "output_type": "stream",
     "text": [
      "Epoch 4/100 |  LR: [0.010000000000000002] | train | Loss: 1.5293 | Acc: 0.2601\n"
     ]
    },
    {
     "data": {
      "application/vnd.jupyter.widget-view+json": {
       "model_id": "ba914e38d55f4e32964029edc1b6cc5e",
       "version_major": 2,
       "version_minor": 0
      },
      "text/plain": [
       "  0%|          | 0/2283 [00:00<?, ?it/s]"
      ]
     },
     "metadata": {},
     "output_type": "display_data"
    },
    {
     "name": "stdout",
     "output_type": "stream",
     "text": [
      "Epoch 4/100 |  LR: [0.010000000000000002] |  val  | Loss: 1.5293 | Acc: 0.2619\n"
     ]
    },
    {
     "data": {
      "application/vnd.jupyter.widget-view+json": {
       "model_id": "78540211425e4c58b869ebfd0167e6c9",
       "version_major": 2,
       "version_minor": 0
      },
      "text/plain": [
       "  0%|          | 0/20541 [00:00<?, ?it/s]"
      ]
     },
     "metadata": {},
     "output_type": "display_data"
    },
    {
     "name": "stdout",
     "output_type": "stream",
     "text": [
      "Epoch 5/100 |  LR: [0.0010000000000000002] | train | Loss: 1.5288 | Acc: 0.2613\n"
     ]
    },
    {
     "data": {
      "application/vnd.jupyter.widget-view+json": {
       "model_id": "ca5bfd31fb5f4d67a343503e33cd7287",
       "version_major": 2,
       "version_minor": 0
      },
      "text/plain": [
       "  0%|          | 0/2283 [00:00<?, ?it/s]"
      ]
     },
     "metadata": {},
     "output_type": "display_data"
    },
    {
     "name": "stdout",
     "output_type": "stream",
     "text": [
      "Epoch 5/100 |  LR: [0.0010000000000000002] |  val  | Loss: 1.5288 | Acc: 0.2619\n"
     ]
    },
    {
     "data": {
      "application/vnd.jupyter.widget-view+json": {
       "model_id": "e3cab789e5ad4a648641d2f2231bb6a8",
       "version_major": 2,
       "version_minor": 0
      },
      "text/plain": [
       "  0%|          | 0/20541 [00:00<?, ?it/s]"
      ]
     },
     "metadata": {},
     "output_type": "display_data"
    },
    {
     "name": "stdout",
     "output_type": "stream",
     "text": [
      "Epoch 6/100 |  LR: [0.00010000000000000003] | train | Loss: 1.5288 | Acc: 0.2619\n"
     ]
    },
    {
     "data": {
      "application/vnd.jupyter.widget-view+json": {
       "model_id": "1103c62144a74809bda12e75a2111418",
       "version_major": 2,
       "version_minor": 0
      },
      "text/plain": [
       "  0%|          | 0/2283 [00:00<?, ?it/s]"
      ]
     },
     "metadata": {},
     "output_type": "display_data"
    },
    {
     "name": "stdout",
     "output_type": "stream",
     "text": [
      "Epoch 6/100 |  LR: [0.00010000000000000003] |  val  | Loss: 1.5288 | Acc: 0.2619\n"
     ]
    },
    {
     "data": {
      "application/vnd.jupyter.widget-view+json": {
       "model_id": "32fd0d8d68be4826b094534ca38af663",
       "version_major": 2,
       "version_minor": 0
      },
      "text/plain": [
       "  0%|          | 0/20541 [00:00<?, ?it/s]"
      ]
     },
     "metadata": {},
     "output_type": "display_data"
    },
    {
     "name": "stdout",
     "output_type": "stream",
     "text": [
      "Epoch 7/100 |  LR: [1.0000000000000003e-05] | train | Loss: 1.5288 | Acc: 0.2619\n"
     ]
    },
    {
     "data": {
      "application/vnd.jupyter.widget-view+json": {
       "model_id": "70757e346af14b51ad57bdf3cc4f204c",
       "version_major": 2,
       "version_minor": 0
      },
      "text/plain": [
       "  0%|          | 0/2283 [00:00<?, ?it/s]"
      ]
     },
     "metadata": {},
     "output_type": "display_data"
    },
    {
     "name": "stdout",
     "output_type": "stream",
     "text": [
      "Epoch 7/100 |  LR: [1.0000000000000003e-05] |  val  | Loss: 1.5288 | Acc: 0.2619\n"
     ]
    },
    {
     "data": {
      "application/vnd.jupyter.widget-view+json": {
       "model_id": "962d1787ba7c4668875e8145f5a7e6ad",
       "version_major": 2,
       "version_minor": 0
      },
      "text/plain": [
       "  0%|          | 0/20541 [00:00<?, ?it/s]"
      ]
     },
     "metadata": {},
     "output_type": "display_data"
    },
    {
     "name": "stdout",
     "output_type": "stream",
     "text": [
      "Epoch 8/100 |  LR: [1.0000000000000004e-06] | train | Loss: 1.5288 | Acc: 0.2619\n"
     ]
    },
    {
     "data": {
      "application/vnd.jupyter.widget-view+json": {
       "model_id": "73f2826819824bd488290196856ae805",
       "version_major": 2,
       "version_minor": 0
      },
      "text/plain": [
       "  0%|          | 0/2283 [00:00<?, ?it/s]"
      ]
     },
     "metadata": {},
     "output_type": "display_data"
    },
    {
     "name": "stdout",
     "output_type": "stream",
     "text": [
      "Epoch 8/100 |  LR: [1.0000000000000004e-06] |  val  | Loss: 1.5288 | Acc: 0.2619\n"
     ]
    },
    {
     "data": {
      "application/vnd.jupyter.widget-view+json": {
       "model_id": "680bae9d9b65416d98a734be38109fba",
       "version_major": 2,
       "version_minor": 0
      },
      "text/plain": [
       "  0%|          | 0/20541 [00:00<?, ?it/s]"
      ]
     },
     "metadata": {},
     "output_type": "display_data"
    },
    {
     "name": "stdout",
     "output_type": "stream",
     "text": [
      "Epoch 9/100 |  LR: [1.0000000000000005e-07] | train | Loss: 1.5288 | Acc: 0.2619\n"
     ]
    },
    {
     "data": {
      "application/vnd.jupyter.widget-view+json": {
       "model_id": "a7d73b0b5acc4b83a6fc4777dd5903b5",
       "version_major": 2,
       "version_minor": 0
      },
      "text/plain": [
       "  0%|          | 0/2283 [00:00<?, ?it/s]"
      ]
     },
     "metadata": {},
     "output_type": "display_data"
    },
    {
     "name": "stdout",
     "output_type": "stream",
     "text": [
      "Epoch 9/100 |  LR: [1.0000000000000005e-07] |  val  | Loss: 1.5288 | Acc: 0.2619\n"
     ]
    },
    {
     "data": {
      "application/vnd.jupyter.widget-view+json": {
       "model_id": "0636c1631e1443889befaa8cd4b565a5",
       "version_major": 2,
       "version_minor": 0
      },
      "text/plain": [
       "  0%|          | 0/20541 [00:00<?, ?it/s]"
      ]
     },
     "metadata": {},
     "output_type": "display_data"
    },
    {
     "name": "stdout",
     "output_type": "stream",
     "text": [
      "Epoch 10/100 |  LR: [1.0000000000000004e-08] | train | Loss: 1.5288 | Acc: 0.2619\n"
     ]
    },
    {
     "data": {
      "application/vnd.jupyter.widget-view+json": {
       "model_id": "08cb2ac0f69e4a61bcc7a4573016580b",
       "version_major": 2,
       "version_minor": 0
      },
      "text/plain": [
       "  0%|          | 0/2283 [00:00<?, ?it/s]"
      ]
     },
     "metadata": {},
     "output_type": "display_data"
    },
    {
     "name": "stdout",
     "output_type": "stream",
     "text": [
      "Epoch 10/100 |  LR: [1.0000000000000004e-08] |  val  | Loss: 1.5288 | Acc: 0.2619\n"
     ]
    },
    {
     "data": {
      "application/vnd.jupyter.widget-view+json": {
       "model_id": "c09d94e04e5b4981804139742d41614a",
       "version_major": 2,
       "version_minor": 0
      },
      "text/plain": [
       "  0%|          | 0/20541 [00:00<?, ?it/s]"
      ]
     },
     "metadata": {},
     "output_type": "display_data"
    },
    {
     "name": "stdout",
     "output_type": "stream",
     "text": [
      "Epoch 11/100 |  LR: [1.0000000000000005e-09] | train | Loss: 1.5288 | Acc: 0.2619\n"
     ]
    },
    {
     "data": {
      "application/vnd.jupyter.widget-view+json": {
       "model_id": "891e2072e45b4dab9afc0390c86749d2",
       "version_major": 2,
       "version_minor": 0
      },
      "text/plain": [
       "  0%|          | 0/2283 [00:00<?, ?it/s]"
      ]
     },
     "metadata": {},
     "output_type": "display_data"
    },
    {
     "name": "stdout",
     "output_type": "stream",
     "text": [
      "Epoch 11/100 |  LR: [1.0000000000000005e-09] |  val  | Loss: 1.5288 | Acc: 0.2619\n"
     ]
    },
    {
     "data": {
      "application/vnd.jupyter.widget-view+json": {
       "model_id": "78ddc7aabdb44d4d953783cdfdf3bf4a",
       "version_major": 2,
       "version_minor": 0
      },
      "text/plain": [
       "  0%|          | 0/20541 [00:00<?, ?it/s]"
      ]
     },
     "metadata": {},
     "output_type": "display_data"
    },
    {
     "name": "stdout",
     "output_type": "stream",
     "text": [
      "Epoch 12/100 |  LR: [1.0000000000000006e-10] | train | Loss: 1.5288 | Acc: 0.2619\n"
     ]
    },
    {
     "data": {
      "application/vnd.jupyter.widget-view+json": {
       "model_id": "c4368a06d45b438fbcebb8a2c8e747f3",
       "version_major": 2,
       "version_minor": 0
      },
      "text/plain": [
       "  0%|          | 0/2283 [00:00<?, ?it/s]"
      ]
     },
     "metadata": {},
     "output_type": "display_data"
    },
    {
     "name": "stdout",
     "output_type": "stream",
     "text": [
      "Epoch 12/100 |  LR: [1.0000000000000006e-10] |  val  | Loss: 1.5288 | Acc: 0.2619\n"
     ]
    },
    {
     "data": {
      "application/vnd.jupyter.widget-view+json": {
       "model_id": "c5817e86e9804a1b8ca79fe598516155",
       "version_major": 2,
       "version_minor": 0
      },
      "text/plain": [
       "  0%|          | 0/20541 [00:00<?, ?it/s]"
      ]
     },
     "metadata": {},
     "output_type": "display_data"
    },
    {
     "name": "stdout",
     "output_type": "stream",
     "text": [
      "Epoch 13/100 |  LR: [1.0000000000000006e-11] | train | Loss: 1.5288 | Acc: 0.2619\n"
     ]
    },
    {
     "data": {
      "application/vnd.jupyter.widget-view+json": {
       "model_id": "f4a956730537485297c7538134ffb335",
       "version_major": 2,
       "version_minor": 0
      },
      "text/plain": [
       "  0%|          | 0/2283 [00:00<?, ?it/s]"
      ]
     },
     "metadata": {},
     "output_type": "display_data"
    },
    {
     "name": "stdout",
     "output_type": "stream",
     "text": [
      "Epoch 13/100 |  LR: [1.0000000000000006e-11] |  val  | Loss: 1.5288 | Acc: 0.2619\n"
     ]
    },
    {
     "data": {
      "application/vnd.jupyter.widget-view+json": {
       "model_id": "23602e529c824bb59105863d1d20e898",
       "version_major": 2,
       "version_minor": 0
      },
      "text/plain": [
       "  0%|          | 0/20541 [00:00<?, ?it/s]"
      ]
     },
     "metadata": {},
     "output_type": "display_data"
    },
    {
     "name": "stdout",
     "output_type": "stream",
     "text": [
      "Epoch 14/100 |  LR: [1.0000000000000006e-12] | train | Loss: 1.5288 | Acc: 0.2619\n"
     ]
    },
    {
     "data": {
      "application/vnd.jupyter.widget-view+json": {
       "model_id": "8639153381e349e59b7e7ed923f8c0d5",
       "version_major": 2,
       "version_minor": 0
      },
      "text/plain": [
       "  0%|          | 0/2283 [00:00<?, ?it/s]"
      ]
     },
     "metadata": {},
     "output_type": "display_data"
    },
    {
     "name": "stdout",
     "output_type": "stream",
     "text": [
      "Epoch 14/100 |  LR: [1.0000000000000006e-12] |  val  | Loss: 1.5288 | Acc: 0.2619\n"
     ]
    },
    {
     "data": {
      "application/vnd.jupyter.widget-view+json": {
       "model_id": "217a043eb01b434b8590698681dc716e",
       "version_major": 2,
       "version_minor": 0
      },
      "text/plain": [
       "  0%|          | 0/20541 [00:00<?, ?it/s]"
      ]
     },
     "metadata": {},
     "output_type": "display_data"
    },
    {
     "name": "stdout",
     "output_type": "stream",
     "text": [
      "Epoch 15/100 |  LR: [1.0000000000000007e-13] | train | Loss: 1.5288 | Acc: 0.2619\n"
     ]
    },
    {
     "data": {
      "application/vnd.jupyter.widget-view+json": {
       "model_id": "84ce159959c0437cb35bed4ffa6e7407",
       "version_major": 2,
       "version_minor": 0
      },
      "text/plain": [
       "  0%|          | 0/2283 [00:00<?, ?it/s]"
      ]
     },
     "metadata": {},
     "output_type": "display_data"
    },
    {
     "name": "stdout",
     "output_type": "stream",
     "text": [
      "Epoch 15/100 |  LR: [1.0000000000000007e-13] |  val  | Loss: 1.5288 | Acc: 0.2619\n"
     ]
    },
    {
     "data": {
      "application/vnd.jupyter.widget-view+json": {
       "model_id": "16c71746338d4006875235f8eee18555",
       "version_major": 2,
       "version_minor": 0
      },
      "text/plain": [
       "  0%|          | 0/20541 [00:00<?, ?it/s]"
      ]
     },
     "metadata": {},
     "output_type": "display_data"
    },
    {
     "name": "stdout",
     "output_type": "stream",
     "text": [
      "Epoch 16/100 |  LR: [1.0000000000000008e-14] | train | Loss: 1.5288 | Acc: 0.2619\n"
     ]
    },
    {
     "data": {
      "application/vnd.jupyter.widget-view+json": {
       "model_id": "a167ded70feb4566adee6f2a51a4ab87",
       "version_major": 2,
       "version_minor": 0
      },
      "text/plain": [
       "  0%|          | 0/2283 [00:00<?, ?it/s]"
      ]
     },
     "metadata": {},
     "output_type": "display_data"
    },
    {
     "name": "stdout",
     "output_type": "stream",
     "text": [
      "Epoch 16/100 |  LR: [1.0000000000000008e-14] |  val  | Loss: 1.5288 | Acc: 0.2619\n"
     ]
    },
    {
     "data": {
      "application/vnd.jupyter.widget-view+json": {
       "model_id": "a6ffa378cf6f490bb5d28525d4b877e5",
       "version_major": 2,
       "version_minor": 0
      },
      "text/plain": [
       "  0%|          | 0/20541 [00:00<?, ?it/s]"
      ]
     },
     "metadata": {},
     "output_type": "display_data"
    },
    {
     "name": "stdout",
     "output_type": "stream",
     "text": [
      "Epoch 17/100 |  LR: [1.0000000000000009e-15] | train | Loss: 1.5288 | Acc: 0.2619\n"
     ]
    },
    {
     "data": {
      "application/vnd.jupyter.widget-view+json": {
       "model_id": "62b9535aab7f4b3a97ff976888262880",
       "version_major": 2,
       "version_minor": 0
      },
      "text/plain": [
       "  0%|          | 0/2283 [00:00<?, ?it/s]"
      ]
     },
     "metadata": {},
     "output_type": "display_data"
    },
    {
     "name": "stdout",
     "output_type": "stream",
     "text": [
      "Epoch 17/100 |  LR: [1.0000000000000009e-15] |  val  | Loss: 1.5288 | Acc: 0.2619\n"
     ]
    },
    {
     "data": {
      "application/vnd.jupyter.widget-view+json": {
       "model_id": "ca01432117ff4f33982524477840db47",
       "version_major": 2,
       "version_minor": 0
      },
      "text/plain": [
       "  0%|          | 0/20541 [00:00<?, ?it/s]"
      ]
     },
     "metadata": {},
     "output_type": "display_data"
    },
    {
     "name": "stdout",
     "output_type": "stream",
     "text": [
      "Epoch 18/100 |  LR: [1.000000000000001e-16] | train | Loss: 1.5288 | Acc: 0.2619\n"
     ]
    },
    {
     "data": {
      "application/vnd.jupyter.widget-view+json": {
       "model_id": "15e8134bd7f446e0ad1690feb42614b3",
       "version_major": 2,
       "version_minor": 0
      },
      "text/plain": [
       "  0%|          | 0/2283 [00:00<?, ?it/s]"
      ]
     },
     "metadata": {},
     "output_type": "display_data"
    },
    {
     "name": "stdout",
     "output_type": "stream",
     "text": [
      "Epoch 18/100 |  LR: [1.000000000000001e-16] |  val  | Loss: 1.5288 | Acc: 0.2619\n"
     ]
    },
    {
     "data": {
      "application/vnd.jupyter.widget-view+json": {
       "model_id": "5dd73fba9726416c9830f8090f2f3acc",
       "version_major": 2,
       "version_minor": 0
      },
      "text/plain": [
       "  0%|          | 0/20541 [00:00<?, ?it/s]"
      ]
     },
     "metadata": {},
     "output_type": "display_data"
    },
    {
     "name": "stdout",
     "output_type": "stream",
     "text": [
      "Epoch 19/100 |  LR: [1.0000000000000008e-17] | train | Loss: 1.5288 | Acc: 0.2619\n"
     ]
    },
    {
     "data": {
      "application/vnd.jupyter.widget-view+json": {
       "model_id": "2c8e4a0467f34a3bbbb5eb391766edea",
       "version_major": 2,
       "version_minor": 0
      },
      "text/plain": [
       "  0%|          | 0/2283 [00:00<?, ?it/s]"
      ]
     },
     "metadata": {},
     "output_type": "display_data"
    },
    {
     "name": "stdout",
     "output_type": "stream",
     "text": [
      "Epoch 19/100 |  LR: [1.0000000000000008e-17] |  val  | Loss: 1.5288 | Acc: 0.2619\n"
     ]
    },
    {
     "data": {
      "application/vnd.jupyter.widget-view+json": {
       "model_id": "f4317f19357447d2980ae96192901960",
       "version_major": 2,
       "version_minor": 0
      },
      "text/plain": [
       "  0%|          | 0/20541 [00:00<?, ?it/s]"
      ]
     },
     "metadata": {},
     "output_type": "display_data"
    },
    {
     "name": "stdout",
     "output_type": "stream",
     "text": [
      "Epoch 20/100 |  LR: [1.000000000000001e-18] | train | Loss: 1.5288 | Acc: 0.2619\n"
     ]
    },
    {
     "data": {
      "application/vnd.jupyter.widget-view+json": {
       "model_id": "c97bc70b54544b51a354a3fa3c9bd83e",
       "version_major": 2,
       "version_minor": 0
      },
      "text/plain": [
       "  0%|          | 0/2283 [00:00<?, ?it/s]"
      ]
     },
     "metadata": {},
     "output_type": "display_data"
    },
    {
     "name": "stdout",
     "output_type": "stream",
     "text": [
      "Epoch 20/100 |  LR: [1.000000000000001e-18] |  val  | Loss: 1.5288 | Acc: 0.2619\n"
     ]
    },
    {
     "data": {
      "application/vnd.jupyter.widget-view+json": {
       "model_id": "5654f589ed8440b58d3346005c4a432b",
       "version_major": 2,
       "version_minor": 0
      },
      "text/plain": [
       "  0%|          | 0/20541 [00:00<?, ?it/s]"
      ]
     },
     "metadata": {},
     "output_type": "display_data"
    },
    {
     "name": "stdout",
     "output_type": "stream",
     "text": [
      "Epoch 21/100 |  LR: [1.000000000000001e-19] | train | Loss: 1.5288 | Acc: 0.2619\n"
     ]
    },
    {
     "data": {
      "application/vnd.jupyter.widget-view+json": {
       "model_id": "c2ca0df6c5f64f64b37237e53cafda22",
       "version_major": 2,
       "version_minor": 0
      },
      "text/plain": [
       "  0%|          | 0/2283 [00:00<?, ?it/s]"
      ]
     },
     "metadata": {},
     "output_type": "display_data"
    },
    {
     "name": "stdout",
     "output_type": "stream",
     "text": [
      "Epoch 21/100 |  LR: [1.000000000000001e-19] |  val  | Loss: 1.5288 | Acc: 0.2619\n"
     ]
    },
    {
     "data": {
      "application/vnd.jupyter.widget-view+json": {
       "model_id": "7b76fea28c1b46e680f33e3eb2338dfb",
       "version_major": 2,
       "version_minor": 0
      },
      "text/plain": [
       "  0%|          | 0/20541 [00:00<?, ?it/s]"
      ]
     },
     "metadata": {},
     "output_type": "display_data"
    },
    {
     "name": "stdout",
     "output_type": "stream",
     "text": [
      "Epoch 22/100 |  LR: [1.0000000000000011e-20] | train | Loss: 1.5288 | Acc: 0.2619\n"
     ]
    },
    {
     "data": {
      "application/vnd.jupyter.widget-view+json": {
       "model_id": "fe48a0ac56294fb2b0a5f7bc4480255c",
       "version_major": 2,
       "version_minor": 0
      },
      "text/plain": [
       "  0%|          | 0/2283 [00:00<?, ?it/s]"
      ]
     },
     "metadata": {},
     "output_type": "display_data"
    },
    {
     "name": "stdout",
     "output_type": "stream",
     "text": [
      "Epoch 22/100 |  LR: [1.0000000000000011e-20] |  val  | Loss: 1.5288 | Acc: 0.2619\n"
     ]
    },
    {
     "data": {
      "application/vnd.jupyter.widget-view+json": {
       "model_id": "998e9feea36c42b7864fd2f85a71634d",
       "version_major": 2,
       "version_minor": 0
      },
      "text/plain": [
       "  0%|          | 0/20541 [00:00<?, ?it/s]"
      ]
     },
     "metadata": {},
     "output_type": "display_data"
    },
    {
     "name": "stdout",
     "output_type": "stream",
     "text": [
      "Epoch 23/100 |  LR: [1.0000000000000012e-21] | train | Loss: 1.5288 | Acc: 0.2619\n"
     ]
    },
    {
     "data": {
      "application/vnd.jupyter.widget-view+json": {
       "model_id": "165dbd8796b44979bbda68326977830d",
       "version_major": 2,
       "version_minor": 0
      },
      "text/plain": [
       "  0%|          | 0/2283 [00:00<?, ?it/s]"
      ]
     },
     "metadata": {},
     "output_type": "display_data"
    },
    {
     "name": "stdout",
     "output_type": "stream",
     "text": [
      "Epoch 23/100 |  LR: [1.0000000000000012e-21] |  val  | Loss: 1.5288 | Acc: 0.2619\n"
     ]
    },
    {
     "data": {
      "application/vnd.jupyter.widget-view+json": {
       "model_id": "df82d4ae0d1e458c8cf1b542a6374329",
       "version_major": 2,
       "version_minor": 0
      },
      "text/plain": [
       "  0%|          | 0/20541 [00:00<?, ?it/s]"
      ]
     },
     "metadata": {},
     "output_type": "display_data"
    },
    {
     "name": "stdout",
     "output_type": "stream",
     "text": [
      "Epoch 24/100 |  LR: [1.0000000000000012e-22] | train | Loss: 1.5288 | Acc: 0.2619\n"
     ]
    },
    {
     "data": {
      "application/vnd.jupyter.widget-view+json": {
       "model_id": "cb046bb86a6b41cbb0e29fe76e1a0525",
       "version_major": 2,
       "version_minor": 0
      },
      "text/plain": [
       "  0%|          | 0/2283 [00:00<?, ?it/s]"
      ]
     },
     "metadata": {},
     "output_type": "display_data"
    },
    {
     "name": "stdout",
     "output_type": "stream",
     "text": [
      "Epoch 24/100 |  LR: [1.0000000000000012e-22] |  val  | Loss: 1.5288 | Acc: 0.2619\n"
     ]
    },
    {
     "data": {
      "application/vnd.jupyter.widget-view+json": {
       "model_id": "cee8b70839d741309860a0c7de98e985",
       "version_major": 2,
       "version_minor": 0
      },
      "text/plain": [
       "  0%|          | 0/20541 [00:00<?, ?it/s]"
      ]
     },
     "metadata": {},
     "output_type": "display_data"
    },
    {
     "name": "stdout",
     "output_type": "stream",
     "text": [
      "Epoch 25/100 |  LR: [1.0000000000000013e-23] | train | Loss: 1.5288 | Acc: 0.2619\n"
     ]
    },
    {
     "data": {
      "application/vnd.jupyter.widget-view+json": {
       "model_id": "9d5cbc7cd0814d6fa73a2e9982444474",
       "version_major": 2,
       "version_minor": 0
      },
      "text/plain": [
       "  0%|          | 0/2283 [00:00<?, ?it/s]"
      ]
     },
     "metadata": {},
     "output_type": "display_data"
    },
    {
     "name": "stdout",
     "output_type": "stream",
     "text": [
      "Epoch 25/100 |  LR: [1.0000000000000013e-23] |  val  | Loss: 1.5288 | Acc: 0.2619\n"
     ]
    },
    {
     "data": {
      "application/vnd.jupyter.widget-view+json": {
       "model_id": "d59b135b6ed24d159d6a290110c8b45d",
       "version_major": 2,
       "version_minor": 0
      },
      "text/plain": [
       "  0%|          | 0/20541 [00:00<?, ?it/s]"
      ]
     },
     "metadata": {},
     "output_type": "display_data"
    },
    {
     "name": "stdout",
     "output_type": "stream",
     "text": [
      "Epoch 26/100 |  LR: [1.0000000000000014e-24] | train | Loss: 1.5288 | Acc: 0.2619\n"
     ]
    },
    {
     "data": {
      "application/vnd.jupyter.widget-view+json": {
       "model_id": "cbc18f06791c45859745fa439e13b0b3",
       "version_major": 2,
       "version_minor": 0
      },
      "text/plain": [
       "  0%|          | 0/2283 [00:00<?, ?it/s]"
      ]
     },
     "metadata": {},
     "output_type": "display_data"
    },
    {
     "name": "stdout",
     "output_type": "stream",
     "text": [
      "Epoch 26/100 |  LR: [1.0000000000000014e-24] |  val  | Loss: 1.5288 | Acc: 0.2619\n"
     ]
    },
    {
     "data": {
      "application/vnd.jupyter.widget-view+json": {
       "model_id": "4ea711d78f4a4a87915071ba7129f087",
       "version_major": 2,
       "version_minor": 0
      },
      "text/plain": [
       "  0%|          | 0/20541 [00:00<?, ?it/s]"
      ]
     },
     "metadata": {},
     "output_type": "display_data"
    },
    {
     "name": "stdout",
     "output_type": "stream",
     "text": [
      "Epoch 27/100 |  LR: [1.0000000000000014e-25] | train | Loss: 1.5288 | Acc: 0.2619\n"
     ]
    },
    {
     "data": {
      "application/vnd.jupyter.widget-view+json": {
       "model_id": "0cab924c14f64982afb2c1c54ad3e442",
       "version_major": 2,
       "version_minor": 0
      },
      "text/plain": [
       "  0%|          | 0/2283 [00:00<?, ?it/s]"
      ]
     },
     "metadata": {},
     "output_type": "display_data"
    },
    {
     "name": "stdout",
     "output_type": "stream",
     "text": [
      "Epoch 27/100 |  LR: [1.0000000000000014e-25] |  val  | Loss: 1.5288 | Acc: 0.2619\n"
     ]
    },
    {
     "data": {
      "application/vnd.jupyter.widget-view+json": {
       "model_id": "0a5f1fa0521d483086dd91a98d798984",
       "version_major": 2,
       "version_minor": 0
      },
      "text/plain": [
       "  0%|          | 0/20541 [00:00<?, ?it/s]"
      ]
     },
     "metadata": {},
     "output_type": "display_data"
    },
    {
     "name": "stdout",
     "output_type": "stream",
     "text": [
      "Epoch 28/100 |  LR: [1.0000000000000015e-26] | train | Loss: 1.5288 | Acc: 0.2619\n"
     ]
    },
    {
     "data": {
      "application/vnd.jupyter.widget-view+json": {
       "model_id": "8b00f37d1e004fb9bf6c36653fd3598c",
       "version_major": 2,
       "version_minor": 0
      },
      "text/plain": [
       "  0%|          | 0/2283 [00:00<?, ?it/s]"
      ]
     },
     "metadata": {},
     "output_type": "display_data"
    },
    {
     "name": "stdout",
     "output_type": "stream",
     "text": [
      "Epoch 28/100 |  LR: [1.0000000000000015e-26] |  val  | Loss: 1.5288 | Acc: 0.2619\n"
     ]
    },
    {
     "data": {
      "application/vnd.jupyter.widget-view+json": {
       "model_id": "93bc282b1f2443308f29e263968347af",
       "version_major": 2,
       "version_minor": 0
      },
      "text/plain": [
       "  0%|          | 0/20541 [00:00<?, ?it/s]"
      ]
     },
     "metadata": {},
     "output_type": "display_data"
    },
    {
     "name": "stdout",
     "output_type": "stream",
     "text": [
      "Epoch 29/100 |  LR: [1.0000000000000015e-27] | train | Loss: 1.5288 | Acc: 0.2619\n"
     ]
    },
    {
     "data": {
      "application/vnd.jupyter.widget-view+json": {
       "model_id": "fcf32232912f4f34830114734f715e4d",
       "version_major": 2,
       "version_minor": 0
      },
      "text/plain": [
       "  0%|          | 0/2283 [00:00<?, ?it/s]"
      ]
     },
     "metadata": {},
     "output_type": "display_data"
    },
    {
     "name": "stdout",
     "output_type": "stream",
     "text": [
      "Epoch 29/100 |  LR: [1.0000000000000015e-27] |  val  | Loss: 1.5288 | Acc: 0.2619\n"
     ]
    },
    {
     "data": {
      "application/vnd.jupyter.widget-view+json": {
       "model_id": "50fc4a3ebc104a7fa86f33d799516c73",
       "version_major": 2,
       "version_minor": 0
      },
      "text/plain": [
       "  0%|          | 0/20541 [00:00<?, ?it/s]"
      ]
     },
     "metadata": {},
     "output_type": "display_data"
    },
    {
     "name": "stdout",
     "output_type": "stream",
     "text": [
      "Epoch 30/100 |  LR: [1.0000000000000015e-28] | train | Loss: 1.5288 | Acc: 0.2619\n"
     ]
    },
    {
     "data": {
      "application/vnd.jupyter.widget-view+json": {
       "model_id": "8eed64a2cedc41119b9b7e8cdd681f8f",
       "version_major": 2,
       "version_minor": 0
      },
      "text/plain": [
       "  0%|          | 0/2283 [00:00<?, ?it/s]"
      ]
     },
     "metadata": {},
     "output_type": "display_data"
    },
    {
     "name": "stdout",
     "output_type": "stream",
     "text": [
      "Epoch 30/100 |  LR: [1.0000000000000015e-28] |  val  | Loss: 1.5288 | Acc: 0.2619\n"
     ]
    },
    {
     "data": {
      "application/vnd.jupyter.widget-view+json": {
       "model_id": "72d227252a394b299ba6aa45e25de64e",
       "version_major": 2,
       "version_minor": 0
      },
      "text/plain": [
       "  0%|          | 0/20541 [00:00<?, ?it/s]"
      ]
     },
     "metadata": {},
     "output_type": "display_data"
    },
    {
     "name": "stdout",
     "output_type": "stream",
     "text": [
      "Epoch 31/100 |  LR: [1.0000000000000016e-29] | train | Loss: 1.5288 | Acc: 0.2619\n"
     ]
    },
    {
     "data": {
      "application/vnd.jupyter.widget-view+json": {
       "model_id": "39d7ef17fcd94758b8e6cfe6101e7251",
       "version_major": 2,
       "version_minor": 0
      },
      "text/plain": [
       "  0%|          | 0/2283 [00:00<?, ?it/s]"
      ]
     },
     "metadata": {},
     "output_type": "display_data"
    },
    {
     "name": "stdout",
     "output_type": "stream",
     "text": [
      "Epoch 31/100 |  LR: [1.0000000000000016e-29] |  val  | Loss: 1.5288 | Acc: 0.2619\n"
     ]
    },
    {
     "data": {
      "application/vnd.jupyter.widget-view+json": {
       "model_id": "5971606d38494ce5956152e6e88b0f97",
       "version_major": 2,
       "version_minor": 0
      },
      "text/plain": [
       "  0%|          | 0/20541 [00:00<?, ?it/s]"
      ]
     },
     "metadata": {},
     "output_type": "display_data"
    },
    {
     "name": "stdout",
     "output_type": "stream",
     "text": [
      "Epoch 32/100 |  LR: [1.0000000000000017e-30] | train | Loss: 1.5288 | Acc: 0.2619\n"
     ]
    },
    {
     "data": {
      "application/vnd.jupyter.widget-view+json": {
       "model_id": "f5db97ea9055480c86c57bf22ffb104a",
       "version_major": 2,
       "version_minor": 0
      },
      "text/plain": [
       "  0%|          | 0/2283 [00:00<?, ?it/s]"
      ]
     },
     "metadata": {},
     "output_type": "display_data"
    },
    {
     "name": "stdout",
     "output_type": "stream",
     "text": [
      "Epoch 32/100 |  LR: [1.0000000000000017e-30] |  val  | Loss: 1.5288 | Acc: 0.2619\n"
     ]
    },
    {
     "data": {
      "application/vnd.jupyter.widget-view+json": {
       "model_id": "1e80ef53b5f94a30bb99934387bd9258",
       "version_major": 2,
       "version_minor": 0
      },
      "text/plain": [
       "  0%|          | 0/20541 [00:00<?, ?it/s]"
      ]
     },
     "metadata": {},
     "output_type": "display_data"
    },
    {
     "name": "stdout",
     "output_type": "stream",
     "text": [
      "Epoch 33/100 |  LR: [1.0000000000000016e-31] | train | Loss: 1.5288 | Acc: 0.2619\n"
     ]
    },
    {
     "data": {
      "application/vnd.jupyter.widget-view+json": {
       "model_id": "7d7587d8a449493c854f64a431e737a7",
       "version_major": 2,
       "version_minor": 0
      },
      "text/plain": [
       "  0%|          | 0/2283 [00:00<?, ?it/s]"
      ]
     },
     "metadata": {},
     "output_type": "display_data"
    },
    {
     "name": "stdout",
     "output_type": "stream",
     "text": [
      "Epoch 33/100 |  LR: [1.0000000000000016e-31] |  val  | Loss: 1.5288 | Acc: 0.2619\n"
     ]
    },
    {
     "data": {
      "application/vnd.jupyter.widget-view+json": {
       "model_id": "f431651a6ec34d2d8932eea51900eb21",
       "version_major": 2,
       "version_minor": 0
      },
      "text/plain": [
       "  0%|          | 0/20541 [00:00<?, ?it/s]"
      ]
     },
     "metadata": {},
     "output_type": "display_data"
    },
    {
     "name": "stdout",
     "output_type": "stream",
     "text": [
      "Epoch 34/100 |  LR: [1.0000000000000017e-32] | train | Loss: 1.5288 | Acc: 0.2619\n"
     ]
    },
    {
     "data": {
      "application/vnd.jupyter.widget-view+json": {
       "model_id": "cadd4d195b25412db926f1a070f40310",
       "version_major": 2,
       "version_minor": 0
      },
      "text/plain": [
       "  0%|          | 0/2283 [00:00<?, ?it/s]"
      ]
     },
     "metadata": {},
     "output_type": "display_data"
    },
    {
     "name": "stdout",
     "output_type": "stream",
     "text": [
      "Epoch 34/100 |  LR: [1.0000000000000017e-32] |  val  | Loss: 1.5288 | Acc: 0.2619\n"
     ]
    },
    {
     "data": {
      "application/vnd.jupyter.widget-view+json": {
       "model_id": "599450cc6de040ae925d31224a578b84",
       "version_major": 2,
       "version_minor": 0
      },
      "text/plain": [
       "  0%|          | 0/20541 [00:00<?, ?it/s]"
      ]
     },
     "metadata": {},
     "output_type": "display_data"
    },
    {
     "name": "stdout",
     "output_type": "stream",
     "text": [
      "Epoch 35/100 |  LR: [1.000000000000002e-33] | train | Loss: 1.5288 | Acc: 0.2619\n"
     ]
    },
    {
     "data": {
      "application/vnd.jupyter.widget-view+json": {
       "model_id": "d8b98b89ad174d51b31d4b4542baf371",
       "version_major": 2,
       "version_minor": 0
      },
      "text/plain": [
       "  0%|          | 0/2283 [00:00<?, ?it/s]"
      ]
     },
     "metadata": {},
     "output_type": "display_data"
    },
    {
     "name": "stdout",
     "output_type": "stream",
     "text": [
      "Epoch 35/100 |  LR: [1.000000000000002e-33] |  val  | Loss: 1.5288 | Acc: 0.2619\n"
     ]
    },
    {
     "data": {
      "application/vnd.jupyter.widget-view+json": {
       "model_id": "fa09c7c7f3354c3596de341a1701b805",
       "version_major": 2,
       "version_minor": 0
      },
      "text/plain": [
       "  0%|          | 0/20541 [00:00<?, ?it/s]"
      ]
     },
     "metadata": {},
     "output_type": "display_data"
    },
    {
     "name": "stdout",
     "output_type": "stream",
     "text": [
      "Epoch 36/100 |  LR: [1.0000000000000019e-34] | train | Loss: 1.5288 | Acc: 0.2619\n"
     ]
    },
    {
     "data": {
      "application/vnd.jupyter.widget-view+json": {
       "model_id": "042782db3dd14c6d8c20cf426c4c0fbe",
       "version_major": 2,
       "version_minor": 0
      },
      "text/plain": [
       "  0%|          | 0/2283 [00:00<?, ?it/s]"
      ]
     },
     "metadata": {},
     "output_type": "display_data"
    },
    {
     "name": "stdout",
     "output_type": "stream",
     "text": [
      "Epoch 36/100 |  LR: [1.0000000000000019e-34] |  val  | Loss: 1.5288 | Acc: 0.2619\n"
     ]
    },
    {
     "data": {
      "application/vnd.jupyter.widget-view+json": {
       "model_id": "b39b6edac39b451f96ad9358b9b29046",
       "version_major": 2,
       "version_minor": 0
      },
      "text/plain": [
       "  0%|          | 0/20541 [00:00<?, ?it/s]"
      ]
     },
     "metadata": {},
     "output_type": "display_data"
    },
    {
     "name": "stdout",
     "output_type": "stream",
     "text": [
      "Epoch 37/100 |  LR: [1.0000000000000019e-35] | train | Loss: 1.5288 | Acc: 0.2619\n"
     ]
    },
    {
     "data": {
      "application/vnd.jupyter.widget-view+json": {
       "model_id": "9416461429d747a59ff0e1226ba07245",
       "version_major": 2,
       "version_minor": 0
      },
      "text/plain": [
       "  0%|          | 0/2283 [00:00<?, ?it/s]"
      ]
     },
     "metadata": {},
     "output_type": "display_data"
    },
    {
     "name": "stdout",
     "output_type": "stream",
     "text": [
      "Epoch 37/100 |  LR: [1.0000000000000019e-35] |  val  | Loss: 1.5288 | Acc: 0.2619\n"
     ]
    },
    {
     "data": {
      "application/vnd.jupyter.widget-view+json": {
       "model_id": "68ff31338db947e1b809ae3c8a22faf2",
       "version_major": 2,
       "version_minor": 0
      },
      "text/plain": [
       "  0%|          | 0/20541 [00:00<?, ?it/s]"
      ]
     },
     "metadata": {},
     "output_type": "display_data"
    },
    {
     "name": "stdout",
     "output_type": "stream",
     "text": [
      "Epoch 38/100 |  LR: [1.000000000000002e-36] | train | Loss: 1.5288 | Acc: 0.2619\n"
     ]
    },
    {
     "data": {
      "application/vnd.jupyter.widget-view+json": {
       "model_id": "8cc857e826f74eaf92c7bdb8f549e41b",
       "version_major": 2,
       "version_minor": 0
      },
      "text/plain": [
       "  0%|          | 0/2283 [00:00<?, ?it/s]"
      ]
     },
     "metadata": {},
     "output_type": "display_data"
    },
    {
     "name": "stdout",
     "output_type": "stream",
     "text": [
      "Epoch 38/100 |  LR: [1.000000000000002e-36] |  val  | Loss: 1.5288 | Acc: 0.2619\n"
     ]
    },
    {
     "data": {
      "application/vnd.jupyter.widget-view+json": {
       "model_id": "76cd55f36b5d44078069951f557dce0a",
       "version_major": 2,
       "version_minor": 0
      },
      "text/plain": [
       "  0%|          | 0/20541 [00:00<?, ?it/s]"
      ]
     },
     "metadata": {},
     "output_type": "display_data"
    },
    {
     "name": "stdout",
     "output_type": "stream",
     "text": [
      "Epoch 39/100 |  LR: [1.000000000000002e-37] | train | Loss: 1.5288 | Acc: 0.2619\n"
     ]
    },
    {
     "data": {
      "application/vnd.jupyter.widget-view+json": {
       "model_id": "29085a6ba71f4f958579dad92038ded5",
       "version_major": 2,
       "version_minor": 0
      },
      "text/plain": [
       "  0%|          | 0/2283 [00:00<?, ?it/s]"
      ]
     },
     "metadata": {},
     "output_type": "display_data"
    },
    {
     "name": "stdout",
     "output_type": "stream",
     "text": [
      "Epoch 39/100 |  LR: [1.000000000000002e-37] |  val  | Loss: 1.5288 | Acc: 0.2619\n"
     ]
    },
    {
     "data": {
      "application/vnd.jupyter.widget-view+json": {
       "model_id": "c98c7fcef42340649f3bfd3263f34dda",
       "version_major": 2,
       "version_minor": 0
      },
      "text/plain": [
       "  0%|          | 0/20541 [00:00<?, ?it/s]"
      ]
     },
     "metadata": {},
     "output_type": "display_data"
    },
    {
     "name": "stdout",
     "output_type": "stream",
     "text": [
      "Epoch 40/100 |  LR: [1.0000000000000022e-38] | train | Loss: 1.5288 | Acc: 0.2619\n"
     ]
    },
    {
     "data": {
      "application/vnd.jupyter.widget-view+json": {
       "model_id": "8a619570593341c5adb69170e292e150",
       "version_major": 2,
       "version_minor": 0
      },
      "text/plain": [
       "  0%|          | 0/2283 [00:00<?, ?it/s]"
      ]
     },
     "metadata": {},
     "output_type": "display_data"
    },
    {
     "name": "stdout",
     "output_type": "stream",
     "text": [
      "Epoch 40/100 |  LR: [1.0000000000000022e-38] |  val  | Loss: 1.5288 | Acc: 0.2619\n"
     ]
    },
    {
     "data": {
      "application/vnd.jupyter.widget-view+json": {
       "model_id": "ecb8130164ae47ccbc5f482dae3fc8ba",
       "version_major": 2,
       "version_minor": 0
      },
      "text/plain": [
       "  0%|          | 0/20541 [00:00<?, ?it/s]"
      ]
     },
     "metadata": {},
     "output_type": "display_data"
    },
    {
     "name": "stdout",
     "output_type": "stream",
     "text": [
      "Epoch 41/100 |  LR: [1.000000000000002e-39] | train | Loss: 1.5288 | Acc: 0.2619\n"
     ]
    },
    {
     "data": {
      "application/vnd.jupyter.widget-view+json": {
       "model_id": "39e353bab7804c659c10ac1c74fe1334",
       "version_major": 2,
       "version_minor": 0
      },
      "text/plain": [
       "  0%|          | 0/2283 [00:00<?, ?it/s]"
      ]
     },
     "metadata": {},
     "output_type": "display_data"
    },
    {
     "name": "stdout",
     "output_type": "stream",
     "text": [
      "Epoch 41/100 |  LR: [1.000000000000002e-39] |  val  | Loss: 1.5288 | Acc: 0.2619\n"
     ]
    },
    {
     "data": {
      "application/vnd.jupyter.widget-view+json": {
       "model_id": "dc6f44cb968644829160e13aef634a88",
       "version_major": 2,
       "version_minor": 0
      },
      "text/plain": [
       "  0%|          | 0/20541 [00:00<?, ?it/s]"
      ]
     },
     "metadata": {},
     "output_type": "display_data"
    },
    {
     "name": "stdout",
     "output_type": "stream",
     "text": [
      "Epoch 42/100 |  LR: [1.0000000000000022e-40] | train | Loss: 1.5288 | Acc: 0.2619\n"
     ]
    },
    {
     "data": {
      "application/vnd.jupyter.widget-view+json": {
       "model_id": "a06420372746468e87674ba8401a7fa4",
       "version_major": 2,
       "version_minor": 0
      },
      "text/plain": [
       "  0%|          | 0/2283 [00:00<?, ?it/s]"
      ]
     },
     "metadata": {},
     "output_type": "display_data"
    },
    {
     "name": "stdout",
     "output_type": "stream",
     "text": [
      "Epoch 42/100 |  LR: [1.0000000000000022e-40] |  val  | Loss: 1.5288 | Acc: 0.2619\n"
     ]
    },
    {
     "data": {
      "application/vnd.jupyter.widget-view+json": {
       "model_id": "66adac33123c41fcbd853dbcc41ccccc",
       "version_major": 2,
       "version_minor": 0
      },
      "text/plain": [
       "  0%|          | 0/20541 [00:00<?, ?it/s]"
      ]
     },
     "metadata": {},
     "output_type": "display_data"
    },
    {
     "name": "stdout",
     "output_type": "stream",
     "text": [
      "Epoch 43/100 |  LR: [1.0000000000000022e-41] | train | Loss: 1.5288 | Acc: 0.2619\n"
     ]
    },
    {
     "data": {
      "application/vnd.jupyter.widget-view+json": {
       "model_id": "acde7def504c4f918e29edfc45becbdf",
       "version_major": 2,
       "version_minor": 0
      },
      "text/plain": [
       "  0%|          | 0/2283 [00:00<?, ?it/s]"
      ]
     },
     "metadata": {},
     "output_type": "display_data"
    },
    {
     "name": "stdout",
     "output_type": "stream",
     "text": [
      "Epoch 43/100 |  LR: [1.0000000000000022e-41] |  val  | Loss: 1.5288 | Acc: 0.2619\n"
     ]
    },
    {
     "data": {
      "application/vnd.jupyter.widget-view+json": {
       "model_id": "4ae0e28642074581a0339e27ad817420",
       "version_major": 2,
       "version_minor": 0
      },
      "text/plain": [
       "  0%|          | 0/20541 [00:00<?, ?it/s]"
      ]
     },
     "metadata": {},
     "output_type": "display_data"
    },
    {
     "name": "stdout",
     "output_type": "stream",
     "text": [
      "Epoch 44/100 |  LR: [1.0000000000000024e-42] | train | Loss: 1.5288 | Acc: 0.2619\n"
     ]
    },
    {
     "data": {
      "application/vnd.jupyter.widget-view+json": {
       "model_id": "0653e1ab28f843d6beda7e5a1979f640",
       "version_major": 2,
       "version_minor": 0
      },
      "text/plain": [
       "  0%|          | 0/2283 [00:00<?, ?it/s]"
      ]
     },
     "metadata": {},
     "output_type": "display_data"
    },
    {
     "name": "stdout",
     "output_type": "stream",
     "text": [
      "Epoch 44/100 |  LR: [1.0000000000000024e-42] |  val  | Loss: 1.5288 | Acc: 0.2619\n"
     ]
    },
    {
     "data": {
      "application/vnd.jupyter.widget-view+json": {
       "model_id": "85a16f331e4341959b0c1bf270969b47",
       "version_major": 2,
       "version_minor": 0
      },
      "text/plain": [
       "  0%|          | 0/20541 [00:00<?, ?it/s]"
      ]
     },
     "metadata": {},
     "output_type": "display_data"
    },
    {
     "name": "stdout",
     "output_type": "stream",
     "text": [
      "Epoch 45/100 |  LR: [1.0000000000000023e-43] | train | Loss: 1.5288 | Acc: 0.2619\n"
     ]
    },
    {
     "data": {
      "application/vnd.jupyter.widget-view+json": {
       "model_id": "e11820db89bd4a9ebda836376bbfabdd",
       "version_major": 2,
       "version_minor": 0
      },
      "text/plain": [
       "  0%|          | 0/2283 [00:00<?, ?it/s]"
      ]
     },
     "metadata": {},
     "output_type": "display_data"
    },
    {
     "name": "stdout",
     "output_type": "stream",
     "text": [
      "Epoch 45/100 |  LR: [1.0000000000000023e-43] |  val  | Loss: 1.5288 | Acc: 0.2619\n"
     ]
    },
    {
     "data": {
      "application/vnd.jupyter.widget-view+json": {
       "model_id": "9a6f787980a34b2689715b19d50024a9",
       "version_major": 2,
       "version_minor": 0
      },
      "text/plain": [
       "  0%|          | 0/20541 [00:00<?, ?it/s]"
      ]
     },
     "metadata": {},
     "output_type": "display_data"
    },
    {
     "name": "stdout",
     "output_type": "stream",
     "text": [
      "Epoch 46/100 |  LR: [1.0000000000000026e-44] | train | Loss: 1.5288 | Acc: 0.2619\n"
     ]
    },
    {
     "data": {
      "application/vnd.jupyter.widget-view+json": {
       "model_id": "d4eb68be0d874d95ad7ae6f0902f04b3",
       "version_major": 2,
       "version_minor": 0
      },
      "text/plain": [
       "  0%|          | 0/2283 [00:00<?, ?it/s]"
      ]
     },
     "metadata": {},
     "output_type": "display_data"
    },
    {
     "name": "stdout",
     "output_type": "stream",
     "text": [
      "Epoch 46/100 |  LR: [1.0000000000000026e-44] |  val  | Loss: 1.5288 | Acc: 0.2619\n"
     ]
    },
    {
     "data": {
      "application/vnd.jupyter.widget-view+json": {
       "model_id": "1f58ee6c08324d95bcd9077def347bd9",
       "version_major": 2,
       "version_minor": 0
      },
      "text/plain": [
       "  0%|          | 0/20541 [00:00<?, ?it/s]"
      ]
     },
     "metadata": {},
     "output_type": "display_data"
    },
    {
     "name": "stdout",
     "output_type": "stream",
     "text": [
      "Epoch 47/100 |  LR: [1.0000000000000025e-45] | train | Loss: 1.5288 | Acc: 0.2619\n"
     ]
    },
    {
     "data": {
      "application/vnd.jupyter.widget-view+json": {
       "model_id": "2a1cfd13aa5f4c7b8acf7b0ae422fe7f",
       "version_major": 2,
       "version_minor": 0
      },
      "text/plain": [
       "  0%|          | 0/2283 [00:00<?, ?it/s]"
      ]
     },
     "metadata": {},
     "output_type": "display_data"
    },
    {
     "name": "stdout",
     "output_type": "stream",
     "text": [
      "Epoch 47/100 |  LR: [1.0000000000000025e-45] |  val  | Loss: 1.5288 | Acc: 0.2619\n"
     ]
    },
    {
     "data": {
      "application/vnd.jupyter.widget-view+json": {
       "model_id": "6cc3b4d79a62448aac2edb67f6def369",
       "version_major": 2,
       "version_minor": 0
      },
      "text/plain": [
       "  0%|          | 0/20541 [00:00<?, ?it/s]"
      ]
     },
     "metadata": {},
     "output_type": "display_data"
    },
    {
     "name": "stdout",
     "output_type": "stream",
     "text": [
      "Epoch 48/100 |  LR: [1.0000000000000026e-46] | train | Loss: 1.5288 | Acc: 0.2619\n"
     ]
    },
    {
     "data": {
      "application/vnd.jupyter.widget-view+json": {
       "model_id": "1d7fa8fcf2c944969c1a1809b8fb0fdc",
       "version_major": 2,
       "version_minor": 0
      },
      "text/plain": [
       "  0%|          | 0/2283 [00:00<?, ?it/s]"
      ]
     },
     "metadata": {},
     "output_type": "display_data"
    },
    {
     "name": "stdout",
     "output_type": "stream",
     "text": [
      "Epoch 48/100 |  LR: [1.0000000000000026e-46] |  val  | Loss: 1.5288 | Acc: 0.2619\n"
     ]
    },
    {
     "data": {
      "application/vnd.jupyter.widget-view+json": {
       "model_id": "2d0005fb965b4e9a99b208ff4d2a3c53",
       "version_major": 2,
       "version_minor": 0
      },
      "text/plain": [
       "  0%|          | 0/20541 [00:00<?, ?it/s]"
      ]
     },
     "metadata": {},
     "output_type": "display_data"
    },
    {
     "name": "stdout",
     "output_type": "stream",
     "text": [
      "Epoch 49/100 |  LR: [1.0000000000000026e-47] | train | Loss: 1.5288 | Acc: 0.2619\n"
     ]
    },
    {
     "data": {
      "application/vnd.jupyter.widget-view+json": {
       "model_id": "15fe80aea2ee4d878a5f7efec6214ac9",
       "version_major": 2,
       "version_minor": 0
      },
      "text/plain": [
       "  0%|          | 0/2283 [00:00<?, ?it/s]"
      ]
     },
     "metadata": {},
     "output_type": "display_data"
    },
    {
     "name": "stdout",
     "output_type": "stream",
     "text": [
      "Epoch 49/100 |  LR: [1.0000000000000026e-47] |  val  | Loss: 1.5288 | Acc: 0.2619\n"
     ]
    },
    {
     "data": {
      "application/vnd.jupyter.widget-view+json": {
       "model_id": "ec8f0b78998a410eb11df887ff5beca5",
       "version_major": 2,
       "version_minor": 0
      },
      "text/plain": [
       "  0%|          | 0/20541 [00:00<?, ?it/s]"
      ]
     },
     "metadata": {},
     "output_type": "display_data"
    },
    {
     "name": "stdout",
     "output_type": "stream",
     "text": [
      "Epoch 50/100 |  LR: [1.0000000000000027e-48] | train | Loss: 1.5288 | Acc: 0.2619\n"
     ]
    },
    {
     "data": {
      "application/vnd.jupyter.widget-view+json": {
       "model_id": "6243657b9bf04ce3905613055c54c9b5",
       "version_major": 2,
       "version_minor": 0
      },
      "text/plain": [
       "  0%|          | 0/2283 [00:00<?, ?it/s]"
      ]
     },
     "metadata": {},
     "output_type": "display_data"
    },
    {
     "name": "stdout",
     "output_type": "stream",
     "text": [
      "Epoch 50/100 |  LR: [1.0000000000000027e-48] |  val  | Loss: 1.5288 | Acc: 0.2619\n"
     ]
    },
    {
     "data": {
      "application/vnd.jupyter.widget-view+json": {
       "model_id": "d37f85a98bfa4f29a5a72b60e0e181c5",
       "version_major": 2,
       "version_minor": 0
      },
      "text/plain": [
       "  0%|          | 0/20541 [00:00<?, ?it/s]"
      ]
     },
     "metadata": {},
     "output_type": "display_data"
    },
    {
     "name": "stdout",
     "output_type": "stream",
     "text": [
      "Epoch 51/100 |  LR: [1.0000000000000028e-49] | train | Loss: 1.5288 | Acc: 0.2619\n"
     ]
    },
    {
     "data": {
      "application/vnd.jupyter.widget-view+json": {
       "model_id": "22ab91dbfe1c4a74af0c8dbc5eee39e7",
       "version_major": 2,
       "version_minor": 0
      },
      "text/plain": [
       "  0%|          | 0/2283 [00:00<?, ?it/s]"
      ]
     },
     "metadata": {},
     "output_type": "display_data"
    },
    {
     "name": "stdout",
     "output_type": "stream",
     "text": [
      "Epoch 51/100 |  LR: [1.0000000000000028e-49] |  val  | Loss: 1.5288 | Acc: 0.2619\n"
     ]
    },
    {
     "data": {
      "application/vnd.jupyter.widget-view+json": {
       "model_id": "ca7f0dbad669487fb49e8b87977ab0c8",
       "version_major": 2,
       "version_minor": 0
      },
      "text/plain": [
       "  0%|          | 0/20541 [00:00<?, ?it/s]"
      ]
     },
     "metadata": {},
     "output_type": "display_data"
    },
    {
     "name": "stdout",
     "output_type": "stream",
     "text": [
      "Epoch 52/100 |  LR: [1.0000000000000029e-50] | train | Loss: 1.5288 | Acc: 0.2619\n"
     ]
    },
    {
     "data": {
      "application/vnd.jupyter.widget-view+json": {
       "model_id": "721639baaf2c426ba4f72c0166a43b6d",
       "version_major": 2,
       "version_minor": 0
      },
      "text/plain": [
       "  0%|          | 0/2283 [00:00<?, ?it/s]"
      ]
     },
     "metadata": {},
     "output_type": "display_data"
    },
    {
     "name": "stdout",
     "output_type": "stream",
     "text": [
      "Epoch 52/100 |  LR: [1.0000000000000029e-50] |  val  | Loss: 1.5288 | Acc: 0.2619\n"
     ]
    },
    {
     "data": {
      "application/vnd.jupyter.widget-view+json": {
       "model_id": "87a7f6bee7234f54ae0382e1fe0a77f2",
       "version_major": 2,
       "version_minor": 0
      },
      "text/plain": [
       "  0%|          | 0/20541 [00:00<?, ?it/s]"
      ]
     },
     "metadata": {},
     "output_type": "display_data"
    },
    {
     "name": "stdout",
     "output_type": "stream",
     "text": [
      "Epoch 53/100 |  LR: [1.0000000000000028e-51] | train | Loss: 1.5288 | Acc: 0.2619\n"
     ]
    },
    {
     "data": {
      "application/vnd.jupyter.widget-view+json": {
       "model_id": "02e6f1ac86564052b6f43a22e62fef07",
       "version_major": 2,
       "version_minor": 0
      },
      "text/plain": [
       "  0%|          | 0/2283 [00:00<?, ?it/s]"
      ]
     },
     "metadata": {},
     "output_type": "display_data"
    },
    {
     "name": "stdout",
     "output_type": "stream",
     "text": [
      "Epoch 53/100 |  LR: [1.0000000000000028e-51] |  val  | Loss: 1.5288 | Acc: 0.2619\n"
     ]
    },
    {
     "data": {
      "application/vnd.jupyter.widget-view+json": {
       "model_id": "2d56b870addf4cca8a6b1007bc668434",
       "version_major": 2,
       "version_minor": 0
      },
      "text/plain": [
       "  0%|          | 0/20541 [00:00<?, ?it/s]"
      ]
     },
     "metadata": {},
     "output_type": "display_data"
    },
    {
     "name": "stdout",
     "output_type": "stream",
     "text": [
      "Epoch 54/100 |  LR: [1.0000000000000028e-52] | train | Loss: 1.5288 | Acc: 0.2619\n"
     ]
    },
    {
     "data": {
      "application/vnd.jupyter.widget-view+json": {
       "model_id": "3a6c64e3e59547109eed706408dfe864",
       "version_major": 2,
       "version_minor": 0
      },
      "text/plain": [
       "  0%|          | 0/2283 [00:00<?, ?it/s]"
      ]
     },
     "metadata": {},
     "output_type": "display_data"
    },
    {
     "name": "stdout",
     "output_type": "stream",
     "text": [
      "Epoch 54/100 |  LR: [1.0000000000000028e-52] |  val  | Loss: 1.5288 | Acc: 0.2619\n"
     ]
    },
    {
     "data": {
      "application/vnd.jupyter.widget-view+json": {
       "model_id": "090c340e20064356926245064ad70982",
       "version_major": 2,
       "version_minor": 0
      },
      "text/plain": [
       "  0%|          | 0/20541 [00:00<?, ?it/s]"
      ]
     },
     "metadata": {},
     "output_type": "display_data"
    },
    {
     "name": "stdout",
     "output_type": "stream",
     "text": [
      "Epoch 55/100 |  LR: [1.000000000000003e-53] | train | Loss: 1.5288 | Acc: 0.2619\n"
     ]
    },
    {
     "data": {
      "application/vnd.jupyter.widget-view+json": {
       "model_id": "d4d9606ad1964cab80d942031e8030cf",
       "version_major": 2,
       "version_minor": 0
      },
      "text/plain": [
       "  0%|          | 0/2283 [00:00<?, ?it/s]"
      ]
     },
     "metadata": {},
     "output_type": "display_data"
    },
    {
     "name": "stdout",
     "output_type": "stream",
     "text": [
      "Epoch 55/100 |  LR: [1.000000000000003e-53] |  val  | Loss: 1.5288 | Acc: 0.2619\n"
     ]
    },
    {
     "data": {
      "application/vnd.jupyter.widget-view+json": {
       "model_id": "805d889856e74950a60c7572bfcd7439",
       "version_major": 2,
       "version_minor": 0
      },
      "text/plain": [
       "  0%|          | 0/20541 [00:00<?, ?it/s]"
      ]
     },
     "metadata": {},
     "output_type": "display_data"
    },
    {
     "name": "stdout",
     "output_type": "stream",
     "text": [
      "Epoch 56/100 |  LR: [1.000000000000003e-54] | train | Loss: 1.5288 | Acc: 0.2619\n"
     ]
    },
    {
     "data": {
      "application/vnd.jupyter.widget-view+json": {
       "model_id": "090bd95528834fd5a2860cd340edce3f",
       "version_major": 2,
       "version_minor": 0
      },
      "text/plain": [
       "  0%|          | 0/2283 [00:00<?, ?it/s]"
      ]
     },
     "metadata": {},
     "output_type": "display_data"
    },
    {
     "name": "stdout",
     "output_type": "stream",
     "text": [
      "Epoch 56/100 |  LR: [1.000000000000003e-54] |  val  | Loss: 1.5288 | Acc: 0.2619\n"
     ]
    },
    {
     "data": {
      "application/vnd.jupyter.widget-view+json": {
       "model_id": "f10c441ed2b246689b666fa99974c3cb",
       "version_major": 2,
       "version_minor": 0
      },
      "text/plain": [
       "  0%|          | 0/20541 [00:00<?, ?it/s]"
      ]
     },
     "metadata": {},
     "output_type": "display_data"
    },
    {
     "name": "stdout",
     "output_type": "stream",
     "text": [
      "Epoch 57/100 |  LR: [1.000000000000003e-55] | train | Loss: 1.5288 | Acc: 0.2619\n"
     ]
    },
    {
     "data": {
      "application/vnd.jupyter.widget-view+json": {
       "model_id": "716192e0e8324ee6bd6bf05ffa24b5d7",
       "version_major": 2,
       "version_minor": 0
      },
      "text/plain": [
       "  0%|          | 0/2283 [00:00<?, ?it/s]"
      ]
     },
     "metadata": {},
     "output_type": "display_data"
    },
    {
     "name": "stdout",
     "output_type": "stream",
     "text": [
      "Epoch 57/100 |  LR: [1.000000000000003e-55] |  val  | Loss: 1.5288 | Acc: 0.2619\n"
     ]
    },
    {
     "data": {
      "application/vnd.jupyter.widget-view+json": {
       "model_id": "d4a91e6b2b034d0a8a5ee446c0087010",
       "version_major": 2,
       "version_minor": 0
      },
      "text/plain": [
       "  0%|          | 0/20541 [00:00<?, ?it/s]"
      ]
     },
     "metadata": {},
     "output_type": "display_data"
    },
    {
     "name": "stdout",
     "output_type": "stream",
     "text": [
      "Epoch 58/100 |  LR: [1.0000000000000031e-56] | train | Loss: 1.5288 | Acc: 0.2619\n"
     ]
    },
    {
     "data": {
      "application/vnd.jupyter.widget-view+json": {
       "model_id": "3390fcfec1ca444991556cfd1762fe31",
       "version_major": 2,
       "version_minor": 0
      },
      "text/plain": [
       "  0%|          | 0/2283 [00:00<?, ?it/s]"
      ]
     },
     "metadata": {},
     "output_type": "display_data"
    },
    {
     "name": "stdout",
     "output_type": "stream",
     "text": [
      "Epoch 58/100 |  LR: [1.0000000000000031e-56] |  val  | Loss: 1.5288 | Acc: 0.2619\n"
     ]
    },
    {
     "data": {
      "application/vnd.jupyter.widget-view+json": {
       "model_id": "6c17524c103b495fa3c34dd4af3df594",
       "version_major": 2,
       "version_minor": 0
      },
      "text/plain": [
       "  0%|          | 0/20541 [00:00<?, ?it/s]"
      ]
     },
     "metadata": {},
     "output_type": "display_data"
    },
    {
     "name": "stdout",
     "output_type": "stream",
     "text": [
      "Epoch 59/100 |  LR: [1.0000000000000032e-57] | train | Loss: 1.5288 | Acc: 0.2619\n"
     ]
    },
    {
     "data": {
      "application/vnd.jupyter.widget-view+json": {
       "model_id": "45eda364083d437da3bdd6974f11294d",
       "version_major": 2,
       "version_minor": 0
      },
      "text/plain": [
       "  0%|          | 0/2283 [00:00<?, ?it/s]"
      ]
     },
     "metadata": {},
     "output_type": "display_data"
    },
    {
     "name": "stdout",
     "output_type": "stream",
     "text": [
      "Epoch 59/100 |  LR: [1.0000000000000032e-57] |  val  | Loss: 1.5288 | Acc: 0.2619\n"
     ]
    },
    {
     "data": {
      "application/vnd.jupyter.widget-view+json": {
       "model_id": "438500ae98524caeb2034dddd7c4badf",
       "version_major": 2,
       "version_minor": 0
      },
      "text/plain": [
       "  0%|          | 0/20541 [00:00<?, ?it/s]"
      ]
     },
     "metadata": {},
     "output_type": "display_data"
    },
    {
     "name": "stdout",
     "output_type": "stream",
     "text": [
      "Epoch 60/100 |  LR: [1.0000000000000032e-58] | train | Loss: 1.5288 | Acc: 0.2619\n"
     ]
    },
    {
     "data": {
      "application/vnd.jupyter.widget-view+json": {
       "model_id": "a65c5c5768cf442cab6cf1f5fe3c4d63",
       "version_major": 2,
       "version_minor": 0
      },
      "text/plain": [
       "  0%|          | 0/2283 [00:00<?, ?it/s]"
      ]
     },
     "metadata": {},
     "output_type": "display_data"
    },
    {
     "name": "stdout",
     "output_type": "stream",
     "text": [
      "Epoch 60/100 |  LR: [1.0000000000000032e-58] |  val  | Loss: 1.5288 | Acc: 0.2619\n"
     ]
    },
    {
     "data": {
      "application/vnd.jupyter.widget-view+json": {
       "model_id": "f92f8ff13eca43febf02a6e00bc228f7",
       "version_major": 2,
       "version_minor": 0
      },
      "text/plain": [
       "  0%|          | 0/20541 [00:00<?, ?it/s]"
      ]
     },
     "metadata": {},
     "output_type": "display_data"
    },
    {
     "name": "stdout",
     "output_type": "stream",
     "text": [
      "Epoch 61/100 |  LR: [1.0000000000000033e-59] | train | Loss: 1.5288 | Acc: 0.2619\n"
     ]
    },
    {
     "data": {
      "application/vnd.jupyter.widget-view+json": {
       "model_id": "f674fc3f9eb345ada941526cde09c09a",
       "version_major": 2,
       "version_minor": 0
      },
      "text/plain": [
       "  0%|          | 0/2283 [00:00<?, ?it/s]"
      ]
     },
     "metadata": {},
     "output_type": "display_data"
    },
    {
     "name": "stdout",
     "output_type": "stream",
     "text": [
      "Epoch 61/100 |  LR: [1.0000000000000033e-59] |  val  | Loss: 1.5288 | Acc: 0.2619\n"
     ]
    },
    {
     "data": {
      "application/vnd.jupyter.widget-view+json": {
       "model_id": "944a449351354b54a1fd6d4dd9c6d6a0",
       "version_major": 2,
       "version_minor": 0
      },
      "text/plain": [
       "  0%|          | 0/20541 [00:00<?, ?it/s]"
      ]
     },
     "metadata": {},
     "output_type": "display_data"
    },
    {
     "name": "stdout",
     "output_type": "stream",
     "text": [
      "Epoch 62/100 |  LR: [1.0000000000000034e-60] | train | Loss: 1.5288 | Acc: 0.2619\n"
     ]
    },
    {
     "data": {
      "application/vnd.jupyter.widget-view+json": {
       "model_id": "f7a9afeae5464956bcd5ec10c38f7562",
       "version_major": 2,
       "version_minor": 0
      },
      "text/plain": [
       "  0%|          | 0/2283 [00:00<?, ?it/s]"
      ]
     },
     "metadata": {},
     "output_type": "display_data"
    },
    {
     "name": "stdout",
     "output_type": "stream",
     "text": [
      "Epoch 62/100 |  LR: [1.0000000000000034e-60] |  val  | Loss: 1.5288 | Acc: 0.2619\n"
     ]
    },
    {
     "data": {
      "application/vnd.jupyter.widget-view+json": {
       "model_id": "99c4ac9c130b4677ba37494981648353",
       "version_major": 2,
       "version_minor": 0
      },
      "text/plain": [
       "  0%|          | 0/20541 [00:00<?, ?it/s]"
      ]
     },
     "metadata": {},
     "output_type": "display_data"
    },
    {
     "name": "stdout",
     "output_type": "stream",
     "text": [
      "Epoch 63/100 |  LR: [1.0000000000000033e-61] | train | Loss: 1.5288 | Acc: 0.2619\n"
     ]
    },
    {
     "data": {
      "application/vnd.jupyter.widget-view+json": {
       "model_id": "c5b5cbb00d5f4816979d31c67cb81322",
       "version_major": 2,
       "version_minor": 0
      },
      "text/plain": [
       "  0%|          | 0/2283 [00:00<?, ?it/s]"
      ]
     },
     "metadata": {},
     "output_type": "display_data"
    },
    {
     "name": "stdout",
     "output_type": "stream",
     "text": [
      "Epoch 63/100 |  LR: [1.0000000000000033e-61] |  val  | Loss: 1.5288 | Acc: 0.2619\n"
     ]
    },
    {
     "data": {
      "application/vnd.jupyter.widget-view+json": {
       "model_id": "bf571f4cb0154de6bd16e30cd8a8bcb9",
       "version_major": 2,
       "version_minor": 0
      },
      "text/plain": [
       "  0%|          | 0/20541 [00:00<?, ?it/s]"
      ]
     },
     "metadata": {},
     "output_type": "display_data"
    },
    {
     "name": "stdout",
     "output_type": "stream",
     "text": [
      "Epoch 64/100 |  LR: [1.0000000000000033e-62] | train | Loss: 1.5288 | Acc: 0.2619\n"
     ]
    },
    {
     "data": {
      "application/vnd.jupyter.widget-view+json": {
       "model_id": "73f82f937a3d4fa58be0b87a896a94a8",
       "version_major": 2,
       "version_minor": 0
      },
      "text/plain": [
       "  0%|          | 0/2283 [00:00<?, ?it/s]"
      ]
     },
     "metadata": {},
     "output_type": "display_data"
    },
    {
     "name": "stdout",
     "output_type": "stream",
     "text": [
      "Epoch 64/100 |  LR: [1.0000000000000033e-62] |  val  | Loss: 1.5288 | Acc: 0.2619\n"
     ]
    },
    {
     "data": {
      "application/vnd.jupyter.widget-view+json": {
       "model_id": "1be4b3c95c174330af8956f2c4c78826",
       "version_major": 2,
       "version_minor": 0
      },
      "text/plain": [
       "  0%|          | 0/20541 [00:00<?, ?it/s]"
      ]
     },
     "metadata": {},
     "output_type": "display_data"
    },
    {
     "name": "stdout",
     "output_type": "stream",
     "text": [
      "Epoch 65/100 |  LR: [1.0000000000000036e-63] | train | Loss: 1.5288 | Acc: 0.2619\n"
     ]
    },
    {
     "data": {
      "application/vnd.jupyter.widget-view+json": {
       "model_id": "89cfcc49f6fb48f8b6c836228e611140",
       "version_major": 2,
       "version_minor": 0
      },
      "text/plain": [
       "  0%|          | 0/2283 [00:00<?, ?it/s]"
      ]
     },
     "metadata": {},
     "output_type": "display_data"
    },
    {
     "name": "stdout",
     "output_type": "stream",
     "text": [
      "Epoch 65/100 |  LR: [1.0000000000000036e-63] |  val  | Loss: 1.5288 | Acc: 0.2619\n"
     ]
    },
    {
     "data": {
      "application/vnd.jupyter.widget-view+json": {
       "model_id": "e8b2efac9c6d4f9aa31450f2cd40d493",
       "version_major": 2,
       "version_minor": 0
      },
      "text/plain": [
       "  0%|          | 0/20541 [00:00<?, ?it/s]"
      ]
     },
     "metadata": {},
     "output_type": "display_data"
    },
    {
     "name": "stdout",
     "output_type": "stream",
     "text": [
      "Epoch 66/100 |  LR: [1.0000000000000035e-64] | train | Loss: 1.5288 | Acc: 0.2619\n"
     ]
    },
    {
     "data": {
      "application/vnd.jupyter.widget-view+json": {
       "model_id": "619a34dbd00d47aea5104b35103b238b",
       "version_major": 2,
       "version_minor": 0
      },
      "text/plain": [
       "  0%|          | 0/2283 [00:00<?, ?it/s]"
      ]
     },
     "metadata": {},
     "output_type": "display_data"
    },
    {
     "name": "stdout",
     "output_type": "stream",
     "text": [
      "Epoch 66/100 |  LR: [1.0000000000000035e-64] |  val  | Loss: 1.5288 | Acc: 0.2619\n"
     ]
    },
    {
     "data": {
      "application/vnd.jupyter.widget-view+json": {
       "model_id": "9ad5b2c4bb3540d788b83ee208872c1d",
       "version_major": 2,
       "version_minor": 0
      },
      "text/plain": [
       "  0%|          | 0/20541 [00:00<?, ?it/s]"
      ]
     },
     "metadata": {},
     "output_type": "display_data"
    },
    {
     "name": "stdout",
     "output_type": "stream",
     "text": [
      "Epoch 67/100 |  LR: [1.0000000000000035e-65] | train | Loss: 1.5288 | Acc: 0.2619\n"
     ]
    },
    {
     "data": {
      "application/vnd.jupyter.widget-view+json": {
       "model_id": "894cc23247914a27b6fc4a0406c70873",
       "version_major": 2,
       "version_minor": 0
      },
      "text/plain": [
       "  0%|          | 0/2283 [00:00<?, ?it/s]"
      ]
     },
     "metadata": {},
     "output_type": "display_data"
    },
    {
     "name": "stdout",
     "output_type": "stream",
     "text": [
      "Epoch 67/100 |  LR: [1.0000000000000035e-65] |  val  | Loss: 1.5288 | Acc: 0.2619\n"
     ]
    },
    {
     "data": {
      "application/vnd.jupyter.widget-view+json": {
       "model_id": "5c775fe4e6de4838bd3ff9fbdeb2ba0c",
       "version_major": 2,
       "version_minor": 0
      },
      "text/plain": [
       "  0%|          | 0/20541 [00:00<?, ?it/s]"
      ]
     },
     "metadata": {},
     "output_type": "display_data"
    },
    {
     "name": "stdout",
     "output_type": "stream",
     "text": [
      "Epoch 68/100 |  LR: [1.0000000000000035e-66] | train | Loss: 1.5288 | Acc: 0.2619\n"
     ]
    },
    {
     "data": {
      "application/vnd.jupyter.widget-view+json": {
       "model_id": "c34b012838c94ba9b303e71d209d08e0",
       "version_major": 2,
       "version_minor": 0
      },
      "text/plain": [
       "  0%|          | 0/2283 [00:00<?, ?it/s]"
      ]
     },
     "metadata": {},
     "output_type": "display_data"
    },
    {
     "name": "stdout",
     "output_type": "stream",
     "text": [
      "Epoch 68/100 |  LR: [1.0000000000000035e-66] |  val  | Loss: 1.5288 | Acc: 0.2619\n"
     ]
    },
    {
     "data": {
      "application/vnd.jupyter.widget-view+json": {
       "model_id": "be164bc1410c4528a86cd275cbb1abcf",
       "version_major": 2,
       "version_minor": 0
      },
      "text/plain": [
       "  0%|          | 0/20541 [00:00<?, ?it/s]"
      ]
     },
     "metadata": {},
     "output_type": "display_data"
    },
    {
     "name": "stdout",
     "output_type": "stream",
     "text": [
      "Epoch 69/100 |  LR: [1.0000000000000037e-67] | train | Loss: 1.5288 | Acc: 0.2619\n"
     ]
    },
    {
     "data": {
      "application/vnd.jupyter.widget-view+json": {
       "model_id": "79aa9a66614d42a8a7307c719034d4dd",
       "version_major": 2,
       "version_minor": 0
      },
      "text/plain": [
       "  0%|          | 0/2283 [00:00<?, ?it/s]"
      ]
     },
     "metadata": {},
     "output_type": "display_data"
    },
    {
     "name": "stdout",
     "output_type": "stream",
     "text": [
      "Epoch 69/100 |  LR: [1.0000000000000037e-67] |  val  | Loss: 1.5288 | Acc: 0.2619\n"
     ]
    },
    {
     "data": {
      "application/vnd.jupyter.widget-view+json": {
       "model_id": "75c7b141cfeb4484a7aecef8f89943b0",
       "version_major": 2,
       "version_minor": 0
      },
      "text/plain": [
       "  0%|          | 0/20541 [00:00<?, ?it/s]"
      ]
     },
     "metadata": {},
     "output_type": "display_data"
    },
    {
     "name": "stdout",
     "output_type": "stream",
     "text": [
      "Epoch 70/100 |  LR: [1.0000000000000038e-68] | train | Loss: 1.5288 | Acc: 0.2619\n"
     ]
    },
    {
     "data": {
      "application/vnd.jupyter.widget-view+json": {
       "model_id": "7f4b059877ca4eb78fcca9b00f53d99b",
       "version_major": 2,
       "version_minor": 0
      },
      "text/plain": [
       "  0%|          | 0/2283 [00:00<?, ?it/s]"
      ]
     },
     "metadata": {},
     "output_type": "display_data"
    },
    {
     "name": "stdout",
     "output_type": "stream",
     "text": [
      "Epoch 70/100 |  LR: [1.0000000000000038e-68] |  val  | Loss: 1.5288 | Acc: 0.2619\n"
     ]
    },
    {
     "data": {
      "application/vnd.jupyter.widget-view+json": {
       "model_id": "29f31b0caa0e49bda4d610d9a7a76f4a",
       "version_major": 2,
       "version_minor": 0
      },
      "text/plain": [
       "  0%|          | 0/20541 [00:00<?, ?it/s]"
      ]
     },
     "metadata": {},
     "output_type": "display_data"
    },
    {
     "name": "stdout",
     "output_type": "stream",
     "text": [
      "Epoch 71/100 |  LR: [1.0000000000000038e-69] | train | Loss: 1.5288 | Acc: 0.2619\n"
     ]
    },
    {
     "data": {
      "application/vnd.jupyter.widget-view+json": {
       "model_id": "0ce470f6a3664837b45fb2479c344819",
       "version_major": 2,
       "version_minor": 0
      },
      "text/plain": [
       "  0%|          | 0/2283 [00:00<?, ?it/s]"
      ]
     },
     "metadata": {},
     "output_type": "display_data"
    },
    {
     "name": "stdout",
     "output_type": "stream",
     "text": [
      "Epoch 71/100 |  LR: [1.0000000000000038e-69] |  val  | Loss: 1.5288 | Acc: 0.2619\n"
     ]
    },
    {
     "data": {
      "application/vnd.jupyter.widget-view+json": {
       "model_id": "9bd1c857076845c987ed1c66a6795042",
       "version_major": 2,
       "version_minor": 0
      },
      "text/plain": [
       "  0%|          | 0/20541 [00:00<?, ?it/s]"
      ]
     },
     "metadata": {},
     "output_type": "display_data"
    },
    {
     "name": "stdout",
     "output_type": "stream",
     "text": [
      "Epoch 72/100 |  LR: [1.0000000000000039e-70] | train | Loss: 1.5288 | Acc: 0.2619\n"
     ]
    },
    {
     "data": {
      "application/vnd.jupyter.widget-view+json": {
       "model_id": "eb9a8bee64af483499c277bcb8cea5cb",
       "version_major": 2,
       "version_minor": 0
      },
      "text/plain": [
       "  0%|          | 0/2283 [00:00<?, ?it/s]"
      ]
     },
     "metadata": {},
     "output_type": "display_data"
    },
    {
     "name": "stdout",
     "output_type": "stream",
     "text": [
      "Epoch 72/100 |  LR: [1.0000000000000039e-70] |  val  | Loss: 1.5288 | Acc: 0.2619\n"
     ]
    },
    {
     "data": {
      "application/vnd.jupyter.widget-view+json": {
       "model_id": "e51c3f90970f42209e4816eb2043c71f",
       "version_major": 2,
       "version_minor": 0
      },
      "text/plain": [
       "  0%|          | 0/20541 [00:00<?, ?it/s]"
      ]
     },
     "metadata": {},
     "output_type": "display_data"
    },
    {
     "name": "stdout",
     "output_type": "stream",
     "text": [
      "Epoch 73/100 |  LR: [1.000000000000004e-71] | train | Loss: 1.5288 | Acc: 0.2619\n"
     ]
    },
    {
     "data": {
      "application/vnd.jupyter.widget-view+json": {
       "model_id": "7df7b1d7f9604a1cbd91c241de696650",
       "version_major": 2,
       "version_minor": 0
      },
      "text/plain": [
       "  0%|          | 0/2283 [00:00<?, ?it/s]"
      ]
     },
     "metadata": {},
     "output_type": "display_data"
    },
    {
     "name": "stdout",
     "output_type": "stream",
     "text": [
      "Epoch 73/100 |  LR: [1.000000000000004e-71] |  val  | Loss: 1.5288 | Acc: 0.2619\n"
     ]
    },
    {
     "data": {
      "application/vnd.jupyter.widget-view+json": {
       "model_id": "28a66cc9ab6046a99394a53ac1baf689",
       "version_major": 2,
       "version_minor": 0
      },
      "text/plain": [
       "  0%|          | 0/20541 [00:00<?, ?it/s]"
      ]
     },
     "metadata": {},
     "output_type": "display_data"
    },
    {
     "name": "stdout",
     "output_type": "stream",
     "text": [
      "Epoch 74/100 |  LR: [1.000000000000004e-72] | train | Loss: 1.5288 | Acc: 0.2619\n"
     ]
    },
    {
     "data": {
      "application/vnd.jupyter.widget-view+json": {
       "model_id": "2f17891b0d604b889c5ce89f21acc83c",
       "version_major": 2,
       "version_minor": 0
      },
      "text/plain": [
       "  0%|          | 0/2283 [00:00<?, ?it/s]"
      ]
     },
     "metadata": {},
     "output_type": "display_data"
    },
    {
     "name": "stdout",
     "output_type": "stream",
     "text": [
      "Epoch 74/100 |  LR: [1.000000000000004e-72] |  val  | Loss: 1.5288 | Acc: 0.2619\n"
     ]
    },
    {
     "data": {
      "application/vnd.jupyter.widget-view+json": {
       "model_id": "f24ac7983a174381a5ce2b4d10601fc0",
       "version_major": 2,
       "version_minor": 0
      },
      "text/plain": [
       "  0%|          | 0/20541 [00:00<?, ?it/s]"
      ]
     },
     "metadata": {},
     "output_type": "display_data"
    },
    {
     "name": "stdout",
     "output_type": "stream",
     "text": [
      "Epoch 75/100 |  LR: [1.0000000000000041e-73] | train | Loss: 1.5288 | Acc: 0.2619\n"
     ]
    },
    {
     "data": {
      "application/vnd.jupyter.widget-view+json": {
       "model_id": "e92fd6fb3ef0468a8a582cc1d36e2efc",
       "version_major": 2,
       "version_minor": 0
      },
      "text/plain": [
       "  0%|          | 0/2283 [00:00<?, ?it/s]"
      ]
     },
     "metadata": {},
     "output_type": "display_data"
    },
    {
     "name": "stdout",
     "output_type": "stream",
     "text": [
      "Epoch 75/100 |  LR: [1.0000000000000041e-73] |  val  | Loss: 1.5288 | Acc: 0.2619\n"
     ]
    },
    {
     "data": {
      "application/vnd.jupyter.widget-view+json": {
       "model_id": "1692f7a4713c4ee280f88a664f6a7f42",
       "version_major": 2,
       "version_minor": 0
      },
      "text/plain": [
       "  0%|          | 0/20541 [00:00<?, ?it/s]"
      ]
     },
     "metadata": {},
     "output_type": "display_data"
    },
    {
     "name": "stdout",
     "output_type": "stream",
     "text": [
      "Epoch 76/100 |  LR: [1.000000000000004e-74] | train | Loss: 1.5288 | Acc: 0.2619\n"
     ]
    },
    {
     "data": {
      "application/vnd.jupyter.widget-view+json": {
       "model_id": "61e0ebe5702545e4a35b71e720a9b7e6",
       "version_major": 2,
       "version_minor": 0
      },
      "text/plain": [
       "  0%|          | 0/2283 [00:00<?, ?it/s]"
      ]
     },
     "metadata": {},
     "output_type": "display_data"
    },
    {
     "name": "stdout",
     "output_type": "stream",
     "text": [
      "Epoch 76/100 |  LR: [1.000000000000004e-74] |  val  | Loss: 1.5288 | Acc: 0.2619\n"
     ]
    },
    {
     "data": {
      "application/vnd.jupyter.widget-view+json": {
       "model_id": "889ff2a00d3649f19956af8be8862893",
       "version_major": 2,
       "version_minor": 0
      },
      "text/plain": [
       "  0%|          | 0/20541 [00:00<?, ?it/s]"
      ]
     },
     "metadata": {},
     "output_type": "display_data"
    },
    {
     "name": "stdout",
     "output_type": "stream",
     "text": [
      "Epoch 77/100 |  LR: [1.0000000000000041e-75] | train | Loss: 1.5288 | Acc: 0.2619\n"
     ]
    },
    {
     "data": {
      "application/vnd.jupyter.widget-view+json": {
       "model_id": "ecbb976ea9934a72967ffa11fb123921",
       "version_major": 2,
       "version_minor": 0
      },
      "text/plain": [
       "  0%|          | 0/2283 [00:00<?, ?it/s]"
      ]
     },
     "metadata": {},
     "output_type": "display_data"
    },
    {
     "name": "stdout",
     "output_type": "stream",
     "text": [
      "Epoch 77/100 |  LR: [1.0000000000000041e-75] |  val  | Loss: 1.5288 | Acc: 0.2619\n"
     ]
    },
    {
     "data": {
      "application/vnd.jupyter.widget-view+json": {
       "model_id": "edc6d04f51494497861c49de7c404f1d",
       "version_major": 2,
       "version_minor": 0
      },
      "text/plain": [
       "  0%|          | 0/20541 [00:00<?, ?it/s]"
      ]
     },
     "metadata": {},
     "output_type": "display_data"
    },
    {
     "name": "stdout",
     "output_type": "stream",
     "text": [
      "Epoch 78/100 |  LR: [1.0000000000000042e-76] | train | Loss: 1.5288 | Acc: 0.2619\n"
     ]
    },
    {
     "data": {
      "application/vnd.jupyter.widget-view+json": {
       "model_id": "c0a90a58e61f4680bae301304c2f1699",
       "version_major": 2,
       "version_minor": 0
      },
      "text/plain": [
       "  0%|          | 0/2283 [00:00<?, ?it/s]"
      ]
     },
     "metadata": {},
     "output_type": "display_data"
    },
    {
     "name": "stdout",
     "output_type": "stream",
     "text": [
      "Epoch 78/100 |  LR: [1.0000000000000042e-76] |  val  | Loss: 1.5288 | Acc: 0.2619\n"
     ]
    },
    {
     "data": {
      "application/vnd.jupyter.widget-view+json": {
       "model_id": "93422428270644a3a04316d9e87191cd",
       "version_major": 2,
       "version_minor": 0
      },
      "text/plain": [
       "  0%|          | 0/20541 [00:00<?, ?it/s]"
      ]
     },
     "metadata": {},
     "output_type": "display_data"
    },
    {
     "name": "stdout",
     "output_type": "stream",
     "text": [
      "Epoch 79/100 |  LR: [1.0000000000000043e-77] | train | Loss: 1.5288 | Acc: 0.2619\n"
     ]
    },
    {
     "data": {
      "application/vnd.jupyter.widget-view+json": {
       "model_id": "cb48bbd512284f96a5345233ed97b9a1",
       "version_major": 2,
       "version_minor": 0
      },
      "text/plain": [
       "  0%|          | 0/2283 [00:00<?, ?it/s]"
      ]
     },
     "metadata": {},
     "output_type": "display_data"
    },
    {
     "name": "stdout",
     "output_type": "stream",
     "text": [
      "Epoch 79/100 |  LR: [1.0000000000000043e-77] |  val  | Loss: 1.5288 | Acc: 0.2619\n"
     ]
    },
    {
     "data": {
      "application/vnd.jupyter.widget-view+json": {
       "model_id": "c287a96522f34729afda9ef89020d17a",
       "version_major": 2,
       "version_minor": 0
      },
      "text/plain": [
       "  0%|          | 0/20541 [00:00<?, ?it/s]"
      ]
     },
     "metadata": {},
     "output_type": "display_data"
    },
    {
     "name": "stdout",
     "output_type": "stream",
     "text": [
      "Epoch 80/100 |  LR: [1.0000000000000044e-78] | train | Loss: 1.5288 | Acc: 0.2619\n"
     ]
    },
    {
     "data": {
      "application/vnd.jupyter.widget-view+json": {
       "model_id": "721ac6dbe56548478607d41233f24b23",
       "version_major": 2,
       "version_minor": 0
      },
      "text/plain": [
       "  0%|          | 0/2283 [00:00<?, ?it/s]"
      ]
     },
     "metadata": {},
     "output_type": "display_data"
    },
    {
     "name": "stdout",
     "output_type": "stream",
     "text": [
      "Epoch 80/100 |  LR: [1.0000000000000044e-78] |  val  | Loss: 1.5288 | Acc: 0.2619\n"
     ]
    },
    {
     "data": {
      "application/vnd.jupyter.widget-view+json": {
       "model_id": "c9cf0608014040f6a563ad23e7f2df70",
       "version_major": 2,
       "version_minor": 0
      },
      "text/plain": [
       "  0%|          | 0/20541 [00:00<?, ?it/s]"
      ]
     },
     "metadata": {},
     "output_type": "display_data"
    },
    {
     "name": "stdout",
     "output_type": "stream",
     "text": [
      "Epoch 81/100 |  LR: [1.0000000000000043e-79] | train | Loss: 1.5288 | Acc: 0.2619\n"
     ]
    },
    {
     "data": {
      "application/vnd.jupyter.widget-view+json": {
       "model_id": "79ab58ef759f419f8615aab83ad46a9b",
       "version_major": 2,
       "version_minor": 0
      },
      "text/plain": [
       "  0%|          | 0/2283 [00:00<?, ?it/s]"
      ]
     },
     "metadata": {},
     "output_type": "display_data"
    },
    {
     "name": "stdout",
     "output_type": "stream",
     "text": [
      "Epoch 81/100 |  LR: [1.0000000000000043e-79] |  val  | Loss: 1.5288 | Acc: 0.2619\n"
     ]
    },
    {
     "data": {
      "application/vnd.jupyter.widget-view+json": {
       "model_id": "a68cca0d138646338e188cd0f7afde7d",
       "version_major": 2,
       "version_minor": 0
      },
      "text/plain": [
       "  0%|          | 0/20541 [00:00<?, ?it/s]"
      ]
     },
     "metadata": {},
     "output_type": "display_data"
    },
    {
     "name": "stdout",
     "output_type": "stream",
     "text": [
      "Epoch 82/100 |  LR: [1.0000000000000045e-80] | train | Loss: 1.5288 | Acc: 0.2619\n"
     ]
    },
    {
     "data": {
      "application/vnd.jupyter.widget-view+json": {
       "model_id": "99c7164499b640fe87b56065b9790724",
       "version_major": 2,
       "version_minor": 0
      },
      "text/plain": [
       "  0%|          | 0/2283 [00:00<?, ?it/s]"
      ]
     },
     "metadata": {},
     "output_type": "display_data"
    },
    {
     "name": "stdout",
     "output_type": "stream",
     "text": [
      "Epoch 82/100 |  LR: [1.0000000000000045e-80] |  val  | Loss: 1.5288 | Acc: 0.2619\n"
     ]
    },
    {
     "data": {
      "application/vnd.jupyter.widget-view+json": {
       "model_id": "8eed7353af6446a19cec888393eda12d",
       "version_major": 2,
       "version_minor": 0
      },
      "text/plain": [
       "  0%|          | 0/20541 [00:00<?, ?it/s]"
      ]
     },
     "metadata": {},
     "output_type": "display_data"
    },
    {
     "name": "stdout",
     "output_type": "stream",
     "text": [
      "Epoch 83/100 |  LR: [1.0000000000000045e-81] | train | Loss: 1.5288 | Acc: 0.2619\n"
     ]
    },
    {
     "data": {
      "application/vnd.jupyter.widget-view+json": {
       "model_id": "2016497f227942368fbca4f4e00e5d04",
       "version_major": 2,
       "version_minor": 0
      },
      "text/plain": [
       "  0%|          | 0/2283 [00:00<?, ?it/s]"
      ]
     },
     "metadata": {},
     "output_type": "display_data"
    },
    {
     "name": "stdout",
     "output_type": "stream",
     "text": [
      "Epoch 83/100 |  LR: [1.0000000000000045e-81] |  val  | Loss: 1.5288 | Acc: 0.2619\n"
     ]
    },
    {
     "data": {
      "application/vnd.jupyter.widget-view+json": {
       "model_id": "009369e1651d45139a26e3ef02706f01",
       "version_major": 2,
       "version_minor": 0
      },
      "text/plain": [
       "  0%|          | 0/20541 [00:00<?, ?it/s]"
      ]
     },
     "metadata": {},
     "output_type": "display_data"
    },
    {
     "name": "stdout",
     "output_type": "stream",
     "text": [
      "Epoch 84/100 |  LR: [1.0000000000000046e-82] | train | Loss: 1.5288 | Acc: 0.2619\n"
     ]
    },
    {
     "data": {
      "application/vnd.jupyter.widget-view+json": {
       "model_id": "2adcb430ad2c4c079b6ad1773e61729f",
       "version_major": 2,
       "version_minor": 0
      },
      "text/plain": [
       "  0%|          | 0/2283 [00:00<?, ?it/s]"
      ]
     },
     "metadata": {},
     "output_type": "display_data"
    },
    {
     "name": "stdout",
     "output_type": "stream",
     "text": [
      "Epoch 84/100 |  LR: [1.0000000000000046e-82] |  val  | Loss: 1.5288 | Acc: 0.2619\n"
     ]
    },
    {
     "data": {
      "application/vnd.jupyter.widget-view+json": {
       "model_id": "dfed878cac864b10ae358b4c144b13dd",
       "version_major": 2,
       "version_minor": 0
      },
      "text/plain": [
       "  0%|          | 0/20541 [00:00<?, ?it/s]"
      ]
     },
     "metadata": {},
     "output_type": "display_data"
    },
    {
     "name": "stdout",
     "output_type": "stream",
     "text": [
      "Epoch 85/100 |  LR: [1.0000000000000046e-83] | train | Loss: 1.5288 | Acc: 0.2619\n"
     ]
    },
    {
     "data": {
      "application/vnd.jupyter.widget-view+json": {
       "model_id": "a6eaf44cc1b74405987e081cbee62311",
       "version_major": 2,
       "version_minor": 0
      },
      "text/plain": [
       "  0%|          | 0/2283 [00:00<?, ?it/s]"
      ]
     },
     "metadata": {},
     "output_type": "display_data"
    },
    {
     "name": "stdout",
     "output_type": "stream",
     "text": [
      "Epoch 85/100 |  LR: [1.0000000000000046e-83] |  val  | Loss: 1.5288 | Acc: 0.2619\n"
     ]
    },
    {
     "data": {
      "application/vnd.jupyter.widget-view+json": {
       "model_id": "22b47fef838e494ab5f3a41db3057f39",
       "version_major": 2,
       "version_minor": 0
      },
      "text/plain": [
       "  0%|          | 0/20541 [00:00<?, ?it/s]"
      ]
     },
     "metadata": {},
     "output_type": "display_data"
    },
    {
     "name": "stdout",
     "output_type": "stream",
     "text": [
      "Epoch 86/100 |  LR: [1.0000000000000046e-84] | train | Loss: 1.5288 | Acc: 0.2619\n"
     ]
    },
    {
     "data": {
      "application/vnd.jupyter.widget-view+json": {
       "model_id": "d95556b7c78d42f880eeaa5f00a17063",
       "version_major": 2,
       "version_minor": 0
      },
      "text/plain": [
       "  0%|          | 0/2283 [00:00<?, ?it/s]"
      ]
     },
     "metadata": {},
     "output_type": "display_data"
    },
    {
     "name": "stdout",
     "output_type": "stream",
     "text": [
      "Epoch 86/100 |  LR: [1.0000000000000046e-84] |  val  | Loss: 1.5288 | Acc: 0.2619\n"
     ]
    },
    {
     "data": {
      "application/vnd.jupyter.widget-view+json": {
       "model_id": "b1463d35ed6b49e584ca9c469c5f9dbd",
       "version_major": 2,
       "version_minor": 0
      },
      "text/plain": [
       "  0%|          | 0/20541 [00:00<?, ?it/s]"
      ]
     },
     "metadata": {},
     "output_type": "display_data"
    },
    {
     "name": "stdout",
     "output_type": "stream",
     "text": [
      "Epoch 87/100 |  LR: [1.0000000000000047e-85] | train | Loss: 1.5288 | Acc: 0.2619\n"
     ]
    },
    {
     "data": {
      "application/vnd.jupyter.widget-view+json": {
       "model_id": "e98cac4a59944319bf2df373b5078513",
       "version_major": 2,
       "version_minor": 0
      },
      "text/plain": [
       "  0%|          | 0/2283 [00:00<?, ?it/s]"
      ]
     },
     "metadata": {},
     "output_type": "display_data"
    },
    {
     "name": "stdout",
     "output_type": "stream",
     "text": [
      "Epoch 87/100 |  LR: [1.0000000000000047e-85] |  val  | Loss: 1.5288 | Acc: 0.2619\n"
     ]
    },
    {
     "data": {
      "application/vnd.jupyter.widget-view+json": {
       "model_id": "cc8af488db714418b0f2f664323adb51",
       "version_major": 2,
       "version_minor": 0
      },
      "text/plain": [
       "  0%|          | 0/20541 [00:00<?, ?it/s]"
      ]
     },
     "metadata": {},
     "output_type": "display_data"
    },
    {
     "name": "stdout",
     "output_type": "stream",
     "text": [
      "Epoch 88/100 |  LR: [1.0000000000000047e-86] | train | Loss: 1.5288 | Acc: 0.2619\n"
     ]
    },
    {
     "data": {
      "application/vnd.jupyter.widget-view+json": {
       "model_id": "84be8e1c99f7484c8d62810eaf75cbf2",
       "version_major": 2,
       "version_minor": 0
      },
      "text/plain": [
       "  0%|          | 0/2283 [00:00<?, ?it/s]"
      ]
     },
     "metadata": {},
     "output_type": "display_data"
    },
    {
     "name": "stdout",
     "output_type": "stream",
     "text": [
      "Epoch 88/100 |  LR: [1.0000000000000047e-86] |  val  | Loss: 1.5288 | Acc: 0.2619\n"
     ]
    },
    {
     "data": {
      "application/vnd.jupyter.widget-view+json": {
       "model_id": "88b4d34acb314c76aeb6793a0c893468",
       "version_major": 2,
       "version_minor": 0
      },
      "text/plain": [
       "  0%|          | 0/20541 [00:00<?, ?it/s]"
      ]
     },
     "metadata": {},
     "output_type": "display_data"
    },
    {
     "name": "stdout",
     "output_type": "stream",
     "text": [
      "Epoch 89/100 |  LR: [1.0000000000000048e-87] | train | Loss: 1.5288 | Acc: 0.2619\n"
     ]
    },
    {
     "data": {
      "application/vnd.jupyter.widget-view+json": {
       "model_id": "1b9867f0d4a44dd5a44812817c84eba3",
       "version_major": 2,
       "version_minor": 0
      },
      "text/plain": [
       "  0%|          | 0/2283 [00:00<?, ?it/s]"
      ]
     },
     "metadata": {},
     "output_type": "display_data"
    },
    {
     "name": "stdout",
     "output_type": "stream",
     "text": [
      "Epoch 89/100 |  LR: [1.0000000000000048e-87] |  val  | Loss: 1.5288 | Acc: 0.2619\n"
     ]
    },
    {
     "data": {
      "application/vnd.jupyter.widget-view+json": {
       "model_id": "579c8590b8ae44dbb5f100fc379a8b79",
       "version_major": 2,
       "version_minor": 0
      },
      "text/plain": [
       "  0%|          | 0/20541 [00:00<?, ?it/s]"
      ]
     },
     "metadata": {},
     "output_type": "display_data"
    },
    {
     "name": "stdout",
     "output_type": "stream",
     "text": [
      "Epoch 90/100 |  LR: [1.0000000000000048e-88] | train | Loss: 1.5288 | Acc: 0.2619\n"
     ]
    },
    {
     "data": {
      "application/vnd.jupyter.widget-view+json": {
       "model_id": "fe6749ea1e24400e98a594b180e64c78",
       "version_major": 2,
       "version_minor": 0
      },
      "text/plain": [
       "  0%|          | 0/2283 [00:00<?, ?it/s]"
      ]
     },
     "metadata": {},
     "output_type": "display_data"
    },
    {
     "name": "stdout",
     "output_type": "stream",
     "text": [
      "Epoch 90/100 |  LR: [1.0000000000000048e-88] |  val  | Loss: 1.5288 | Acc: 0.2619\n"
     ]
    },
    {
     "data": {
      "application/vnd.jupyter.widget-view+json": {
       "model_id": "ebba02fb13b24de288582bac86f7abde",
       "version_major": 2,
       "version_minor": 0
      },
      "text/plain": [
       "  0%|          | 0/20541 [00:00<?, ?it/s]"
      ]
     },
     "metadata": {},
     "output_type": "display_data"
    },
    {
     "name": "stdout",
     "output_type": "stream",
     "text": [
      "Epoch 91/100 |  LR: [1.000000000000005e-89] | train | Loss: 1.5288 | Acc: 0.2619\n"
     ]
    },
    {
     "data": {
      "application/vnd.jupyter.widget-view+json": {
       "model_id": "ee554ebcdc434a12bfb9f86f0025cef0",
       "version_major": 2,
       "version_minor": 0
      },
      "text/plain": [
       "  0%|          | 0/2283 [00:00<?, ?it/s]"
      ]
     },
     "metadata": {},
     "output_type": "display_data"
    },
    {
     "name": "stdout",
     "output_type": "stream",
     "text": [
      "Epoch 91/100 |  LR: [1.000000000000005e-89] |  val  | Loss: 1.5288 | Acc: 0.2619\n"
     ]
    },
    {
     "data": {
      "application/vnd.jupyter.widget-view+json": {
       "model_id": "4a42f15c58b446ba8ece3803fadf5893",
       "version_major": 2,
       "version_minor": 0
      },
      "text/plain": [
       "  0%|          | 0/20541 [00:00<?, ?it/s]"
      ]
     },
     "metadata": {},
     "output_type": "display_data"
    },
    {
     "name": "stdout",
     "output_type": "stream",
     "text": [
      "Epoch 92/100 |  LR: [1.000000000000005e-90] | train | Loss: 1.5288 | Acc: 0.2619\n"
     ]
    },
    {
     "data": {
      "application/vnd.jupyter.widget-view+json": {
       "model_id": "e25fcb58c031436b8ae90e58fc46151f",
       "version_major": 2,
       "version_minor": 0
      },
      "text/plain": [
       "  0%|          | 0/2283 [00:00<?, ?it/s]"
      ]
     },
     "metadata": {},
     "output_type": "display_data"
    },
    {
     "name": "stdout",
     "output_type": "stream",
     "text": [
      "Epoch 92/100 |  LR: [1.000000000000005e-90] |  val  | Loss: 1.5288 | Acc: 0.2619\n"
     ]
    },
    {
     "data": {
      "application/vnd.jupyter.widget-view+json": {
       "model_id": "4054c3056f8e468db8dd2abf1518a160",
       "version_major": 2,
       "version_minor": 0
      },
      "text/plain": [
       "  0%|          | 0/20541 [00:00<?, ?it/s]"
      ]
     },
     "metadata": {},
     "output_type": "display_data"
    },
    {
     "name": "stdout",
     "output_type": "stream",
     "text": [
      "Epoch 93/100 |  LR: [1.000000000000005e-91] | train | Loss: 1.5288 | Acc: 0.2619\n"
     ]
    },
    {
     "data": {
      "application/vnd.jupyter.widget-view+json": {
       "model_id": "1f9f54b691f9443981f31069473d975a",
       "version_major": 2,
       "version_minor": 0
      },
      "text/plain": [
       "  0%|          | 0/2283 [00:00<?, ?it/s]"
      ]
     },
     "metadata": {},
     "output_type": "display_data"
    },
    {
     "name": "stdout",
     "output_type": "stream",
     "text": [
      "Epoch 93/100 |  LR: [1.000000000000005e-91] |  val  | Loss: 1.5288 | Acc: 0.2619\n"
     ]
    },
    {
     "data": {
      "application/vnd.jupyter.widget-view+json": {
       "model_id": "4d5dce9310c84281b0b77ddf42fc71b2",
       "version_major": 2,
       "version_minor": 0
      },
      "text/plain": [
       "  0%|          | 0/20541 [00:00<?, ?it/s]"
      ]
     },
     "metadata": {},
     "output_type": "display_data"
    },
    {
     "name": "stdout",
     "output_type": "stream",
     "text": [
      "Epoch 94/100 |  LR: [1.0000000000000051e-92] | train | Loss: 1.5288 | Acc: 0.2619\n"
     ]
    },
    {
     "data": {
      "application/vnd.jupyter.widget-view+json": {
       "model_id": "8fa4d3032a3b4660a8150f62dc4b534f",
       "version_major": 2,
       "version_minor": 0
      },
      "text/plain": [
       "  0%|          | 0/2283 [00:00<?, ?it/s]"
      ]
     },
     "metadata": {},
     "output_type": "display_data"
    },
    {
     "name": "stdout",
     "output_type": "stream",
     "text": [
      "Epoch 94/100 |  LR: [1.0000000000000051e-92] |  val  | Loss: 1.5288 | Acc: 0.2619\n"
     ]
    },
    {
     "data": {
      "application/vnd.jupyter.widget-view+json": {
       "model_id": "b3166f38174a4cb3bdcea0fdb1a31197",
       "version_major": 2,
       "version_minor": 0
      },
      "text/plain": [
       "  0%|          | 0/20541 [00:00<?, ?it/s]"
      ]
     },
     "metadata": {},
     "output_type": "display_data"
    },
    {
     "name": "stdout",
     "output_type": "stream",
     "text": [
      "Epoch 95/100 |  LR: [1.0000000000000052e-93] | train | Loss: 1.5288 | Acc: 0.2619\n"
     ]
    },
    {
     "data": {
      "application/vnd.jupyter.widget-view+json": {
       "model_id": "472534a9f30545b3b520f343f237d213",
       "version_major": 2,
       "version_minor": 0
      },
      "text/plain": [
       "  0%|          | 0/2283 [00:00<?, ?it/s]"
      ]
     },
     "metadata": {},
     "output_type": "display_data"
    },
    {
     "name": "stdout",
     "output_type": "stream",
     "text": [
      "Epoch 95/100 |  LR: [1.0000000000000052e-93] |  val  | Loss: 1.5288 | Acc: 0.2619\n"
     ]
    },
    {
     "data": {
      "application/vnd.jupyter.widget-view+json": {
       "model_id": "c4daf6bae94e45958fd7e2eb3bb0f675",
       "version_major": 2,
       "version_minor": 0
      },
      "text/plain": [
       "  0%|          | 0/20541 [00:00<?, ?it/s]"
      ]
     },
     "metadata": {},
     "output_type": "display_data"
    },
    {
     "name": "stdout",
     "output_type": "stream",
     "text": [
      "Epoch 96/100 |  LR: [1.0000000000000053e-94] | train | Loss: 1.5288 | Acc: 0.2619\n"
     ]
    },
    {
     "data": {
      "application/vnd.jupyter.widget-view+json": {
       "model_id": "4d5f992683d74b20943b9e0350a03090",
       "version_major": 2,
       "version_minor": 0
      },
      "text/plain": [
       "  0%|          | 0/2283 [00:00<?, ?it/s]"
      ]
     },
     "metadata": {},
     "output_type": "display_data"
    },
    {
     "name": "stdout",
     "output_type": "stream",
     "text": [
      "Epoch 96/100 |  LR: [1.0000000000000053e-94] |  val  | Loss: 1.5288 | Acc: 0.2619\n"
     ]
    },
    {
     "data": {
      "application/vnd.jupyter.widget-view+json": {
       "model_id": "034d3e3a771641b692749ca9eabbeb52",
       "version_major": 2,
       "version_minor": 0
      },
      "text/plain": [
       "  0%|          | 0/20541 [00:00<?, ?it/s]"
      ]
     },
     "metadata": {},
     "output_type": "display_data"
    },
    {
     "name": "stdout",
     "output_type": "stream",
     "text": [
      "Epoch 97/100 |  LR: [1.0000000000000053e-95] | train | Loss: 1.5288 | Acc: 0.2619\n"
     ]
    },
    {
     "data": {
      "application/vnd.jupyter.widget-view+json": {
       "model_id": "cf62022f3b8949de85f31da45e2a5f70",
       "version_major": 2,
       "version_minor": 0
      },
      "text/plain": [
       "  0%|          | 0/2283 [00:00<?, ?it/s]"
      ]
     },
     "metadata": {},
     "output_type": "display_data"
    },
    {
     "name": "stdout",
     "output_type": "stream",
     "text": [
      "Epoch 97/100 |  LR: [1.0000000000000053e-95] |  val  | Loss: 1.5288 | Acc: 0.2619\n"
     ]
    },
    {
     "data": {
      "application/vnd.jupyter.widget-view+json": {
       "model_id": "beba81b47df847fc80ebd90bbb1ffd76",
       "version_major": 2,
       "version_minor": 0
      },
      "text/plain": [
       "  0%|          | 0/20541 [00:00<?, ?it/s]"
      ]
     },
     "metadata": {},
     "output_type": "display_data"
    },
    {
     "name": "stdout",
     "output_type": "stream",
     "text": [
      "Epoch 98/100 |  LR: [1.0000000000000053e-96] | train | Loss: 1.5288 | Acc: 0.2619\n"
     ]
    },
    {
     "data": {
      "application/vnd.jupyter.widget-view+json": {
       "model_id": "0f07378a46854310972efa4e6a928b47",
       "version_major": 2,
       "version_minor": 0
      },
      "text/plain": [
       "  0%|          | 0/2283 [00:00<?, ?it/s]"
      ]
     },
     "metadata": {},
     "output_type": "display_data"
    },
    {
     "name": "stdout",
     "output_type": "stream",
     "text": [
      "Epoch 98/100 |  LR: [1.0000000000000053e-96] |  val  | Loss: 1.5288 | Acc: 0.2619\n"
     ]
    },
    {
     "data": {
      "application/vnd.jupyter.widget-view+json": {
       "model_id": "d643111a2302448bab7c9dc8edc410b0",
       "version_major": 2,
       "version_minor": 0
      },
      "text/plain": [
       "  0%|          | 0/20541 [00:00<?, ?it/s]"
      ]
     },
     "metadata": {},
     "output_type": "display_data"
    },
    {
     "name": "stdout",
     "output_type": "stream",
     "text": [
      "Epoch 99/100 |  LR: [1.0000000000000054e-97] | train | Loss: 1.5288 | Acc: 0.2619\n"
     ]
    },
    {
     "data": {
      "application/vnd.jupyter.widget-view+json": {
       "model_id": "183cc81224b3485fa007fac5c7f29b25",
       "version_major": 2,
       "version_minor": 0
      },
      "text/plain": [
       "  0%|          | 0/2283 [00:00<?, ?it/s]"
      ]
     },
     "metadata": {},
     "output_type": "display_data"
    },
    {
     "name": "stdout",
     "output_type": "stream",
     "text": [
      "Epoch 99/100 |  LR: [1.0000000000000054e-97] |  val  | Loss: 1.5288 | Acc: 0.2619\n"
     ]
    },
    {
     "data": {
      "application/vnd.jupyter.widget-view+json": {
       "model_id": "777eed4c8757410f9f98ed1c983afd3c",
       "version_major": 2,
       "version_minor": 0
      },
      "text/plain": [
       "  0%|          | 0/20541 [00:00<?, ?it/s]"
      ]
     },
     "metadata": {},
     "output_type": "display_data"
    },
    {
     "name": "stdout",
     "output_type": "stream",
     "text": [
      "Epoch 100/100 |  LR: [1.0000000000000055e-98] | train | Loss: 1.5288 | Acc: 0.2619\n"
     ]
    },
    {
     "data": {
      "application/vnd.jupyter.widget-view+json": {
       "model_id": "b3c9099a2434490c8c70d286abead934",
       "version_major": 2,
       "version_minor": 0
      },
      "text/plain": [
       "  0%|          | 0/2283 [00:00<?, ?it/s]"
      ]
     },
     "metadata": {},
     "output_type": "display_data"
    },
    {
     "name": "stdout",
     "output_type": "stream",
     "text": [
      "Epoch 100/100 |  LR: [1.0000000000000055e-98] |  val  | Loss: 1.5288 | Acc: 0.2619\n"
     ]
    },
    {
     "data": {
      "image/png": "[encoded data removed]",
      "text/plain": [
       "<Figure size 432x288 with 1 Axes>"
      ]
     },
     "metadata": {
      "needs_background": "light"
     },
     "output_type": "display_data"
    },
    {
     "data": {
      "image/png": "[encoded data removed]",
      "text/plain": [
       "<Figure size 432x288 with 1 Axes>"
      ]
     },
     "metadata": {
      "needs_background": "light"
     },
     "output_type": "display_data"
    }
   ],
   "source": [
    "\n",
    "print(f\"Optimizer: {op_name}\")\n",
    "optimizer = optimizers[op_name]\n",
    "train_losses, train_accs, val_losses, val_accs, lrs = train_model(model, dataloaders_dict, criterion, optimizer, num_epochs=num_epochs)\n",
    "\n",
    "epochs = range(num_epochs)\n",
    "\n",
    "plt.figure(1)\n",
    "plt.plot(epochs, train_losses, 'r', label='train_loss')\n",
    "plt.plot(epochs, train_accs, 'g', label='train_acc')\n",
    "plt.plot(epochs, val_losses, 'b', label='val_loss')\n",
    "plt.plot(epochs, val_accs, 'm', label='val_acc')\n",
    "\n",
    "plt.title(f'Losses and Accuracies (optimizer: {op_name}, lr: {learning_rate}, epochs: {num_epochs})')\n",
    "\n",
    "plt.xlabel('Epochs')\n",
    "plt.ylabel('Loss/Accuracy')\n",
    "\n",
    "plt.legend()\n",
    "plt.savefig(f\"./results/Losses and Accuracies({op_name}).jpg\", dpi=200)\n",
    "plt.show()\n",
    "\n",
    "plt.figure(2)\n",
    "plt.plot(epochs, lrs, 'b')\n",
    "plt.title(f'LambdaLR({lambda_c}^epoch)')\n",
    "\n",
    "plt.xlabel('Epochs')\n",
    "plt.ylabel('LR')\n",
    "plt.savefig(f\"./results/LambdaLR(optimizer: {op_name}, {lambda_c}^epoch).jpg\", dpi=200)\n"
   ]
  }
 ],
 "metadata": {
  "interpreter": {
   "hash": "48f4bc069920ebbbd1eda6554a35184c9b55389f39cf7b5b16b60be2a7081220"
  },
  "kernelspec": {
   "display_name": "Python 3.7.12 64-bit ('venv': venv)",
   "name": "python3"
  },
  "language_info": {
   "codemirror_mode": {
    "name": "ipython",
    "version": 3
   },
   "file_extension": ".py",
   "mimetype": "text/x-python",
   "name": "python",
   "nbconvert_exporter": "python",
   "pygments_lexer": "ipython3",
   "version": "3.7.12"
  },
  "orig_nbformat": 4
 },
 "nbformat": 4,
 "nbformat_minor": 2
}
