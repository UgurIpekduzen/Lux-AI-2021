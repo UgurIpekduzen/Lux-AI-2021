{
 "cells": [
  {
   "cell_type": "code",
   "execution_count": 12,
   "metadata": {},
   "outputs": [],
   "source": [
    "import numpy as np\n",
    "import json\n",
    "from pathlib import Path\n",
    "import os\n",
    "import random\n",
    "from tqdm.notebook import tqdm\n",
    "import torch\n",
    "from torch import nn\n",
    "import torch.nn.functional as F\n",
    "from torch.utils.data import Dataset, DataLoader\n",
    "import torch.optim as optim\n",
    "from sklearn.model_selection import train_test_split\n",
    "import matplotlib.pyplot as plt\n",
    "from ipywidgets import IntProgress\n",
    "from torchsummary import summary\n"
   ]
  },
  {
   "cell_type": "code",
   "execution_count": 2,
   "metadata": {},
   "outputs": [],
   "source": [
    "torch.cuda.empty_cache()\n",
    "learning_rate = 1e-1\n",
    "lambda_c = 0.1\n",
    "num_epochs = 100\n",
    "# op_name = \"AdamW\"\n",
    "op_name = \"SGD\""
   ]
  },
  {
   "cell_type": "code",
   "execution_count": 3,
   "metadata": {},
   "outputs": [],
   "source": [
    "def seed_everything(seed_value):\n",
    "    random.seed(seed_value)\n",
    "    np.random.seed(seed_value)\n",
    "    torch.manual_seed(seed_value)\n",
    "    os.environ['PYTHONHASHSEED'] = str(seed_value)\n",
    "    \n",
    "    if torch.cuda.is_available(): \n",
    "        torch.cuda.manual_seed(seed_value)\n",
    "        torch.cuda.manual_seed_all(seed_value)\n",
    "        torch.backends.cudnn.deterministic = True\n",
    "        torch.backends.cudnn.benchmark = True\n",
    "\n",
    "seed = 42\n",
    "seed_everything(seed)"
   ]
  },
  {
   "cell_type": "code",
   "execution_count": 4,
   "metadata": {},
   "outputs": [],
   "source": [
    "def to_label(action):\n",
    "    strs = action.split(' ')\n",
    "    unit_id = strs[1]\n",
    "    if strs[0] == 'm':\n",
    "        label = {'c': None, 'n': 0, 's': 1, 'w': 2, 'e': 3}[strs[2]]\n",
    "    elif strs[0] == 'bcity':\n",
    "        label = 4\n",
    "    else:\n",
    "        label = None\n",
    "    return unit_id, label\n",
    "\n",
    "def depleted_resources(obs):\n",
    "    for u in obs['updates']:\n",
    "        if u.split(' ')[0] == 'r':\n",
    "            return False\n",
    "    return True\n",
    "\n",
    "def create_dataset_from_json(episode_dir, team_name='Toad Brigade'): \n",
    "    obses = {}\n",
    "    samples = []\n",
    "    append = samples.append\n",
    "    \n",
    "    episodes = [path for path in Path(episode_dir).glob('*.json') if 'output' not in path.name]\n",
    "    for filepath in tqdm(episodes): \n",
    "        with open(filepath) as f:\n",
    "            json_load = json.load(f)\n",
    "\n",
    "        ep_id = json_load['info']['EpisodeId']\n",
    "        index = np.argmax([r or 0 for r in json_load['rewards']])\n",
    "        if json_load['info']['TeamNames'][index] != team_name:\n",
    "            print(index,filepath)\n",
    "            continue\n",
    "\n",
    "        for i in range(len(json_load['steps'])-1):\n",
    "            if json_load['steps'][i][index]['status'] == 'ACTIVE':\n",
    "                actions = json_load['steps'][i+1][index]['action']\n",
    "                obs = json_load['steps'][i][0]['observation']\n",
    "                \n",
    "                if depleted_resources(obs):\n",
    "                    break\n",
    "                \n",
    "                obs['player'] = index\n",
    "                obs = dict([\n",
    "                    (k,v) for k,v in obs.items() \n",
    "                    if k in ['step', 'updates', 'player', 'width', 'height']\n",
    "                ])\n",
    "                obs_id = f'{ep_id}_{i}'\n",
    "                obses[obs_id] = obs\n",
    "                                \n",
    "                for action in actions:\n",
    "                    unit_id, label = to_label(action)\n",
    "                    if label is not None:\n",
    "                        append((obs_id, unit_id, label))\n",
    "\n",
    "    return obses, samples"
   ]
  },
  {
   "cell_type": "code",
   "execution_count": 5,
   "metadata": {},
   "outputs": [
    {
     "data": {
      "application/vnd.jupyter.widget-view+json": {
       "model_id": "4d7655a090054dc78483f7b801e1b73d",
       "version_major": 2,
       "version_minor": 0
      },
      "text/plain": [
       "  0%|          | 0/1126 [00:00<?, ?it/s]"
      ]
     },
     "metadata": {},
     "output_type": "display_data"
    },
    {
     "name": "stdout",
     "output_type": "stream",
     "text": [
      "0 ../input/lux-ai-episodes/30032982.json\n",
      "1 ../input/lux-ai-episodes/29881187.json\n",
      "1 ../input/lux-ai-episodes/30084250.json\n",
      "1 ../input/lux-ai-episodes/29941134.json\n",
      "0 ../input/lux-ai-episodes/29941132.json\n",
      "0 ../input/lux-ai-episodes/30362914.json\n",
      "0 ../input/lux-ai-episodes/29429006.json\n",
      "1 ../input/lux-ai-episodes/29881186.json\n",
      "1 ../input/lux-ai-episodes/30226842.json\n",
      "0 ../input/lux-ai-episodes/30310209.json\n",
      "0 ../input/lux-ai-episodes/29694898.json\n",
      "0 ../input/lux-ai-episodes/28825750.json\n",
      "0 ../input/lux-ai-episodes/29697620.json\n",
      "0 ../input/lux-ai-episodes/26886148.json\n",
      "0 ../input/lux-ai-episodes/30362915.json\n",
      "1 ../input/lux-ai-episodes/29695641.json\n",
      "0 ../input/lux-ai-episodes/29851612.json\n",
      "1 ../input/lux-ai-episodes/29698613.json\n",
      "0 ../input/lux-ai-episodes/30114472.json\n",
      "1 ../input/lux-ai-episodes/29919414.json\n",
      "0 ../input/lux-ai-episodes/29744239.json\n",
      "1 ../input/lux-ai-episodes/30457789.json\n",
      "1 ../input/lux-ai-episodes/30155524.json\n",
      "0 ../input/lux-ai-episodes/29831871.json\n",
      "0 ../input/lux-ai-episodes/29692665.json\n",
      "0 ../input/lux-ai-episodes/30407208.json\n",
      "0 ../input/lux-ai-episodes/29626219.json\n",
      "0 ../input/lux-ai-episodes/29698856.json\n",
      "0 ../input/lux-ai-episodes/29690669.json\n",
      "1 ../input/lux-ai-episodes/29416859.json\n",
      "1 ../input/lux-ai-episodes/29700092.json\n",
      "1 ../input/lux-ai-episodes/30394596.json\n",
      "1 ../input/lux-ai-episodes/29693652.json\n",
      "1 ../input/lux-ai-episodes/29812064.json\n",
      "0 ../input/lux-ai-episodes/29692913.json\n",
      "1 ../input/lux-ai-episodes/29696879.json\n",
      "1 ../input/lux-ai-episodes/29861259.json\n",
      "1 ../input/lux-ai-episodes/29700835.json\n",
      "1 ../input/lux-ai-episodes/29755987.json\n",
      "1 ../input/lux-ai-episodes/29700091.json\n",
      "0 ../input/lux-ai-episodes/29696385.json\n",
      "1 ../input/lux-ai-episodes/30309682.json\n",
      "0 ../input/lux-ai-episodes/29275514.json\n",
      "1 ../input/lux-ai-episodes/29801938.json\n",
      "0 ../input/lux-ai-episodes/29693160.json\n",
      "0 ../input/lux-ai-episodes/29921059.json\n",
      "1 ../input/lux-ai-episodes/30352004.json\n",
      "0 ../input/lux-ai-episodes/29691163.json\n",
      "0 ../input/lux-ai-episodes/30352006.json\n",
      "0 ../input/lux-ai-episodes/30062989.json\n",
      "1 ../input/lux-ai-episodes/29951063.json\n",
      "1 ../input/lux-ai-episodes/29694151.json\n",
      "1 ../input/lux-ai-episodes/29693903.json\n",
      "0 ../input/lux-ai-episodes/29861715.json\n",
      "1 ../input/lux-ai-episodes/30407209.json\n",
      "0 ../input/lux-ai-episodes/29697872.json\n",
      "0 ../input/lux-ai-episodes/29239610.json\n",
      "1 ../input/lux-ai-episodes/29096611.json\n",
      "0 ../input/lux-ai-episodes/29776178.json\n",
      "1 ../input/lux-ai-episodes/29736725.json\n",
      "0 ../input/lux-ai-episodes/29861714.json\n",
      "1 ../input/lux-ai-episodes/29960940.json\n",
      "1 ../input/lux-ai-episodes/29356120.json\n",
      "1 ../input/lux-ai-episodes/29695889.json\n",
      "0 ../input/lux-ai-episodes/28416434.json\n",
      "1 ../input/lux-ai-episodes/30458832.json\n",
      "1 ../input/lux-ai-episodes/29910945.json\n",
      "0 ../input/lux-ai-episodes/30053306.json\n",
      "1 ../input/lux-ai-episodes/30105867.json\n",
      "0 ../input/lux-ai-episodes/26863030.json\n",
      "0 ../input/lux-ai-episodes/29901266.json\n",
      "1 ../input/lux-ai-episodes/29275279.json\n",
      "1 ../input/lux-ai-episodes/29693410.json\n",
      "1 ../input/lux-ai-episodes/30373583.json\n",
      "1 ../input/lux-ai-episodes/29692664.json\n",
      "0 ../input/lux-ai-episodes/30062990.json\n",
      "1 ../input/lux-ai-episodes/29807420.json\n",
      "0 ../input/lux-ai-episodes/30426145.json\n",
      "1 ../input/lux-ai-episodes/29691921.json\n",
      "0 ../input/lux-ai-episodes/29698364.json\n",
      "0 ../input/lux-ai-episodes/30155478.json\n",
      "1 ../input/lux-ai-episodes/29699842.json\n",
      "1 ../input/lux-ai-episodes/30145230.json\n",
      "1 ../input/lux-ai-episodes/30331044.json\n",
      "1 ../input/lux-ai-episodes/28867416.json\n",
      "0 ../input/lux-ai-episodes/30017529.json\n",
      "0 ../input/lux-ai-episodes/29569228.json\n",
      "1 ../input/lux-ai-episodes/29693406.json\n",
      "0 ../input/lux-ai-episodes/30320404.json\n",
      "0 ../input/lux-ai-episodes/30385302.json\n",
      "1 ../input/lux-ai-episodes/29901314.json\n",
      "0 ../input/lux-ai-episodes/30310328.json\n",
      "1 ../input/lux-ai-episodes/29769198.json\n",
      "1 ../input/lux-ai-episodes/29901317.json\n",
      "0 ../input/lux-ai-episodes/29697871.json\n",
      "1 ../input/lux-ai-episodes/30124925.json\n",
      "1 ../input/lux-ai-episodes/30134936.json\n",
      "1 ../input/lux-ai-episodes/30436988.json\n",
      "1 ../input/lux-ai-episodes/30383985.json\n",
      "0 ../input/lux-ai-episodes/30436332.json\n",
      "0 ../input/lux-ai-episodes/29951068.json\n",
      "1 ../input/lux-ai-episodes/29697375.json\n",
      "1 ../input/lux-ai-episodes/29426142.json\n",
      "0 ../input/lux-ai-episodes/30268504.json\n",
      "1 ../input/lux-ai-episodes/29753090.json\n",
      "0 ../input/lux-ai-episodes/29695888.json\n",
      "1 ../input/lux-ai-episodes/29732193.json\n",
      "0 ../input/lux-ai-episodes/30073321.json\n",
      "1 ../input/lux-ai-episodes/26742638.json\n",
      "1 ../input/lux-ai-episodes/30448107.json\n",
      "0 ../input/lux-ai-episodes/29636809.json\n",
      "1 ../input/lux-ai-episodes/29910351.json\n",
      "0 ../input/lux-ai-episodes/30012393.json\n",
      "1 ../input/lux-ai-episodes/26795899.json\n",
      "0 ../input/lux-ai-episodes/29302107.json\n",
      "0 ../input/lux-ai-episodes/29991186.json\n",
      "1 ../input/lux-ai-episodes/30267552.json\n",
      "0 ../input/lux-ai-episodes/29732903.json\n",
      "1 ../input/lux-ai-episodes/30362911.json\n",
      "1 ../input/lux-ai-episodes/29696384.json\n",
      "0 ../input/lux-ai-episodes/29900823.json\n",
      "0 ../input/lux-ai-episodes/26826225.json\n",
      "0 ../input/lux-ai-episodes/29707607.json\n",
      "1 ../input/lux-ai-episodes/29704004.json\n",
      "0 ../input/lux-ai-episodes/30186129.json\n",
      "0 ../input/lux-ai-episodes/29811185.json\n",
      "0 ../input/lux-ai-episodes/29559381.json\n",
      "1 ../input/lux-ai-episodes/30278923.json\n",
      "0 ../input/lux-ai-episodes/29712394.json\n",
      "1 ../input/lux-ai-episodes/26893313.json\n",
      "1 ../input/lux-ai-episodes/29738211.json\n",
      "0 ../input/lux-ai-episodes/29698367.json\n",
      "1 ../input/lux-ai-episodes/29651842.json\n",
      "0 ../input/lux-ai-episodes/30436957.json\n",
      "1 ../input/lux-ai-episodes/28416242.json\n",
      "1 ../input/lux-ai-episodes/30257480.json\n",
      "1 ../input/lux-ai-episodes/29697122.json\n",
      "0 ../input/lux-ai-episodes/26905405.json\n",
      "1 ../input/lux-ai-episodes/29771034.json\n",
      "0 ../input/lux-ai-episodes/30052754.json\n",
      "0 ../input/lux-ai-episodes/28952416.json\n",
      "1 ../input/lux-ai-episodes/30155473.json\n",
      "0 ../input/lux-ai-episodes/29691178.json\n",
      "1 ../input/lux-ai-episodes/29960948.json\n",
      "1 ../input/lux-ai-episodes/29721605.json\n",
      "0 ../input/lux-ai-episodes/29701096.json\n",
      "0 ../input/lux-ai-episodes/30299243.json\n",
      "1 ../input/lux-ai-episodes/30330499.json\n",
      "0 ../input/lux-ai-episodes/29392880.json\n",
      "0 ../input/lux-ai-episodes/30216215.json\n",
      "0 ../input/lux-ai-episodes/29742122.json\n",
      "0 ../input/lux-ai-episodes/30247576.json\n",
      "0 ../input/lux-ai-episodes/30011716.json\n",
      "0 ../input/lux-ai-episodes/30022284.json\n",
      "1 ../input/lux-ai-episodes/29694397.json\n",
      "1 ../input/lux-ai-episodes/30436942.json\n",
      "0 ../input/lux-ai-episodes/30395984.json\n",
      "0 ../input/lux-ai-episodes/30436947.json\n",
      "1 ../input/lux-ai-episodes/29745607.json\n",
      "0 ../input/lux-ai-episodes/29851611.json\n",
      "1 ../input/lux-ai-episodes/29694477.json\n",
      "1 ../input/lux-ai-episodes/30115014.json\n",
      "0 ../input/lux-ai-episodes/29691670.json\n",
      "1 ../input/lux-ai-episodes/26693490.json\n",
      "1 ../input/lux-ai-episodes/29392879.json\n",
      "1 ../input/lux-ai-episodes/30042903.json\n",
      "0 ../input/lux-ai-episodes/30406631.json\n",
      "1 ../input/lux-ai-episodes/29713597.json\n",
      "0 ../input/lux-ai-episodes/28468853.json\n",
      "1 ../input/lux-ai-episodes/30155479.json\n",
      "0 ../input/lux-ai-episodes/30362917.json\n",
      "0 ../input/lux-ai-episodes/29079471.json\n",
      "1 ../input/lux-ai-episodes/29656356.json\n",
      "0 ../input/lux-ai-episodes/29691672.json\n",
      "1 ../input/lux-ai-episodes/30383979.json\n",
      "0 ../input/lux-ai-episodes/29429247.json\n",
      "0 ../input/lux-ai-episodes/30226319.json\n",
      "0 ../input/lux-ai-episodes/29699597.json\n",
      "0 ../input/lux-ai-episodes/30216720.json\n",
      "1 ../input/lux-ai-episodes/29726786.json\n",
      "0 ../input/lux-ai-episodes/29991741.json\n",
      "1 ../input/lux-ai-episodes/30124451.json\n",
      "0 ../input/lux-ai-episodes/29691503.json\n",
      "1 ../input/lux-ai-episodes/30469616.json\n",
      "1 ../input/lux-ai-episodes/29284416.json\n",
      "0 ../input/lux-ai-episodes/29821761.json\n",
      "1 ../input/lux-ai-episodes/29931130.json\n",
      "0 ../input/lux-ai-episodes/30083692.json\n",
      "0 ../input/lux-ai-episodes/29588210.json\n",
      "0 ../input/lux-ai-episodes/26791851.json\n",
      "1 ../input/lux-ai-episodes/29699104.json\n",
      "0 ../input/lux-ai-episodes/29347011.json\n",
      "1 ../input/lux-ai-episodes/30024877.json\n",
      "0 ../input/lux-ai-episodes/29690929.json\n",
      "0 ../input/lux-ai-episodes/29665793.json\n",
      "1 ../input/lux-ai-episodes/30165882.json\n",
      "1 ../input/lux-ai-episodes/29694644.json\n",
      "0 ../input/lux-ai-episodes/30362261.json\n",
      "0 ../input/lux-ai-episodes/30373590.json\n",
      "0 ../input/lux-ai-episodes/29831930.json\n",
      "1 ../input/lux-ai-episodes/30289261.json\n",
      "0 ../input/lux-ai-episodes/29410785.json\n",
      "0 ../input/lux-ai-episodes/29981641.json\n",
      "1 ../input/lux-ai-episodes/29891112.json\n",
      "0 ../input/lux-ai-episodes/29694209.json\n",
      "0 ../input/lux-ai-episodes/29695394.json\n",
      "0 ../input/lux-ai-episodes/30341571.json\n",
      "0 ../input/lux-ai-episodes/29891629.json\n",
      "1 ../input/lux-ai-episodes/29871802.json\n",
      "0 ../input/lux-ai-episodes/30083693.json\n",
      "1 ../input/lux-ai-episodes/30001937.json\n",
      "1 ../input/lux-ai-episodes/29881688.json\n",
      "0 ../input/lux-ai-episodes/30278969.json\n",
      "0 ../input/lux-ai-episodes/30446788.json\n",
      "0 ../input/lux-ai-episodes/30268496.json\n",
      "0 ../input/lux-ai-episodes/29699350.json\n",
      "1 ../input/lux-ai-episodes/30186162.json\n",
      "0 ../input/lux-ai-episodes/30196262.json\n",
      "0 ../input/lux-ai-episodes/26720475.json\n",
      "0 ../input/lux-ai-episodes/29821641.json\n",
      "1 ../input/lux-ai-episodes/30134939.json\n",
      "0 ../input/lux-ai-episodes/29275287.json\n",
      "0 ../input/lux-ai-episodes/29410822.json\n",
      "1 ../input/lux-ai-episodes/30237330.json\n",
      "0 ../input/lux-ai-episodes/29700588.json\n",
      "1 ../input/lux-ai-episodes/30063510.json\n",
      "0 ../input/lux-ai-episodes/29370052.json\n",
      "1 ../input/lux-ai-episodes/30236823.json\n",
      "0 ../input/lux-ai-episodes/29697621.json\n",
      "0 ../input/lux-ai-episodes/30396608.json\n",
      "1 ../input/lux-ai-episodes/29694897.json\n",
      "0 ../input/lux-ai-episodes/30468332.json\n",
      "0 ../input/lux-ai-episodes/30155480.json\n",
      "0 ../input/lux-ai-episodes/29696632.json\n",
      "1 ../input/lux-ai-episodes/30084251.json\n",
      "0 ../input/lux-ai-episodes/30480122.json\n",
      "1 ../input/lux-ai-episodes/29625986.json\n",
      "0 ../input/lux-ai-episodes/30320403.json\n",
      "0 ../input/lux-ai-episodes/30426178.json\n",
      "0 ../input/lux-ai-episodes/29971312.json\n",
      "1 ../input/lux-ai-episodes/30145226.json\n",
      "0 ../input/lux-ai-episodes/29695393.json\n",
      "0 ../input/lux-ai-episodes/29646507.json\n",
      "1 ../input/lux-ai-episodes/30073920.json\n",
      "0 ../input/lux-ai-episodes/29698118.json\n",
      "0 ../input/lux-ai-episodes/26777442.json\n",
      "1 ../input/lux-ai-episodes/30196270.json\n",
      "1 ../input/lux-ai-episodes/29751920.json\n",
      "1 ../input/lux-ai-episodes/29693897.json\n",
      "0 ../input/lux-ai-episodes/29692909.json\n",
      "1 ../input/lux-ai-episodes/29699598.json\n",
      "0 ../input/lux-ai-episodes/29699105.json\n",
      "0 ../input/lux-ai-episodes/29841269.json\n",
      "0 ../input/lux-ai-episodes/26694432.json\n",
      "0 ../input/lux-ai-episodes/29329003.json\n",
      "1 ../input/lux-ai-episodes/30248081.json\n",
      "0 ../input/lux-ai-episodes/29700339.json\n",
      "1 ../input/lux-ai-episodes/30362876.json\n",
      "0 ../input/lux-ai-episodes/30299788.json\n",
      "1 ../input/lux-ai-episodes/29483591.json\n",
      "0 ../input/lux-ai-episodes/30104757.json\n",
      "0 ../input/lux-ai-episodes/29931129.json\n",
      "1 ../input/lux-ai-episodes/30165886.json\n",
      "1 ../input/lux-ai-episodes/26870434.json\n",
      "1 ../input/lux-ai-episodes/29760653.json\n",
      "1 ../input/lux-ai-episodes/29762294.json\n",
      "0 ../input/lux-ai-episodes/29778055.json\n",
      "0 ../input/lux-ai-episodes/29708339.json\n",
      "0 ../input/lux-ai-episodes/30226859.json\n",
      "0 ../input/lux-ai-episodes/29699844.json\n",
      "1 ../input/lux-ai-episodes/30373584.json\n",
      "1 ../input/lux-ai-episodes/29841738.json\n",
      "1 ../input/lux-ai-episodes/29721591.json\n",
      "1 ../input/lux-ai-episodes/29722767.json\n",
      "1 ../input/lux-ai-episodes/30331073.json\n",
      "0 ../input/lux-ai-episodes/29698614.json\n",
      "0 ../input/lux-ai-episodes/29700585.json\n",
      "1 ../input/lux-ai-episodes/29802444.json\n",
      "0 ../input/lux-ai-episodes/26692184.json\n",
      "0 ../input/lux-ai-episodes/29698120.json\n",
      "1 ../input/lux-ai-episodes/29971249.json\n",
      "1 ../input/lux-ai-episodes/29981633.json\n",
      "0 ../input/lux-ai-episodes/30022857.json\n",
      "0 ../input/lux-ai-episodes/29693162.json\n",
      "1 ../input/lux-ai-episodes/30478848.json\n",
      "1 ../input/lux-ai-episodes/30124923.json\n",
      "0 ../input/lux-ai-episodes/29578640.json\n",
      "1 ../input/lux-ai-episodes/29941135.json\n",
      "1 ../input/lux-ai-episodes/29696633.json\n",
      "0 ../input/lux-ai-episodes/30447768.json\n",
      "0 ../input/lux-ai-episodes/29841686.json\n",
      "0 ../input/lux-ai-episodes/30406621.json\n",
      "0 ../input/lux-ai-episodes/29698860.json\n",
      "0 ../input/lux-ai-episodes/29812512.json\n",
      "1 ../input/lux-ai-episodes/29701084.json\n",
      "1 ../input/lux-ai-episodes/29821638.json\n",
      "0 ../input/lux-ai-episodes/29736298.json\n",
      "0 ../input/lux-ai-episodes/29792569.json\n",
      "1 ../input/lux-ai-episodes/29692169.json\n",
      "0 ../input/lux-ai-episodes/29311074.json\n",
      "0 ../input/lux-ai-episodes/29455892.json\n",
      "1 ../input/lux-ai-episodes/29695146.json\n",
      "0 ../input/lux-ai-episodes/30489419.json\n",
      "1 ../input/lux-ai-episodes/29700341.json\n",
      "1 ../input/lux-ai-episodes/30175942.json\n",
      "1 ../input/lux-ai-episodes/30165880.json\n",
      "1 ../input/lux-ai-episodes/30425558.json\n",
      "1 ../input/lux-ai-episodes/29691423.json\n",
      "0 ../input/lux-ai-episodes/30001301.json\n",
      "0 ../input/lux-ai-episodes/29716671.json\n",
      "0 ../input/lux-ai-episodes/29696878.json\n",
      "0 ../input/lux-ai-episodes/29699349.json\n",
      "0 ../input/lux-ai-episodes/29472017.json\n",
      "0 ../input/lux-ai-episodes/30145219.json\n",
      "0 ../input/lux-ai-episodes/30014407.json\n",
      "1 ../input/lux-ai-episodes/29991750.json\n",
      "1 ../input/lux-ai-episodes/29792205.json\n",
      "0 ../input/lux-ai-episodes/30415692.json\n",
      "1 ../input/lux-ai-episodes/30206053.json\n",
      "1 ../input/lux-ai-episodes/30094507.json\n",
      "0 ../input/lux-ai-episodes/30331047.json\n",
      "1 ../input/lux-ai-episodes/29484737.json\n",
      "0 ../input/lux-ai-episodes/29346999.json\n",
      "0 ../input/lux-ai-episodes/29891572.json\n",
      "0 ../input/lux-ai-episodes/29697125.json\n",
      "0 ../input/lux-ai-episodes/30124924.json\n",
      "1 ../input/lux-ai-episodes/29257409.json\n",
      "0 ../input/lux-ai-episodes/29691922.json\n",
      "0 ../input/lux-ai-episodes/28809722.json\n",
      "0 ../input/lux-ai-episodes/29704712.json\n",
      "1 ../input/lux-ai-episodes/29578394.json\n",
      "1 ../input/lux-ai-episodes/29861440.json\n",
      "0 ../input/lux-ai-episodes/29694643.json\n",
      "1 ../input/lux-ai-episodes/29693657.json\n",
      "1 ../input/lux-ai-episodes/30186123.json\n",
      "1 ../input/lux-ai-episodes/30104759.json\n",
      "1 ../input/lux-ai-episodes/30426214.json\n",
      "1 ../input/lux-ai-episodes/29971317.json\n",
      "0 ../input/lux-ai-episodes/26767236.json\n",
      "0 ../input/lux-ai-episodes/30206558.json\n",
      "1 ../input/lux-ai-episodes/30094504.json\n",
      "1 ../input/lux-ai-episodes/29697378.json\n",
      "1 ../input/lux-ai-episodes/28682329.json\n",
      "1 ../input/lux-ai-episodes/29746240.json\n",
      "0 ../input/lux-ai-episodes/29760392.json\n",
      "0 ../input/lux-ai-episodes/29347042.json\n",
      "1 ../input/lux-ai-episodes/29792681.json\n",
      "1 ../input/lux-ai-episodes/30289294.json\n",
      "0 ../input/lux-ai-episodes/29578373.json\n",
      "0 ../input/lux-ai-episodes/29871724.json\n",
      "1 ../input/lux-ai-episodes/29691424.json\n",
      "1 ../input/lux-ai-episodes/29738061.json\n",
      "1 ../input/lux-ai-episodes/30278438.json\n",
      "0 ../input/lux-ai-episodes/30373587.json\n",
      "0 ../input/lux-ai-episodes/29786865.json\n",
      "1 ../input/lux-ai-episodes/30319871.json\n",
      "0 ../input/lux-ai-episodes/29851175.json\n",
      "1 ../input/lux-ai-episodes/29692419.json\n",
      "0 ../input/lux-ai-episodes/30034836.json\n",
      "0 ../input/lux-ai-episodes/29695642.json\n",
      "0 ../input/lux-ai-episodes/30186124.json\n",
      "0 ../input/lux-ai-episodes/29546601.json\n",
      "0 ../input/lux-ai-episodes/29695147.json\n",
      "1 ../input/lux-ai-episodes/29694019.json\n",
      "1 ../input/lux-ai-episodes/29961012.json\n",
      "1 ../input/lux-ai-episodes/29694398.json\n",
      "0 ../input/lux-ai-episodes/30394558.json\n",
      "1 ../input/lux-ai-episodes/29920409.json\n",
      "1 ../input/lux-ai-episodes/29711946.json\n",
      "0 ../input/lux-ai-episodes/29701341.json\n",
      "1 ../input/lux-ai-episodes/29700831.json\n",
      "1 ../input/lux-ai-episodes/29465909.json\n",
      "0 ../input/lux-ai-episodes/30341542.json\n",
      "0 ../input/lux-ai-episodes/29981634.json\n",
      "1 ../input/lux-ai-episodes/30175454.json\n",
      "1 ../input/lux-ai-episodes/29782015.json\n",
      "1 ../input/lux-ai-episodes/29694152.json\n",
      "1 ../input/lux-ai-episodes/29960945.json\n",
      "1 ../input/lux-ai-episodes/29841739.json\n",
      "1 ../input/lux-ai-episodes/29692171.json\n",
      "0 ../input/lux-ai-episodes/29691855.json\n",
      "1 ../input/lux-ai-episodes/29656381.json\n",
      "0 ../input/lux-ai-episodes/29702005.json\n",
      "1 ../input/lux-ai-episodes/29716945.json\n",
      "0 ../input/lux-ai-episodes/30489792.json\n",
      "1 ../input/lux-ai-episodes/29765974.json\n",
      "0 ../input/lux-ai-episodes/30186121.json\n",
      "1 ../input/lux-ai-episodes/29726790.json\n",
      "1 ../input/lux-ai-episodes/29521534.json\n",
      "0 ../input/lux-ai-episodes/30352003.json\n",
      "1 ../input/lux-ai-episodes/29831465.json\n",
      "1 ../input/lux-ai-episodes/29549786.json\n",
      "1 ../input/lux-ai-episodes/29447153.json\n",
      "1 ../input/lux-ai-episodes/29692416.json\n",
      "1 ../input/lux-ai-episodes/29691177.json\n",
      "0 ../input/lux-ai-episodes/29930474.json\n",
      "1 ../input/lux-ai-episodes/29891113.json\n",
      "1 ../input/lux-ai-episodes/29696139.json\n",
      "0 ../input/lux-ai-episodes/29971418.json\n",
      "1 ../input/lux-ai-episodes/30206560.json\n",
      "1 ../input/lux-ai-episodes/29257410.json\n",
      "0 ../input/lux-ai-episodes/29696137.json\n",
      "obses: 237170 samples: 1460691\n"
     ]
    }
   ],
   "source": [
    "episode_dir = '../input/lux-ai-episodes'\n",
    "obses, samples = create_dataset_from_json(episode_dir)\n",
    "print('obses:', len(obses), 'samples:', len(samples))"
   ]
  },
  {
   "cell_type": "code",
   "execution_count": 6,
   "metadata": {},
   "outputs": [
    {
     "name": "stdout",
     "output_type": "stream",
     "text": [
      "north: 382547\n",
      "south: 373710\n",
      "west : 307699\n",
      "east : 304856\n",
      "bcity: 91879\n"
     ]
    }
   ],
   "source": [
    "labels = [sample[-1] for sample in samples]\n",
    "actions = ['north', 'south', 'west', 'east', 'bcity']\n",
    "for value, count in zip(*np.unique(labels, return_counts=True)):\n",
    "    print(f'{actions[value]:^5}: {count:>3}')"
   ]
  },
  {
   "cell_type": "code",
   "execution_count": 7,
   "metadata": {},
   "outputs": [],
   "source": [
    "# Input for Neural Network\n",
    "def make_input(obs, unit_id):\n",
    "    width, height = obs['width'], obs['height']\n",
    "    x_shift = (32 - width) // 2\n",
    "    y_shift = (32 - height) // 2\n",
    "    cities = {}\n",
    "    \n",
    "    b = np.zeros((20, 32, 32), dtype=np.float32)\n",
    "    \n",
    "    for update in obs['updates']:\n",
    "        strs = update.split(' ')\n",
    "        input_identifier = strs[0]\n",
    "        \n",
    "        if input_identifier == 'u':\n",
    "            x = int(strs[4]) + x_shift\n",
    "            y = int(strs[5]) + y_shift\n",
    "            wood = int(strs[7])\n",
    "            coal = int(strs[8])\n",
    "            uranium = int(strs[9])\n",
    "            if unit_id == strs[3]:\n",
    "                # Position and Cargo\n",
    "                b[:2, x, y] = (\n",
    "                    1,\n",
    "                    (wood + coal + uranium) / 100\n",
    "                )\n",
    "            else:\n",
    "                # Units\n",
    "                team = int(strs[2])\n",
    "                cooldown = float(strs[6])\n",
    "                idx = 2 + (team - obs['player']) % 2 * 3\n",
    "                b[idx:idx + 3, x, y] = (\n",
    "                    1,\n",
    "                    cooldown / 6,\n",
    "                    (wood + coal + uranium) / 100\n",
    "                )\n",
    "        elif input_identifier == 'ct':\n",
    "            # CityTiles\n",
    "            team = int(strs[1])\n",
    "            city_id = strs[2]\n",
    "            x = int(strs[3]) + x_shift\n",
    "            y = int(strs[4]) + y_shift\n",
    "            idx = 8 + (team - obs['player']) % 2 * 2\n",
    "            b[idx:idx + 2, x, y] = (\n",
    "                1,\n",
    "                cities[city_id]\n",
    "            )\n",
    "        elif input_identifier == 'r':\n",
    "            # Resources\n",
    "            r_type = strs[1]\n",
    "            x = int(strs[2]) + x_shift\n",
    "            y = int(strs[3]) + y_shift\n",
    "            amt = int(float(strs[4]))\n",
    "            b[{'wood': 12, 'coal': 13, 'uranium': 14}[r_type], x, y] = amt / 800\n",
    "        elif input_identifier == 'rp':\n",
    "            # Research Points\n",
    "            team = int(strs[1])\n",
    "            rp = int(strs[2])\n",
    "            b[15 + (team - obs['player']) % 2, :] = min(rp, 200) / 200\n",
    "        elif input_identifier == 'c':\n",
    "            # Cities\n",
    "            city_id = strs[2]\n",
    "            fuel = float(strs[3])\n",
    "            lightupkeep = float(strs[4])\n",
    "            cities[city_id] = min(fuel / lightupkeep, 10) / 10\n",
    "    \n",
    "    # Day/Night Cycle\n",
    "    b[17, :] = obs['step'] % 40 / 40\n",
    "    # Turns\n",
    "    b[18, :] = obs['step'] / 360\n",
    "    # Map Size\n",
    "    b[19, x_shift:32 - x_shift, y_shift:32 - y_shift] = 1\n",
    "\n",
    "    return b\n",
    "\n",
    "\n",
    "class LuxDataset(Dataset):\n",
    "    def __init__(self, obses, samples):\n",
    "        self.obses = obses\n",
    "        self.samples = samples\n",
    "        \n",
    "    def __len__(self):\n",
    "        return len(self.samples)\n",
    "\n",
    "    def __getitem__(self, idx):\n",
    "        obs_id, unit_id, action = self.samples[idx]\n",
    "        obs = self.obses[obs_id]\n",
    "        state = make_input(obs, unit_id)\n",
    "        \n",
    "        return state, action"
   ]
  },
  {
   "cell_type": "code",
   "execution_count": 8,
   "metadata": {},
   "outputs": [],
   "source": [
    "# Neural Network for Lux AI\n",
    "class BasicConv2d(nn.Module):\n",
    "    def __init__(self, input_dim, output_dim, kernel_size, bn):\n",
    "        super().__init__()\n",
    "        self.conv = nn.Conv2d(\n",
    "            input_dim, output_dim, \n",
    "            kernel_size=kernel_size, \n",
    "            padding=(kernel_size[0] // 2, kernel_size[1] // 2)\n",
    "        )\n",
    "        self.bn = nn.BatchNorm2d(output_dim) if bn else None\n",
    "\n",
    "    def forward(self, x):\n",
    "        h = self.conv(x)\n",
    "        h = self.bn(h) if self.bn is not None else h\n",
    "        return h\n",
    "\n",
    "\n",
    "class LuxNet(nn.Module):\n",
    "    def __init__(self):\n",
    "        super().__init__()\n",
    "        layers, filters = 12, 32\n",
    "        self.conv0 = BasicConv2d(20, filters, (3, 3), True)\n",
    "        self.blocks = nn.ModuleList([BasicConv2d(filters, filters, (3, 3), True) for _ in range(layers)])\n",
    "        self.head_p = nn.Linear(filters, 5, bias=False)\n",
    "\n",
    "    def forward(self, x):\n",
    "        h = F.relu_(self.conv0(x))\n",
    "        for block in self.blocks:\n",
    "            h = F.relu_(h + block(h))\n",
    "        h_head = (h * x[:,:1]).view(h.size(0), h.size(1), -1).sum(-1)\n",
    "        p = self.head_p(h_head)\n",
    "        return p"
   ]
  },
  {
   "cell_type": "code",
   "execution_count": 9,
   "metadata": {},
   "outputs": [],
   "source": [
    "def train_model(model, dataloaders_dict, criterion, optimizer, num_epochs):\n",
    "    best_acc = 0.0\n",
    "    \n",
    "    train_losses = []\n",
    "    val_losses = []\n",
    "    \n",
    "    train_accs = []\n",
    "    val_accs = []\n",
    "    lrs = []\n",
    "\n",
    "    lambda1 = lambda epoch: lambda_c ** epoch\n",
    "    scheduler = optim.lr_scheduler.LambdaLR(optimizer, lr_lambda=lambda1)\n",
    "\n",
    "    for epoch in range(num_epochs):\n",
    "        model.cuda()\n",
    "        \n",
    "        for phase in ['train', 'val']:\n",
    "            if phase == 'train':\n",
    "                model.train()\n",
    "            else:\n",
    "                model.eval()\n",
    "                \n",
    "            epoch_loss = 0.0\n",
    "            epoch_acc = 0\n",
    "            \n",
    "            dataloader = dataloaders_dict[phase]\n",
    "            for item in tqdm(dataloader, leave=False):\n",
    "                states = item[0].cuda().float()\n",
    "                actions = item[1].cuda().long()\n",
    "\n",
    "                optimizer.zero_grad()\n",
    "                with torch.set_grad_enabled(phase == 'train'):\n",
    "                    policy = model(states)\n",
    "                    loss = criterion(policy, actions)\n",
    "                    _, preds = torch.max(policy, 1)\n",
    "\n",
    "                    if phase == 'train':\n",
    "                        loss.backward()\n",
    "                        optimizer.step()\n",
    "\n",
    "                    epoch_loss += torch.mul(loss.item(), len(policy)).cpu()\n",
    "                    epoch_acc += torch.sum(preds == actions.data).cpu()\n",
    "\n",
    "            data_size = len(dataloader.dataset)\n",
    "            \n",
    "            epoch_loss = epoch_loss / data_size\n",
    "            epoch_acc = epoch_acc.double() / data_size\n",
    "            \n",
    "            if phase == 'train':\n",
    "                train_losses.append(epoch_loss)\n",
    "                train_accs.append(epoch_acc)\n",
    "            else:\n",
    "                val_losses.append(epoch_loss)\n",
    "                val_accs.append(epoch_acc)\n",
    "\n",
    "            print(f'Epoch {epoch + 1}/{num_epochs} |  LR: {scheduler.get_last_lr()} | {phase:^5} | Loss: {epoch_loss:.4f} | Acc: {epoch_acc:.4f}')\n",
    "        \n",
    "        if epoch_acc > best_acc:\n",
    "            traced = torch.jit.trace(model.cpu(), torch.rand(1, 20, 32, 32))\n",
    "            traced.save(f'./pretrained_models_with_large_data/model_{epoch_acc}.pth')\n",
    "            best_acc = epoch_acc\n",
    "        else:\n",
    "            scheduler.step()\n",
    "        lrs.append(optimizer.param_groups[0][\"lr\"])\n",
    "    \n",
    "    return train_losses, train_accs, val_losses, val_accs, lrs"
   ]
  },
  {
   "cell_type": "code",
   "execution_count": 19,
   "metadata": {},
   "outputs": [
    {
     "name": "stdout",
     "output_type": "stream",
     "text": [
      "----------------------------------------------------------------\n",
      "        Layer (type)               Output Shape         Param #\n",
      "================================================================\n",
      "            Conv2d-1           [-1, 32, 32, 32]           5,792\n",
      "       BatchNorm2d-2           [-1, 32, 32, 32]              64\n",
      "       BasicConv2d-3           [-1, 32, 32, 32]               0\n",
      "            Conv2d-4           [-1, 32, 32, 32]           9,248\n",
      "       BatchNorm2d-5           [-1, 32, 32, 32]              64\n",
      "       BasicConv2d-6           [-1, 32, 32, 32]               0\n",
      "            Conv2d-7           [-1, 32, 32, 32]           9,248\n",
      "       BatchNorm2d-8           [-1, 32, 32, 32]              64\n",
      "       BasicConv2d-9           [-1, 32, 32, 32]               0\n",
      "           Conv2d-10           [-1, 32, 32, 32]           9,248\n",
      "      BatchNorm2d-11           [-1, 32, 32, 32]              64\n",
      "      BasicConv2d-12           [-1, 32, 32, 32]               0\n",
      "           Conv2d-13           [-1, 32, 32, 32]           9,248\n",
      "      BatchNorm2d-14           [-1, 32, 32, 32]              64\n",
      "      BasicConv2d-15           [-1, 32, 32, 32]               0\n",
      "           Conv2d-16           [-1, 32, 32, 32]           9,248\n",
      "      BatchNorm2d-17           [-1, 32, 32, 32]              64\n",
      "      BasicConv2d-18           [-1, 32, 32, 32]               0\n",
      "           Conv2d-19           [-1, 32, 32, 32]           9,248\n",
      "      BatchNorm2d-20           [-1, 32, 32, 32]              64\n",
      "      BasicConv2d-21           [-1, 32, 32, 32]               0\n",
      "           Conv2d-22           [-1, 32, 32, 32]           9,248\n",
      "      BatchNorm2d-23           [-1, 32, 32, 32]              64\n",
      "      BasicConv2d-24           [-1, 32, 32, 32]               0\n",
      "           Conv2d-25           [-1, 32, 32, 32]           9,248\n",
      "      BatchNorm2d-26           [-1, 32, 32, 32]              64\n",
      "      BasicConv2d-27           [-1, 32, 32, 32]               0\n",
      "           Conv2d-28           [-1, 32, 32, 32]           9,248\n",
      "      BatchNorm2d-29           [-1, 32, 32, 32]              64\n",
      "      BasicConv2d-30           [-1, 32, 32, 32]               0\n",
      "           Conv2d-31           [-1, 32, 32, 32]           9,248\n",
      "      BatchNorm2d-32           [-1, 32, 32, 32]              64\n",
      "      BasicConv2d-33           [-1, 32, 32, 32]               0\n",
      "           Conv2d-34           [-1, 32, 32, 32]           9,248\n",
      "      BatchNorm2d-35           [-1, 32, 32, 32]              64\n",
      "      BasicConv2d-36           [-1, 32, 32, 32]               0\n",
      "           Conv2d-37           [-1, 32, 32, 32]           9,248\n",
      "      BatchNorm2d-38           [-1, 32, 32, 32]              64\n",
      "      BasicConv2d-39           [-1, 32, 32, 32]               0\n",
      "           Linear-40                    [-1, 5]             160\n",
      "================================================================\n",
      "Total params: 117,760\n",
      "Trainable params: 117,760\n",
      "Non-trainable params: 0\n",
      "----------------------------------------------------------------\n",
      "Input size (MB): 0.08\n",
      "Forward/backward pass size (MB): 9.75\n",
      "Params size (MB): 0.45\n",
      "Estimated Total Size (MB): 10.28\n",
      "----------------------------------------------------------------\n"
     ]
    }
   ],
   "source": [
    "device = torch.device(\"cuda\" if torch.cuda.is_available() else \"cpu\") \n",
    "model = LuxNet().to(device)\n",
    "summary(model, (20, 32, 32))\n",
    "train, val = train_test_split(samples, test_size=0.1, random_state=42, stratify=labels)\n",
    "batch_size = 64\n",
    "train_loader = DataLoader(\n",
    "    LuxDataset(obses, train), \n",
    "    batch_size=batch_size, \n",
    "    shuffle=True, \n",
    "    num_workers=2\n",
    ")\n",
    "val_loader = DataLoader(\n",
    "    LuxDataset(obses, val), \n",
    "    batch_size=batch_size, \n",
    "    shuffle=False, \n",
    "    num_workers=2\n",
    ")\n",
    "dataloaders_dict = {\"train\": train_loader, \"val\": val_loader}\n",
    "criterion = nn.CrossEntropyLoss()\n",
    "\n",
    "optimizers = { \n",
    "    'AdamW': optim.AdamW(params=model.parameters(),lr=learning_rate),\n",
    "    'SGD': optim.SGD(model.parameters(), lr=learning_rate, momentum=0.9)\n",
    "    }"
   ]
  },
  {
   "cell_type": "code",
   "execution_count": 11,
   "metadata": {},
   "outputs": [
    {
     "name": "stdout",
     "output_type": "stream",
     "text": [
      "Optimizer: SGD\n"
     ]
    },
    {
     "data": {
      "application/vnd.jupyter.widget-view+json": {
       "model_id": "00268e2ee0644a358f38f07bfdaa9c6e",
       "version_major": 2,
       "version_minor": 0
      },
      "text/plain": [
       "  0%|          | 0/20541 [00:00<?, ?it/s]"
      ]
     },
     "metadata": {},
     "output_type": "display_data"
    },
    {
     "name": "stdout",
     "output_type": "stream",
     "text": [
      "Epoch 1/100 |  LR: [0.1] | train | Loss: 1.2940 | Acc: 0.3876\n"
     ]
    },
    {
     "data": {
      "application/vnd.jupyter.widget-view+json": {
       "model_id": "093ede1750004e7eb34cf1e694847d83",
       "version_major": 2,
       "version_minor": 0
      },
      "text/plain": [
       "  0%|          | 0/2283 [00:00<?, ?it/s]"
      ]
     },
     "metadata": {},
     "output_type": "display_data"
    },
    {
     "name": "stdout",
     "output_type": "stream",
     "text": [
      "Epoch 1/100 |  LR: [0.1] |  val  | Loss: 1.0510 | Acc: 0.5602\n"
     ]
    },
    {
     "data": {
      "application/vnd.jupyter.widget-view+json": {
       "model_id": "713b48f8fcc048058df642429b737fd4",
       "version_major": 2,
       "version_minor": 0
      },
      "text/plain": [
       "  0%|          | 0/20541 [00:00<?, ?it/s]"
      ]
     },
     "metadata": {},
     "output_type": "display_data"
    },
    {
     "name": "stdout",
     "output_type": "stream",
     "text": [
      "Epoch 2/100 |  LR: [0.1] | train | Loss: 0.9258 | Acc: 0.6192\n"
     ]
    },
    {
     "data": {
      "application/vnd.jupyter.widget-view+json": {
       "model_id": "55fbb50a0ef644388de2e0bef2e99e0e",
       "version_major": 2,
       "version_minor": 0
      },
      "text/plain": [
       "  0%|          | 0/2283 [00:00<?, ?it/s]"
      ]
     },
     "metadata": {},
     "output_type": "display_data"
    },
    {
     "name": "stdout",
     "output_type": "stream",
     "text": [
      "Epoch 2/100 |  LR: [0.1] |  val  | Loss: 0.8634 | Acc: 0.6472\n"
     ]
    },
    {
     "data": {
      "application/vnd.jupyter.widget-view+json": {
       "model_id": "f7ca56cdcd85442a85082c3f3776b75b",
       "version_major": 2,
       "version_minor": 0
      },
      "text/plain": [
       "  0%|          | 0/20541 [00:00<?, ?it/s]"
      ]
     },
     "metadata": {},
     "output_type": "display_data"
    },
    {
     "name": "stdout",
     "output_type": "stream",
     "text": [
      "Epoch 3/100 |  LR: [0.1] | train | Loss: 0.8185 | Acc: 0.6671\n"
     ]
    },
    {
     "data": {
      "application/vnd.jupyter.widget-view+json": {
       "model_id": "6a04eec619e546568b0be9bd8d3c4416",
       "version_major": 2,
       "version_minor": 0
      },
      "text/plain": [
       "  0%|          | 0/2283 [00:00<?, ?it/s]"
      ]
     },
     "metadata": {},
     "output_type": "display_data"
    },
    {
     "name": "stdout",
     "output_type": "stream",
     "text": [
      "Epoch 3/100 |  LR: [0.1] |  val  | Loss: 0.8257 | Acc: 0.6660\n"
     ]
    },
    {
     "data": {
      "application/vnd.jupyter.widget-view+json": {
       "model_id": "591895517493476286a8254f9bccce27",
       "version_major": 2,
       "version_minor": 0
      },
      "text/plain": [
       "  0%|          | 0/20541 [00:00<?, ?it/s]"
      ]
     },
     "metadata": {},
     "output_type": "display_data"
    },
    {
     "name": "stdout",
     "output_type": "stream",
     "text": [
      "Epoch 4/100 |  LR: [0.1] | train | Loss: 0.7651 | Acc: 0.6902\n"
     ]
    },
    {
     "data": {
      "application/vnd.jupyter.widget-view+json": {
       "model_id": "61fc9ba9f64d45f69bfc0d499b576f63",
       "version_major": 2,
       "version_minor": 0
      },
      "text/plain": [
       "  0%|          | 0/2283 [00:00<?, ?it/s]"
      ]
     },
     "metadata": {},
     "output_type": "display_data"
    },
    {
     "name": "stdout",
     "output_type": "stream",
     "text": [
      "Epoch 4/100 |  LR: [0.1] |  val  | Loss: 0.7429 | Acc: 0.6965\n"
     ]
    },
    {
     "data": {
      "application/vnd.jupyter.widget-view+json": {
       "model_id": "2cb255fdd84b4938b5a262965fbcd0af",
       "version_major": 2,
       "version_minor": 0
      },
      "text/plain": [
       "  0%|          | 0/20541 [00:00<?, ?it/s]"
      ]
     },
     "metadata": {},
     "output_type": "display_data"
    },
    {
     "name": "stdout",
     "output_type": "stream",
     "text": [
      "Epoch 5/100 |  LR: [0.1] | train | Loss: 0.7311 | Acc: 0.7052\n"
     ]
    },
    {
     "data": {
      "application/vnd.jupyter.widget-view+json": {
       "model_id": "3dd0165d5cae4a87b663756e36935316",
       "version_major": 2,
       "version_minor": 0
      },
      "text/plain": [
       "  0%|          | 0/2283 [00:00<?, ?it/s]"
      ]
     },
     "metadata": {},
     "output_type": "display_data"
    },
    {
     "name": "stdout",
     "output_type": "stream",
     "text": [
      "Epoch 5/100 |  LR: [0.1] |  val  | Loss: 0.7161 | Acc: 0.7115\n"
     ]
    },
    {
     "data": {
      "application/vnd.jupyter.widget-view+json": {
       "model_id": "c7d32bacf18d42b8bdd37b7dd266a384",
       "version_major": 2,
       "version_minor": 0
      },
      "text/plain": [
       "  0%|          | 0/20541 [00:00<?, ?it/s]"
      ]
     },
     "metadata": {},
     "output_type": "display_data"
    },
    {
     "name": "stdout",
     "output_type": "stream",
     "text": [
      "Epoch 6/100 |  LR: [0.1] | train | Loss: 0.7064 | Acc: 0.7151\n"
     ]
    },
    {
     "data": {
      "application/vnd.jupyter.widget-view+json": {
       "model_id": "c7606ceb65c94fc5b898207d8d719dd8",
       "version_major": 2,
       "version_minor": 0
      },
      "text/plain": [
       "  0%|          | 0/2283 [00:00<?, ?it/s]"
      ]
     },
     "metadata": {},
     "output_type": "display_data"
    },
    {
     "name": "stdout",
     "output_type": "stream",
     "text": [
      "Epoch 6/100 |  LR: [0.1] |  val  | Loss: 0.6828 | Acc: 0.7232\n"
     ]
    },
    {
     "data": {
      "application/vnd.jupyter.widget-view+json": {
       "model_id": "39174f90695e400a95588d12e4840adf",
       "version_major": 2,
       "version_minor": 0
      },
      "text/plain": [
       "  0%|          | 0/20541 [00:00<?, ?it/s]"
      ]
     },
     "metadata": {},
     "output_type": "display_data"
    },
    {
     "name": "stdout",
     "output_type": "stream",
     "text": [
      "Epoch 7/100 |  LR: [0.1] | train | Loss: 0.6875 | Acc: 0.7227\n"
     ]
    },
    {
     "data": {
      "application/vnd.jupyter.widget-view+json": {
       "model_id": "32ea92f4cd004c91a068aaba6f1a1b72",
       "version_major": 2,
       "version_minor": 0
      },
      "text/plain": [
       "  0%|          | 0/2283 [00:00<?, ?it/s]"
      ]
     },
     "metadata": {},
     "output_type": "display_data"
    },
    {
     "name": "stdout",
     "output_type": "stream",
     "text": [
      "Epoch 7/100 |  LR: [0.1] |  val  | Loss: 0.6671 | Acc: 0.7292\n"
     ]
    },
    {
     "data": {
      "application/vnd.jupyter.widget-view+json": {
       "model_id": "88e83f25f99944418f529ba0a0578cd5",
       "version_major": 2,
       "version_minor": 0
      },
      "text/plain": [
       "  0%|          | 0/20541 [00:00<?, ?it/s]"
      ]
     },
     "metadata": {},
     "output_type": "display_data"
    },
    {
     "name": "stdout",
     "output_type": "stream",
     "text": [
      "Epoch 8/100 |  LR: [0.1] | train | Loss: 0.6728 | Acc: 0.7286\n"
     ]
    },
    {
     "data": {
      "application/vnd.jupyter.widget-view+json": {
       "model_id": "3a1aebd93c9645d18698a7d21da2b7bd",
       "version_major": 2,
       "version_minor": 0
      },
      "text/plain": [
       "  0%|          | 0/2283 [00:00<?, ?it/s]"
      ]
     },
     "metadata": {},
     "output_type": "display_data"
    },
    {
     "name": "stdout",
     "output_type": "stream",
     "text": [
      "Epoch 8/100 |  LR: [0.1] |  val  | Loss: 0.6713 | Acc: 0.7293\n"
     ]
    },
    {
     "data": {
      "application/vnd.jupyter.widget-view+json": {
       "model_id": "2a2cb02d16a0431bbb34d13a3c4e2695",
       "version_major": 2,
       "version_minor": 0
      },
      "text/plain": [
       "  0%|          | 0/20541 [00:00<?, ?it/s]"
      ]
     },
     "metadata": {},
     "output_type": "display_data"
    },
    {
     "name": "stdout",
     "output_type": "stream",
     "text": [
      "Epoch 9/100 |  LR: [0.1] | train | Loss: 0.6591 | Acc: 0.7340\n"
     ]
    },
    {
     "data": {
      "application/vnd.jupyter.widget-view+json": {
       "model_id": "039f8df6e56f47008f0c3da4f8c03e25",
       "version_major": 2,
       "version_minor": 0
      },
      "text/plain": [
       "  0%|          | 0/2283 [00:00<?, ?it/s]"
      ]
     },
     "metadata": {},
     "output_type": "display_data"
    },
    {
     "name": "stdout",
     "output_type": "stream",
     "text": [
      "Epoch 9/100 |  LR: [0.1] |  val  | Loss: 0.6577 | Acc: 0.7350\n"
     ]
    },
    {
     "data": {
      "application/vnd.jupyter.widget-view+json": {
       "model_id": "3d70fed4cb424c3c95f049f8d47ab6b4",
       "version_major": 2,
       "version_minor": 0
      },
      "text/plain": [
       "  0%|          | 0/20541 [00:00<?, ?it/s]"
      ]
     },
     "metadata": {},
     "output_type": "display_data"
    },
    {
     "name": "stdout",
     "output_type": "stream",
     "text": [
      "Epoch 10/100 |  LR: [0.1] | train | Loss: 0.6481 | Acc: 0.7385\n"
     ]
    },
    {
     "data": {
      "application/vnd.jupyter.widget-view+json": {
       "model_id": "89236c45827b434f9b01b4360fb93e54",
       "version_major": 2,
       "version_minor": 0
      },
      "text/plain": [
       "  0%|          | 0/2283 [00:00<?, ?it/s]"
      ]
     },
     "metadata": {},
     "output_type": "display_data"
    },
    {
     "name": "stdout",
     "output_type": "stream",
     "text": [
      "Epoch 10/100 |  LR: [0.1] |  val  | Loss: 0.6515 | Acc: 0.7375\n"
     ]
    },
    {
     "data": {
      "application/vnd.jupyter.widget-view+json": {
       "model_id": "e53a795ec1f142d784e02b5882ccedb8",
       "version_major": 2,
       "version_minor": 0
      },
      "text/plain": [
       "  0%|          | 0/20541 [00:00<?, ?it/s]"
      ]
     },
     "metadata": {},
     "output_type": "display_data"
    },
    {
     "name": "stdout",
     "output_type": "stream",
     "text": [
      "Epoch 11/100 |  LR: [0.1] | train | Loss: 0.6382 | Acc: 0.7426\n"
     ]
    },
    {
     "data": {
      "application/vnd.jupyter.widget-view+json": {
       "model_id": "a93833089d3b409d9041e055ebf69f01",
       "version_major": 2,
       "version_minor": 0
      },
      "text/plain": [
       "  0%|          | 0/2283 [00:00<?, ?it/s]"
      ]
     },
     "metadata": {},
     "output_type": "display_data"
    },
    {
     "name": "stdout",
     "output_type": "stream",
     "text": [
      "Epoch 11/100 |  LR: [0.1] |  val  | Loss: 0.6510 | Acc: 0.7377\n"
     ]
    },
    {
     "data": {
      "application/vnd.jupyter.widget-view+json": {
       "model_id": "b4bab7112e8f4a1985424ee092fc983f",
       "version_major": 2,
       "version_minor": 0
      },
      "text/plain": [
       "  0%|          | 0/20541 [00:00<?, ?it/s]"
      ]
     },
     "metadata": {},
     "output_type": "display_data"
    },
    {
     "name": "stdout",
     "output_type": "stream",
     "text": [
      "Epoch 12/100 |  LR: [0.1] | train | Loss: 0.6303 | Acc: 0.7455\n"
     ]
    },
    {
     "data": {
      "application/vnd.jupyter.widget-view+json": {
       "model_id": "8f6e15c7f37d43e98b289ebe8e44d893",
       "version_major": 2,
       "version_minor": 0
      },
      "text/plain": [
       "  0%|          | 0/2283 [00:00<?, ?it/s]"
      ]
     },
     "metadata": {},
     "output_type": "display_data"
    },
    {
     "name": "stdout",
     "output_type": "stream",
     "text": [
      "Epoch 12/100 |  LR: [0.1] |  val  | Loss: 0.6385 | Acc: 0.7399\n"
     ]
    },
    {
     "data": {
      "application/vnd.jupyter.widget-view+json": {
       "model_id": "693c85705e554ecba023bcc34c32d05f",
       "version_major": 2,
       "version_minor": 0
      },
      "text/plain": [
       "  0%|          | 0/20541 [00:00<?, ?it/s]"
      ]
     },
     "metadata": {},
     "output_type": "display_data"
    },
    {
     "name": "stdout",
     "output_type": "stream",
     "text": [
      "Epoch 13/100 |  LR: [0.1] | train | Loss: 0.6216 | Acc: 0.7494\n"
     ]
    },
    {
     "data": {
      "application/vnd.jupyter.widget-view+json": {
       "model_id": "d07dcb18b2244f138056d37f3172c80f",
       "version_major": 2,
       "version_minor": 0
      },
      "text/plain": [
       "  0%|          | 0/2283 [00:00<?, ?it/s]"
      ]
     },
     "metadata": {},
     "output_type": "display_data"
    },
    {
     "name": "stdout",
     "output_type": "stream",
     "text": [
      "Epoch 13/100 |  LR: [0.1] |  val  | Loss: 0.6166 | Acc: 0.7507\n"
     ]
    },
    {
     "data": {
      "application/vnd.jupyter.widget-view+json": {
       "model_id": "efa2253f85f54d49945debd6ebf5ead8",
       "version_major": 2,
       "version_minor": 0
      },
      "text/plain": [
       "  0%|          | 0/20541 [00:00<?, ?it/s]"
      ]
     },
     "metadata": {},
     "output_type": "display_data"
    },
    {
     "name": "stdout",
     "output_type": "stream",
     "text": [
      "Epoch 14/100 |  LR: [0.1] | train | Loss: 0.6153 | Acc: 0.7519\n"
     ]
    },
    {
     "data": {
      "application/vnd.jupyter.widget-view+json": {
       "model_id": "a6a696358dce4f5d8360143200b4bb9e",
       "version_major": 2,
       "version_minor": 0
      },
      "text/plain": [
       "  0%|          | 0/2283 [00:00<?, ?it/s]"
      ]
     },
     "metadata": {},
     "output_type": "display_data"
    },
    {
     "name": "stdout",
     "output_type": "stream",
     "text": [
      "Epoch 14/100 |  LR: [0.1] |  val  | Loss: 0.6254 | Acc: 0.7492\n"
     ]
    },
    {
     "data": {
      "application/vnd.jupyter.widget-view+json": {
       "model_id": "86c9ecbee9ee4265b4905e35f8ebb2b3",
       "version_major": 2,
       "version_minor": 0
      },
      "text/plain": [
       "  0%|          | 0/20541 [00:00<?, ?it/s]"
      ]
     },
     "metadata": {},
     "output_type": "display_data"
    },
    {
     "name": "stdout",
     "output_type": "stream",
     "text": [
      "Epoch 15/100 |  LR: [0.010000000000000002] | train | Loss: 0.5585 | Acc: 0.7755\n"
     ]
    },
    {
     "data": {
      "application/vnd.jupyter.widget-view+json": {
       "model_id": "11dc52f88fb64eecb65e9ec482745878",
       "version_major": 2,
       "version_minor": 0
      },
      "text/plain": [
       "  0%|          | 0/2283 [00:00<?, ?it/s]"
      ]
     },
     "metadata": {},
     "output_type": "display_data"
    },
    {
     "name": "stdout",
     "output_type": "stream",
     "text": [
      "Epoch 15/100 |  LR: [0.010000000000000002] |  val  | Loss: 0.5727 | Acc: 0.7694\n"
     ]
    },
    {
     "data": {
      "application/vnd.jupyter.widget-view+json": {
       "model_id": "4cc71e32826642239dab7e92a06ed3e1",
       "version_major": 2,
       "version_minor": 0
      },
      "text/plain": [
       "  0%|          | 0/20541 [00:00<?, ?it/s]"
      ]
     },
     "metadata": {},
     "output_type": "display_data"
    },
    {
     "name": "stdout",
     "output_type": "stream",
     "text": [
      "Epoch 16/100 |  LR: [0.010000000000000002] | train | Loss: 0.5530 | Acc: 0.7772\n"
     ]
    },
    {
     "data": {
      "application/vnd.jupyter.widget-view+json": {
       "model_id": "765ddafc75eb49cf86cfee45e7934b79",
       "version_major": 2,
       "version_minor": 0
      },
      "text/plain": [
       "  0%|          | 0/2283 [00:00<?, ?it/s]"
      ]
     },
     "metadata": {},
     "output_type": "display_data"
    },
    {
     "name": "stdout",
     "output_type": "stream",
     "text": [
      "Epoch 16/100 |  LR: [0.010000000000000002] |  val  | Loss: 0.5713 | Acc: 0.7696\n"
     ]
    },
    {
     "data": {
      "application/vnd.jupyter.widget-view+json": {
       "model_id": "41eacadb2b8840b0934fe1d0ad745df7",
       "version_major": 2,
       "version_minor": 0
      },
      "text/plain": [
       "  0%|          | 0/20541 [00:00<?, ?it/s]"
      ]
     },
     "metadata": {},
     "output_type": "display_data"
    },
    {
     "name": "stdout",
     "output_type": "stream",
     "text": [
      "Epoch 17/100 |  LR: [0.010000000000000002] | train | Loss: 0.5505 | Acc: 0.7786\n"
     ]
    },
    {
     "data": {
      "application/vnd.jupyter.widget-view+json": {
       "model_id": "ab9eb69885a446ffa784bf2ccae468cd",
       "version_major": 2,
       "version_minor": 0
      },
      "text/plain": [
       "  0%|          | 0/2283 [00:00<?, ?it/s]"
      ]
     },
     "metadata": {},
     "output_type": "display_data"
    },
    {
     "name": "stdout",
     "output_type": "stream",
     "text": [
      "Epoch 17/100 |  LR: [0.010000000000000002] |  val  | Loss: 0.5711 | Acc: 0.7695\n"
     ]
    },
    {
     "data": {
      "application/vnd.jupyter.widget-view+json": {
       "model_id": "ce06f32591aa4a7db90f3d907ba2943c",
       "version_major": 2,
       "version_minor": 0
      },
      "text/plain": [
       "  0%|          | 0/20541 [00:00<?, ?it/s]"
      ]
     },
     "metadata": {},
     "output_type": "display_data"
    },
    {
     "name": "stdout",
     "output_type": "stream",
     "text": [
      "Epoch 18/100 |  LR: [0.0010000000000000002] | train | Loss: 0.5435 | Acc: 0.7814\n"
     ]
    },
    {
     "data": {
      "application/vnd.jupyter.widget-view+json": {
       "model_id": "db93b4e7f12d4af29c03a79ec23b3d96",
       "version_major": 2,
       "version_minor": 0
      },
      "text/plain": [
       "  0%|          | 0/2283 [00:00<?, ?it/s]"
      ]
     },
     "metadata": {},
     "output_type": "display_data"
    },
    {
     "name": "stdout",
     "output_type": "stream",
     "text": [
      "Epoch 18/100 |  LR: [0.0010000000000000002] |  val  | Loss: 0.5658 | Acc: 0.7720\n"
     ]
    },
    {
     "data": {
      "application/vnd.jupyter.widget-view+json": {
       "model_id": "b3968152280b4624ae82234636441510",
       "version_major": 2,
       "version_minor": 0
      },
      "text/plain": [
       "  0%|          | 0/20541 [00:00<?, ?it/s]"
      ]
     },
     "metadata": {},
     "output_type": "display_data"
    },
    {
     "name": "stdout",
     "output_type": "stream",
     "text": [
      "Epoch 19/100 |  LR: [0.0010000000000000002] | train | Loss: 0.5426 | Acc: 0.7818\n"
     ]
    },
    {
     "data": {
      "application/vnd.jupyter.widget-view+json": {
       "model_id": "bd357a6255274e7abdf01f9dc63c70f6",
       "version_major": 2,
       "version_minor": 0
      },
      "text/plain": [
       "  0%|          | 0/2283 [00:00<?, ?it/s]"
      ]
     },
     "metadata": {},
     "output_type": "display_data"
    },
    {
     "name": "stdout",
     "output_type": "stream",
     "text": [
      "Epoch 19/100 |  LR: [0.0010000000000000002] |  val  | Loss: 0.5651 | Acc: 0.7728\n"
     ]
    },
    {
     "data": {
      "application/vnd.jupyter.widget-view+json": {
       "model_id": "69b7e8e92d6442bc8bc03919c234a2a8",
       "version_major": 2,
       "version_minor": 0
      },
      "text/plain": [
       "  0%|          | 0/20541 [00:00<?, ?it/s]"
      ]
     },
     "metadata": {},
     "output_type": "display_data"
    },
    {
     "name": "stdout",
     "output_type": "stream",
     "text": [
      "Epoch 20/100 |  LR: [0.0010000000000000002] | train | Loss: 0.5424 | Acc: 0.7819\n"
     ]
    },
    {
     "data": {
      "application/vnd.jupyter.widget-view+json": {
       "model_id": "e7bcd8ad1758430ba68b4bcf372936ce",
       "version_major": 2,
       "version_minor": 0
      },
      "text/plain": [
       "  0%|          | 0/2283 [00:00<?, ?it/s]"
      ]
     },
     "metadata": {},
     "output_type": "display_data"
    },
    {
     "name": "stdout",
     "output_type": "stream",
     "text": [
      "Epoch 20/100 |  LR: [0.0010000000000000002] |  val  | Loss: 0.5648 | Acc: 0.7724\n"
     ]
    },
    {
     "data": {
      "application/vnd.jupyter.widget-view+json": {
       "model_id": "ac7511876fc64b68afb2f1cb088a2aa6",
       "version_major": 2,
       "version_minor": 0
      },
      "text/plain": [
       "  0%|          | 0/20541 [00:00<?, ?it/s]"
      ]
     },
     "metadata": {},
     "output_type": "display_data"
    },
    {
     "name": "stdout",
     "output_type": "stream",
     "text": [
      "Epoch 21/100 |  LR: [0.00010000000000000003] | train | Loss: 0.5415 | Acc: 0.7823\n"
     ]
    },
    {
     "data": {
      "application/vnd.jupyter.widget-view+json": {
       "model_id": "552c55dc0e5a4f53874bb9ee5fb755df",
       "version_major": 2,
       "version_minor": 0
      },
      "text/plain": [
       "  0%|          | 0/2283 [00:00<?, ?it/s]"
      ]
     },
     "metadata": {},
     "output_type": "display_data"
    },
    {
     "name": "stdout",
     "output_type": "stream",
     "text": [
      "Epoch 21/100 |  LR: [0.00010000000000000003] |  val  | Loss: 0.5647 | Acc: 0.7728\n"
     ]
    },
    {
     "data": {
      "application/vnd.jupyter.widget-view+json": {
       "model_id": "7cacf172df7c4b32b2ff4ae1fe18ed26",
       "version_major": 2,
       "version_minor": 0
      },
      "text/plain": [
       "  0%|          | 0/20541 [00:00<?, ?it/s]"
      ]
     },
     "metadata": {},
     "output_type": "display_data"
    },
    {
     "name": "stdout",
     "output_type": "stream",
     "text": [
      "Epoch 22/100 |  LR: [0.00010000000000000003] | train | Loss: 0.5413 | Acc: 0.7826\n"
     ]
    },
    {
     "data": {
      "application/vnd.jupyter.widget-view+json": {
       "model_id": "4b9cb83f67554e2f94b273d3ed045ed5",
       "version_major": 2,
       "version_minor": 0
      },
      "text/plain": [
       "  0%|          | 0/2283 [00:00<?, ?it/s]"
      ]
     },
     "metadata": {},
     "output_type": "display_data"
    },
    {
     "name": "stdout",
     "output_type": "stream",
     "text": [
      "Epoch 22/100 |  LR: [0.00010000000000000003] |  val  | Loss: 0.5649 | Acc: 0.7725\n"
     ]
    },
    {
     "data": {
      "application/vnd.jupyter.widget-view+json": {
       "model_id": "ff7a815a3329437eb26aac80e3856854",
       "version_major": 2,
       "version_minor": 0
      },
      "text/plain": [
       "  0%|          | 0/20541 [00:00<?, ?it/s]"
      ]
     },
     "metadata": {},
     "output_type": "display_data"
    },
    {
     "name": "stdout",
     "output_type": "stream",
     "text": [
      "Epoch 23/100 |  LR: [1.0000000000000003e-05] | train | Loss: 0.5410 | Acc: 0.7826\n"
     ]
    },
    {
     "data": {
      "application/vnd.jupyter.widget-view+json": {
       "model_id": "27557ce9f44d40228bdfd0a434fd283c",
       "version_major": 2,
       "version_minor": 0
      },
      "text/plain": [
       "  0%|          | 0/2283 [00:00<?, ?it/s]"
      ]
     },
     "metadata": {},
     "output_type": "display_data"
    },
    {
     "name": "stdout",
     "output_type": "stream",
     "text": [
      "Epoch 23/100 |  LR: [1.0000000000000003e-05] |  val  | Loss: 0.5646 | Acc: 0.7726\n"
     ]
    },
    {
     "data": {
      "application/vnd.jupyter.widget-view+json": {
       "model_id": "7dd19103802f430fb597a9a9eaa53b07",
       "version_major": 2,
       "version_minor": 0
      },
      "text/plain": [
       "  0%|          | 0/20541 [00:00<?, ?it/s]"
      ]
     },
     "metadata": {},
     "output_type": "display_data"
    },
    {
     "name": "stdout",
     "output_type": "stream",
     "text": [
      "Epoch 24/100 |  LR: [1.0000000000000004e-06] | train | Loss: 0.5412 | Acc: 0.7825\n"
     ]
    },
    {
     "data": {
      "application/vnd.jupyter.widget-view+json": {
       "model_id": "b284b4e6de214a4490f4925951dc4f49",
       "version_major": 2,
       "version_minor": 0
      },
      "text/plain": [
       "  0%|          | 0/2283 [00:00<?, ?it/s]"
      ]
     },
     "metadata": {},
     "output_type": "display_data"
    },
    {
     "name": "stdout",
     "output_type": "stream",
     "text": [
      "Epoch 24/100 |  LR: [1.0000000000000004e-06] |  val  | Loss: 0.5652 | Acc: 0.7727\n"
     ]
    },
    {
     "data": {
      "application/vnd.jupyter.widget-view+json": {
       "model_id": "5ce42f4a11284259b53db8ec04050db4",
       "version_major": 2,
       "version_minor": 0
      },
      "text/plain": [
       "  0%|          | 0/20541 [00:00<?, ?it/s]"
      ]
     },
     "metadata": {},
     "output_type": "display_data"
    },
    {
     "name": "stdout",
     "output_type": "stream",
     "text": [
      "Epoch 25/100 |  LR: [1.0000000000000005e-07] | train | Loss: 0.5413 | Acc: 0.7825\n"
     ]
    },
    {
     "data": {
      "application/vnd.jupyter.widget-view+json": {
       "model_id": "066ddecb1baf40b4a4cb5c5dfdb35064",
       "version_major": 2,
       "version_minor": 0
      },
      "text/plain": [
       "  0%|          | 0/2283 [00:00<?, ?it/s]"
      ]
     },
     "metadata": {},
     "output_type": "display_data"
    },
    {
     "name": "stdout",
     "output_type": "stream",
     "text": [
      "Epoch 25/100 |  LR: [1.0000000000000005e-07] |  val  | Loss: 0.5648 | Acc: 0.7728\n"
     ]
    },
    {
     "data": {
      "application/vnd.jupyter.widget-view+json": {
       "model_id": "239636e0626a49a784b7418c4a2a98bf",
       "version_major": 2,
       "version_minor": 0
      },
      "text/plain": [
       "  0%|          | 0/20541 [00:00<?, ?it/s]"
      ]
     },
     "metadata": {},
     "output_type": "display_data"
    },
    {
     "name": "stdout",
     "output_type": "stream",
     "text": [
      "Epoch 26/100 |  LR: [1.0000000000000004e-08] | train | Loss: 0.5415 | Acc: 0.7825\n"
     ]
    },
    {
     "data": {
      "application/vnd.jupyter.widget-view+json": {
       "model_id": "af907b01a3b140f3b831e5939e92f06c",
       "version_major": 2,
       "version_minor": 0
      },
      "text/plain": [
       "  0%|          | 0/2283 [00:00<?, ?it/s]"
      ]
     },
     "metadata": {},
     "output_type": "display_data"
    },
    {
     "name": "stdout",
     "output_type": "stream",
     "text": [
      "Epoch 26/100 |  LR: [1.0000000000000004e-08] |  val  | Loss: 0.5643 | Acc: 0.7731\n"
     ]
    },
    {
     "data": {
      "application/vnd.jupyter.widget-view+json": {
       "model_id": "4018a30ff7294d5e90c470595163a616",
       "version_major": 2,
       "version_minor": 0
      },
      "text/plain": [
       "  0%|          | 0/20541 [00:00<?, ?it/s]"
      ]
     },
     "metadata": {},
     "output_type": "display_data"
    },
    {
     "name": "stdout",
     "output_type": "stream",
     "text": [
      "Epoch 27/100 |  LR: [1.0000000000000004e-08] | train | Loss: 0.5410 | Acc: 0.7823\n"
     ]
    },
    {
     "data": {
      "application/vnd.jupyter.widget-view+json": {
       "model_id": "d66c5d38cdf542398a07b55391d6f290",
       "version_major": 2,
       "version_minor": 0
      },
      "text/plain": [
       "  0%|          | 0/2283 [00:00<?, ?it/s]"
      ]
     },
     "metadata": {},
     "output_type": "display_data"
    },
    {
     "name": "stdout",
     "output_type": "stream",
     "text": [
      "Epoch 27/100 |  LR: [1.0000000000000004e-08] |  val  | Loss: 0.5648 | Acc: 0.7726\n"
     ]
    },
    {
     "data": {
      "application/vnd.jupyter.widget-view+json": {
       "model_id": "9c513ea64c784db589162fe20d2e1528",
       "version_major": 2,
       "version_minor": 0
      },
      "text/plain": [
       "  0%|          | 0/20541 [00:00<?, ?it/s]"
      ]
     },
     "metadata": {},
     "output_type": "display_data"
    },
    {
     "name": "stdout",
     "output_type": "stream",
     "text": [
      "Epoch 28/100 |  LR: [1.0000000000000005e-09] | train | Loss: 0.5413 | Acc: 0.7825\n"
     ]
    },
    {
     "data": {
      "application/vnd.jupyter.widget-view+json": {
       "model_id": "1e67d39a13544b4bb8786667c7470c57",
       "version_major": 2,
       "version_minor": 0
      },
      "text/plain": [
       "  0%|          | 0/2283 [00:00<?, ?it/s]"
      ]
     },
     "metadata": {},
     "output_type": "display_data"
    },
    {
     "name": "stdout",
     "output_type": "stream",
     "text": [
      "Epoch 28/100 |  LR: [1.0000000000000005e-09] |  val  | Loss: 0.5646 | Acc: 0.7728\n"
     ]
    },
    {
     "data": {
      "application/vnd.jupyter.widget-view+json": {
       "model_id": "c53d3740900f4106894e71963f86d333",
       "version_major": 2,
       "version_minor": 0
      },
      "text/plain": [
       "  0%|          | 0/20541 [00:00<?, ?it/s]"
      ]
     },
     "metadata": {},
     "output_type": "display_data"
    },
    {
     "name": "stdout",
     "output_type": "stream",
     "text": [
      "Epoch 29/100 |  LR: [1.0000000000000006e-10] | train | Loss: 0.5413 | Acc: 0.7822\n"
     ]
    },
    {
     "data": {
      "application/vnd.jupyter.widget-view+json": {
       "model_id": "806e5f32762e4287b568a2aad1ed6875",
       "version_major": 2,
       "version_minor": 0
      },
      "text/plain": [
       "  0%|          | 0/2283 [00:00<?, ?it/s]"
      ]
     },
     "metadata": {},
     "output_type": "display_data"
    },
    {
     "name": "stdout",
     "output_type": "stream",
     "text": [
      "Epoch 29/100 |  LR: [1.0000000000000006e-10] |  val  | Loss: 0.5652 | Acc: 0.7728\n"
     ]
    },
    {
     "data": {
      "application/vnd.jupyter.widget-view+json": {
       "model_id": "776f432229cd43b990f2f57ce46858f3",
       "version_major": 2,
       "version_minor": 0
      },
      "text/plain": [
       "  0%|          | 0/20541 [00:00<?, ?it/s]"
      ]
     },
     "metadata": {},
     "output_type": "display_data"
    },
    {
     "name": "stdout",
     "output_type": "stream",
     "text": [
      "Epoch 30/100 |  LR: [1.0000000000000006e-11] | train | Loss: 0.5413 | Acc: 0.7825\n"
     ]
    },
    {
     "data": {
      "application/vnd.jupyter.widget-view+json": {
       "model_id": "dc286a660ecf4c87848e4fa439497717",
       "version_major": 2,
       "version_minor": 0
      },
      "text/plain": [
       "  0%|          | 0/2283 [00:00<?, ?it/s]"
      ]
     },
     "metadata": {},
     "output_type": "display_data"
    },
    {
     "name": "stdout",
     "output_type": "stream",
     "text": [
      "Epoch 30/100 |  LR: [1.0000000000000006e-11] |  val  | Loss: 0.5651 | Acc: 0.7731\n"
     ]
    },
    {
     "data": {
      "application/vnd.jupyter.widget-view+json": {
       "model_id": "ee80146a50394e6baf73cc0f1a2df262",
       "version_major": 2,
       "version_minor": 0
      },
      "text/plain": [
       "  0%|          | 0/20541 [00:00<?, ?it/s]"
      ]
     },
     "metadata": {},
     "output_type": "display_data"
    },
    {
     "name": "stdout",
     "output_type": "stream",
     "text": [
      "Epoch 31/100 |  LR: [1.0000000000000006e-12] | train | Loss: 0.5412 | Acc: 0.7824\n"
     ]
    },
    {
     "data": {
      "application/vnd.jupyter.widget-view+json": {
       "model_id": "e6abf6915ac94b01b9d2ee7730faeb43",
       "version_major": 2,
       "version_minor": 0
      },
      "text/plain": [
       "  0%|          | 0/2283 [00:00<?, ?it/s]"
      ]
     },
     "metadata": {},
     "output_type": "display_data"
    },
    {
     "name": "stdout",
     "output_type": "stream",
     "text": [
      "Epoch 31/100 |  LR: [1.0000000000000006e-12] |  val  | Loss: 0.5646 | Acc: 0.7731\n"
     ]
    },
    {
     "data": {
      "application/vnd.jupyter.widget-view+json": {
       "model_id": "41977ea9cdf545d597d4682a0c02ad07",
       "version_major": 2,
       "version_minor": 0
      },
      "text/plain": [
       "  0%|          | 0/20541 [00:00<?, ?it/s]"
      ]
     },
     "metadata": {},
     "output_type": "display_data"
    },
    {
     "name": "stdout",
     "output_type": "stream",
     "text": [
      "Epoch 32/100 |  LR: [1.0000000000000007e-13] | train | Loss: 0.5411 | Acc: 0.7827\n"
     ]
    },
    {
     "data": {
      "application/vnd.jupyter.widget-view+json": {
       "model_id": "2ee7fddfb8814c3885f5698f9336064c",
       "version_major": 2,
       "version_minor": 0
      },
      "text/plain": [
       "  0%|          | 0/2283 [00:00<?, ?it/s]"
      ]
     },
     "metadata": {},
     "output_type": "display_data"
    },
    {
     "name": "stdout",
     "output_type": "stream",
     "text": [
      "Epoch 32/100 |  LR: [1.0000000000000007e-13] |  val  | Loss: 0.5644 | Acc: 0.7731\n"
     ]
    },
    {
     "data": {
      "application/vnd.jupyter.widget-view+json": {
       "model_id": "a6d0ffad0c4a4590a10e682f86a2bea0",
       "version_major": 2,
       "version_minor": 0
      },
      "text/plain": [
       "  0%|          | 0/20541 [00:00<?, ?it/s]"
      ]
     },
     "metadata": {},
     "output_type": "display_data"
    },
    {
     "name": "stdout",
     "output_type": "stream",
     "text": [
      "Epoch 33/100 |  LR: [1.0000000000000007e-13] | train | Loss: 0.5413 | Acc: 0.7824\n"
     ]
    },
    {
     "data": {
      "application/vnd.jupyter.widget-view+json": {
       "model_id": "9fc9d156799e430b9dc54e6104d7016a",
       "version_major": 2,
       "version_minor": 0
      },
      "text/plain": [
       "  0%|          | 0/2283 [00:00<?, ?it/s]"
      ]
     },
     "metadata": {},
     "output_type": "display_data"
    },
    {
     "name": "stdout",
     "output_type": "stream",
     "text": [
      "Epoch 33/100 |  LR: [1.0000000000000007e-13] |  val  | Loss: 0.5644 | Acc: 0.7730\n"
     ]
    },
    {
     "data": {
      "application/vnd.jupyter.widget-view+json": {
       "model_id": "70e67a12235e4ba3a10ee1aea66aff33",
       "version_major": 2,
       "version_minor": 0
      },
      "text/plain": [
       "  0%|          | 0/20541 [00:00<?, ?it/s]"
      ]
     },
     "metadata": {},
     "output_type": "display_data"
    },
    {
     "name": "stdout",
     "output_type": "stream",
     "text": [
      "Epoch 34/100 |  LR: [1.0000000000000008e-14] | train | Loss: 0.5412 | Acc: 0.7824\n"
     ]
    },
    {
     "data": {
      "application/vnd.jupyter.widget-view+json": {
       "model_id": "e6ab6d071ca641dd8b2dd8829c01aaf0",
       "version_major": 2,
       "version_minor": 0
      },
      "text/plain": [
       "  0%|          | 0/2283 [00:00<?, ?it/s]"
      ]
     },
     "metadata": {},
     "output_type": "display_data"
    },
    {
     "name": "stdout",
     "output_type": "stream",
     "text": [
      "Epoch 34/100 |  LR: [1.0000000000000008e-14] |  val  | Loss: 0.5649 | Acc: 0.7728\n"
     ]
    },
    {
     "data": {
      "application/vnd.jupyter.widget-view+json": {
       "model_id": "848c78e5f1b74d9385f37359ea6959d8",
       "version_major": 2,
       "version_minor": 0
      },
      "text/plain": [
       "  0%|          | 0/20541 [00:00<?, ?it/s]"
      ]
     },
     "metadata": {},
     "output_type": "display_data"
    },
    {
     "name": "stdout",
     "output_type": "stream",
     "text": [
      "Epoch 35/100 |  LR: [1.0000000000000009e-15] | train | Loss: 0.5414 | Acc: 0.7825\n"
     ]
    },
    {
     "data": {
      "application/vnd.jupyter.widget-view+json": {
       "model_id": "4d0c69a80ff04f05bf6f893efabe92d0",
       "version_major": 2,
       "version_minor": 0
      },
      "text/plain": [
       "  0%|          | 0/2283 [00:00<?, ?it/s]"
      ]
     },
     "metadata": {},
     "output_type": "display_data"
    },
    {
     "name": "stdout",
     "output_type": "stream",
     "text": [
      "Epoch 35/100 |  LR: [1.0000000000000009e-15] |  val  | Loss: 0.5647 | Acc: 0.7726\n"
     ]
    },
    {
     "data": {
      "application/vnd.jupyter.widget-view+json": {
       "model_id": "82e9893f4bdf467e84e5edefb0a7468f",
       "version_major": 2,
       "version_minor": 0
      },
      "text/plain": [
       "  0%|          | 0/20541 [00:00<?, ?it/s]"
      ]
     },
     "metadata": {},
     "output_type": "display_data"
    },
    {
     "name": "stdout",
     "output_type": "stream",
     "text": [
      "Epoch 36/100 |  LR: [1.000000000000001e-16] | train | Loss: 0.5411 | Acc: 0.7824\n"
     ]
    },
    {
     "data": {
      "application/vnd.jupyter.widget-view+json": {
       "model_id": "dce4ac06c04d41b7b06e8d0ec9973e30",
       "version_major": 2,
       "version_minor": 0
      },
      "text/plain": [
       "  0%|          | 0/2283 [00:00<?, ?it/s]"
      ]
     },
     "metadata": {},
     "output_type": "display_data"
    },
    {
     "name": "stdout",
     "output_type": "stream",
     "text": [
      "Epoch 36/100 |  LR: [1.000000000000001e-16] |  val  | Loss: 0.5644 | Acc: 0.7732\n"
     ]
    },
    {
     "data": {
      "application/vnd.jupyter.widget-view+json": {
       "model_id": "b669e111b2254682a3e422734b1dfe77",
       "version_major": 2,
       "version_minor": 0
      },
      "text/plain": [
       "  0%|          | 0/20541 [00:00<?, ?it/s]"
      ]
     },
     "metadata": {},
     "output_type": "display_data"
    },
    {
     "name": "stdout",
     "output_type": "stream",
     "text": [
      "Epoch 37/100 |  LR: [1.000000000000001e-16] | train | Loss: 0.5414 | Acc: 0.7823\n"
     ]
    },
    {
     "data": {
      "application/vnd.jupyter.widget-view+json": {
       "model_id": "01b3f154cf37476d843ef4d87cebee7c",
       "version_major": 2,
       "version_minor": 0
      },
      "text/plain": [
       "  0%|          | 0/2283 [00:00<?, ?it/s]"
      ]
     },
     "metadata": {},
     "output_type": "display_data"
    },
    {
     "name": "stdout",
     "output_type": "stream",
     "text": [
      "Epoch 37/100 |  LR: [1.000000000000001e-16] |  val  | Loss: 0.5648 | Acc: 0.7730\n"
     ]
    },
    {
     "data": {
      "application/vnd.jupyter.widget-view+json": {
       "model_id": "b73f5eea3f5b49f19693a2a54b541015",
       "version_major": 2,
       "version_minor": 0
      },
      "text/plain": [
       "  0%|          | 0/20541 [00:00<?, ?it/s]"
      ]
     },
     "metadata": {},
     "output_type": "display_data"
    },
    {
     "name": "stdout",
     "output_type": "stream",
     "text": [
      "Epoch 38/100 |  LR: [1.0000000000000008e-17] | train | Loss: 0.5412 | Acc: 0.7825\n"
     ]
    },
    {
     "data": {
      "application/vnd.jupyter.widget-view+json": {
       "model_id": "d9a28f4f311e49bf8f2153d078481ed3",
       "version_major": 2,
       "version_minor": 0
      },
      "text/plain": [
       "  0%|          | 0/2283 [00:00<?, ?it/s]"
      ]
     },
     "metadata": {},
     "output_type": "display_data"
    },
    {
     "name": "stdout",
     "output_type": "stream",
     "text": [
      "Epoch 38/100 |  LR: [1.0000000000000008e-17] |  val  | Loss: 0.5643 | Acc: 0.7731\n"
     ]
    },
    {
     "data": {
      "application/vnd.jupyter.widget-view+json": {
       "model_id": "f1b9372b9e904e43bbd94a88929bedae",
       "version_major": 2,
       "version_minor": 0
      },
      "text/plain": [
       "  0%|          | 0/20541 [00:00<?, ?it/s]"
      ]
     },
     "metadata": {},
     "output_type": "display_data"
    },
    {
     "name": "stdout",
     "output_type": "stream",
     "text": [
      "Epoch 39/100 |  LR: [1.000000000000001e-18] | train | Loss: 0.5412 | Acc: 0.7823\n"
     ]
    },
    {
     "data": {
      "application/vnd.jupyter.widget-view+json": {
       "model_id": "ddb5a19079b44f888b3b422547810c4c",
       "version_major": 2,
       "version_minor": 0
      },
      "text/plain": [
       "  0%|          | 0/2283 [00:00<?, ?it/s]"
      ]
     },
     "metadata": {},
     "output_type": "display_data"
    },
    {
     "name": "stdout",
     "output_type": "stream",
     "text": [
      "Epoch 39/100 |  LR: [1.000000000000001e-18] |  val  | Loss: 0.5645 | Acc: 0.7730\n"
     ]
    },
    {
     "data": {
      "application/vnd.jupyter.widget-view+json": {
       "model_id": "19a68c1490d54aa6a611f8e9a539db42",
       "version_major": 2,
       "version_minor": 0
      },
      "text/plain": [
       "  0%|          | 0/20541 [00:00<?, ?it/s]"
      ]
     },
     "metadata": {},
     "output_type": "display_data"
    },
    {
     "name": "stdout",
     "output_type": "stream",
     "text": [
      "Epoch 40/100 |  LR: [1.000000000000001e-19] | train | Loss: 0.5414 | Acc: 0.7823\n"
     ]
    },
    {
     "data": {
      "application/vnd.jupyter.widget-view+json": {
       "model_id": "8cc25daf1b9d4854a5bb561f98049d47",
       "version_major": 2,
       "version_minor": 0
      },
      "text/plain": [
       "  0%|          | 0/2283 [00:00<?, ?it/s]"
      ]
     },
     "metadata": {},
     "output_type": "display_data"
    },
    {
     "name": "stdout",
     "output_type": "stream",
     "text": [
      "Epoch 40/100 |  LR: [1.000000000000001e-19] |  val  | Loss: 0.5649 | Acc: 0.7724\n"
     ]
    },
    {
     "data": {
      "application/vnd.jupyter.widget-view+json": {
       "model_id": "5c20f8c32c3c459d9c4d7cd8c6c68f6e",
       "version_major": 2,
       "version_minor": 0
      },
      "text/plain": [
       "  0%|          | 0/20541 [00:00<?, ?it/s]"
      ]
     },
     "metadata": {},
     "output_type": "display_data"
    },
    {
     "name": "stdout",
     "output_type": "stream",
     "text": [
      "Epoch 41/100 |  LR: [1.0000000000000011e-20] | train | Loss: 0.5414 | Acc: 0.7824\n"
     ]
    },
    {
     "data": {
      "application/vnd.jupyter.widget-view+json": {
       "model_id": "489156fd347545179c57ef55fbfdb923",
       "version_major": 2,
       "version_minor": 0
      },
      "text/plain": [
       "  0%|          | 0/2283 [00:00<?, ?it/s]"
      ]
     },
     "metadata": {},
     "output_type": "display_data"
    },
    {
     "name": "stdout",
     "output_type": "stream",
     "text": [
      "Epoch 41/100 |  LR: [1.0000000000000011e-20] |  val  | Loss: 0.5654 | Acc: 0.7724\n"
     ]
    },
    {
     "data": {
      "application/vnd.jupyter.widget-view+json": {
       "model_id": "d453fccf80754bab9b6f6fb999f67791",
       "version_major": 2,
       "version_minor": 0
      },
      "text/plain": [
       "  0%|          | 0/20541 [00:00<?, ?it/s]"
      ]
     },
     "metadata": {},
     "output_type": "display_data"
    },
    {
     "name": "stdout",
     "output_type": "stream",
     "text": [
      "Epoch 42/100 |  LR: [1.0000000000000012e-21] | train | Loss: 0.5414 | Acc: 0.7824\n"
     ]
    },
    {
     "data": {
      "application/vnd.jupyter.widget-view+json": {
       "model_id": "ecaa29211f6f4cdd82dbd1e9fb9247b0",
       "version_major": 2,
       "version_minor": 0
      },
      "text/plain": [
       "  0%|          | 0/2283 [00:00<?, ?it/s]"
      ]
     },
     "metadata": {},
     "output_type": "display_data"
    },
    {
     "name": "stdout",
     "output_type": "stream",
     "text": [
      "Epoch 42/100 |  LR: [1.0000000000000012e-21] |  val  | Loss: 0.5647 | Acc: 0.7728\n"
     ]
    },
    {
     "data": {
      "application/vnd.jupyter.widget-view+json": {
       "model_id": "ad39ff8030414949abff412fc11aea9e",
       "version_major": 2,
       "version_minor": 0
      },
      "text/plain": [
       "  0%|          | 0/20541 [00:00<?, ?it/s]"
      ]
     },
     "metadata": {},
     "output_type": "display_data"
    },
    {
     "name": "stdout",
     "output_type": "stream",
     "text": [
      "Epoch 43/100 |  LR: [1.0000000000000012e-22] | train | Loss: 0.5412 | Acc: 0.7827\n"
     ]
    },
    {
     "data": {
      "application/vnd.jupyter.widget-view+json": {
       "model_id": "f191ffe185054a0fb3161c30ccf92c32",
       "version_major": 2,
       "version_minor": 0
      },
      "text/plain": [
       "  0%|          | 0/2283 [00:00<?, ?it/s]"
      ]
     },
     "metadata": {},
     "output_type": "display_data"
    },
    {
     "name": "stdout",
     "output_type": "stream",
     "text": [
      "Epoch 43/100 |  LR: [1.0000000000000012e-22] |  val  | Loss: 0.5644 | Acc: 0.7732\n"
     ]
    },
    {
     "data": {
      "application/vnd.jupyter.widget-view+json": {
       "model_id": "d99fe545094c41e0a248d5dd2c05249e",
       "version_major": 2,
       "version_minor": 0
      },
      "text/plain": [
       "  0%|          | 0/20541 [00:00<?, ?it/s]"
      ]
     },
     "metadata": {},
     "output_type": "display_data"
    },
    {
     "name": "stdout",
     "output_type": "stream",
     "text": [
      "Epoch 44/100 |  LR: [1.0000000000000012e-22] | train | Loss: 0.5411 | Acc: 0.7825\n"
     ]
    },
    {
     "data": {
      "application/vnd.jupyter.widget-view+json": {
       "model_id": "ba0def8f437843eb829a814d5ad5b648",
       "version_major": 2,
       "version_minor": 0
      },
      "text/plain": [
       "  0%|          | 0/2283 [00:00<?, ?it/s]"
      ]
     },
     "metadata": {},
     "output_type": "display_data"
    },
    {
     "name": "stdout",
     "output_type": "stream",
     "text": [
      "Epoch 44/100 |  LR: [1.0000000000000012e-22] |  val  | Loss: 0.5649 | Acc: 0.7729\n"
     ]
    },
    {
     "data": {
      "application/vnd.jupyter.widget-view+json": {
       "model_id": "67f3f01070e441ebbe854118fdc2356f",
       "version_major": 2,
       "version_minor": 0
      },
      "text/plain": [
       "  0%|          | 0/20541 [00:00<?, ?it/s]"
      ]
     },
     "metadata": {},
     "output_type": "display_data"
    },
    {
     "name": "stdout",
     "output_type": "stream",
     "text": [
      "Epoch 45/100 |  LR: [1.0000000000000013e-23] | train | Loss: 0.5412 | Acc: 0.7825\n"
     ]
    },
    {
     "data": {
      "application/vnd.jupyter.widget-view+json": {
       "model_id": "da02945ec9a1466a93c853d5a9843733",
       "version_major": 2,
       "version_minor": 0
      },
      "text/plain": [
       "  0%|          | 0/2283 [00:00<?, ?it/s]"
      ]
     },
     "metadata": {},
     "output_type": "display_data"
    },
    {
     "name": "stdout",
     "output_type": "stream",
     "text": [
      "Epoch 45/100 |  LR: [1.0000000000000013e-23] |  val  | Loss: 0.5644 | Acc: 0.7732\n"
     ]
    },
    {
     "data": {
      "application/vnd.jupyter.widget-view+json": {
       "model_id": "871fbf19c7134a1cb36fa758226c8f48",
       "version_major": 2,
       "version_minor": 0
      },
      "text/plain": [
       "  0%|          | 0/20541 [00:00<?, ?it/s]"
      ]
     },
     "metadata": {},
     "output_type": "display_data"
    },
    {
     "name": "stdout",
     "output_type": "stream",
     "text": [
      "Epoch 46/100 |  LR: [1.0000000000000014e-24] | train | Loss: 0.5410 | Acc: 0.7824\n"
     ]
    },
    {
     "data": {
      "application/vnd.jupyter.widget-view+json": {
       "model_id": "2dbce224a44e4714bc97601697f91912",
       "version_major": 2,
       "version_minor": 0
      },
      "text/plain": [
       "  0%|          | 0/2283 [00:00<?, ?it/s]"
      ]
     },
     "metadata": {},
     "output_type": "display_data"
    },
    {
     "name": "stdout",
     "output_type": "stream",
     "text": [
      "Epoch 46/100 |  LR: [1.0000000000000014e-24] |  val  | Loss: 0.5654 | Acc: 0.7728\n"
     ]
    },
    {
     "data": {
      "application/vnd.jupyter.widget-view+json": {
       "model_id": "118addd435b5465d9550db82220b4c90",
       "version_major": 2,
       "version_minor": 0
      },
      "text/plain": [
       "  0%|          | 0/20541 [00:00<?, ?it/s]"
      ]
     },
     "metadata": {},
     "output_type": "display_data"
    },
    {
     "name": "stdout",
     "output_type": "stream",
     "text": [
      "Epoch 47/100 |  LR: [1.0000000000000014e-25] | train | Loss: 0.5414 | Acc: 0.7825\n"
     ]
    },
    {
     "data": {
      "application/vnd.jupyter.widget-view+json": {
       "model_id": "76d668718c234ff98fc6797088fb434c",
       "version_major": 2,
       "version_minor": 0
      },
      "text/plain": [
       "  0%|          | 0/2283 [00:00<?, ?it/s]"
      ]
     },
     "metadata": {},
     "output_type": "display_data"
    },
    {
     "name": "stdout",
     "output_type": "stream",
     "text": [
      "Epoch 47/100 |  LR: [1.0000000000000014e-25] |  val  | Loss: 0.5645 | Acc: 0.7733\n"
     ]
    },
    {
     "data": {
      "application/vnd.jupyter.widget-view+json": {
       "model_id": "7a6c5c1f50764ae9b48a4f71675912cc",
       "version_major": 2,
       "version_minor": 0
      },
      "text/plain": [
       "  0%|          | 0/20541 [00:00<?, ?it/s]"
      ]
     },
     "metadata": {},
     "output_type": "display_data"
    },
    {
     "name": "stdout",
     "output_type": "stream",
     "text": [
      "Epoch 48/100 |  LR: [1.0000000000000014e-25] | train | Loss: 0.5412 | Acc: 0.7824\n"
     ]
    },
    {
     "data": {
      "application/vnd.jupyter.widget-view+json": {
       "model_id": "9f063362dd7345a39ee86e1b80ab0dc0",
       "version_major": 2,
       "version_minor": 0
      },
      "text/plain": [
       "  0%|          | 0/2283 [00:00<?, ?it/s]"
      ]
     },
     "metadata": {},
     "output_type": "display_data"
    },
    {
     "name": "stdout",
     "output_type": "stream",
     "text": [
      "Epoch 48/100 |  LR: [1.0000000000000014e-25] |  val  | Loss: 0.5649 | Acc: 0.7727\n"
     ]
    },
    {
     "data": {
      "application/vnd.jupyter.widget-view+json": {
       "model_id": "d891334065284b969276654bed126afc",
       "version_major": 2,
       "version_minor": 0
      },
      "text/plain": [
       "  0%|          | 0/20541 [00:00<?, ?it/s]"
      ]
     },
     "metadata": {},
     "output_type": "display_data"
    },
    {
     "name": "stdout",
     "output_type": "stream",
     "text": [
      "Epoch 49/100 |  LR: [1.0000000000000015e-26] | train | Loss: 0.5410 | Acc: 0.7825\n"
     ]
    },
    {
     "data": {
      "application/vnd.jupyter.widget-view+json": {
       "model_id": "8d59ce4f7e3149a6abb1ab3b4c3e4137",
       "version_major": 2,
       "version_minor": 0
      },
      "text/plain": [
       "  0%|          | 0/2283 [00:00<?, ?it/s]"
      ]
     },
     "metadata": {},
     "output_type": "display_data"
    },
    {
     "name": "stdout",
     "output_type": "stream",
     "text": [
      "Epoch 49/100 |  LR: [1.0000000000000015e-26] |  val  | Loss: 0.5648 | Acc: 0.7729\n"
     ]
    },
    {
     "data": {
      "application/vnd.jupyter.widget-view+json": {
       "model_id": "43e209de2ee248848dc18e5bce0005b7",
       "version_major": 2,
       "version_minor": 0
      },
      "text/plain": [
       "  0%|          | 0/20541 [00:00<?, ?it/s]"
      ]
     },
     "metadata": {},
     "output_type": "display_data"
    },
    {
     "name": "stdout",
     "output_type": "stream",
     "text": [
      "Epoch 50/100 |  LR: [1.0000000000000015e-27] | train | Loss: 0.5412 | Acc: 0.7824\n"
     ]
    },
    {
     "data": {
      "application/vnd.jupyter.widget-view+json": {
       "model_id": "3a007842535a4d4580cb929f59fd1b1f",
       "version_major": 2,
       "version_minor": 0
      },
      "text/plain": [
       "  0%|          | 0/2283 [00:00<?, ?it/s]"
      ]
     },
     "metadata": {},
     "output_type": "display_data"
    },
    {
     "name": "stdout",
     "output_type": "stream",
     "text": [
      "Epoch 50/100 |  LR: [1.0000000000000015e-27] |  val  | Loss: 0.5644 | Acc: 0.7731\n"
     ]
    },
    {
     "data": {
      "application/vnd.jupyter.widget-view+json": {
       "model_id": "a5fb489780fa4c5e918010cab4907797",
       "version_major": 2,
       "version_minor": 0
      },
      "text/plain": [
       "  0%|          | 0/20541 [00:00<?, ?it/s]"
      ]
     },
     "metadata": {},
     "output_type": "display_data"
    },
    {
     "name": "stdout",
     "output_type": "stream",
     "text": [
      "Epoch 51/100 |  LR: [1.0000000000000015e-28] | train | Loss: 0.5413 | Acc: 0.7824\n"
     ]
    },
    {
     "data": {
      "application/vnd.jupyter.widget-view+json": {
       "model_id": "8b578c890e34492fb3d8772e6b671b0b",
       "version_major": 2,
       "version_minor": 0
      },
      "text/plain": [
       "  0%|          | 0/2283 [00:00<?, ?it/s]"
      ]
     },
     "metadata": {},
     "output_type": "display_data"
    },
    {
     "name": "stdout",
     "output_type": "stream",
     "text": [
      "Epoch 51/100 |  LR: [1.0000000000000015e-28] |  val  | Loss: 0.5647 | Acc: 0.7730\n"
     ]
    },
    {
     "data": {
      "application/vnd.jupyter.widget-view+json": {
       "model_id": "90925ea612124cd69a0175754e758b45",
       "version_major": 2,
       "version_minor": 0
      },
      "text/plain": [
       "  0%|          | 0/20541 [00:00<?, ?it/s]"
      ]
     },
     "metadata": {},
     "output_type": "display_data"
    },
    {
     "name": "stdout",
     "output_type": "stream",
     "text": [
      "Epoch 52/100 |  LR: [1.0000000000000016e-29] | train | Loss: 0.5413 | Acc: 0.7825\n"
     ]
    },
    {
     "data": {
      "application/vnd.jupyter.widget-view+json": {
       "model_id": "0b75e9a6b6384a2eb55f315d30f8001a",
       "version_major": 2,
       "version_minor": 0
      },
      "text/plain": [
       "  0%|          | 0/2283 [00:00<?, ?it/s]"
      ]
     },
     "metadata": {},
     "output_type": "display_data"
    },
    {
     "name": "stdout",
     "output_type": "stream",
     "text": [
      "Epoch 52/100 |  LR: [1.0000000000000016e-29] |  val  | Loss: 0.5643 | Acc: 0.7727\n"
     ]
    },
    {
     "data": {
      "application/vnd.jupyter.widget-view+json": {
       "model_id": "1eb572a4837640e29b49cd8d02266f26",
       "version_major": 2,
       "version_minor": 0
      },
      "text/plain": [
       "  0%|          | 0/20541 [00:00<?, ?it/s]"
      ]
     },
     "metadata": {},
     "output_type": "display_data"
    },
    {
     "name": "stdout",
     "output_type": "stream",
     "text": [
      "Epoch 53/100 |  LR: [1.0000000000000017e-30] | train | Loss: 0.5413 | Acc: 0.7826\n"
     ]
    },
    {
     "data": {
      "application/vnd.jupyter.widget-view+json": {
       "model_id": "4a574b5b956642cf88eeb7f443aa9b65",
       "version_major": 2,
       "version_minor": 0
      },
      "text/plain": [
       "  0%|          | 0/2283 [00:00<?, ?it/s]"
      ]
     },
     "metadata": {},
     "output_type": "display_data"
    },
    {
     "name": "stdout",
     "output_type": "stream",
     "text": [
      "Epoch 53/100 |  LR: [1.0000000000000017e-30] |  val  | Loss: 0.5645 | Acc: 0.7728\n"
     ]
    },
    {
     "data": {
      "application/vnd.jupyter.widget-view+json": {
       "model_id": "1fcf26b2d7234d6ca1c7d7a55fb105a1",
       "version_major": 2,
       "version_minor": 0
      },
      "text/plain": [
       "  0%|          | 0/20541 [00:00<?, ?it/s]"
      ]
     },
     "metadata": {},
     "output_type": "display_data"
    },
    {
     "name": "stdout",
     "output_type": "stream",
     "text": [
      "Epoch 54/100 |  LR: [1.0000000000000016e-31] | train | Loss: 0.5413 | Acc: 0.7823\n"
     ]
    },
    {
     "data": {
      "application/vnd.jupyter.widget-view+json": {
       "model_id": "7c55463d68f44daf875b26eee69f58cf",
       "version_major": 2,
       "version_minor": 0
      },
      "text/plain": [
       "  0%|          | 0/2283 [00:00<?, ?it/s]"
      ]
     },
     "metadata": {},
     "output_type": "display_data"
    },
    {
     "name": "stdout",
     "output_type": "stream",
     "text": [
      "Epoch 54/100 |  LR: [1.0000000000000016e-31] |  val  | Loss: 0.5650 | Acc: 0.7728\n"
     ]
    },
    {
     "data": {
      "application/vnd.jupyter.widget-view+json": {
       "model_id": "b056b34f7cb54654a925268516120110",
       "version_major": 2,
       "version_minor": 0
      },
      "text/plain": [
       "  0%|          | 0/20541 [00:00<?, ?it/s]"
      ]
     },
     "metadata": {},
     "output_type": "display_data"
    },
    {
     "name": "stdout",
     "output_type": "stream",
     "text": [
      "Epoch 55/100 |  LR: [1.0000000000000017e-32] | train | Loss: 0.5413 | Acc: 0.7823\n"
     ]
    },
    {
     "data": {
      "application/vnd.jupyter.widget-view+json": {
       "model_id": "b038726550bd4d14b76ffe18cd506b48",
       "version_major": 2,
       "version_minor": 0
      },
      "text/plain": [
       "  0%|          | 0/2283 [00:00<?, ?it/s]"
      ]
     },
     "metadata": {},
     "output_type": "display_data"
    },
    {
     "name": "stdout",
     "output_type": "stream",
     "text": [
      "Epoch 55/100 |  LR: [1.0000000000000017e-32] |  val  | Loss: 0.5650 | Acc: 0.7728\n"
     ]
    },
    {
     "data": {
      "application/vnd.jupyter.widget-view+json": {
       "model_id": "0aa45313f0b4409887f82abab7f52914",
       "version_major": 2,
       "version_minor": 0
      },
      "text/plain": [
       "  0%|          | 0/20541 [00:00<?, ?it/s]"
      ]
     },
     "metadata": {},
     "output_type": "display_data"
    },
    {
     "name": "stdout",
     "output_type": "stream",
     "text": [
      "Epoch 56/100 |  LR: [1.000000000000002e-33] | train | Loss: 0.5412 | Acc: 0.7825\n"
     ]
    },
    {
     "data": {
      "application/vnd.jupyter.widget-view+json": {
       "model_id": "cb7c71d2104c49b381827f6fcf8b2af8",
       "version_major": 2,
       "version_minor": 0
      },
      "text/plain": [
       "  0%|          | 0/2283 [00:00<?, ?it/s]"
      ]
     },
     "metadata": {},
     "output_type": "display_data"
    },
    {
     "name": "stdout",
     "output_type": "stream",
     "text": [
      "Epoch 56/100 |  LR: [1.000000000000002e-33] |  val  | Loss: 0.5647 | Acc: 0.7728\n"
     ]
    },
    {
     "data": {
      "application/vnd.jupyter.widget-view+json": {
       "model_id": "895bdd2fcad446f6b853eb7200dc5ab5",
       "version_major": 2,
       "version_minor": 0
      },
      "text/plain": [
       "  0%|          | 0/20541 [00:00<?, ?it/s]"
      ]
     },
     "metadata": {},
     "output_type": "display_data"
    },
    {
     "name": "stdout",
     "output_type": "stream",
     "text": [
      "Epoch 57/100 |  LR: [1.0000000000000019e-34] | train | Loss: 0.5413 | Acc: 0.7825\n"
     ]
    },
    {
     "data": {
      "application/vnd.jupyter.widget-view+json": {
       "model_id": "a53c1b906b4f4e90863783869459d864",
       "version_major": 2,
       "version_minor": 0
      },
      "text/plain": [
       "  0%|          | 0/2283 [00:00<?, ?it/s]"
      ]
     },
     "metadata": {},
     "output_type": "display_data"
    },
    {
     "name": "stdout",
     "output_type": "stream",
     "text": [
      "Epoch 57/100 |  LR: [1.0000000000000019e-34] |  val  | Loss: 0.5651 | Acc: 0.7728\n"
     ]
    },
    {
     "data": {
      "application/vnd.jupyter.widget-view+json": {
       "model_id": "5aa7e2624d3648cb848c6d11391b22d8",
       "version_major": 2,
       "version_minor": 0
      },
      "text/plain": [
       "  0%|          | 0/20541 [00:00<?, ?it/s]"
      ]
     },
     "metadata": {},
     "output_type": "display_data"
    },
    {
     "name": "stdout",
     "output_type": "stream",
     "text": [
      "Epoch 58/100 |  LR: [1.0000000000000019e-35] | train | Loss: 0.5413 | Acc: 0.7825\n"
     ]
    },
    {
     "data": {
      "application/vnd.jupyter.widget-view+json": {
       "model_id": "2041f610a6ff4963bf5e6ff40ac0de16",
       "version_major": 2,
       "version_minor": 0
      },
      "text/plain": [
       "  0%|          | 0/2283 [00:00<?, ?it/s]"
      ]
     },
     "metadata": {},
     "output_type": "display_data"
    },
    {
     "name": "stdout",
     "output_type": "stream",
     "text": [
      "Epoch 58/100 |  LR: [1.0000000000000019e-35] |  val  | Loss: 0.5647 | Acc: 0.7728\n"
     ]
    },
    {
     "data": {
      "application/vnd.jupyter.widget-view+json": {
       "model_id": "625d4341e0834c3cb633277521f87909",
       "version_major": 2,
       "version_minor": 0
      },
      "text/plain": [
       "  0%|          | 0/20541 [00:00<?, ?it/s]"
      ]
     },
     "metadata": {},
     "output_type": "display_data"
    },
    {
     "name": "stdout",
     "output_type": "stream",
     "text": [
      "Epoch 59/100 |  LR: [1.000000000000002e-36] | train | Loss: 0.5413 | Acc: 0.7825\n"
     ]
    },
    {
     "data": {
      "application/vnd.jupyter.widget-view+json": {
       "model_id": "0c0e604266404239b8effef57c8d1c26",
       "version_major": 2,
       "version_minor": 0
      },
      "text/plain": [
       "  0%|          | 0/2283 [00:00<?, ?it/s]"
      ]
     },
     "metadata": {},
     "output_type": "display_data"
    },
    {
     "name": "stdout",
     "output_type": "stream",
     "text": [
      "Epoch 59/100 |  LR: [1.000000000000002e-36] |  val  | Loss: 0.5652 | Acc: 0.7721\n"
     ]
    },
    {
     "data": {
      "application/vnd.jupyter.widget-view+json": {
       "model_id": "b712fa55874f48a788bc2179e8b7a618",
       "version_major": 2,
       "version_minor": 0
      },
      "text/plain": [
       "  0%|          | 0/20541 [00:00<?, ?it/s]"
      ]
     },
     "metadata": {},
     "output_type": "display_data"
    },
    {
     "name": "stdout",
     "output_type": "stream",
     "text": [
      "Epoch 60/100 |  LR: [1.000000000000002e-37] | train | Loss: 0.5412 | Acc: 0.7824\n"
     ]
    },
    {
     "data": {
      "application/vnd.jupyter.widget-view+json": {
       "model_id": "655f9b53f1f14870ad4f753e3d44a353",
       "version_major": 2,
       "version_minor": 0
      },
      "text/plain": [
       "  0%|          | 0/2283 [00:00<?, ?it/s]"
      ]
     },
     "metadata": {},
     "output_type": "display_data"
    },
    {
     "name": "stdout",
     "output_type": "stream",
     "text": [
      "Epoch 60/100 |  LR: [1.000000000000002e-37] |  val  | Loss: 0.5647 | Acc: 0.7728\n"
     ]
    },
    {
     "data": {
      "application/vnd.jupyter.widget-view+json": {
       "model_id": "c2614179e2a244de8f0d2906fbf80283",
       "version_major": 2,
       "version_minor": 0
      },
      "text/plain": [
       "  0%|          | 0/20541 [00:00<?, ?it/s]"
      ]
     },
     "metadata": {},
     "output_type": "display_data"
    },
    {
     "name": "stdout",
     "output_type": "stream",
     "text": [
      "Epoch 61/100 |  LR: [1.0000000000000022e-38] | train | Loss: 0.5412 | Acc: 0.7825\n"
     ]
    },
    {
     "data": {
      "application/vnd.jupyter.widget-view+json": {
       "model_id": "93fa4205609744df93b82d899716f8ab",
       "version_major": 2,
       "version_minor": 0
      },
      "text/plain": [
       "  0%|          | 0/2283 [00:00<?, ?it/s]"
      ]
     },
     "metadata": {},
     "output_type": "display_data"
    },
    {
     "name": "stdout",
     "output_type": "stream",
     "text": [
      "Epoch 61/100 |  LR: [1.0000000000000022e-38] |  val  | Loss: 0.5649 | Acc: 0.7730\n"
     ]
    },
    {
     "data": {
      "application/vnd.jupyter.widget-view+json": {
       "model_id": "f202a200307446e4ab58015b493a5ab4",
       "version_major": 2,
       "version_minor": 0
      },
      "text/plain": [
       "  0%|          | 0/20541 [00:00<?, ?it/s]"
      ]
     },
     "metadata": {},
     "output_type": "display_data"
    },
    {
     "name": "stdout",
     "output_type": "stream",
     "text": [
      "Epoch 62/100 |  LR: [1.000000000000002e-39] | train | Loss: 0.5414 | Acc: 0.7824\n"
     ]
    },
    {
     "data": {
      "application/vnd.jupyter.widget-view+json": {
       "model_id": "ab8825af05b24f16856c3a22bbce718f",
       "version_major": 2,
       "version_minor": 0
      },
      "text/plain": [
       "  0%|          | 0/2283 [00:00<?, ?it/s]"
      ]
     },
     "metadata": {},
     "output_type": "display_data"
    },
    {
     "name": "stdout",
     "output_type": "stream",
     "text": [
      "Epoch 62/100 |  LR: [1.000000000000002e-39] |  val  | Loss: 0.5647 | Acc: 0.7727\n"
     ]
    },
    {
     "data": {
      "application/vnd.jupyter.widget-view+json": {
       "model_id": "8012115bb61a49a1a251a2d3fde85730",
       "version_major": 2,
       "version_minor": 0
      },
      "text/plain": [
       "  0%|          | 0/20541 [00:00<?, ?it/s]"
      ]
     },
     "metadata": {},
     "output_type": "display_data"
    },
    {
     "name": "stdout",
     "output_type": "stream",
     "text": [
      "Epoch 63/100 |  LR: [1.0000000000000022e-40] | train | Loss: 0.5412 | Acc: 0.7825\n"
     ]
    },
    {
     "data": {
      "application/vnd.jupyter.widget-view+json": {
       "model_id": "205eaced540241fa8e15893bb0dad5fc",
       "version_major": 2,
       "version_minor": 0
      },
      "text/plain": [
       "  0%|          | 0/2283 [00:00<?, ?it/s]"
      ]
     },
     "metadata": {},
     "output_type": "display_data"
    },
    {
     "name": "stdout",
     "output_type": "stream",
     "text": [
      "Epoch 63/100 |  LR: [1.0000000000000022e-40] |  val  | Loss: 0.5655 | Acc: 0.7727\n"
     ]
    },
    {
     "data": {
      "application/vnd.jupyter.widget-view+json": {
       "model_id": "f71661709b024d2188057f0156e136d1",
       "version_major": 2,
       "version_minor": 0
      },
      "text/plain": [
       "  0%|          | 0/20541 [00:00<?, ?it/s]"
      ]
     },
     "metadata": {},
     "output_type": "display_data"
    },
    {
     "name": "stdout",
     "output_type": "stream",
     "text": [
      "Epoch 64/100 |  LR: [1.0000000000000022e-41] | train | Loss: 0.5415 | Acc: 0.7821\n"
     ]
    },
    {
     "data": {
      "application/vnd.jupyter.widget-view+json": {
       "model_id": "33663b912c90413ba3b4f35b3bab2828",
       "version_major": 2,
       "version_minor": 0
      },
      "text/plain": [
       "  0%|          | 0/2283 [00:00<?, ?it/s]"
      ]
     },
     "metadata": {},
     "output_type": "display_data"
    },
    {
     "name": "stdout",
     "output_type": "stream",
     "text": [
      "Epoch 64/100 |  LR: [1.0000000000000022e-41] |  val  | Loss: 0.5644 | Acc: 0.7732\n"
     ]
    },
    {
     "data": {
      "application/vnd.jupyter.widget-view+json": {
       "model_id": "d3419f48345a46c3a103107ddd8aa6a5",
       "version_major": 2,
       "version_minor": 0
      },
      "text/plain": [
       "  0%|          | 0/20541 [00:00<?, ?it/s]"
      ]
     },
     "metadata": {},
     "output_type": "display_data"
    },
    {
     "name": "stdout",
     "output_type": "stream",
     "text": [
      "Epoch 65/100 |  LR: [1.0000000000000024e-42] | train | Loss: 0.5413 | Acc: 0.7822\n"
     ]
    },
    {
     "data": {
      "application/vnd.jupyter.widget-view+json": {
       "model_id": "e9765362846740ef873bd380bf249d55",
       "version_major": 2,
       "version_minor": 0
      },
      "text/plain": [
       "  0%|          | 0/2283 [00:00<?, ?it/s]"
      ]
     },
     "metadata": {},
     "output_type": "display_data"
    },
    {
     "name": "stdout",
     "output_type": "stream",
     "text": [
      "Epoch 65/100 |  LR: [1.0000000000000024e-42] |  val  | Loss: 0.5648 | Acc: 0.7727\n"
     ]
    },
    {
     "data": {
      "application/vnd.jupyter.widget-view+json": {
       "model_id": "f0b230b9021f4d82b503d017cefd5ee1",
       "version_major": 2,
       "version_minor": 0
      },
      "text/plain": [
       "  0%|          | 0/20541 [00:00<?, ?it/s]"
      ]
     },
     "metadata": {},
     "output_type": "display_data"
    },
    {
     "name": "stdout",
     "output_type": "stream",
     "text": [
      "Epoch 66/100 |  LR: [1.0000000000000023e-43] | train | Loss: 0.5413 | Acc: 0.7826\n"
     ]
    },
    {
     "data": {
      "application/vnd.jupyter.widget-view+json": {
       "model_id": "81bdb65ad22f4629963bb33dc8abcb1c",
       "version_major": 2,
       "version_minor": 0
      },
      "text/plain": [
       "  0%|          | 0/2283 [00:00<?, ?it/s]"
      ]
     },
     "metadata": {},
     "output_type": "display_data"
    },
    {
     "name": "stdout",
     "output_type": "stream",
     "text": [
      "Epoch 66/100 |  LR: [1.0000000000000023e-43] |  val  | Loss: 0.5645 | Acc: 0.7729\n"
     ]
    },
    {
     "data": {
      "application/vnd.jupyter.widget-view+json": {
       "model_id": "a5e3c16ff4c044b391f5fd1cc5fcd1ce",
       "version_major": 2,
       "version_minor": 0
      },
      "text/plain": [
       "  0%|          | 0/20541 [00:00<?, ?it/s]"
      ]
     },
     "metadata": {},
     "output_type": "display_data"
    },
    {
     "name": "stdout",
     "output_type": "stream",
     "text": [
      "Epoch 67/100 |  LR: [1.0000000000000026e-44] | train | Loss: 0.5413 | Acc: 0.7824\n"
     ]
    },
    {
     "data": {
      "application/vnd.jupyter.widget-view+json": {
       "model_id": "712b287ce55e423b952ecba20b6ca60f",
       "version_major": 2,
       "version_minor": 0
      },
      "text/plain": [
       "  0%|          | 0/2283 [00:00<?, ?it/s]"
      ]
     },
     "metadata": {},
     "output_type": "display_data"
    },
    {
     "name": "stdout",
     "output_type": "stream",
     "text": [
      "Epoch 67/100 |  LR: [1.0000000000000026e-44] |  val  | Loss: 0.5646 | Acc: 0.7729\n"
     ]
    },
    {
     "data": {
      "application/vnd.jupyter.widget-view+json": {
       "model_id": "077a1a919ec24eaa8a015c2ec9fa79f5",
       "version_major": 2,
       "version_minor": 0
      },
      "text/plain": [
       "  0%|          | 0/20541 [00:00<?, ?it/s]"
      ]
     },
     "metadata": {},
     "output_type": "display_data"
    },
    {
     "name": "stdout",
     "output_type": "stream",
     "text": [
      "Epoch 68/100 |  LR: [1.0000000000000025e-45] | train | Loss: 0.5414 | Acc: 0.7823\n"
     ]
    },
    {
     "data": {
      "application/vnd.jupyter.widget-view+json": {
       "model_id": "7f4257ad093042db86a6e4587d315e08",
       "version_major": 2,
       "version_minor": 0
      },
      "text/plain": [
       "  0%|          | 0/2283 [00:00<?, ?it/s]"
      ]
     },
     "metadata": {},
     "output_type": "display_data"
    },
    {
     "name": "stdout",
     "output_type": "stream",
     "text": [
      "Epoch 68/100 |  LR: [1.0000000000000025e-45] |  val  | Loss: 0.5646 | Acc: 0.7730\n"
     ]
    },
    {
     "data": {
      "application/vnd.jupyter.widget-view+json": {
       "model_id": "27b8f2409b634df1b43d5bcb696f052e",
       "version_major": 2,
       "version_minor": 0
      },
      "text/plain": [
       "  0%|          | 0/20541 [00:00<?, ?it/s]"
      ]
     },
     "metadata": {},
     "output_type": "display_data"
    },
    {
     "name": "stdout",
     "output_type": "stream",
     "text": [
      "Epoch 69/100 |  LR: [1.0000000000000026e-46] | train | Loss: 0.5411 | Acc: 0.7825\n"
     ]
    },
    {
     "data": {
      "application/vnd.jupyter.widget-view+json": {
       "model_id": "453312df416f453bb5887835f4c5696d",
       "version_major": 2,
       "version_minor": 0
      },
      "text/plain": [
       "  0%|          | 0/2283 [00:00<?, ?it/s]"
      ]
     },
     "metadata": {},
     "output_type": "display_data"
    },
    {
     "name": "stdout",
     "output_type": "stream",
     "text": [
      "Epoch 69/100 |  LR: [1.0000000000000026e-46] |  val  | Loss: 0.5650 | Acc: 0.7726\n"
     ]
    },
    {
     "data": {
      "application/vnd.jupyter.widget-view+json": {
       "model_id": "7591e4f81a4b41b39c52d38548b2f107",
       "version_major": 2,
       "version_minor": 0
      },
      "text/plain": [
       "  0%|          | 0/20541 [00:00<?, ?it/s]"
      ]
     },
     "metadata": {},
     "output_type": "display_data"
    },
    {
     "name": "stdout",
     "output_type": "stream",
     "text": [
      "Epoch 70/100 |  LR: [1.0000000000000026e-47] | train | Loss: 0.5412 | Acc: 0.7824\n"
     ]
    },
    {
     "data": {
      "application/vnd.jupyter.widget-view+json": {
       "model_id": "49212c187cc04668b2f4c5430fd8db91",
       "version_major": 2,
       "version_minor": 0
      },
      "text/plain": [
       "  0%|          | 0/2283 [00:00<?, ?it/s]"
      ]
     },
     "metadata": {},
     "output_type": "display_data"
    },
    {
     "name": "stdout",
     "output_type": "stream",
     "text": [
      "Epoch 70/100 |  LR: [1.0000000000000026e-47] |  val  | Loss: 0.5648 | Acc: 0.7727\n"
     ]
    },
    {
     "data": {
      "application/vnd.jupyter.widget-view+json": {
       "model_id": "f7d9bfa23bea4e0d89ff291f8f185941",
       "version_major": 2,
       "version_minor": 0
      },
      "text/plain": [
       "  0%|          | 0/20541 [00:00<?, ?it/s]"
      ]
     },
     "metadata": {},
     "output_type": "display_data"
    },
    {
     "name": "stdout",
     "output_type": "stream",
     "text": [
      "Epoch 71/100 |  LR: [1.0000000000000027e-48] | train | Loss: 0.5413 | Acc: 0.7825\n"
     ]
    },
    {
     "data": {
      "application/vnd.jupyter.widget-view+json": {
       "model_id": "28f786f1d8534c448af13fc86b9422cf",
       "version_major": 2,
       "version_minor": 0
      },
      "text/plain": [
       "  0%|          | 0/2283 [00:00<?, ?it/s]"
      ]
     },
     "metadata": {},
     "output_type": "display_data"
    },
    {
     "name": "stdout",
     "output_type": "stream",
     "text": [
      "Epoch 71/100 |  LR: [1.0000000000000027e-48] |  val  | Loss: 0.5645 | Acc: 0.7730\n"
     ]
    },
    {
     "data": {
      "application/vnd.jupyter.widget-view+json": {
       "model_id": "f5223734dcc84cb192af93b494d1be24",
       "version_major": 2,
       "version_minor": 0
      },
      "text/plain": [
       "  0%|          | 0/20541 [00:00<?, ?it/s]"
      ]
     },
     "metadata": {},
     "output_type": "display_data"
    },
    {
     "name": "stdout",
     "output_type": "stream",
     "text": [
      "Epoch 72/100 |  LR: [1.0000000000000028e-49] | train | Loss: 0.5414 | Acc: 0.7825\n"
     ]
    },
    {
     "data": {
      "application/vnd.jupyter.widget-view+json": {
       "model_id": "3e158c48cd254acdb4b3be5ea69572c6",
       "version_major": 2,
       "version_minor": 0
      },
      "text/plain": [
       "  0%|          | 0/2283 [00:00<?, ?it/s]"
      ]
     },
     "metadata": {},
     "output_type": "display_data"
    },
    {
     "name": "stdout",
     "output_type": "stream",
     "text": [
      "Epoch 72/100 |  LR: [1.0000000000000028e-49] |  val  | Loss: 0.5650 | Acc: 0.7727\n"
     ]
    },
    {
     "data": {
      "application/vnd.jupyter.widget-view+json": {
       "model_id": "4294f79609af4a7db8774a6b27b76051",
       "version_major": 2,
       "version_minor": 0
      },
      "text/plain": [
       "  0%|          | 0/20541 [00:00<?, ?it/s]"
      ]
     },
     "metadata": {},
     "output_type": "display_data"
    },
    {
     "name": "stdout",
     "output_type": "stream",
     "text": [
      "Epoch 73/100 |  LR: [1.0000000000000029e-50] | train | Loss: 0.5412 | Acc: 0.7825\n"
     ]
    },
    {
     "data": {
      "application/vnd.jupyter.widget-view+json": {
       "model_id": "c68155c54a2348cfa8fa0fba48ad0908",
       "version_major": 2,
       "version_minor": 0
      },
      "text/plain": [
       "  0%|          | 0/2283 [00:00<?, ?it/s]"
      ]
     },
     "metadata": {},
     "output_type": "display_data"
    },
    {
     "name": "stdout",
     "output_type": "stream",
     "text": [
      "Epoch 73/100 |  LR: [1.0000000000000029e-50] |  val  | Loss: 0.5651 | Acc: 0.7726\n"
     ]
    },
    {
     "data": {
      "application/vnd.jupyter.widget-view+json": {
       "model_id": "73498b28fd68447cbca33a0db178e678",
       "version_major": 2,
       "version_minor": 0
      },
      "text/plain": [
       "  0%|          | 0/20541 [00:00<?, ?it/s]"
      ]
     },
     "metadata": {},
     "output_type": "display_data"
    },
    {
     "name": "stdout",
     "output_type": "stream",
     "text": [
      "Epoch 74/100 |  LR: [1.0000000000000028e-51] | train | Loss: 0.5412 | Acc: 0.7825\n"
     ]
    },
    {
     "data": {
      "application/vnd.jupyter.widget-view+json": {
       "model_id": "bdec0761a3094a8181f215fbab36eb06",
       "version_major": 2,
       "version_minor": 0
      },
      "text/plain": [
       "  0%|          | 0/2283 [00:00<?, ?it/s]"
      ]
     },
     "metadata": {},
     "output_type": "display_data"
    },
    {
     "name": "stdout",
     "output_type": "stream",
     "text": [
      "Epoch 74/100 |  LR: [1.0000000000000028e-51] |  val  | Loss: 0.5645 | Acc: 0.7727\n"
     ]
    },
    {
     "data": {
      "application/vnd.jupyter.widget-view+json": {
       "model_id": "ed1a4a22484f4e2381700f3450757976",
       "version_major": 2,
       "version_minor": 0
      },
      "text/plain": [
       "  0%|          | 0/20541 [00:00<?, ?it/s]"
      ]
     },
     "metadata": {},
     "output_type": "display_data"
    },
    {
     "name": "stdout",
     "output_type": "stream",
     "text": [
      "Epoch 75/100 |  LR: [1.0000000000000028e-52] | train | Loss: 0.5413 | Acc: 0.7822\n"
     ]
    },
    {
     "data": {
      "application/vnd.jupyter.widget-view+json": {
       "model_id": "674cf232dd474eeb8d5900d4439417a0",
       "version_major": 2,
       "version_minor": 0
      },
      "text/plain": [
       "  0%|          | 0/2283 [00:00<?, ?it/s]"
      ]
     },
     "metadata": {},
     "output_type": "display_data"
    },
    {
     "name": "stdout",
     "output_type": "stream",
     "text": [
      "Epoch 75/100 |  LR: [1.0000000000000028e-52] |  val  | Loss: 0.5648 | Acc: 0.7730\n"
     ]
    },
    {
     "data": {
      "application/vnd.jupyter.widget-view+json": {
       "model_id": "42ecafbd6d9240c7805722d74811010b",
       "version_major": 2,
       "version_minor": 0
      },
      "text/plain": [
       "  0%|          | 0/20541 [00:00<?, ?it/s]"
      ]
     },
     "metadata": {},
     "output_type": "display_data"
    },
    {
     "name": "stdout",
     "output_type": "stream",
     "text": [
      "Epoch 76/100 |  LR: [1.000000000000003e-53] | train | Loss: 0.5411 | Acc: 0.7826\n"
     ]
    },
    {
     "data": {
      "application/vnd.jupyter.widget-view+json": {
       "model_id": "2bf50d6b5aa941ed8b9a6ab3703a65ff",
       "version_major": 2,
       "version_minor": 0
      },
      "text/plain": [
       "  0%|          | 0/2283 [00:00<?, ?it/s]"
      ]
     },
     "metadata": {},
     "output_type": "display_data"
    },
    {
     "name": "stdout",
     "output_type": "stream",
     "text": [
      "Epoch 76/100 |  LR: [1.000000000000003e-53] |  val  | Loss: 0.5647 | Acc: 0.7727\n"
     ]
    },
    {
     "data": {
      "application/vnd.jupyter.widget-view+json": {
       "model_id": "b155bc314ebf4174b1f09526e528793e",
       "version_major": 2,
       "version_minor": 0
      },
      "text/plain": [
       "  0%|          | 0/20541 [00:00<?, ?it/s]"
      ]
     },
     "metadata": {},
     "output_type": "display_data"
    },
    {
     "name": "stdout",
     "output_type": "stream",
     "text": [
      "Epoch 77/100 |  LR: [1.000000000000003e-54] | train | Loss: 0.5410 | Acc: 0.7823\n"
     ]
    },
    {
     "data": {
      "application/vnd.jupyter.widget-view+json": {
       "model_id": "b26ffafe9f2742f493a720e7c5ddd13a",
       "version_major": 2,
       "version_minor": 0
      },
      "text/plain": [
       "  0%|          | 0/2283 [00:00<?, ?it/s]"
      ]
     },
     "metadata": {},
     "output_type": "display_data"
    },
    {
     "name": "stdout",
     "output_type": "stream",
     "text": [
      "Epoch 77/100 |  LR: [1.000000000000003e-54] |  val  | Loss: 0.5650 | Acc: 0.7729\n"
     ]
    },
    {
     "data": {
      "application/vnd.jupyter.widget-view+json": {
       "model_id": "dec829b02e4d4e25bf8cb6da70572db4",
       "version_major": 2,
       "version_minor": 0
      },
      "text/plain": [
       "  0%|          | 0/20541 [00:00<?, ?it/s]"
      ]
     },
     "metadata": {},
     "output_type": "display_data"
    },
    {
     "name": "stdout",
     "output_type": "stream",
     "text": [
      "Epoch 78/100 |  LR: [1.000000000000003e-55] | train | Loss: 0.5413 | Acc: 0.7825\n"
     ]
    },
    {
     "data": {
      "application/vnd.jupyter.widget-view+json": {
       "model_id": "92b326dc66584e638732bd474fd38205",
       "version_major": 2,
       "version_minor": 0
      },
      "text/plain": [
       "  0%|          | 0/2283 [00:00<?, ?it/s]"
      ]
     },
     "metadata": {},
     "output_type": "display_data"
    },
    {
     "name": "stdout",
     "output_type": "stream",
     "text": [
      "Epoch 78/100 |  LR: [1.000000000000003e-55] |  val  | Loss: 0.5648 | Acc: 0.7729\n"
     ]
    },
    {
     "data": {
      "application/vnd.jupyter.widget-view+json": {
       "model_id": "396b6413547348ea938eff48184363e8",
       "version_major": 2,
       "version_minor": 0
      },
      "text/plain": [
       "  0%|          | 0/20541 [00:00<?, ?it/s]"
      ]
     },
     "metadata": {},
     "output_type": "display_data"
    },
    {
     "name": "stdout",
     "output_type": "stream",
     "text": [
      "Epoch 79/100 |  LR: [1.0000000000000031e-56] | train | Loss: 0.5414 | Acc: 0.7824\n"
     ]
    },
    {
     "data": {
      "application/vnd.jupyter.widget-view+json": {
       "model_id": "4503f7dfd41244b98468e89cd7b1f46c",
       "version_major": 2,
       "version_minor": 0
      },
      "text/plain": [
       "  0%|          | 0/2283 [00:00<?, ?it/s]"
      ]
     },
     "metadata": {},
     "output_type": "display_data"
    },
    {
     "name": "stdout",
     "output_type": "stream",
     "text": [
      "Epoch 79/100 |  LR: [1.0000000000000031e-56] |  val  | Loss: 0.5649 | Acc: 0.7728\n"
     ]
    },
    {
     "data": {
      "application/vnd.jupyter.widget-view+json": {
       "model_id": "ada20d28010d42529ab1946419186cfe",
       "version_major": 2,
       "version_minor": 0
      },
      "text/plain": [
       "  0%|          | 0/20541 [00:00<?, ?it/s]"
      ]
     },
     "metadata": {},
     "output_type": "display_data"
    },
    {
     "name": "stdout",
     "output_type": "stream",
     "text": [
      "Epoch 80/100 |  LR: [1.0000000000000032e-57] | train | Loss: 0.5411 | Acc: 0.7826\n"
     ]
    },
    {
     "data": {
      "application/vnd.jupyter.widget-view+json": {
       "model_id": "7684072ec49a40a4a6e0339a56dae6cf",
       "version_major": 2,
       "version_minor": 0
      },
      "text/plain": [
       "  0%|          | 0/2283 [00:00<?, ?it/s]"
      ]
     },
     "metadata": {},
     "output_type": "display_data"
    },
    {
     "name": "stdout",
     "output_type": "stream",
     "text": [
      "Epoch 80/100 |  LR: [1.0000000000000032e-57] |  val  | Loss: 0.5645 | Acc: 0.7728\n"
     ]
    },
    {
     "data": {
      "application/vnd.jupyter.widget-view+json": {
       "model_id": "1084059f40b54deb96a5d3788f06fb5d",
       "version_major": 2,
       "version_minor": 0
      },
      "text/plain": [
       "  0%|          | 0/20541 [00:00<?, ?it/s]"
      ]
     },
     "metadata": {},
     "output_type": "display_data"
    },
    {
     "name": "stdout",
     "output_type": "stream",
     "text": [
      "Epoch 81/100 |  LR: [1.0000000000000032e-58] | train | Loss: 0.5412 | Acc: 0.7824\n"
     ]
    },
    {
     "data": {
      "application/vnd.jupyter.widget-view+json": {
       "model_id": "3f5e3d1691554978a938c31c340772cf",
       "version_major": 2,
       "version_minor": 0
      },
      "text/plain": [
       "  0%|          | 0/2283 [00:00<?, ?it/s]"
      ]
     },
     "metadata": {},
     "output_type": "display_data"
    },
    {
     "name": "stdout",
     "output_type": "stream",
     "text": [
      "Epoch 81/100 |  LR: [1.0000000000000032e-58] |  val  | Loss: 0.5646 | Acc: 0.7728\n"
     ]
    },
    {
     "data": {
      "application/vnd.jupyter.widget-view+json": {
       "model_id": "edb386a32e214fa99d2291a5017434ec",
       "version_major": 2,
       "version_minor": 0
      },
      "text/plain": [
       "  0%|          | 0/20541 [00:00<?, ?it/s]"
      ]
     },
     "metadata": {},
     "output_type": "display_data"
    },
    {
     "name": "stdout",
     "output_type": "stream",
     "text": [
      "Epoch 82/100 |  LR: [1.0000000000000033e-59] | train | Loss: 0.5410 | Acc: 0.7826\n"
     ]
    },
    {
     "data": {
      "application/vnd.jupyter.widget-view+json": {
       "model_id": "ee8165330ae3420f9980786669f49a86",
       "version_major": 2,
       "version_minor": 0
      },
      "text/plain": [
       "  0%|          | 0/2283 [00:00<?, ?it/s]"
      ]
     },
     "metadata": {},
     "output_type": "display_data"
    },
    {
     "name": "stdout",
     "output_type": "stream",
     "text": [
      "Epoch 82/100 |  LR: [1.0000000000000033e-59] |  val  | Loss: 0.5647 | Acc: 0.7728\n"
     ]
    },
    {
     "data": {
      "application/vnd.jupyter.widget-view+json": {
       "model_id": "44c49ba61d1f4564919c531bbd4a3ca8",
       "version_major": 2,
       "version_minor": 0
      },
      "text/plain": [
       "  0%|          | 0/20541 [00:00<?, ?it/s]"
      ]
     },
     "metadata": {},
     "output_type": "display_data"
    },
    {
     "name": "stdout",
     "output_type": "stream",
     "text": [
      "Epoch 83/100 |  LR: [1.0000000000000034e-60] | train | Loss: 0.5413 | Acc: 0.7827\n"
     ]
    },
    {
     "data": {
      "application/vnd.jupyter.widget-view+json": {
       "model_id": "8e0314eb8b7f4bcfa26bcf58c8856c30",
       "version_major": 2,
       "version_minor": 0
      },
      "text/plain": [
       "  0%|          | 0/2283 [00:00<?, ?it/s]"
      ]
     },
     "metadata": {},
     "output_type": "display_data"
    },
    {
     "name": "stdout",
     "output_type": "stream",
     "text": [
      "Epoch 83/100 |  LR: [1.0000000000000034e-60] |  val  | Loss: 0.5652 | Acc: 0.7729\n"
     ]
    },
    {
     "data": {
      "application/vnd.jupyter.widget-view+json": {
       "model_id": "3f90cb1573654ac7a302d228dda58383",
       "version_major": 2,
       "version_minor": 0
      },
      "text/plain": [
       "  0%|          | 0/20541 [00:00<?, ?it/s]"
      ]
     },
     "metadata": {},
     "output_type": "display_data"
    },
    {
     "name": "stdout",
     "output_type": "stream",
     "text": [
      "Epoch 84/100 |  LR: [1.0000000000000033e-61] | train | Loss: 0.5411 | Acc: 0.7823\n"
     ]
    },
    {
     "data": {
      "application/vnd.jupyter.widget-view+json": {
       "model_id": "ee8aa48a0c7e4ae2a997c1fed0c383ed",
       "version_major": 2,
       "version_minor": 0
      },
      "text/plain": [
       "  0%|          | 0/2283 [00:00<?, ?it/s]"
      ]
     },
     "metadata": {},
     "output_type": "display_data"
    },
    {
     "name": "stdout",
     "output_type": "stream",
     "text": [
      "Epoch 84/100 |  LR: [1.0000000000000033e-61] |  val  | Loss: 0.5650 | Acc: 0.7730\n"
     ]
    },
    {
     "data": {
      "application/vnd.jupyter.widget-view+json": {
       "model_id": "dc214500d9a946a29275b85da6931ff1",
       "version_major": 2,
       "version_minor": 0
      },
      "text/plain": [
       "  0%|          | 0/20541 [00:00<?, ?it/s]"
      ]
     },
     "metadata": {},
     "output_type": "display_data"
    },
    {
     "name": "stdout",
     "output_type": "stream",
     "text": [
      "Epoch 85/100 |  LR: [1.0000000000000033e-62] | train | Loss: 0.5412 | Acc: 0.7825\n"
     ]
    },
    {
     "data": {
      "application/vnd.jupyter.widget-view+json": {
       "model_id": "98a71d915d9c40c7a2661ef9e65a0e1a",
       "version_major": 2,
       "version_minor": 0
      },
      "text/plain": [
       "  0%|          | 0/2283 [00:00<?, ?it/s]"
      ]
     },
     "metadata": {},
     "output_type": "display_data"
    },
    {
     "name": "stdout",
     "output_type": "stream",
     "text": [
      "Epoch 85/100 |  LR: [1.0000000000000033e-62] |  val  | Loss: 0.5649 | Acc: 0.7727\n"
     ]
    },
    {
     "data": {
      "application/vnd.jupyter.widget-view+json": {
       "model_id": "10c699e050d34021ad055c7f22258ce6",
       "version_major": 2,
       "version_minor": 0
      },
      "text/plain": [
       "  0%|          | 0/20541 [00:00<?, ?it/s]"
      ]
     },
     "metadata": {},
     "output_type": "display_data"
    },
    {
     "name": "stdout",
     "output_type": "stream",
     "text": [
      "Epoch 86/100 |  LR: [1.0000000000000036e-63] | train | Loss: 0.5410 | Acc: 0.7824\n"
     ]
    },
    {
     "data": {
      "application/vnd.jupyter.widget-view+json": {
       "model_id": "e3779dde0ba640a89f0116df326c598c",
       "version_major": 2,
       "version_minor": 0
      },
      "text/plain": [
       "  0%|          | 0/2283 [00:00<?, ?it/s]"
      ]
     },
     "metadata": {},
     "output_type": "display_data"
    },
    {
     "name": "stdout",
     "output_type": "stream",
     "text": [
      "Epoch 86/100 |  LR: [1.0000000000000036e-63] |  val  | Loss: 0.5653 | Acc: 0.7724\n"
     ]
    },
    {
     "data": {
      "application/vnd.jupyter.widget-view+json": {
       "model_id": "343d1cdf0a3d495e9e15b603743e23af",
       "version_major": 2,
       "version_minor": 0
      },
      "text/plain": [
       "  0%|          | 0/20541 [00:00<?, ?it/s]"
      ]
     },
     "metadata": {},
     "output_type": "display_data"
    },
    {
     "name": "stdout",
     "output_type": "stream",
     "text": [
      "Epoch 87/100 |  LR: [1.0000000000000035e-64] | train | Loss: 0.5412 | Acc: 0.7825\n"
     ]
    },
    {
     "data": {
      "application/vnd.jupyter.widget-view+json": {
       "model_id": "05e9f035df464a5ab3e30d14598159cb",
       "version_major": 2,
       "version_minor": 0
      },
      "text/plain": [
       "  0%|          | 0/2283 [00:00<?, ?it/s]"
      ]
     },
     "metadata": {},
     "output_type": "display_data"
    },
    {
     "name": "stdout",
     "output_type": "stream",
     "text": [
      "Epoch 87/100 |  LR: [1.0000000000000035e-64] |  val  | Loss: 0.5644 | Acc: 0.7728\n"
     ]
    },
    {
     "data": {
      "application/vnd.jupyter.widget-view+json": {
       "model_id": "f2270c577649485caaef64e02d71914f",
       "version_major": 2,
       "version_minor": 0
      },
      "text/plain": [
       "  0%|          | 0/20541 [00:00<?, ?it/s]"
      ]
     },
     "metadata": {},
     "output_type": "display_data"
    },
    {
     "name": "stdout",
     "output_type": "stream",
     "text": [
      "Epoch 88/100 |  LR: [1.0000000000000035e-65] | train | Loss: 0.5413 | Acc: 0.7825\n"
     ]
    },
    {
     "data": {
      "application/vnd.jupyter.widget-view+json": {
       "model_id": "327852b535b44edf9118e52f0c5b12d6",
       "version_major": 2,
       "version_minor": 0
      },
      "text/plain": [
       "  0%|          | 0/2283 [00:00<?, ?it/s]"
      ]
     },
     "metadata": {},
     "output_type": "display_data"
    },
    {
     "name": "stdout",
     "output_type": "stream",
     "text": [
      "Epoch 88/100 |  LR: [1.0000000000000035e-65] |  val  | Loss: 0.5646 | Acc: 0.7728\n"
     ]
    },
    {
     "data": {
      "application/vnd.jupyter.widget-view+json": {
       "model_id": "0787a35948814a638c0f14c4c5bdd53e",
       "version_major": 2,
       "version_minor": 0
      },
      "text/plain": [
       "  0%|          | 0/20541 [00:00<?, ?it/s]"
      ]
     },
     "metadata": {},
     "output_type": "display_data"
    },
    {
     "name": "stdout",
     "output_type": "stream",
     "text": [
      "Epoch 89/100 |  LR: [1.0000000000000035e-66] | train | Loss: 0.5412 | Acc: 0.7827\n"
     ]
    },
    {
     "data": {
      "application/vnd.jupyter.widget-view+json": {
       "model_id": "2463f6d9e1d44ce8bb85c19e4c12f169",
       "version_major": 2,
       "version_minor": 0
      },
      "text/plain": [
       "  0%|          | 0/2283 [00:00<?, ?it/s]"
      ]
     },
     "metadata": {},
     "output_type": "display_data"
    },
    {
     "name": "stdout",
     "output_type": "stream",
     "text": [
      "Epoch 89/100 |  LR: [1.0000000000000035e-66] |  val  | Loss: 0.5644 | Acc: 0.7731\n"
     ]
    },
    {
     "data": {
      "application/vnd.jupyter.widget-view+json": {
       "model_id": "103ff487702d46d080dfc4ca8f922bc5",
       "version_major": 2,
       "version_minor": 0
      },
      "text/plain": [
       "  0%|          | 0/20541 [00:00<?, ?it/s]"
      ]
     },
     "metadata": {},
     "output_type": "display_data"
    },
    {
     "name": "stdout",
     "output_type": "stream",
     "text": [
      "Epoch 90/100 |  LR: [1.0000000000000037e-67] | train | Loss: 0.5413 | Acc: 0.7826\n"
     ]
    },
    {
     "data": {
      "application/vnd.jupyter.widget-view+json": {
       "model_id": "30c889fc3ba8436192eb411b82285d5e",
       "version_major": 2,
       "version_minor": 0
      },
      "text/plain": [
       "  0%|          | 0/2283 [00:00<?, ?it/s]"
      ]
     },
     "metadata": {},
     "output_type": "display_data"
    },
    {
     "name": "stdout",
     "output_type": "stream",
     "text": [
      "Epoch 90/100 |  LR: [1.0000000000000037e-67] |  val  | Loss: 0.5647 | Acc: 0.7728\n"
     ]
    },
    {
     "data": {
      "application/vnd.jupyter.widget-view+json": {
       "model_id": "28f0658e5f2b4efb876ae086daf3c4b1",
       "version_major": 2,
       "version_minor": 0
      },
      "text/plain": [
       "  0%|          | 0/20541 [00:00<?, ?it/s]"
      ]
     },
     "metadata": {},
     "output_type": "display_data"
    },
    {
     "name": "stdout",
     "output_type": "stream",
     "text": [
      "Epoch 91/100 |  LR: [1.0000000000000038e-68] | train | Loss: 0.5412 | Acc: 0.7821\n"
     ]
    },
    {
     "data": {
      "application/vnd.jupyter.widget-view+json": {
       "model_id": "e4240894314f4566b0deb3a297f995fb",
       "version_major": 2,
       "version_minor": 0
      },
      "text/plain": [
       "  0%|          | 0/2283 [00:00<?, ?it/s]"
      ]
     },
     "metadata": {},
     "output_type": "display_data"
    },
    {
     "name": "stdout",
     "output_type": "stream",
     "text": [
      "Epoch 91/100 |  LR: [1.0000000000000038e-68] |  val  | Loss: 0.5650 | Acc: 0.7727\n"
     ]
    },
    {
     "data": {
      "application/vnd.jupyter.widget-view+json": {
       "model_id": "41c60e721515412b8e15334f9e541669",
       "version_major": 2,
       "version_minor": 0
      },
      "text/plain": [
       "  0%|          | 0/20541 [00:00<?, ?it/s]"
      ]
     },
     "metadata": {},
     "output_type": "display_data"
    },
    {
     "name": "stdout",
     "output_type": "stream",
     "text": [
      "Epoch 92/100 |  LR: [1.0000000000000038e-69] | train | Loss: 0.5414 | Acc: 0.7823\n"
     ]
    },
    {
     "data": {
      "application/vnd.jupyter.widget-view+json": {
       "model_id": "fb4e6c004cc14013b351172a8652e1b3",
       "version_major": 2,
       "version_minor": 0
      },
      "text/plain": [
       "  0%|          | 0/2283 [00:00<?, ?it/s]"
      ]
     },
     "metadata": {},
     "output_type": "display_data"
    },
    {
     "name": "stdout",
     "output_type": "stream",
     "text": [
      "Epoch 92/100 |  LR: [1.0000000000000038e-69] |  val  | Loss: 0.5655 | Acc: 0.7720\n"
     ]
    },
    {
     "data": {
      "application/vnd.jupyter.widget-view+json": {
       "model_id": "162f5f23d0aa4679adab69594a050605",
       "version_major": 2,
       "version_minor": 0
      },
      "text/plain": [
       "  0%|          | 0/20541 [00:00<?, ?it/s]"
      ]
     },
     "metadata": {},
     "output_type": "display_data"
    },
    {
     "name": "stdout",
     "output_type": "stream",
     "text": [
      "Epoch 93/100 |  LR: [1.0000000000000039e-70] | train | Loss: 0.5412 | Acc: 0.7823\n"
     ]
    },
    {
     "data": {
      "application/vnd.jupyter.widget-view+json": {
       "model_id": "ed404c866e194c71806fa786ccfc4738",
       "version_major": 2,
       "version_minor": 0
      },
      "text/plain": [
       "  0%|          | 0/2283 [00:00<?, ?it/s]"
      ]
     },
     "metadata": {},
     "output_type": "display_data"
    },
    {
     "name": "stdout",
     "output_type": "stream",
     "text": [
      "Epoch 93/100 |  LR: [1.0000000000000039e-70] |  val  | Loss: 0.5645 | Acc: 0.7730\n"
     ]
    },
    {
     "data": {
      "application/vnd.jupyter.widget-view+json": {
       "model_id": "3e5a974d15a14b12ada94526cf1c0881",
       "version_major": 2,
       "version_minor": 0
      },
      "text/plain": [
       "  0%|          | 0/20541 [00:00<?, ?it/s]"
      ]
     },
     "metadata": {},
     "output_type": "display_data"
    },
    {
     "name": "stdout",
     "output_type": "stream",
     "text": [
      "Epoch 94/100 |  LR: [1.000000000000004e-71] | train | Loss: 0.5412 | Acc: 0.7826\n"
     ]
    },
    {
     "data": {
      "application/vnd.jupyter.widget-view+json": {
       "model_id": "2789781c33cb424788e2ea717f6769df",
       "version_major": 2,
       "version_minor": 0
      },
      "text/plain": [
       "  0%|          | 0/2283 [00:00<?, ?it/s]"
      ]
     },
     "metadata": {},
     "output_type": "display_data"
    },
    {
     "name": "stdout",
     "output_type": "stream",
     "text": [
      "Epoch 94/100 |  LR: [1.000000000000004e-71] |  val  | Loss: 0.5647 | Acc: 0.7728\n"
     ]
    },
    {
     "data": {
      "application/vnd.jupyter.widget-view+json": {
       "model_id": "a82b2503032c4274932f8186588f00bb",
       "version_major": 2,
       "version_minor": 0
      },
      "text/plain": [
       "  0%|          | 0/20541 [00:00<?, ?it/s]"
      ]
     },
     "metadata": {},
     "output_type": "display_data"
    },
    {
     "name": "stdout",
     "output_type": "stream",
     "text": [
      "Epoch 95/100 |  LR: [1.000000000000004e-72] | train | Loss: 0.5413 | Acc: 0.7824\n"
     ]
    },
    {
     "data": {
      "application/vnd.jupyter.widget-view+json": {
       "model_id": "3498b320bd51418daebfc956ac411e10",
       "version_major": 2,
       "version_minor": 0
      },
      "text/plain": [
       "  0%|          | 0/2283 [00:00<?, ?it/s]"
      ]
     },
     "metadata": {},
     "output_type": "display_data"
    },
    {
     "name": "stdout",
     "output_type": "stream",
     "text": [
      "Epoch 95/100 |  LR: [1.000000000000004e-72] |  val  | Loss: 0.5646 | Acc: 0.7726\n"
     ]
    },
    {
     "data": {
      "application/vnd.jupyter.widget-view+json": {
       "model_id": "2656ed9fc84c4ad78abee848838262a1",
       "version_major": 2,
       "version_minor": 0
      },
      "text/plain": [
       "  0%|          | 0/20541 [00:00<?, ?it/s]"
      ]
     },
     "metadata": {},
     "output_type": "display_data"
    },
    {
     "name": "stdout",
     "output_type": "stream",
     "text": [
      "Epoch 96/100 |  LR: [1.0000000000000041e-73] | train | Loss: 0.5414 | Acc: 0.7825\n"
     ]
    },
    {
     "data": {
      "application/vnd.jupyter.widget-view+json": {
       "model_id": "1b5c40d18ec64c48ba167f2218a47ecc",
       "version_major": 2,
       "version_minor": 0
      },
      "text/plain": [
       "  0%|          | 0/2283 [00:00<?, ?it/s]"
      ]
     },
     "metadata": {},
     "output_type": "display_data"
    },
    {
     "name": "stdout",
     "output_type": "stream",
     "text": [
      "Epoch 96/100 |  LR: [1.0000000000000041e-73] |  val  | Loss: 0.5648 | Acc: 0.7727\n"
     ]
    },
    {
     "data": {
      "application/vnd.jupyter.widget-view+json": {
       "model_id": "d88c2b40e85945b78b687cfc43a18f1c",
       "version_major": 2,
       "version_minor": 0
      },
      "text/plain": [
       "  0%|          | 0/20541 [00:00<?, ?it/s]"
      ]
     },
     "metadata": {},
     "output_type": "display_data"
    },
    {
     "name": "stdout",
     "output_type": "stream",
     "text": [
      "Epoch 97/100 |  LR: [1.000000000000004e-74] | train | Loss: 0.5411 | Acc: 0.7826\n"
     ]
    },
    {
     "data": {
      "application/vnd.jupyter.widget-view+json": {
       "model_id": "8e32dd5d7aa147479c246b038c8cbb57",
       "version_major": 2,
       "version_minor": 0
      },
      "text/plain": [
       "  0%|          | 0/2283 [00:00<?, ?it/s]"
      ]
     },
     "metadata": {},
     "output_type": "display_data"
    },
    {
     "name": "stdout",
     "output_type": "stream",
     "text": [
      "Epoch 97/100 |  LR: [1.000000000000004e-74] |  val  | Loss: 0.5647 | Acc: 0.7732\n"
     ]
    },
    {
     "data": {
      "application/vnd.jupyter.widget-view+json": {
       "model_id": "4cd2f994ce1d4bcc83de89d1ec9a75b1",
       "version_major": 2,
       "version_minor": 0
      },
      "text/plain": [
       "  0%|          | 0/20541 [00:00<?, ?it/s]"
      ]
     },
     "metadata": {},
     "output_type": "display_data"
    },
    {
     "name": "stdout",
     "output_type": "stream",
     "text": [
      "Epoch 98/100 |  LR: [1.0000000000000041e-75] | train | Loss: 0.5411 | Acc: 0.7825\n"
     ]
    },
    {
     "data": {
      "application/vnd.jupyter.widget-view+json": {
       "model_id": "8f9375cc96a3492b95f84421e105c648",
       "version_major": 2,
       "version_minor": 0
      },
      "text/plain": [
       "  0%|          | 0/2283 [00:00<?, ?it/s]"
      ]
     },
     "metadata": {},
     "output_type": "display_data"
    },
    {
     "name": "stdout",
     "output_type": "stream",
     "text": [
      "Epoch 98/100 |  LR: [1.0000000000000041e-75] |  val  | Loss: 0.5650 | Acc: 0.7726\n"
     ]
    },
    {
     "data": {
      "application/vnd.jupyter.widget-view+json": {
       "model_id": "4f8541682f34451e8b44fa7722006d70",
       "version_major": 2,
       "version_minor": 0
      },
      "text/plain": [
       "  0%|          | 0/20541 [00:00<?, ?it/s]"
      ]
     },
     "metadata": {},
     "output_type": "display_data"
    },
    {
     "name": "stdout",
     "output_type": "stream",
     "text": [
      "Epoch 99/100 |  LR: [1.0000000000000042e-76] | train | Loss: 0.5412 | Acc: 0.7823\n"
     ]
    },
    {
     "data": {
      "application/vnd.jupyter.widget-view+json": {
       "model_id": "d06219378ec94c159a4cf67642b68a05",
       "version_major": 2,
       "version_minor": 0
      },
      "text/plain": [
       "  0%|          | 0/2283 [00:00<?, ?it/s]"
      ]
     },
     "metadata": {},
     "output_type": "display_data"
    },
    {
     "name": "stdout",
     "output_type": "stream",
     "text": [
      "Epoch 99/100 |  LR: [1.0000000000000042e-76] |  val  | Loss: 0.5645 | Acc: 0.7726\n"
     ]
    },
    {
     "data": {
      "application/vnd.jupyter.widget-view+json": {
       "model_id": "d7e450d172e348adb087c56a680e8cac",
       "version_major": 2,
       "version_minor": 0
      },
      "text/plain": [
       "  0%|          | 0/20541 [00:00<?, ?it/s]"
      ]
     },
     "metadata": {},
     "output_type": "display_data"
    },
    {
     "name": "stdout",
     "output_type": "stream",
     "text": [
      "Epoch 100/100 |  LR: [1.0000000000000043e-77] | train | Loss: 0.5412 | Acc: 0.7827\n"
     ]
    },
    {
     "data": {
      "application/vnd.jupyter.widget-view+json": {
       "model_id": "539b16ab2f044e3f94b7ab3e98442880",
       "version_major": 2,
       "version_minor": 0
      },
      "text/plain": [
       "  0%|          | 0/2283 [00:00<?, ?it/s]"
      ]
     },
     "metadata": {},
     "output_type": "display_data"
    },
    {
     "name": "stdout",
     "output_type": "stream",
     "text": [
      "Epoch 100/100 |  LR: [1.0000000000000043e-77] |  val  | Loss: 0.5645 | Acc: 0.7727\n"
     ]
    },
    {
     "data": {
      "image/png": "[encoded data removed]",
      "text/plain": [
       "<Figure size 432x288 with 1 Axes>"
      ]
     },
     "metadata": {
      "needs_background": "light"
     },
     "output_type": "display_data"
    },
    {
     "data": {
      "image/png": "[encoded data removed]",
      "text/plain": [
       "<Figure size 432x288 with 1 Axes>"
      ]
     },
     "metadata": {
      "needs_background": "light"
     },
     "output_type": "display_data"
    }
   ],
   "source": [
    "\n",
    "print(f\"Optimizer: {op_name}\")\n",
    "optimizer = optimizers[op_name]\n",
    "train_losses, train_accs, val_losses, val_accs, lrs = train_model(model, dataloaders_dict, criterion, optimizer, num_epochs=num_epochs)\n",
    "\n",
    "epochs = range(num_epochs)\n",
    "\n",
    "plt.figure(1)\n",
    "plt.plot(epochs, train_losses, 'r', label='train_loss')\n",
    "plt.plot(epochs, train_accs, 'g', label='train_acc')\n",
    "plt.plot(epochs, val_losses, 'b', label='val_loss')\n",
    "plt.plot(epochs, val_accs, 'm', label='val_acc')\n",
    "\n",
    "plt.title(f'Losses and Accuracies (optimizer: {op_name}, lr: {learning_rate}, epochs: {num_epochs})')\n",
    "\n",
    "plt.xlabel('Epochs')\n",
    "plt.ylabel('Loss/Accuracy')\n",
    "\n",
    "plt.legend()\n",
    "plt.savefig(f\"./results/Losses and Accuracies({op_name}).jpg\", dpi=200)\n",
    "plt.show()\n",
    "\n",
    "plt.figure(2)\n",
    "plt.plot(epochs, lrs, 'b')\n",
    "plt.title(f'LambdaLR({lambda_c}^epoch)')\n",
    "\n",
    "plt.xlabel('Epochs')\n",
    "plt.ylabel('LR')\n",
    "plt.savefig(f\"./results/LambdaLR(optimizer: {op_name}, {lambda_c}^epoch).jpg\", dpi=200)\n"
   ]
  }
 ],
 "metadata": {
  "interpreter": {
   "hash": "48f4bc069920ebbbd1eda6554a35184c9b55389f39cf7b5b16b60be2a7081220"
  },
  "kernelspec": {
   "display_name": "Python 3.7.12 64-bit ('venv': venv)",
   "name": "python3"
  },
  "language_info": {
   "codemirror_mode": {
    "name": "ipython",
    "version": 3
   },
   "file_extension": ".py",
   "mimetype": "text/x-python",
   "name": "python",
   "nbconvert_exporter": "python",
   "pygments_lexer": "ipython3",
   "version": "3.7.12"
  },
  "orig_nbformat": 4
 },
 "nbformat": 4,
 "nbformat_minor": 2
}
