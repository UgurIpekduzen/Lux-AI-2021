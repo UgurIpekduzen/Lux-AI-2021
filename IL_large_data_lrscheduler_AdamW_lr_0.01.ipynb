{
 "cells": [
  {
   "cell_type": "code",
   "execution_count": 1,
   "metadata": {},
   "outputs": [],
   "source": [
    "import numpy as np\n",
    "import json\n",
    "from pathlib import Path\n",
    "import os\n",
    "import random\n",
    "from tqdm.notebook import tqdm\n",
    "import torch\n",
    "from torch import nn\n",
    "import torch.nn.functional as F\n",
    "from torch.utils.data import Dataset, DataLoader\n",
    "import torch.optim as optim\n",
    "from sklearn.model_selection import train_test_split\n",
    "import matplotlib.pyplot as plt\n",
    "from ipywidgets import IntProgress\n",
    "from torchsummary import summary"
   ]
  },
  {
   "cell_type": "code",
   "execution_count": 2,
   "metadata": {},
   "outputs": [],
   "source": [
    "torch.cuda.empty_cache()\n",
    "learning_rate = 1e-2\n",
    "lambda_c = 0.1\n",
    "num_epochs = 100\n",
    "op_name = \"AdamW\"\n",
    "# op_name = \"SGD\""
   ]
  },
  {
   "cell_type": "code",
   "execution_count": 3,
   "metadata": {},
   "outputs": [],
   "source": [
    "def seed_everything(seed_value):\n",
    "    random.seed(seed_value)\n",
    "    np.random.seed(seed_value)\n",
    "    torch.manual_seed(seed_value)\n",
    "    os.environ['PYTHONHASHSEED'] = str(seed_value)\n",
    "    \n",
    "    if torch.cuda.is_available(): \n",
    "        torch.cuda.manual_seed(seed_value)\n",
    "        torch.cuda.manual_seed_all(seed_value)\n",
    "        torch.backends.cudnn.deterministic = True\n",
    "        torch.backends.cudnn.benchmark = True\n",
    "\n",
    "seed = 42\n",
    "seed_everything(seed)"
   ]
  },
  {
   "cell_type": "code",
   "execution_count": 4,
   "metadata": {},
   "outputs": [],
   "source": [
    "def to_label(action):\n",
    "    strs = action.split(' ')\n",
    "    unit_id = strs[1]\n",
    "    if strs[0] == 'm':\n",
    "        label = {'c': None, 'n': 0, 's': 1, 'w': 2, 'e': 3}[strs[2]]\n",
    "    elif strs[0] == 'bcity':\n",
    "        label = 4\n",
    "    else:\n",
    "        label = None\n",
    "    return unit_id, label\n",
    "\n",
    "def depleted_resources(obs):\n",
    "    for u in obs['updates']:\n",
    "        if u.split(' ')[0] == 'r':\n",
    "            return False\n",
    "    return True\n",
    "\n",
    "def create_dataset_from_json(episode_dir, team_name='Toad Brigade'): \n",
    "    obses = {}\n",
    "    samples = []\n",
    "    append = samples.append\n",
    "    \n",
    "    episodes = [path for path in Path(episode_dir).glob('*.json') if 'output' not in path.name]\n",
    "    for filepath in tqdm(episodes): \n",
    "        with open(filepath) as f:\n",
    "            json_load = json.load(f)\n",
    "\n",
    "        ep_id = json_load['info']['EpisodeId']\n",
    "        index = np.argmax([r or 0 for r in json_load['rewards']])\n",
    "        if json_load['info']['TeamNames'][index] != team_name:\n",
    "            print(index,filepath)\n",
    "            continue\n",
    "\n",
    "        for i in range(len(json_load['steps'])-1):\n",
    "            if json_load['steps'][i][index]['status'] == 'ACTIVE':\n",
    "                actions = json_load['steps'][i+1][index]['action']\n",
    "                obs = json_load['steps'][i][0]['observation']\n",
    "                \n",
    "                if depleted_resources(obs):\n",
    "                    break\n",
    "                \n",
    "                obs['player'] = index\n",
    "                obs = dict([\n",
    "                    (k,v) for k,v in obs.items() \n",
    "                    if k in ['step', 'updates', 'player', 'width', 'height']\n",
    "                ])\n",
    "                obs_id = f'{ep_id}_{i}'\n",
    "                obses[obs_id] = obs\n",
    "                                \n",
    "                for action in actions:\n",
    "                    unit_id, label = to_label(action)\n",
    "                    if label is not None:\n",
    "                        append((obs_id, unit_id, label))\n",
    "\n",
    "    return obses, samples"
   ]
  },
  {
   "cell_type": "code",
   "execution_count": 5,
   "metadata": {},
   "outputs": [
    {
     "data": {
      "application/vnd.jupyter.widget-view+json": {
       "model_id": "76cffdf013794ca49ab5020db9a81329",
       "version_major": 2,
       "version_minor": 0
      },
      "text/plain": [
       "  0%|          | 0/1126 [00:00<?, ?it/s]"
      ]
     },
     "metadata": {},
     "output_type": "display_data"
    },
    {
     "name": "stdout",
     "output_type": "stream",
     "text": [
      "0 ../input/lux-ai-episodes/30032982.json\n",
      "1 ../input/lux-ai-episodes/29881187.json\n",
      "1 ../input/lux-ai-episodes/30084250.json\n",
      "1 ../input/lux-ai-episodes/29941134.json\n",
      "0 ../input/lux-ai-episodes/29941132.json\n",
      "0 ../input/lux-ai-episodes/30362914.json\n",
      "0 ../input/lux-ai-episodes/29429006.json\n",
      "1 ../input/lux-ai-episodes/29881186.json\n",
      "1 ../input/lux-ai-episodes/30226842.json\n",
      "0 ../input/lux-ai-episodes/30310209.json\n",
      "0 ../input/lux-ai-episodes/29694898.json\n",
      "0 ../input/lux-ai-episodes/28825750.json\n",
      "0 ../input/lux-ai-episodes/29697620.json\n",
      "0 ../input/lux-ai-episodes/26886148.json\n",
      "0 ../input/lux-ai-episodes/30362915.json\n",
      "1 ../input/lux-ai-episodes/29695641.json\n",
      "0 ../input/lux-ai-episodes/29851612.json\n",
      "1 ../input/lux-ai-episodes/29698613.json\n",
      "0 ../input/lux-ai-episodes/30114472.json\n",
      "1 ../input/lux-ai-episodes/29919414.json\n",
      "0 ../input/lux-ai-episodes/29744239.json\n",
      "1 ../input/lux-ai-episodes/30457789.json\n",
      "1 ../input/lux-ai-episodes/30155524.json\n",
      "0 ../input/lux-ai-episodes/29831871.json\n",
      "0 ../input/lux-ai-episodes/29692665.json\n",
      "0 ../input/lux-ai-episodes/30407208.json\n",
      "0 ../input/lux-ai-episodes/29626219.json\n",
      "0 ../input/lux-ai-episodes/29698856.json\n",
      "0 ../input/lux-ai-episodes/29690669.json\n",
      "1 ../input/lux-ai-episodes/29416859.json\n",
      "1 ../input/lux-ai-episodes/29700092.json\n",
      "1 ../input/lux-ai-episodes/30394596.json\n",
      "1 ../input/lux-ai-episodes/29693652.json\n",
      "1 ../input/lux-ai-episodes/29812064.json\n",
      "0 ../input/lux-ai-episodes/29692913.json\n",
      "1 ../input/lux-ai-episodes/29696879.json\n",
      "1 ../input/lux-ai-episodes/29861259.json\n",
      "1 ../input/lux-ai-episodes/29700835.json\n",
      "1 ../input/lux-ai-episodes/29755987.json\n",
      "1 ../input/lux-ai-episodes/29700091.json\n",
      "0 ../input/lux-ai-episodes/29696385.json\n",
      "1 ../input/lux-ai-episodes/30309682.json\n",
      "0 ../input/lux-ai-episodes/29275514.json\n",
      "1 ../input/lux-ai-episodes/29801938.json\n",
      "0 ../input/lux-ai-episodes/29693160.json\n",
      "0 ../input/lux-ai-episodes/29921059.json\n",
      "1 ../input/lux-ai-episodes/30352004.json\n",
      "0 ../input/lux-ai-episodes/29691163.json\n",
      "0 ../input/lux-ai-episodes/30352006.json\n",
      "0 ../input/lux-ai-episodes/30062989.json\n",
      "1 ../input/lux-ai-episodes/29951063.json\n",
      "1 ../input/lux-ai-episodes/29694151.json\n",
      "1 ../input/lux-ai-episodes/29693903.json\n",
      "0 ../input/lux-ai-episodes/29861715.json\n",
      "1 ../input/lux-ai-episodes/30407209.json\n",
      "0 ../input/lux-ai-episodes/29697872.json\n",
      "0 ../input/lux-ai-episodes/29239610.json\n",
      "1 ../input/lux-ai-episodes/29096611.json\n",
      "0 ../input/lux-ai-episodes/29776178.json\n",
      "1 ../input/lux-ai-episodes/29736725.json\n",
      "0 ../input/lux-ai-episodes/29861714.json\n",
      "1 ../input/lux-ai-episodes/29960940.json\n",
      "1 ../input/lux-ai-episodes/29356120.json\n",
      "1 ../input/lux-ai-episodes/29695889.json\n",
      "0 ../input/lux-ai-episodes/28416434.json\n",
      "1 ../input/lux-ai-episodes/30458832.json\n",
      "1 ../input/lux-ai-episodes/29910945.json\n",
      "0 ../input/lux-ai-episodes/30053306.json\n",
      "1 ../input/lux-ai-episodes/30105867.json\n",
      "0 ../input/lux-ai-episodes/26863030.json\n",
      "0 ../input/lux-ai-episodes/29901266.json\n",
      "1 ../input/lux-ai-episodes/29275279.json\n",
      "1 ../input/lux-ai-episodes/29693410.json\n",
      "1 ../input/lux-ai-episodes/30373583.json\n",
      "1 ../input/lux-ai-episodes/29692664.json\n",
      "0 ../input/lux-ai-episodes/30062990.json\n",
      "1 ../input/lux-ai-episodes/29807420.json\n",
      "0 ../input/lux-ai-episodes/30426145.json\n",
      "1 ../input/lux-ai-episodes/29691921.json\n",
      "0 ../input/lux-ai-episodes/29698364.json\n",
      "0 ../input/lux-ai-episodes/30155478.json\n",
      "1 ../input/lux-ai-episodes/29699842.json\n",
      "1 ../input/lux-ai-episodes/30145230.json\n",
      "1 ../input/lux-ai-episodes/30331044.json\n",
      "1 ../input/lux-ai-episodes/28867416.json\n",
      "0 ../input/lux-ai-episodes/30017529.json\n",
      "0 ../input/lux-ai-episodes/29569228.json\n",
      "1 ../input/lux-ai-episodes/29693406.json\n",
      "0 ../input/lux-ai-episodes/30320404.json\n",
      "0 ../input/lux-ai-episodes/30385302.json\n",
      "1 ../input/lux-ai-episodes/29901314.json\n",
      "0 ../input/lux-ai-episodes/30310328.json\n",
      "1 ../input/lux-ai-episodes/29769198.json\n",
      "1 ../input/lux-ai-episodes/29901317.json\n",
      "0 ../input/lux-ai-episodes/29697871.json\n",
      "1 ../input/lux-ai-episodes/30124925.json\n",
      "1 ../input/lux-ai-episodes/30134936.json\n",
      "1 ../input/lux-ai-episodes/30436988.json\n",
      "1 ../input/lux-ai-episodes/30383985.json\n",
      "0 ../input/lux-ai-episodes/30436332.json\n",
      "0 ../input/lux-ai-episodes/29951068.json\n",
      "1 ../input/lux-ai-episodes/29697375.json\n",
      "1 ../input/lux-ai-episodes/29426142.json\n",
      "0 ../input/lux-ai-episodes/30268504.json\n",
      "1 ../input/lux-ai-episodes/29753090.json\n",
      "0 ../input/lux-ai-episodes/29695888.json\n",
      "1 ../input/lux-ai-episodes/29732193.json\n",
      "0 ../input/lux-ai-episodes/30073321.json\n",
      "1 ../input/lux-ai-episodes/26742638.json\n",
      "1 ../input/lux-ai-episodes/30448107.json\n",
      "0 ../input/lux-ai-episodes/29636809.json\n",
      "1 ../input/lux-ai-episodes/29910351.json\n",
      "0 ../input/lux-ai-episodes/30012393.json\n",
      "1 ../input/lux-ai-episodes/26795899.json\n",
      "0 ../input/lux-ai-episodes/29302107.json\n",
      "0 ../input/lux-ai-episodes/29991186.json\n",
      "1 ../input/lux-ai-episodes/30267552.json\n",
      "0 ../input/lux-ai-episodes/29732903.json\n",
      "1 ../input/lux-ai-episodes/30362911.json\n",
      "1 ../input/lux-ai-episodes/29696384.json\n",
      "0 ../input/lux-ai-episodes/29900823.json\n",
      "0 ../input/lux-ai-episodes/26826225.json\n",
      "0 ../input/lux-ai-episodes/29707607.json\n",
      "1 ../input/lux-ai-episodes/29704004.json\n",
      "0 ../input/lux-ai-episodes/30186129.json\n",
      "0 ../input/lux-ai-episodes/29811185.json\n",
      "0 ../input/lux-ai-episodes/29559381.json\n",
      "1 ../input/lux-ai-episodes/30278923.json\n",
      "0 ../input/lux-ai-episodes/29712394.json\n",
      "1 ../input/lux-ai-episodes/26893313.json\n",
      "1 ../input/lux-ai-episodes/29738211.json\n",
      "0 ../input/lux-ai-episodes/29698367.json\n",
      "1 ../input/lux-ai-episodes/29651842.json\n",
      "0 ../input/lux-ai-episodes/30436957.json\n",
      "1 ../input/lux-ai-episodes/28416242.json\n",
      "1 ../input/lux-ai-episodes/30257480.json\n",
      "1 ../input/lux-ai-episodes/29697122.json\n",
      "0 ../input/lux-ai-episodes/26905405.json\n",
      "1 ../input/lux-ai-episodes/29771034.json\n",
      "0 ../input/lux-ai-episodes/30052754.json\n",
      "0 ../input/lux-ai-episodes/28952416.json\n",
      "1 ../input/lux-ai-episodes/30155473.json\n",
      "0 ../input/lux-ai-episodes/29691178.json\n",
      "1 ../input/lux-ai-episodes/29960948.json\n",
      "1 ../input/lux-ai-episodes/29721605.json\n",
      "0 ../input/lux-ai-episodes/29701096.json\n",
      "0 ../input/lux-ai-episodes/30299243.json\n",
      "1 ../input/lux-ai-episodes/30330499.json\n",
      "0 ../input/lux-ai-episodes/29392880.json\n",
      "0 ../input/lux-ai-episodes/30216215.json\n",
      "0 ../input/lux-ai-episodes/29742122.json\n",
      "0 ../input/lux-ai-episodes/30247576.json\n",
      "0 ../input/lux-ai-episodes/30011716.json\n",
      "0 ../input/lux-ai-episodes/30022284.json\n",
      "1 ../input/lux-ai-episodes/29694397.json\n",
      "1 ../input/lux-ai-episodes/30436942.json\n",
      "0 ../input/lux-ai-episodes/30395984.json\n",
      "0 ../input/lux-ai-episodes/30436947.json\n",
      "1 ../input/lux-ai-episodes/29745607.json\n",
      "0 ../input/lux-ai-episodes/29851611.json\n",
      "1 ../input/lux-ai-episodes/29694477.json\n",
      "1 ../input/lux-ai-episodes/30115014.json\n",
      "0 ../input/lux-ai-episodes/29691670.json\n",
      "1 ../input/lux-ai-episodes/26693490.json\n",
      "1 ../input/lux-ai-episodes/29392879.json\n",
      "1 ../input/lux-ai-episodes/30042903.json\n",
      "0 ../input/lux-ai-episodes/30406631.json\n",
      "1 ../input/lux-ai-episodes/29713597.json\n",
      "0 ../input/lux-ai-episodes/28468853.json\n",
      "1 ../input/lux-ai-episodes/30155479.json\n",
      "0 ../input/lux-ai-episodes/30362917.json\n",
      "0 ../input/lux-ai-episodes/29079471.json\n",
      "1 ../input/lux-ai-episodes/29656356.json\n",
      "0 ../input/lux-ai-episodes/29691672.json\n",
      "1 ../input/lux-ai-episodes/30383979.json\n",
      "0 ../input/lux-ai-episodes/29429247.json\n",
      "0 ../input/lux-ai-episodes/30226319.json\n",
      "0 ../input/lux-ai-episodes/29699597.json\n",
      "0 ../input/lux-ai-episodes/30216720.json\n",
      "1 ../input/lux-ai-episodes/29726786.json\n",
      "0 ../input/lux-ai-episodes/29991741.json\n",
      "1 ../input/lux-ai-episodes/30124451.json\n",
      "0 ../input/lux-ai-episodes/29691503.json\n",
      "1 ../input/lux-ai-episodes/30469616.json\n",
      "1 ../input/lux-ai-episodes/29284416.json\n",
      "0 ../input/lux-ai-episodes/29821761.json\n",
      "1 ../input/lux-ai-episodes/29931130.json\n",
      "0 ../input/lux-ai-episodes/30083692.json\n",
      "0 ../input/lux-ai-episodes/29588210.json\n",
      "0 ../input/lux-ai-episodes/26791851.json\n",
      "1 ../input/lux-ai-episodes/29699104.json\n",
      "0 ../input/lux-ai-episodes/29347011.json\n",
      "1 ../input/lux-ai-episodes/30024877.json\n",
      "0 ../input/lux-ai-episodes/29690929.json\n",
      "0 ../input/lux-ai-episodes/29665793.json\n",
      "1 ../input/lux-ai-episodes/30165882.json\n",
      "1 ../input/lux-ai-episodes/29694644.json\n",
      "0 ../input/lux-ai-episodes/30362261.json\n",
      "0 ../input/lux-ai-episodes/30373590.json\n",
      "0 ../input/lux-ai-episodes/29831930.json\n",
      "1 ../input/lux-ai-episodes/30289261.json\n",
      "0 ../input/lux-ai-episodes/29410785.json\n",
      "0 ../input/lux-ai-episodes/29981641.json\n",
      "1 ../input/lux-ai-episodes/29891112.json\n",
      "0 ../input/lux-ai-episodes/29694209.json\n",
      "0 ../input/lux-ai-episodes/29695394.json\n",
      "0 ../input/lux-ai-episodes/30341571.json\n",
      "0 ../input/lux-ai-episodes/29891629.json\n",
      "1 ../input/lux-ai-episodes/29871802.json\n",
      "0 ../input/lux-ai-episodes/30083693.json\n",
      "1 ../input/lux-ai-episodes/30001937.json\n",
      "1 ../input/lux-ai-episodes/29881688.json\n",
      "0 ../input/lux-ai-episodes/30278969.json\n",
      "0 ../input/lux-ai-episodes/30446788.json\n",
      "0 ../input/lux-ai-episodes/30268496.json\n",
      "0 ../input/lux-ai-episodes/29699350.json\n",
      "1 ../input/lux-ai-episodes/30186162.json\n",
      "0 ../input/lux-ai-episodes/30196262.json\n",
      "0 ../input/lux-ai-episodes/26720475.json\n",
      "0 ../input/lux-ai-episodes/29821641.json\n",
      "1 ../input/lux-ai-episodes/30134939.json\n",
      "0 ../input/lux-ai-episodes/29275287.json\n",
      "0 ../input/lux-ai-episodes/29410822.json\n",
      "1 ../input/lux-ai-episodes/30237330.json\n",
      "0 ../input/lux-ai-episodes/29700588.json\n",
      "1 ../input/lux-ai-episodes/30063510.json\n",
      "0 ../input/lux-ai-episodes/29370052.json\n",
      "1 ../input/lux-ai-episodes/30236823.json\n",
      "0 ../input/lux-ai-episodes/29697621.json\n",
      "0 ../input/lux-ai-episodes/30396608.json\n",
      "1 ../input/lux-ai-episodes/29694897.json\n",
      "0 ../input/lux-ai-episodes/30468332.json\n",
      "0 ../input/lux-ai-episodes/30155480.json\n",
      "0 ../input/lux-ai-episodes/29696632.json\n",
      "1 ../input/lux-ai-episodes/30084251.json\n",
      "0 ../input/lux-ai-episodes/30480122.json\n",
      "1 ../input/lux-ai-episodes/29625986.json\n",
      "0 ../input/lux-ai-episodes/30320403.json\n",
      "0 ../input/lux-ai-episodes/30426178.json\n",
      "0 ../input/lux-ai-episodes/29971312.json\n",
      "1 ../input/lux-ai-episodes/30145226.json\n",
      "0 ../input/lux-ai-episodes/29695393.json\n",
      "0 ../input/lux-ai-episodes/29646507.json\n",
      "1 ../input/lux-ai-episodes/30073920.json\n",
      "0 ../input/lux-ai-episodes/29698118.json\n",
      "0 ../input/lux-ai-episodes/26777442.json\n",
      "1 ../input/lux-ai-episodes/30196270.json\n",
      "1 ../input/lux-ai-episodes/29751920.json\n",
      "1 ../input/lux-ai-episodes/29693897.json\n",
      "0 ../input/lux-ai-episodes/29692909.json\n",
      "1 ../input/lux-ai-episodes/29699598.json\n",
      "0 ../input/lux-ai-episodes/29699105.json\n",
      "0 ../input/lux-ai-episodes/29841269.json\n",
      "0 ../input/lux-ai-episodes/26694432.json\n",
      "0 ../input/lux-ai-episodes/29329003.json\n",
      "1 ../input/lux-ai-episodes/30248081.json\n",
      "0 ../input/lux-ai-episodes/29700339.json\n",
      "1 ../input/lux-ai-episodes/30362876.json\n",
      "0 ../input/lux-ai-episodes/30299788.json\n",
      "1 ../input/lux-ai-episodes/29483591.json\n",
      "0 ../input/lux-ai-episodes/30104757.json\n",
      "0 ../input/lux-ai-episodes/29931129.json\n",
      "1 ../input/lux-ai-episodes/30165886.json\n",
      "1 ../input/lux-ai-episodes/26870434.json\n",
      "1 ../input/lux-ai-episodes/29760653.json\n",
      "1 ../input/lux-ai-episodes/29762294.json\n",
      "0 ../input/lux-ai-episodes/29778055.json\n",
      "0 ../input/lux-ai-episodes/29708339.json\n",
      "0 ../input/lux-ai-episodes/30226859.json\n",
      "0 ../input/lux-ai-episodes/29699844.json\n",
      "1 ../input/lux-ai-episodes/30373584.json\n",
      "1 ../input/lux-ai-episodes/29841738.json\n",
      "1 ../input/lux-ai-episodes/29721591.json\n",
      "1 ../input/lux-ai-episodes/29722767.json\n",
      "1 ../input/lux-ai-episodes/30331073.json\n",
      "0 ../input/lux-ai-episodes/29698614.json\n",
      "0 ../input/lux-ai-episodes/29700585.json\n",
      "1 ../input/lux-ai-episodes/29802444.json\n",
      "0 ../input/lux-ai-episodes/26692184.json\n",
      "0 ../input/lux-ai-episodes/29698120.json\n",
      "1 ../input/lux-ai-episodes/29971249.json\n",
      "1 ../input/lux-ai-episodes/29981633.json\n",
      "0 ../input/lux-ai-episodes/30022857.json\n",
      "0 ../input/lux-ai-episodes/29693162.json\n",
      "1 ../input/lux-ai-episodes/30478848.json\n",
      "1 ../input/lux-ai-episodes/30124923.json\n",
      "0 ../input/lux-ai-episodes/29578640.json\n",
      "1 ../input/lux-ai-episodes/29941135.json\n",
      "1 ../input/lux-ai-episodes/29696633.json\n",
      "0 ../input/lux-ai-episodes/30447768.json\n",
      "0 ../input/lux-ai-episodes/29841686.json\n",
      "0 ../input/lux-ai-episodes/30406621.json\n",
      "0 ../input/lux-ai-episodes/29698860.json\n",
      "0 ../input/lux-ai-episodes/29812512.json\n",
      "1 ../input/lux-ai-episodes/29701084.json\n",
      "1 ../input/lux-ai-episodes/29821638.json\n",
      "0 ../input/lux-ai-episodes/29736298.json\n",
      "0 ../input/lux-ai-episodes/29792569.json\n",
      "1 ../input/lux-ai-episodes/29692169.json\n",
      "0 ../input/lux-ai-episodes/29311074.json\n",
      "0 ../input/lux-ai-episodes/29455892.json\n",
      "1 ../input/lux-ai-episodes/29695146.json\n",
      "0 ../input/lux-ai-episodes/30489419.json\n",
      "1 ../input/lux-ai-episodes/29700341.json\n",
      "1 ../input/lux-ai-episodes/30175942.json\n",
      "1 ../input/lux-ai-episodes/30165880.json\n",
      "1 ../input/lux-ai-episodes/30425558.json\n",
      "1 ../input/lux-ai-episodes/29691423.json\n",
      "0 ../input/lux-ai-episodes/30001301.json\n",
      "0 ../input/lux-ai-episodes/29716671.json\n",
      "0 ../input/lux-ai-episodes/29696878.json\n",
      "0 ../input/lux-ai-episodes/29699349.json\n",
      "0 ../input/lux-ai-episodes/29472017.json\n",
      "0 ../input/lux-ai-episodes/30145219.json\n",
      "0 ../input/lux-ai-episodes/30014407.json\n",
      "1 ../input/lux-ai-episodes/29991750.json\n",
      "1 ../input/lux-ai-episodes/29792205.json\n",
      "0 ../input/lux-ai-episodes/30415692.json\n",
      "1 ../input/lux-ai-episodes/30206053.json\n",
      "1 ../input/lux-ai-episodes/30094507.json\n",
      "0 ../input/lux-ai-episodes/30331047.json\n",
      "1 ../input/lux-ai-episodes/29484737.json\n",
      "0 ../input/lux-ai-episodes/29346999.json\n",
      "0 ../input/lux-ai-episodes/29891572.json\n",
      "0 ../input/lux-ai-episodes/29697125.json\n",
      "0 ../input/lux-ai-episodes/30124924.json\n",
      "1 ../input/lux-ai-episodes/29257409.json\n",
      "0 ../input/lux-ai-episodes/29691922.json\n",
      "0 ../input/lux-ai-episodes/28809722.json\n",
      "0 ../input/lux-ai-episodes/29704712.json\n",
      "1 ../input/lux-ai-episodes/29578394.json\n",
      "1 ../input/lux-ai-episodes/29861440.json\n",
      "0 ../input/lux-ai-episodes/29694643.json\n",
      "1 ../input/lux-ai-episodes/29693657.json\n",
      "1 ../input/lux-ai-episodes/30186123.json\n",
      "1 ../input/lux-ai-episodes/30104759.json\n",
      "1 ../input/lux-ai-episodes/30426214.json\n",
      "1 ../input/lux-ai-episodes/29971317.json\n",
      "0 ../input/lux-ai-episodes/26767236.json\n",
      "0 ../input/lux-ai-episodes/30206558.json\n",
      "1 ../input/lux-ai-episodes/30094504.json\n",
      "1 ../input/lux-ai-episodes/29697378.json\n",
      "1 ../input/lux-ai-episodes/28682329.json\n",
      "1 ../input/lux-ai-episodes/29746240.json\n",
      "0 ../input/lux-ai-episodes/29760392.json\n",
      "0 ../input/lux-ai-episodes/29347042.json\n",
      "1 ../input/lux-ai-episodes/29792681.json\n",
      "1 ../input/lux-ai-episodes/30289294.json\n",
      "0 ../input/lux-ai-episodes/29578373.json\n",
      "0 ../input/lux-ai-episodes/29871724.json\n",
      "1 ../input/lux-ai-episodes/29691424.json\n",
      "1 ../input/lux-ai-episodes/29738061.json\n",
      "1 ../input/lux-ai-episodes/30278438.json\n",
      "0 ../input/lux-ai-episodes/30373587.json\n",
      "0 ../input/lux-ai-episodes/29786865.json\n",
      "1 ../input/lux-ai-episodes/30319871.json\n",
      "0 ../input/lux-ai-episodes/29851175.json\n",
      "1 ../input/lux-ai-episodes/29692419.json\n",
      "0 ../input/lux-ai-episodes/30034836.json\n",
      "0 ../input/lux-ai-episodes/29695642.json\n",
      "0 ../input/lux-ai-episodes/30186124.json\n",
      "0 ../input/lux-ai-episodes/29546601.json\n",
      "0 ../input/lux-ai-episodes/29695147.json\n",
      "1 ../input/lux-ai-episodes/29694019.json\n",
      "1 ../input/lux-ai-episodes/29961012.json\n",
      "1 ../input/lux-ai-episodes/29694398.json\n",
      "0 ../input/lux-ai-episodes/30394558.json\n",
      "1 ../input/lux-ai-episodes/29920409.json\n",
      "1 ../input/lux-ai-episodes/29711946.json\n",
      "0 ../input/lux-ai-episodes/29701341.json\n",
      "1 ../input/lux-ai-episodes/29700831.json\n",
      "1 ../input/lux-ai-episodes/29465909.json\n",
      "0 ../input/lux-ai-episodes/30341542.json\n",
      "0 ../input/lux-ai-episodes/29981634.json\n",
      "1 ../input/lux-ai-episodes/30175454.json\n",
      "1 ../input/lux-ai-episodes/29782015.json\n",
      "1 ../input/lux-ai-episodes/29694152.json\n",
      "1 ../input/lux-ai-episodes/29960945.json\n",
      "1 ../input/lux-ai-episodes/29841739.json\n",
      "1 ../input/lux-ai-episodes/29692171.json\n",
      "0 ../input/lux-ai-episodes/29691855.json\n",
      "1 ../input/lux-ai-episodes/29656381.json\n",
      "0 ../input/lux-ai-episodes/29702005.json\n",
      "1 ../input/lux-ai-episodes/29716945.json\n",
      "0 ../input/lux-ai-episodes/30489792.json\n",
      "1 ../input/lux-ai-episodes/29765974.json\n",
      "0 ../input/lux-ai-episodes/30186121.json\n",
      "1 ../input/lux-ai-episodes/29726790.json\n",
      "1 ../input/lux-ai-episodes/29521534.json\n",
      "0 ../input/lux-ai-episodes/30352003.json\n",
      "1 ../input/lux-ai-episodes/29831465.json\n",
      "1 ../input/lux-ai-episodes/29549786.json\n",
      "1 ../input/lux-ai-episodes/29447153.json\n",
      "1 ../input/lux-ai-episodes/29692416.json\n",
      "1 ../input/lux-ai-episodes/29691177.json\n",
      "0 ../input/lux-ai-episodes/29930474.json\n",
      "1 ../input/lux-ai-episodes/29891113.json\n",
      "1 ../input/lux-ai-episodes/29696139.json\n",
      "0 ../input/lux-ai-episodes/29971418.json\n",
      "1 ../input/lux-ai-episodes/30206560.json\n",
      "1 ../input/lux-ai-episodes/29257410.json\n",
      "0 ../input/lux-ai-episodes/29696137.json\n",
      "obses: 237170 samples: 1460691\n"
     ]
    }
   ],
   "source": [
    "episode_dir = '../input/lux-ai-episodes'\n",
    "obses, samples = create_dataset_from_json(episode_dir)\n",
    "print('obses:', len(obses), 'samples:', len(samples))"
   ]
  },
  {
   "cell_type": "code",
   "execution_count": 6,
   "metadata": {},
   "outputs": [
    {
     "name": "stdout",
     "output_type": "stream",
     "text": [
      "north: 382547\n",
      "south: 373710\n",
      "west : 307699\n",
      "east : 304856\n",
      "bcity: 91879\n"
     ]
    }
   ],
   "source": [
    "labels = [sample[-1] for sample in samples]\n",
    "actions = ['north', 'south', 'west', 'east', 'bcity']\n",
    "for value, count in zip(*np.unique(labels, return_counts=True)):\n",
    "    print(f'{actions[value]:^5}: {count:>3}')"
   ]
  },
  {
   "cell_type": "code",
   "execution_count": 7,
   "metadata": {},
   "outputs": [],
   "source": [
    "# Input for Neural Network\n",
    "def make_input(obs, unit_id):\n",
    "    width, height = obs['width'], obs['height']\n",
    "    x_shift = (32 - width) // 2\n",
    "    y_shift = (32 - height) // 2\n",
    "    cities = {}\n",
    "    \n",
    "    b = np.zeros((20, 32, 32), dtype=np.float32)\n",
    "    \n",
    "    for update in obs['updates']:\n",
    "        strs = update.split(' ')\n",
    "        input_identifier = strs[0]\n",
    "        \n",
    "        if input_identifier == 'u':\n",
    "            x = int(strs[4]) + x_shift\n",
    "            y = int(strs[5]) + y_shift\n",
    "            wood = int(strs[7])\n",
    "            coal = int(strs[8])\n",
    "            uranium = int(strs[9])\n",
    "            if unit_id == strs[3]:\n",
    "                # Position and Cargo\n",
    "                b[:2, x, y] = (\n",
    "                    1,\n",
    "                    (wood + coal + uranium) / 100\n",
    "                )\n",
    "            else:\n",
    "                # Units\n",
    "                team = int(strs[2])\n",
    "                cooldown = float(strs[6])\n",
    "                idx = 2 + (team - obs['player']) % 2 * 3\n",
    "                b[idx:idx + 3, x, y] = (\n",
    "                    1,\n",
    "                    cooldown / 6,\n",
    "                    (wood + coal + uranium) / 100\n",
    "                )\n",
    "        elif input_identifier == 'ct':\n",
    "            # CityTiles\n",
    "            team = int(strs[1])\n",
    "            city_id = strs[2]\n",
    "            x = int(strs[3]) + x_shift\n",
    "            y = int(strs[4]) + y_shift\n",
    "            idx = 8 + (team - obs['player']) % 2 * 2\n",
    "            b[idx:idx + 2, x, y] = (\n",
    "                1,\n",
    "                cities[city_id]\n",
    "            )\n",
    "        elif input_identifier == 'r':\n",
    "            # Resources\n",
    "            r_type = strs[1]\n",
    "            x = int(strs[2]) + x_shift\n",
    "            y = int(strs[3]) + y_shift\n",
    "            amt = int(float(strs[4]))\n",
    "            b[{'wood': 12, 'coal': 13, 'uranium': 14}[r_type], x, y] = amt / 800\n",
    "        elif input_identifier == 'rp':\n",
    "            # Research Points\n",
    "            team = int(strs[1])\n",
    "            rp = int(strs[2])\n",
    "            b[15 + (team - obs['player']) % 2, :] = min(rp, 200) / 200\n",
    "        elif input_identifier == 'c':\n",
    "            # Cities\n",
    "            city_id = strs[2]\n",
    "            fuel = float(strs[3])\n",
    "            lightupkeep = float(strs[4])\n",
    "            cities[city_id] = min(fuel / lightupkeep, 10) / 10\n",
    "    \n",
    "    # Day/Night Cycle\n",
    "    b[17, :] = obs['step'] % 40 / 40\n",
    "    # Turns\n",
    "    b[18, :] = obs['step'] / 360\n",
    "    # Map Size\n",
    "    b[19, x_shift:32 - x_shift, y_shift:32 - y_shift] = 1\n",
    "\n",
    "    return b\n",
    "\n",
    "\n",
    "class LuxDataset(Dataset):\n",
    "    def __init__(self, obses, samples):\n",
    "        self.obses = obses\n",
    "        self.samples = samples\n",
    "        \n",
    "    def __len__(self):\n",
    "        return len(self.samples)\n",
    "\n",
    "    def __getitem__(self, idx):\n",
    "        obs_id, unit_id, action = self.samples[idx]\n",
    "        obs = self.obses[obs_id]\n",
    "        state = make_input(obs, unit_id)\n",
    "        \n",
    "        return state, action"
   ]
  },
  {
   "cell_type": "code",
   "execution_count": 8,
   "metadata": {},
   "outputs": [],
   "source": [
    "# Neural Network for Lux AI\n",
    "class BasicConv2d(nn.Module):\n",
    "    def __init__(self, input_dim, output_dim, kernel_size, bn):\n",
    "        super().__init__()\n",
    "        self.conv = nn.Conv2d(\n",
    "            input_dim, output_dim, \n",
    "            kernel_size=kernel_size, \n",
    "            padding=(kernel_size[0] // 2, kernel_size[1] // 2)\n",
    "        )\n",
    "        self.bn = nn.BatchNorm2d(output_dim) if bn else None\n",
    "\n",
    "    def forward(self, x):\n",
    "        h = self.conv(x)\n",
    "        h = self.bn(h) if self.bn is not None else h\n",
    "        return h\n",
    "\n",
    "\n",
    "class LuxNet(nn.Module):\n",
    "    def __init__(self):\n",
    "        super().__init__()\n",
    "        layers, filters = 12, 32\n",
    "        self.conv0 = BasicConv2d(20, filters, (3, 3), True)\n",
    "        self.blocks = nn.ModuleList([BasicConv2d(filters, filters, (3, 3), True) for _ in range(layers)])\n",
    "        self.head_p = nn.Linear(filters, 5, bias=False)\n",
    "\n",
    "    def forward(self, x):\n",
    "        h = F.relu_(self.conv0(x))\n",
    "        for block in self.blocks:\n",
    "            h = F.relu_(h + block(h))\n",
    "        h_head = (h * x[:,:1]).view(h.size(0), h.size(1), -1).sum(-1)\n",
    "        p = self.head_p(h_head)\n",
    "        return p"
   ]
  },
  {
   "cell_type": "code",
   "execution_count": 9,
   "metadata": {},
   "outputs": [],
   "source": [
    "def train_model(model, dataloaders_dict, criterion, optimizer, num_epochs):\n",
    "    best_acc = 0.0\n",
    "    \n",
    "    train_losses = []\n",
    "    val_losses = []\n",
    "    \n",
    "    train_accs = []\n",
    "    val_accs = []\n",
    "    lrs = []\n",
    "\n",
    "    lambda1 = lambda epoch: lambda_c ** epoch\n",
    "    scheduler = optim.lr_scheduler.LambdaLR(optimizer, lr_lambda=lambda1)\n",
    "\n",
    "    for epoch in range(num_epochs):\n",
    "        model.cuda()\n",
    "        \n",
    "        for phase in ['train', 'val']:\n",
    "            if phase == 'train':\n",
    "                model.train()\n",
    "            else:\n",
    "                model.eval()\n",
    "                \n",
    "            epoch_loss = 0.0\n",
    "            epoch_acc = 0\n",
    "            \n",
    "            dataloader = dataloaders_dict[phase]\n",
    "            for item in tqdm(dataloader, leave=False):\n",
    "                states = item[0].cuda().float()\n",
    "                actions = item[1].cuda().long()\n",
    "\n",
    "                optimizer.zero_grad()\n",
    "                with torch.set_grad_enabled(phase == 'train'):\n",
    "                    policy = model(states)\n",
    "                    loss = criterion(policy, actions)\n",
    "                    _, preds = torch.max(policy, 1)\n",
    "\n",
    "                    if phase == 'train':\n",
    "                        loss.backward()\n",
    "                        optimizer.step()\n",
    "\n",
    "                    epoch_loss += torch.mul(loss.item(), len(policy)).cpu()\n",
    "                    epoch_acc += torch.sum(preds == actions.data).cpu()\n",
    "\n",
    "            data_size = len(dataloader.dataset)\n",
    "            \n",
    "            epoch_loss = epoch_loss / data_size\n",
    "            epoch_acc = epoch_acc.double() / data_size\n",
    "            \n",
    "            if phase == 'train':\n",
    "                train_losses.append(epoch_loss)\n",
    "                train_accs.append(epoch_acc)\n",
    "            else:\n",
    "                val_losses.append(epoch_loss)\n",
    "                val_accs.append(epoch_acc)\n",
    "\n",
    "            print(f'Epoch {epoch + 1}/{num_epochs} |  LR: {scheduler.get_last_lr()} | {phase:^5} | Loss: {epoch_loss:.4f} | Acc: {epoch_acc:.4f}')\n",
    "        \n",
    "        if epoch_acc > best_acc:\n",
    "            traced = torch.jit.trace(model.cpu(), torch.rand(1, 20, 32, 32))\n",
    "            traced.save(f'./pretrained_models_with_large_data/model_{epoch_acc}.pth')\n",
    "            best_acc = epoch_acc\n",
    "        else:\n",
    "            scheduler.step()\n",
    "        lrs.append(optimizer.param_groups[0][\"lr\"])\n",
    "    \n",
    "    return train_losses, train_accs, val_losses, val_accs, lrs"
   ]
  },
  {
   "cell_type": "code",
   "execution_count": 10,
   "metadata": {},
   "outputs": [
    {
     "name": "stdout",
     "output_type": "stream",
     "text": [
      "----------------------------------------------------------------\n",
      "        Layer (type)               Output Shape         Param #\n",
      "================================================================\n",
      "            Conv2d-1           [-1, 32, 32, 32]           5,792\n",
      "       BatchNorm2d-2           [-1, 32, 32, 32]              64\n",
      "       BasicConv2d-3           [-1, 32, 32, 32]               0\n",
      "            Conv2d-4           [-1, 32, 32, 32]           9,248\n",
      "       BatchNorm2d-5           [-1, 32, 32, 32]              64\n",
      "       BasicConv2d-6           [-1, 32, 32, 32]               0\n",
      "            Conv2d-7           [-1, 32, 32, 32]           9,248\n",
      "       BatchNorm2d-8           [-1, 32, 32, 32]              64\n",
      "       BasicConv2d-9           [-1, 32, 32, 32]               0\n",
      "           Conv2d-10           [-1, 32, 32, 32]           9,248\n",
      "      BatchNorm2d-11           [-1, 32, 32, 32]              64\n",
      "      BasicConv2d-12           [-1, 32, 32, 32]               0\n",
      "           Conv2d-13           [-1, 32, 32, 32]           9,248\n",
      "      BatchNorm2d-14           [-1, 32, 32, 32]              64\n",
      "      BasicConv2d-15           [-1, 32, 32, 32]               0\n",
      "           Conv2d-16           [-1, 32, 32, 32]           9,248\n",
      "      BatchNorm2d-17           [-1, 32, 32, 32]              64\n",
      "      BasicConv2d-18           [-1, 32, 32, 32]               0\n",
      "           Conv2d-19           [-1, 32, 32, 32]           9,248\n",
      "      BatchNorm2d-20           [-1, 32, 32, 32]              64\n",
      "      BasicConv2d-21           [-1, 32, 32, 32]               0\n",
      "           Conv2d-22           [-1, 32, 32, 32]           9,248\n",
      "      BatchNorm2d-23           [-1, 32, 32, 32]              64\n",
      "      BasicConv2d-24           [-1, 32, 32, 32]               0\n",
      "           Conv2d-25           [-1, 32, 32, 32]           9,248\n",
      "      BatchNorm2d-26           [-1, 32, 32, 32]              64\n",
      "      BasicConv2d-27           [-1, 32, 32, 32]               0\n",
      "           Conv2d-28           [-1, 32, 32, 32]           9,248\n",
      "      BatchNorm2d-29           [-1, 32, 32, 32]              64\n",
      "      BasicConv2d-30           [-1, 32, 32, 32]               0\n",
      "           Conv2d-31           [-1, 32, 32, 32]           9,248\n",
      "      BatchNorm2d-32           [-1, 32, 32, 32]              64\n",
      "      BasicConv2d-33           [-1, 32, 32, 32]               0\n",
      "           Conv2d-34           [-1, 32, 32, 32]           9,248\n",
      "      BatchNorm2d-35           [-1, 32, 32, 32]              64\n",
      "      BasicConv2d-36           [-1, 32, 32, 32]               0\n",
      "           Conv2d-37           [-1, 32, 32, 32]           9,248\n",
      "      BatchNorm2d-38           [-1, 32, 32, 32]              64\n",
      "      BasicConv2d-39           [-1, 32, 32, 32]               0\n",
      "           Linear-40                    [-1, 5]             160\n",
      "================================================================\n",
      "Total params: 117,760\n",
      "Trainable params: 117,760\n",
      "Non-trainable params: 0\n",
      "----------------------------------------------------------------\n",
      "Input size (MB): 0.08\n",
      "Forward/backward pass size (MB): 9.75\n",
      "Params size (MB): 0.45\n",
      "Estimated Total Size (MB): 10.28\n",
      "----------------------------------------------------------------\n"
     ]
    }
   ],
   "source": [
    "device = torch.device(\"cuda\" if torch.cuda.is_available() else \"cpu\") \n",
    "model = LuxNet().to(device)\n",
    "summary(model, (20, 32, 32))\n",
    "train, val = train_test_split(samples, test_size=0.1, random_state=42, stratify=labels)\n",
    "batch_size = 64\n",
    "train_loader = DataLoader(\n",
    "    LuxDataset(obses, train), \n",
    "    batch_size=batch_size, \n",
    "    shuffle=True, \n",
    "    num_workers=2\n",
    ")\n",
    "val_loader = DataLoader(\n",
    "    LuxDataset(obses, val), \n",
    "    batch_size=batch_size, \n",
    "    shuffle=False, \n",
    "    num_workers=2\n",
    ")\n",
    "dataloaders_dict = {\"train\": train_loader, \"val\": val_loader}\n",
    "criterion = nn.CrossEntropyLoss()\n",
    "\n",
    "optimizers = { \n",
    "    'AdamW': optim.AdamW(params=model.parameters(),lr=learning_rate),\n",
    "    'SGD': optim.SGD(model.parameters(), lr=learning_rate, momentum=0.9)\n",
    "    }"
   ]
  },
  {
   "cell_type": "code",
   "execution_count": 11,
   "metadata": {},
   "outputs": [
    {
     "name": "stdout",
     "output_type": "stream",
     "text": [
      "Optimizer: AdamW\n"
     ]
    },
    {
     "data": {
      "application/vnd.jupyter.widget-view+json": {
       "model_id": "d40c5c6ba4b84bf1b5e2f52abad1d42b",
       "version_major": 2,
       "version_minor": 0
      },
      "text/plain": [
       "  0%|          | 0/20541 [00:00<?, ?it/s]"
      ]
     },
     "metadata": {},
     "output_type": "display_data"
    },
    {
     "name": "stdout",
     "output_type": "stream",
     "text": [
      "Epoch 1/100 |  LR: [0.01] | train | Loss: 0.8441 | Acc: 0.6523\n"
     ]
    },
    {
     "data": {
      "application/vnd.jupyter.widget-view+json": {
       "model_id": "bf2ab28513194ed5a68615bd14d126f0",
       "version_major": 2,
       "version_minor": 0
      },
      "text/plain": [
       "  0%|          | 0/2283 [00:00<?, ?it/s]"
      ]
     },
     "metadata": {},
     "output_type": "display_data"
    },
    {
     "name": "stdout",
     "output_type": "stream",
     "text": [
      "Epoch 1/100 |  LR: [0.01] |  val  | Loss: 0.7965 | Acc: 0.6750\n"
     ]
    },
    {
     "data": {
      "application/vnd.jupyter.widget-view+json": {
       "model_id": "9e614834335b42feb4827cc2c4dde351",
       "version_major": 2,
       "version_minor": 0
      },
      "text/plain": [
       "  0%|          | 0/20541 [00:00<?, ?it/s]"
      ]
     },
     "metadata": {},
     "output_type": "display_data"
    },
    {
     "name": "stdout",
     "output_type": "stream",
     "text": [
      "Epoch 2/100 |  LR: [0.01] | train | Loss: 0.7455 | Acc: 0.6955\n"
     ]
    },
    {
     "data": {
      "application/vnd.jupyter.widget-view+json": {
       "model_id": "a54fd58ec30c40898963044a8506499b",
       "version_major": 2,
       "version_minor": 0
      },
      "text/plain": [
       "  0%|          | 0/2283 [00:00<?, ?it/s]"
      ]
     },
     "metadata": {},
     "output_type": "display_data"
    },
    {
     "name": "stdout",
     "output_type": "stream",
     "text": [
      "Epoch 2/100 |  LR: [0.01] |  val  | Loss: 0.7368 | Acc: 0.6995\n"
     ]
    },
    {
     "data": {
      "application/vnd.jupyter.widget-view+json": {
       "model_id": "06897ca4e92c4517b49330253a1313a0",
       "version_major": 2,
       "version_minor": 0
      },
      "text/plain": [
       "  0%|          | 0/20541 [00:00<?, ?it/s]"
      ]
     },
     "metadata": {},
     "output_type": "display_data"
    },
    {
     "name": "stdout",
     "output_type": "stream",
     "text": [
      "Epoch 3/100 |  LR: [0.01] | train | Loss: 0.7296 | Acc: 0.7022\n"
     ]
    },
    {
     "data": {
      "application/vnd.jupyter.widget-view+json": {
       "model_id": "fb1716a6e1b24029920a9d9bd5e5e706",
       "version_major": 2,
       "version_minor": 0
      },
      "text/plain": [
       "  0%|          | 0/2283 [00:00<?, ?it/s]"
      ]
     },
     "metadata": {},
     "output_type": "display_data"
    },
    {
     "name": "stdout",
     "output_type": "stream",
     "text": [
      "Epoch 3/100 |  LR: [0.01] |  val  | Loss: 0.7176 | Acc: 0.7087\n"
     ]
    },
    {
     "data": {
      "application/vnd.jupyter.widget-view+json": {
       "model_id": "5f39c063b4844de39c4f047fe9468416",
       "version_major": 2,
       "version_minor": 0
      },
      "text/plain": [
       "  0%|          | 0/20541 [00:00<?, ?it/s]"
      ]
     },
     "metadata": {},
     "output_type": "display_data"
    },
    {
     "name": "stdout",
     "output_type": "stream",
     "text": [
      "Epoch 4/100 |  LR: [0.01] | train | Loss: 0.7222 | Acc: 0.7053\n"
     ]
    },
    {
     "data": {
      "application/vnd.jupyter.widget-view+json": {
       "model_id": "579181df678b4ca5b01f71dc9b2c093e",
       "version_major": 2,
       "version_minor": 0
      },
      "text/plain": [
       "  0%|          | 0/2283 [00:00<?, ?it/s]"
      ]
     },
     "metadata": {},
     "output_type": "display_data"
    },
    {
     "name": "stdout",
     "output_type": "stream",
     "text": [
      "Epoch 4/100 |  LR: [0.01] |  val  | Loss: 0.7184 | Acc: 0.7072\n"
     ]
    },
    {
     "data": {
      "application/vnd.jupyter.widget-view+json": {
       "model_id": "b645c3eacdea4eb48cde292d7707e94b",
       "version_major": 2,
       "version_minor": 0
      },
      "text/plain": [
       "  0%|          | 0/20541 [00:00<?, ?it/s]"
      ]
     },
     "metadata": {},
     "output_type": "display_data"
    },
    {
     "name": "stdout",
     "output_type": "stream",
     "text": [
      "Epoch 5/100 |  LR: [0.001] | train | Loss: 0.6067 | Acc: 0.7541\n"
     ]
    },
    {
     "data": {
      "application/vnd.jupyter.widget-view+json": {
       "model_id": "fdf9adfefc4a43dea1ff083f634232db",
       "version_major": 2,
       "version_minor": 0
      },
      "text/plain": [
       "  0%|          | 0/2283 [00:00<?, ?it/s]"
      ]
     },
     "metadata": {},
     "output_type": "display_data"
    },
    {
     "name": "stdout",
     "output_type": "stream",
     "text": [
      "Epoch 5/100 |  LR: [0.001] |  val  | Loss: 0.5897 | Acc: 0.7621\n"
     ]
    },
    {
     "data": {
      "application/vnd.jupyter.widget-view+json": {
       "model_id": "b2036538ca3a46b2af4fdcb490e9e1cd",
       "version_major": 2,
       "version_minor": 0
      },
      "text/plain": [
       "  0%|          | 0/20541 [00:00<?, ?it/s]"
      ]
     },
     "metadata": {},
     "output_type": "display_data"
    },
    {
     "name": "stdout",
     "output_type": "stream",
     "text": [
      "Epoch 6/100 |  LR: [0.001] | train | Loss: 0.5828 | Acc: 0.7642\n"
     ]
    },
    {
     "data": {
      "application/vnd.jupyter.widget-view+json": {
       "model_id": "7088f4bccb244a5fa4d64a4a635943a2",
       "version_major": 2,
       "version_minor": 0
      },
      "text/plain": [
       "  0%|          | 0/2283 [00:00<?, ?it/s]"
      ]
     },
     "metadata": {},
     "output_type": "display_data"
    },
    {
     "name": "stdout",
     "output_type": "stream",
     "text": [
      "Epoch 6/100 |  LR: [0.001] |  val  | Loss: 0.5848 | Acc: 0.7641\n"
     ]
    },
    {
     "data": {
      "application/vnd.jupyter.widget-view+json": {
       "model_id": "ba14303bc6334745b44df63183841cdc",
       "version_major": 2,
       "version_minor": 0
      },
      "text/plain": [
       "  0%|          | 0/20541 [00:00<?, ?it/s]"
      ]
     },
     "metadata": {},
     "output_type": "display_data"
    },
    {
     "name": "stdout",
     "output_type": "stream",
     "text": [
      "Epoch 7/100 |  LR: [0.001] | train | Loss: 0.5731 | Acc: 0.7681\n"
     ]
    },
    {
     "data": {
      "application/vnd.jupyter.widget-view+json": {
       "model_id": "49c66e0f72ae4b5ca0b44cc981909349",
       "version_major": 2,
       "version_minor": 0
      },
      "text/plain": [
       "  0%|          | 0/2283 [00:00<?, ?it/s]"
      ]
     },
     "metadata": {},
     "output_type": "display_data"
    },
    {
     "name": "stdout",
     "output_type": "stream",
     "text": [
      "Epoch 7/100 |  LR: [0.001] |  val  | Loss: 0.5753 | Acc: 0.7670\n"
     ]
    },
    {
     "data": {
      "application/vnd.jupyter.widget-view+json": {
       "model_id": "d2db8326500649cc953031d7edc95867",
       "version_major": 2,
       "version_minor": 0
      },
      "text/plain": [
       "  0%|          | 0/20541 [00:00<?, ?it/s]"
      ]
     },
     "metadata": {},
     "output_type": "display_data"
    },
    {
     "name": "stdout",
     "output_type": "stream",
     "text": [
      "Epoch 8/100 |  LR: [0.001] | train | Loss: 0.5674 | Acc: 0.7708\n"
     ]
    },
    {
     "data": {
      "application/vnd.jupyter.widget-view+json": {
       "model_id": "e67097686d974c9090d39222af404116",
       "version_major": 2,
       "version_minor": 0
      },
      "text/plain": [
       "  0%|          | 0/2283 [00:00<?, ?it/s]"
      ]
     },
     "metadata": {},
     "output_type": "display_data"
    },
    {
     "name": "stdout",
     "output_type": "stream",
     "text": [
      "Epoch 8/100 |  LR: [0.001] |  val  | Loss: 0.5814 | Acc: 0.7646\n"
     ]
    },
    {
     "data": {
      "application/vnd.jupyter.widget-view+json": {
       "model_id": "0dac9ce612bb4999bed068863c96cdbc",
       "version_major": 2,
       "version_minor": 0
      },
      "text/plain": [
       "  0%|          | 0/20541 [00:00<?, ?it/s]"
      ]
     },
     "metadata": {},
     "output_type": "display_data"
    },
    {
     "name": "stdout",
     "output_type": "stream",
     "text": [
      "Epoch 9/100 |  LR: [0.00010000000000000002] | train | Loss: 0.5320 | Acc: 0.7860\n"
     ]
    },
    {
     "data": {
      "application/vnd.jupyter.widget-view+json": {
       "model_id": "9642b97ed6bd48ceb8f9066204cd1f33",
       "version_major": 2,
       "version_minor": 0
      },
      "text/plain": [
       "  0%|          | 0/2283 [00:00<?, ?it/s]"
      ]
     },
     "metadata": {},
     "output_type": "display_data"
    },
    {
     "name": "stdout",
     "output_type": "stream",
     "text": [
      "Epoch 9/100 |  LR: [0.00010000000000000002] |  val  | Loss: 0.5444 | Acc: 0.7810\n"
     ]
    },
    {
     "data": {
      "application/vnd.jupyter.widget-view+json": {
       "model_id": "e0250678a51a45a39115f8298702c88d",
       "version_major": 2,
       "version_minor": 0
      },
      "text/plain": [
       "  0%|          | 0/20541 [00:00<?, ?it/s]"
      ]
     },
     "metadata": {},
     "output_type": "display_data"
    },
    {
     "name": "stdout",
     "output_type": "stream",
     "text": [
      "Epoch 10/100 |  LR: [0.00010000000000000002] | train | Loss: 0.5251 | Acc: 0.7890\n"
     ]
    },
    {
     "data": {
      "application/vnd.jupyter.widget-view+json": {
       "model_id": "443b95c7d4fa4649be7614b1d14549fd",
       "version_major": 2,
       "version_minor": 0
      },
      "text/plain": [
       "  0%|          | 0/2283 [00:00<?, ?it/s]"
      ]
     },
     "metadata": {},
     "output_type": "display_data"
    },
    {
     "name": "stdout",
     "output_type": "stream",
     "text": [
      "Epoch 10/100 |  LR: [0.00010000000000000002] |  val  | Loss: 0.5429 | Acc: 0.7811\n"
     ]
    },
    {
     "data": {
      "application/vnd.jupyter.widget-view+json": {
       "model_id": "2b85b9a428534f5d8414480bc0397774",
       "version_major": 2,
       "version_minor": 0
      },
      "text/plain": [
       "  0%|          | 0/20541 [00:00<?, ?it/s]"
      ]
     },
     "metadata": {},
     "output_type": "display_data"
    },
    {
     "name": "stdout",
     "output_type": "stream",
     "text": [
      "Epoch 11/100 |  LR: [0.00010000000000000002] | train | Loss: 0.5215 | Acc: 0.7904\n"
     ]
    },
    {
     "data": {
      "application/vnd.jupyter.widget-view+json": {
       "model_id": "640b4ceaf5d640f1bbe02929b2024fb1",
       "version_major": 2,
       "version_minor": 0
      },
      "text/plain": [
       "  0%|          | 0/2283 [00:00<?, ?it/s]"
      ]
     },
     "metadata": {},
     "output_type": "display_data"
    },
    {
     "name": "stdout",
     "output_type": "stream",
     "text": [
      "Epoch 11/100 |  LR: [0.00010000000000000002] |  val  | Loss: 0.5407 | Acc: 0.7821\n"
     ]
    },
    {
     "data": {
      "application/vnd.jupyter.widget-view+json": {
       "model_id": "04c16ac31c1e475680dd2b8cae0fa3cf",
       "version_major": 2,
       "version_minor": 0
      },
      "text/plain": [
       "  0%|          | 0/20541 [00:00<?, ?it/s]"
      ]
     },
     "metadata": {},
     "output_type": "display_data"
    },
    {
     "name": "stdout",
     "output_type": "stream",
     "text": [
      "Epoch 12/100 |  LR: [0.00010000000000000002] | train | Loss: 0.5194 | Acc: 0.7912\n"
     ]
    },
    {
     "data": {
      "application/vnd.jupyter.widget-view+json": {
       "model_id": "92080ce4c49e4cd187cf0a80c86710be",
       "version_major": 2,
       "version_minor": 0
      },
      "text/plain": [
       "  0%|          | 0/2283 [00:00<?, ?it/s]"
      ]
     },
     "metadata": {},
     "output_type": "display_data"
    },
    {
     "name": "stdout",
     "output_type": "stream",
     "text": [
      "Epoch 12/100 |  LR: [0.00010000000000000002] |  val  | Loss: 0.5400 | Acc: 0.7826\n"
     ]
    },
    {
     "data": {
      "application/vnd.jupyter.widget-view+json": {
       "model_id": "cb98496fe1e34b12b5cafbd699dc0ce0",
       "version_major": 2,
       "version_minor": 0
      },
      "text/plain": [
       "  0%|          | 0/20541 [00:00<?, ?it/s]"
      ]
     },
     "metadata": {},
     "output_type": "display_data"
    },
    {
     "name": "stdout",
     "output_type": "stream",
     "text": [
      "Epoch 13/100 |  LR: [0.00010000000000000002] | train | Loss: 0.5170 | Acc: 0.7920\n"
     ]
    },
    {
     "data": {
      "application/vnd.jupyter.widget-view+json": {
       "model_id": "3133225e0b0d4e30aff7977af5aa3d04",
       "version_major": 2,
       "version_minor": 0
      },
      "text/plain": [
       "  0%|          | 0/2283 [00:00<?, ?it/s]"
      ]
     },
     "metadata": {},
     "output_type": "display_data"
    },
    {
     "name": "stdout",
     "output_type": "stream",
     "text": [
      "Epoch 13/100 |  LR: [0.00010000000000000002] |  val  | Loss: 0.5399 | Acc: 0.7826\n"
     ]
    },
    {
     "data": {
      "application/vnd.jupyter.widget-view+json": {
       "model_id": "71dc9a519f484d4baf5b7ac038005243",
       "version_major": 2,
       "version_minor": 0
      },
      "text/plain": [
       "  0%|          | 0/20541 [00:00<?, ?it/s]"
      ]
     },
     "metadata": {},
     "output_type": "display_data"
    },
    {
     "name": "stdout",
     "output_type": "stream",
     "text": [
      "Epoch 14/100 |  LR: [1.0000000000000003e-05] | train | Loss: 0.5109 | Acc: 0.7950\n"
     ]
    },
    {
     "data": {
      "application/vnd.jupyter.widget-view+json": {
       "model_id": "6c3a6f868d2d44adb1e5d8f3542808ea",
       "version_major": 2,
       "version_minor": 0
      },
      "text/plain": [
       "  0%|          | 0/2283 [00:00<?, ?it/s]"
      ]
     },
     "metadata": {},
     "output_type": "display_data"
    },
    {
     "name": "stdout",
     "output_type": "stream",
     "text": [
      "Epoch 14/100 |  LR: [1.0000000000000003e-05] |  val  | Loss: 0.5370 | Acc: 0.7839\n"
     ]
    },
    {
     "data": {
      "application/vnd.jupyter.widget-view+json": {
       "model_id": "0d594dcbc41f426bb70c77a221832484",
       "version_major": 2,
       "version_minor": 0
      },
      "text/plain": [
       "  0%|          | 0/20541 [00:00<?, ?it/s]"
      ]
     },
     "metadata": {},
     "output_type": "display_data"
    },
    {
     "name": "stdout",
     "output_type": "stream",
     "text": [
      "Epoch 15/100 |  LR: [1.0000000000000003e-05] | train | Loss: 0.5100 | Acc: 0.7951\n"
     ]
    },
    {
     "data": {
      "application/vnd.jupyter.widget-view+json": {
       "model_id": "1e6ad3e423944b918617c51c616cd76b",
       "version_major": 2,
       "version_minor": 0
      },
      "text/plain": [
       "  0%|          | 0/2283 [00:00<?, ?it/s]"
      ]
     },
     "metadata": {},
     "output_type": "display_data"
    },
    {
     "name": "stdout",
     "output_type": "stream",
     "text": [
      "Epoch 15/100 |  LR: [1.0000000000000003e-05] |  val  | Loss: 0.5391 | Acc: 0.7830\n"
     ]
    },
    {
     "data": {
      "application/vnd.jupyter.widget-view+json": {
       "model_id": "c5bfab93bf9f4c6ab3d9f2f51dc6adca",
       "version_major": 2,
       "version_minor": 0
      },
      "text/plain": [
       "  0%|          | 0/20541 [00:00<?, ?it/s]"
      ]
     },
     "metadata": {},
     "output_type": "display_data"
    },
    {
     "name": "stdout",
     "output_type": "stream",
     "text": [
      "Epoch 16/100 |  LR: [1.0000000000000002e-06] | train | Loss: 0.5092 | Acc: 0.7951\n"
     ]
    },
    {
     "data": {
      "application/vnd.jupyter.widget-view+json": {
       "model_id": "7c5cfd2756f741e19e0a649071638a47",
       "version_major": 2,
       "version_minor": 0
      },
      "text/plain": [
       "  0%|          | 0/2283 [00:00<?, ?it/s]"
      ]
     },
     "metadata": {},
     "output_type": "display_data"
    },
    {
     "name": "stdout",
     "output_type": "stream",
     "text": [
      "Epoch 16/100 |  LR: [1.0000000000000002e-06] |  val  | Loss: 0.5369 | Acc: 0.7842\n"
     ]
    },
    {
     "data": {
      "application/vnd.jupyter.widget-view+json": {
       "model_id": "9d202c9f07714a769087c8b996af0d34",
       "version_major": 2,
       "version_minor": 0
      },
      "text/plain": [
       "  0%|          | 0/20541 [00:00<?, ?it/s]"
      ]
     },
     "metadata": {},
     "output_type": "display_data"
    },
    {
     "name": "stdout",
     "output_type": "stream",
     "text": [
      "Epoch 17/100 |  LR: [1.0000000000000002e-06] | train | Loss: 0.5092 | Acc: 0.7957\n"
     ]
    },
    {
     "data": {
      "application/vnd.jupyter.widget-view+json": {
       "model_id": "1ed854d7861c43818277323223907458",
       "version_major": 2,
       "version_minor": 0
      },
      "text/plain": [
       "  0%|          | 0/2283 [00:00<?, ?it/s]"
      ]
     },
     "metadata": {},
     "output_type": "display_data"
    },
    {
     "name": "stdout",
     "output_type": "stream",
     "text": [
      "Epoch 17/100 |  LR: [1.0000000000000002e-06] |  val  | Loss: 0.5373 | Acc: 0.7843\n"
     ]
    },
    {
     "data": {
      "application/vnd.jupyter.widget-view+json": {
       "model_id": "573697c87fbd4a7b911a9bef4a5cbeae",
       "version_major": 2,
       "version_minor": 0
      },
      "text/plain": [
       "  0%|          | 0/20541 [00:00<?, ?it/s]"
      ]
     },
     "metadata": {},
     "output_type": "display_data"
    },
    {
     "name": "stdout",
     "output_type": "stream",
     "text": [
      "Epoch 18/100 |  LR: [1.0000000000000002e-06] | train | Loss: 0.5092 | Acc: 0.7954\n"
     ]
    },
    {
     "data": {
      "application/vnd.jupyter.widget-view+json": {
       "model_id": "2235b65288a84e2da5e1fa2f85add8fa",
       "version_major": 2,
       "version_minor": 0
      },
      "text/plain": [
       "  0%|          | 0/2283 [00:00<?, ?it/s]"
      ]
     },
     "metadata": {},
     "output_type": "display_data"
    },
    {
     "name": "stdout",
     "output_type": "stream",
     "text": [
      "Epoch 18/100 |  LR: [1.0000000000000002e-06] |  val  | Loss: 0.5367 | Acc: 0.7842\n"
     ]
    },
    {
     "data": {
      "application/vnd.jupyter.widget-view+json": {
       "model_id": "8d3aa8a8cf1a412a9d09395c3a03a082",
       "version_major": 2,
       "version_minor": 0
      },
      "text/plain": [
       "  0%|          | 0/20541 [00:00<?, ?it/s]"
      ]
     },
     "metadata": {},
     "output_type": "display_data"
    },
    {
     "name": "stdout",
     "output_type": "stream",
     "text": [
      "Epoch 19/100 |  LR: [1.0000000000000002e-07] | train | Loss: 0.5089 | Acc: 0.7956\n"
     ]
    },
    {
     "data": {
      "application/vnd.jupyter.widget-view+json": {
       "model_id": "2a012f7dc4114ed8bb42df201afa8fb0",
       "version_major": 2,
       "version_minor": 0
      },
      "text/plain": [
       "  0%|          | 0/2283 [00:00<?, ?it/s]"
      ]
     },
     "metadata": {},
     "output_type": "display_data"
    },
    {
     "name": "stdout",
     "output_type": "stream",
     "text": [
      "Epoch 19/100 |  LR: [1.0000000000000002e-07] |  val  | Loss: 0.5366 | Acc: 0.7843\n"
     ]
    },
    {
     "data": {
      "application/vnd.jupyter.widget-view+json": {
       "model_id": "88e18804d13541d18fd26d355aacd39b",
       "version_major": 2,
       "version_minor": 0
      },
      "text/plain": [
       "  0%|          | 0/20541 [00:00<?, ?it/s]"
      ]
     },
     "metadata": {},
     "output_type": "display_data"
    },
    {
     "name": "stdout",
     "output_type": "stream",
     "text": [
      "Epoch 20/100 |  LR: [1.0000000000000002e-07] | train | Loss: 0.5091 | Acc: 0.7953\n"
     ]
    },
    {
     "data": {
      "application/vnd.jupyter.widget-view+json": {
       "model_id": "11ad59d8f1494486b09ae66adb281e59",
       "version_major": 2,
       "version_minor": 0
      },
      "text/plain": [
       "  0%|          | 0/2283 [00:00<?, ?it/s]"
      ]
     },
     "metadata": {},
     "output_type": "display_data"
    },
    {
     "name": "stdout",
     "output_type": "stream",
     "text": [
      "Epoch 20/100 |  LR: [1.0000000000000002e-07] |  val  | Loss: 0.5377 | Acc: 0.7838\n"
     ]
    },
    {
     "data": {
      "application/vnd.jupyter.widget-view+json": {
       "model_id": "74513c9daa264c33a9b2938d196e0681",
       "version_major": 2,
       "version_minor": 0
      },
      "text/plain": [
       "  0%|          | 0/20541 [00:00<?, ?it/s]"
      ]
     },
     "metadata": {},
     "output_type": "display_data"
    },
    {
     "name": "stdout",
     "output_type": "stream",
     "text": [
      "Epoch 21/100 |  LR: [1.0000000000000004e-08] | train | Loss: 0.5089 | Acc: 0.7957\n"
     ]
    },
    {
     "data": {
      "application/vnd.jupyter.widget-view+json": {
       "model_id": "bb5faecab8574dd98ce8898a858d9579",
       "version_major": 2,
       "version_minor": 0
      },
      "text/plain": [
       "  0%|          | 0/2283 [00:00<?, ?it/s]"
      ]
     },
     "metadata": {},
     "output_type": "display_data"
    },
    {
     "name": "stdout",
     "output_type": "stream",
     "text": [
      "Epoch 21/100 |  LR: [1.0000000000000004e-08] |  val  | Loss: 0.5372 | Acc: 0.7847\n"
     ]
    },
    {
     "data": {
      "application/vnd.jupyter.widget-view+json": {
       "model_id": "90297ede9d52445b99ac7c86ae10c864",
       "version_major": 2,
       "version_minor": 0
      },
      "text/plain": [
       "  0%|          | 0/20541 [00:00<?, ?it/s]"
      ]
     },
     "metadata": {},
     "output_type": "display_data"
    },
    {
     "name": "stdout",
     "output_type": "stream",
     "text": [
      "Epoch 22/100 |  LR: [1.0000000000000004e-08] | train | Loss: 0.5090 | Acc: 0.7956\n"
     ]
    },
    {
     "data": {
      "application/vnd.jupyter.widget-view+json": {
       "model_id": "0618311c59d74531bb73a1c0c2bc34b9",
       "version_major": 2,
       "version_minor": 0
      },
      "text/plain": [
       "  0%|          | 0/2283 [00:00<?, ?it/s]"
      ]
     },
     "metadata": {},
     "output_type": "display_data"
    },
    {
     "name": "stdout",
     "output_type": "stream",
     "text": [
      "Epoch 22/100 |  LR: [1.0000000000000004e-08] |  val  | Loss: 0.5367 | Acc: 0.7844\n"
     ]
    },
    {
     "data": {
      "application/vnd.jupyter.widget-view+json": {
       "model_id": "bfa2966b1f9c4c658d0d10853fe14ff2",
       "version_major": 2,
       "version_minor": 0
      },
      "text/plain": [
       "  0%|          | 0/20541 [00:00<?, ?it/s]"
      ]
     },
     "metadata": {},
     "output_type": "display_data"
    },
    {
     "name": "stdout",
     "output_type": "stream",
     "text": [
      "Epoch 23/100 |  LR: [1.0000000000000005e-09] | train | Loss: 0.5090 | Acc: 0.7956\n"
     ]
    },
    {
     "data": {
      "application/vnd.jupyter.widget-view+json": {
       "model_id": "be158db8f5b741679667ec430910e1af",
       "version_major": 2,
       "version_minor": 0
      },
      "text/plain": [
       "  0%|          | 0/2283 [00:00<?, ?it/s]"
      ]
     },
     "metadata": {},
     "output_type": "display_data"
    },
    {
     "name": "stdout",
     "output_type": "stream",
     "text": [
      "Epoch 23/100 |  LR: [1.0000000000000005e-09] |  val  | Loss: 0.5369 | Acc: 0.7844\n"
     ]
    },
    {
     "data": {
      "application/vnd.jupyter.widget-view+json": {
       "model_id": "d5c1ea865e534fbc8abbbc236f00d702",
       "version_major": 2,
       "version_minor": 0
      },
      "text/plain": [
       "  0%|          | 0/20541 [00:00<?, ?it/s]"
      ]
     },
     "metadata": {},
     "output_type": "display_data"
    },
    {
     "name": "stdout",
     "output_type": "stream",
     "text": [
      "Epoch 24/100 |  LR: [1.0000000000000006e-10] | train | Loss: 0.5091 | Acc: 0.7955\n"
     ]
    },
    {
     "data": {
      "application/vnd.jupyter.widget-view+json": {
       "model_id": "eb7acf034d704b4fac3e2de92d80653d",
       "version_major": 2,
       "version_minor": 0
      },
      "text/plain": [
       "  0%|          | 0/2283 [00:00<?, ?it/s]"
      ]
     },
     "metadata": {},
     "output_type": "display_data"
    },
    {
     "name": "stdout",
     "output_type": "stream",
     "text": [
      "Epoch 24/100 |  LR: [1.0000000000000006e-10] |  val  | Loss: 0.5366 | Acc: 0.7846\n"
     ]
    },
    {
     "data": {
      "application/vnd.jupyter.widget-view+json": {
       "model_id": "148432c049a2468fa462c9b8d2ece109",
       "version_major": 2,
       "version_minor": 0
      },
      "text/plain": [
       "  0%|          | 0/20541 [00:00<?, ?it/s]"
      ]
     },
     "metadata": {},
     "output_type": "display_data"
    },
    {
     "name": "stdout",
     "output_type": "stream",
     "text": [
      "Epoch 25/100 |  LR: [1.0000000000000004e-11] | train | Loss: 0.5089 | Acc: 0.7957\n"
     ]
    },
    {
     "data": {
      "application/vnd.jupyter.widget-view+json": {
       "model_id": "624380d841d543959dfcd3580fa75fa1",
       "version_major": 2,
       "version_minor": 0
      },
      "text/plain": [
       "  0%|          | 0/2283 [00:00<?, ?it/s]"
      ]
     },
     "metadata": {},
     "output_type": "display_data"
    },
    {
     "name": "stdout",
     "output_type": "stream",
     "text": [
      "Epoch 25/100 |  LR: [1.0000000000000004e-11] |  val  | Loss: 0.5372 | Acc: 0.7845\n"
     ]
    },
    {
     "data": {
      "application/vnd.jupyter.widget-view+json": {
       "model_id": "9cf3a27fefea4be68870dbf5ad517e63",
       "version_major": 2,
       "version_minor": 0
      },
      "text/plain": [
       "  0%|          | 0/20541 [00:00<?, ?it/s]"
      ]
     },
     "metadata": {},
     "output_type": "display_data"
    },
    {
     "name": "stdout",
     "output_type": "stream",
     "text": [
      "Epoch 26/100 |  LR: [1.0000000000000006e-12] | train | Loss: 0.5090 | Acc: 0.7955\n"
     ]
    },
    {
     "data": {
      "application/vnd.jupyter.widget-view+json": {
       "model_id": "01b8425ec09f44b1a961a3a3722c5955",
       "version_major": 2,
       "version_minor": 0
      },
      "text/plain": [
       "  0%|          | 0/2283 [00:00<?, ?it/s]"
      ]
     },
     "metadata": {},
     "output_type": "display_data"
    },
    {
     "name": "stdout",
     "output_type": "stream",
     "text": [
      "Epoch 26/100 |  LR: [1.0000000000000006e-12] |  val  | Loss: 0.5371 | Acc: 0.7842\n"
     ]
    },
    {
     "data": {
      "application/vnd.jupyter.widget-view+json": {
       "model_id": "63fd52cdf7fa4d84aa89ef28b6778c37",
       "version_major": 2,
       "version_minor": 0
      },
      "text/plain": [
       "  0%|          | 0/20541 [00:00<?, ?it/s]"
      ]
     },
     "metadata": {},
     "output_type": "display_data"
    },
    {
     "name": "stdout",
     "output_type": "stream",
     "text": [
      "Epoch 27/100 |  LR: [1.0000000000000007e-13] | train | Loss: 0.5090 | Acc: 0.7957\n"
     ]
    },
    {
     "data": {
      "application/vnd.jupyter.widget-view+json": {
       "model_id": "10c09d000ade437f96c2d09f28902448",
       "version_major": 2,
       "version_minor": 0
      },
      "text/plain": [
       "  0%|          | 0/2283 [00:00<?, ?it/s]"
      ]
     },
     "metadata": {},
     "output_type": "display_data"
    },
    {
     "name": "stdout",
     "output_type": "stream",
     "text": [
      "Epoch 27/100 |  LR: [1.0000000000000007e-13] |  val  | Loss: 0.5366 | Acc: 0.7843\n"
     ]
    },
    {
     "data": {
      "application/vnd.jupyter.widget-view+json": {
       "model_id": "1da3a2b8ccd643999cd841312c4b5d5b",
       "version_major": 2,
       "version_minor": 0
      },
      "text/plain": [
       "  0%|          | 0/20541 [00:00<?, ?it/s]"
      ]
     },
     "metadata": {},
     "output_type": "display_data"
    },
    {
     "name": "stdout",
     "output_type": "stream",
     "text": [
      "Epoch 28/100 |  LR: [1.0000000000000006e-14] | train | Loss: 0.5090 | Acc: 0.7959\n"
     ]
    },
    {
     "data": {
      "application/vnd.jupyter.widget-view+json": {
       "model_id": "53f36e0ba6f843909c8f3dfecd145d4b",
       "version_major": 2,
       "version_minor": 0
      },
      "text/plain": [
       "  0%|          | 0/2283 [00:00<?, ?it/s]"
      ]
     },
     "metadata": {},
     "output_type": "display_data"
    },
    {
     "name": "stdout",
     "output_type": "stream",
     "text": [
      "Epoch 28/100 |  LR: [1.0000000000000006e-14] |  val  | Loss: 0.5367 | Acc: 0.7842\n"
     ]
    },
    {
     "data": {
      "application/vnd.jupyter.widget-view+json": {
       "model_id": "978d9a9aa88b49d49744772d3aa0c64e",
       "version_major": 2,
       "version_minor": 0
      },
      "text/plain": [
       "  0%|          | 0/20541 [00:00<?, ?it/s]"
      ]
     },
     "metadata": {},
     "output_type": "display_data"
    },
    {
     "name": "stdout",
     "output_type": "stream",
     "text": [
      "Epoch 29/100 |  LR: [1.0000000000000007e-15] | train | Loss: 0.5090 | Acc: 0.7956\n"
     ]
    },
    {
     "data": {
      "application/vnd.jupyter.widget-view+json": {
       "model_id": "f3132c89220a413eb91408e6a24a0019",
       "version_major": 2,
       "version_minor": 0
      },
      "text/plain": [
       "  0%|          | 0/2283 [00:00<?, ?it/s]"
      ]
     },
     "metadata": {},
     "output_type": "display_data"
    },
    {
     "name": "stdout",
     "output_type": "stream",
     "text": [
      "Epoch 29/100 |  LR: [1.0000000000000007e-15] |  val  | Loss: 0.5371 | Acc: 0.7841\n"
     ]
    },
    {
     "data": {
      "application/vnd.jupyter.widget-view+json": {
       "model_id": "5611fb17182a4a268d0c29058f571997",
       "version_major": 2,
       "version_minor": 0
      },
      "text/plain": [
       "  0%|          | 0/20541 [00:00<?, ?it/s]"
      ]
     },
     "metadata": {},
     "output_type": "display_data"
    },
    {
     "name": "stdout",
     "output_type": "stream",
     "text": [
      "Epoch 30/100 |  LR: [1.0000000000000008e-16] | train | Loss: 0.5090 | Acc: 0.7957\n"
     ]
    },
    {
     "data": {
      "application/vnd.jupyter.widget-view+json": {
       "model_id": "38d76227cb17430982964da59319f3d8",
       "version_major": 2,
       "version_minor": 0
      },
      "text/plain": [
       "  0%|          | 0/2283 [00:00<?, ?it/s]"
      ]
     },
     "metadata": {},
     "output_type": "display_data"
    },
    {
     "name": "stdout",
     "output_type": "stream",
     "text": [
      "Epoch 30/100 |  LR: [1.0000000000000008e-16] |  val  | Loss: 0.5374 | Acc: 0.7836\n"
     ]
    },
    {
     "data": {
      "application/vnd.jupyter.widget-view+json": {
       "model_id": "1f9c4efc477342149c59688419d39c9c",
       "version_major": 2,
       "version_minor": 0
      },
      "text/plain": [
       "  0%|          | 0/20541 [00:00<?, ?it/s]"
      ]
     },
     "metadata": {},
     "output_type": "display_data"
    },
    {
     "name": "stdout",
     "output_type": "stream",
     "text": [
      "Epoch 31/100 |  LR: [1.0000000000000008e-17] | train | Loss: 0.5091 | Acc: 0.7955\n"
     ]
    },
    {
     "data": {
      "application/vnd.jupyter.widget-view+json": {
       "model_id": "c24e771bf5054b83ab4e57e3dfb58281",
       "version_major": 2,
       "version_minor": 0
      },
      "text/plain": [
       "  0%|          | 0/2283 [00:00<?, ?it/s]"
      ]
     },
     "metadata": {},
     "output_type": "display_data"
    },
    {
     "name": "stdout",
     "output_type": "stream",
     "text": [
      "Epoch 31/100 |  LR: [1.0000000000000008e-17] |  val  | Loss: 0.5375 | Acc: 0.7843\n"
     ]
    },
    {
     "data": {
      "application/vnd.jupyter.widget-view+json": {
       "model_id": "6592efd3322c4e24824cde1d2869f65f",
       "version_major": 2,
       "version_minor": 0
      },
      "text/plain": [
       "  0%|          | 0/20541 [00:00<?, ?it/s]"
      ]
     },
     "metadata": {},
     "output_type": "display_data"
    },
    {
     "name": "stdout",
     "output_type": "stream",
     "text": [
      "Epoch 32/100 |  LR: [1.0000000000000008e-18] | train | Loss: 0.5091 | Acc: 0.7958\n"
     ]
    },
    {
     "data": {
      "application/vnd.jupyter.widget-view+json": {
       "model_id": "6ece574b28e74b51846a1ebdcf39b736",
       "version_major": 2,
       "version_minor": 0
      },
      "text/plain": [
       "  0%|          | 0/2283 [00:00<?, ?it/s]"
      ]
     },
     "metadata": {},
     "output_type": "display_data"
    },
    {
     "name": "stdout",
     "output_type": "stream",
     "text": [
      "Epoch 32/100 |  LR: [1.0000000000000008e-18] |  val  | Loss: 0.5374 | Acc: 0.7841\n"
     ]
    },
    {
     "data": {
      "application/vnd.jupyter.widget-view+json": {
       "model_id": "4542050be99e4feea5a87688adf6dc28",
       "version_major": 2,
       "version_minor": 0
      },
      "text/plain": [
       "  0%|          | 0/20541 [00:00<?, ?it/s]"
      ]
     },
     "metadata": {},
     "output_type": "display_data"
    },
    {
     "name": "stdout",
     "output_type": "stream",
     "text": [
      "Epoch 33/100 |  LR: [1.000000000000001e-19] | train | Loss: 0.5092 | Acc: 0.7955\n"
     ]
    },
    {
     "data": {
      "application/vnd.jupyter.widget-view+json": {
       "model_id": "17b11e99c95548a99d5aafa5bd7c37fe",
       "version_major": 2,
       "version_minor": 0
      },
      "text/plain": [
       "  0%|          | 0/2283 [00:00<?, ?it/s]"
      ]
     },
     "metadata": {},
     "output_type": "display_data"
    },
    {
     "name": "stdout",
     "output_type": "stream",
     "text": [
      "Epoch 33/100 |  LR: [1.000000000000001e-19] |  val  | Loss: 0.5371 | Acc: 0.7846\n"
     ]
    },
    {
     "data": {
      "application/vnd.jupyter.widget-view+json": {
       "model_id": "83a2e2db69c34c628733a9357f1e46d9",
       "version_major": 2,
       "version_minor": 0
      },
      "text/plain": [
       "  0%|          | 0/20541 [00:00<?, ?it/s]"
      ]
     },
     "metadata": {},
     "output_type": "display_data"
    },
    {
     "name": "stdout",
     "output_type": "stream",
     "text": [
      "Epoch 34/100 |  LR: [1.000000000000001e-20] | train | Loss: 0.5092 | Acc: 0.7956\n"
     ]
    },
    {
     "data": {
      "application/vnd.jupyter.widget-view+json": {
       "model_id": "2b8d9000ce5140ab96d67631c0d7e582",
       "version_major": 2,
       "version_minor": 0
      },
      "text/plain": [
       "  0%|          | 0/2283 [00:00<?, ?it/s]"
      ]
     },
     "metadata": {},
     "output_type": "display_data"
    },
    {
     "name": "stdout",
     "output_type": "stream",
     "text": [
      "Epoch 34/100 |  LR: [1.000000000000001e-20] |  val  | Loss: 0.5369 | Acc: 0.7841\n"
     ]
    },
    {
     "data": {
      "application/vnd.jupyter.widget-view+json": {
       "model_id": "c70a9ba5c09a4edeb34f84310da2b8c5",
       "version_major": 2,
       "version_minor": 0
      },
      "text/plain": [
       "  0%|          | 0/20541 [00:00<?, ?it/s]"
      ]
     },
     "metadata": {},
     "output_type": "display_data"
    },
    {
     "name": "stdout",
     "output_type": "stream",
     "text": [
      "Epoch 35/100 |  LR: [1.000000000000001e-21] | train | Loss: 0.5091 | Acc: 0.7956\n"
     ]
    },
    {
     "data": {
      "application/vnd.jupyter.widget-view+json": {
       "model_id": "6d61d48ded574762acab11a800c47315",
       "version_major": 2,
       "version_minor": 0
      },
      "text/plain": [
       "  0%|          | 0/2283 [00:00<?, ?it/s]"
      ]
     },
     "metadata": {},
     "output_type": "display_data"
    },
    {
     "name": "stdout",
     "output_type": "stream",
     "text": [
      "Epoch 35/100 |  LR: [1.000000000000001e-21] |  val  | Loss: 0.5367 | Acc: 0.7841\n"
     ]
    },
    {
     "data": {
      "application/vnd.jupyter.widget-view+json": {
       "model_id": "89d63a34cf554ecbab39dc88d5cc3759",
       "version_major": 2,
       "version_minor": 0
      },
      "text/plain": [
       "  0%|          | 0/20541 [00:00<?, ?it/s]"
      ]
     },
     "metadata": {},
     "output_type": "display_data"
    },
    {
     "name": "stdout",
     "output_type": "stream",
     "text": [
      "Epoch 36/100 |  LR: [1.0000000000000012e-22] | train | Loss: 0.5092 | Acc: 0.7955\n"
     ]
    },
    {
     "data": {
      "application/vnd.jupyter.widget-view+json": {
       "model_id": "69c04cf894a940b9b1aa5d9ff5a78f9b",
       "version_major": 2,
       "version_minor": 0
      },
      "text/plain": [
       "  0%|          | 0/2283 [00:00<?, ?it/s]"
      ]
     },
     "metadata": {},
     "output_type": "display_data"
    },
    {
     "name": "stdout",
     "output_type": "stream",
     "text": [
      "Epoch 36/100 |  LR: [1.0000000000000012e-22] |  val  | Loss: 0.5366 | Acc: 0.7842\n"
     ]
    },
    {
     "data": {
      "application/vnd.jupyter.widget-view+json": {
       "model_id": "3f05a62ba923435caec1b952b8165ba8",
       "version_major": 2,
       "version_minor": 0
      },
      "text/plain": [
       "  0%|          | 0/20541 [00:00<?, ?it/s]"
      ]
     },
     "metadata": {},
     "output_type": "display_data"
    },
    {
     "name": "stdout",
     "output_type": "stream",
     "text": [
      "Epoch 37/100 |  LR: [1.0000000000000013e-23] | train | Loss: 0.5088 | Acc: 0.7956\n"
     ]
    },
    {
     "data": {
      "application/vnd.jupyter.widget-view+json": {
       "model_id": "400c1b1c21ca43fda4312b458925d25b",
       "version_major": 2,
       "version_minor": 0
      },
      "text/plain": [
       "  0%|          | 0/2283 [00:00<?, ?it/s]"
      ]
     },
     "metadata": {},
     "output_type": "display_data"
    },
    {
     "name": "stdout",
     "output_type": "stream",
     "text": [
      "Epoch 37/100 |  LR: [1.0000000000000013e-23] |  val  | Loss: 0.5380 | Acc: 0.7839\n"
     ]
    },
    {
     "data": {
      "application/vnd.jupyter.widget-view+json": {
       "model_id": "fc9c54806a0047f58a5a3e63da7285ad",
       "version_major": 2,
       "version_minor": 0
      },
      "text/plain": [
       "  0%|          | 0/20541 [00:00<?, ?it/s]"
      ]
     },
     "metadata": {},
     "output_type": "display_data"
    },
    {
     "name": "stdout",
     "output_type": "stream",
     "text": [
      "Epoch 38/100 |  LR: [1.0000000000000012e-24] | train | Loss: 0.5090 | Acc: 0.7957\n"
     ]
    },
    {
     "data": {
      "application/vnd.jupyter.widget-view+json": {
       "model_id": "c334487eb4364f158c05b456bd5984ca",
       "version_major": 2,
       "version_minor": 0
      },
      "text/plain": [
       "  0%|          | 0/2283 [00:00<?, ?it/s]"
      ]
     },
     "metadata": {},
     "output_type": "display_data"
    },
    {
     "name": "stdout",
     "output_type": "stream",
     "text": [
      "Epoch 38/100 |  LR: [1.0000000000000012e-24] |  val  | Loss: 0.5372 | Acc: 0.7843\n"
     ]
    },
    {
     "data": {
      "application/vnd.jupyter.widget-view+json": {
       "model_id": "b69faeb2c4484cffbf68c2c7f32ba840",
       "version_major": 2,
       "version_minor": 0
      },
      "text/plain": [
       "  0%|          | 0/20541 [00:00<?, ?it/s]"
      ]
     },
     "metadata": {},
     "output_type": "display_data"
    },
    {
     "name": "stdout",
     "output_type": "stream",
     "text": [
      "Epoch 39/100 |  LR: [1.0000000000000013e-25] | train | Loss: 0.5090 | Acc: 0.7956\n"
     ]
    },
    {
     "data": {
      "application/vnd.jupyter.widget-view+json": {
       "model_id": "8ec4deb0943d4dea9737add8453d11cd",
       "version_major": 2,
       "version_minor": 0
      },
      "text/plain": [
       "  0%|          | 0/2283 [00:00<?, ?it/s]"
      ]
     },
     "metadata": {},
     "output_type": "display_data"
    },
    {
     "name": "stdout",
     "output_type": "stream",
     "text": [
      "Epoch 39/100 |  LR: [1.0000000000000013e-25] |  val  | Loss: 0.5369 | Acc: 0.7843\n"
     ]
    },
    {
     "data": {
      "application/vnd.jupyter.widget-view+json": {
       "model_id": "b86444721d1e443390e34087d9e1019d",
       "version_major": 2,
       "version_minor": 0
      },
      "text/plain": [
       "  0%|          | 0/20541 [00:00<?, ?it/s]"
      ]
     },
     "metadata": {},
     "output_type": "display_data"
    },
    {
     "name": "stdout",
     "output_type": "stream",
     "text": [
      "Epoch 40/100 |  LR: [1.0000000000000015e-26] | train | Loss: 0.5091 | Acc: 0.7955\n"
     ]
    },
    {
     "data": {
      "application/vnd.jupyter.widget-view+json": {
       "model_id": "be66d3b6fe3c48ad8a6948e56b1067e7",
       "version_major": 2,
       "version_minor": 0
      },
      "text/plain": [
       "  0%|          | 0/2283 [00:00<?, ?it/s]"
      ]
     },
     "metadata": {},
     "output_type": "display_data"
    },
    {
     "name": "stdout",
     "output_type": "stream",
     "text": [
      "Epoch 40/100 |  LR: [1.0000000000000015e-26] |  val  | Loss: 0.5368 | Acc: 0.7843\n"
     ]
    },
    {
     "data": {
      "application/vnd.jupyter.widget-view+json": {
       "model_id": "3d83dd1794464c8e94b2b4c08de15a9e",
       "version_major": 2,
       "version_minor": 0
      },
      "text/plain": [
       "  0%|          | 0/20541 [00:00<?, ?it/s]"
      ]
     },
     "metadata": {},
     "output_type": "display_data"
    },
    {
     "name": "stdout",
     "output_type": "stream",
     "text": [
      "Epoch 41/100 |  LR: [1.0000000000000015e-27] | train | Loss: 0.5091 | Acc: 0.7959\n"
     ]
    },
    {
     "data": {
      "application/vnd.jupyter.widget-view+json": {
       "model_id": "b8ce9a5bb3434612a030ee445cd66614",
       "version_major": 2,
       "version_minor": 0
      },
      "text/plain": [
       "  0%|          | 0/2283 [00:00<?, ?it/s]"
      ]
     },
     "metadata": {},
     "output_type": "display_data"
    },
    {
     "name": "stdout",
     "output_type": "stream",
     "text": [
      "Epoch 41/100 |  LR: [1.0000000000000015e-27] |  val  | Loss: 0.5377 | Acc: 0.7843\n"
     ]
    },
    {
     "data": {
      "application/vnd.jupyter.widget-view+json": {
       "model_id": "897f4594023e4f15ad9c384fca143b50",
       "version_major": 2,
       "version_minor": 0
      },
      "text/plain": [
       "  0%|          | 0/20541 [00:00<?, ?it/s]"
      ]
     },
     "metadata": {},
     "output_type": "display_data"
    },
    {
     "name": "stdout",
     "output_type": "stream",
     "text": [
      "Epoch 42/100 |  LR: [1.0000000000000015e-28] | train | Loss: 0.5088 | Acc: 0.7957\n"
     ]
    },
    {
     "data": {
      "application/vnd.jupyter.widget-view+json": {
       "model_id": "ed45657650b1408199e3e7c0362c6f88",
       "version_major": 2,
       "version_minor": 0
      },
      "text/plain": [
       "  0%|          | 0/2283 [00:00<?, ?it/s]"
      ]
     },
     "metadata": {},
     "output_type": "display_data"
    },
    {
     "name": "stdout",
     "output_type": "stream",
     "text": [
      "Epoch 42/100 |  LR: [1.0000000000000015e-28] |  val  | Loss: 0.5369 | Acc: 0.7843\n"
     ]
    },
    {
     "data": {
      "application/vnd.jupyter.widget-view+json": {
       "model_id": "105066d70b504a69857472a3e18d7922",
       "version_major": 2,
       "version_minor": 0
      },
      "text/plain": [
       "  0%|          | 0/20541 [00:00<?, ?it/s]"
      ]
     },
     "metadata": {},
     "output_type": "display_data"
    },
    {
     "name": "stdout",
     "output_type": "stream",
     "text": [
      "Epoch 43/100 |  LR: [1.0000000000000015e-29] | train | Loss: 0.5088 | Acc: 0.7957\n"
     ]
    },
    {
     "data": {
      "application/vnd.jupyter.widget-view+json": {
       "model_id": "c0e77ac6701944c8bdfc93a99d6c88c1",
       "version_major": 2,
       "version_minor": 0
      },
      "text/plain": [
       "  0%|          | 0/2283 [00:00<?, ?it/s]"
      ]
     },
     "metadata": {},
     "output_type": "display_data"
    },
    {
     "name": "stdout",
     "output_type": "stream",
     "text": [
      "Epoch 43/100 |  LR: [1.0000000000000015e-29] |  val  | Loss: 0.5370 | Acc: 0.7838\n"
     ]
    },
    {
     "data": {
      "application/vnd.jupyter.widget-view+json": {
       "model_id": "f497fc9e37bd423c8f7c959336b30c43",
       "version_major": 2,
       "version_minor": 0
      },
      "text/plain": [
       "  0%|          | 0/20541 [00:00<?, ?it/s]"
      ]
     },
     "metadata": {},
     "output_type": "display_data"
    },
    {
     "name": "stdout",
     "output_type": "stream",
     "text": [
      "Epoch 44/100 |  LR: [1.0000000000000015e-30] | train | Loss: 0.5092 | Acc: 0.7956\n"
     ]
    },
    {
     "data": {
      "application/vnd.jupyter.widget-view+json": {
       "model_id": "86f00543d3434d228db9dfd59c3f57b4",
       "version_major": 2,
       "version_minor": 0
      },
      "text/plain": [
       "  0%|          | 0/2283 [00:00<?, ?it/s]"
      ]
     },
     "metadata": {},
     "output_type": "display_data"
    },
    {
     "name": "stdout",
     "output_type": "stream",
     "text": [
      "Epoch 44/100 |  LR: [1.0000000000000015e-30] |  val  | Loss: 0.5371 | Acc: 0.7839\n"
     ]
    },
    {
     "data": {
      "application/vnd.jupyter.widget-view+json": {
       "model_id": "30a40253039f41f1983e7464e3c37b22",
       "version_major": 2,
       "version_minor": 0
      },
      "text/plain": [
       "  0%|          | 0/20541 [00:00<?, ?it/s]"
      ]
     },
     "metadata": {},
     "output_type": "display_data"
    },
    {
     "name": "stdout",
     "output_type": "stream",
     "text": [
      "Epoch 45/100 |  LR: [1.0000000000000016e-31] | train | Loss: 0.5090 | Acc: 0.7957\n"
     ]
    },
    {
     "data": {
      "application/vnd.jupyter.widget-view+json": {
       "model_id": "f58d45667a0141e9a4823102d6c5232e",
       "version_major": 2,
       "version_minor": 0
      },
      "text/plain": [
       "  0%|          | 0/2283 [00:00<?, ?it/s]"
      ]
     },
     "metadata": {},
     "output_type": "display_data"
    },
    {
     "name": "stdout",
     "output_type": "stream",
     "text": [
      "Epoch 45/100 |  LR: [1.0000000000000016e-31] |  val  | Loss: 0.5373 | Acc: 0.7841\n"
     ]
    },
    {
     "data": {
      "application/vnd.jupyter.widget-view+json": {
       "model_id": "af9e795c04384a62a5d4434de7826b3c",
       "version_major": 2,
       "version_minor": 0
      },
      "text/plain": [
       "  0%|          | 0/20541 [00:00<?, ?it/s]"
      ]
     },
     "metadata": {},
     "output_type": "display_data"
    },
    {
     "name": "stdout",
     "output_type": "stream",
     "text": [
      "Epoch 46/100 |  LR: [1.0000000000000017e-32] | train | Loss: 0.5089 | Acc: 0.7959\n"
     ]
    },
    {
     "data": {
      "application/vnd.jupyter.widget-view+json": {
       "model_id": "f592d3a576214c8085583637f172ef62",
       "version_major": 2,
       "version_minor": 0
      },
      "text/plain": [
       "  0%|          | 0/2283 [00:00<?, ?it/s]"
      ]
     },
     "metadata": {},
     "output_type": "display_data"
    },
    {
     "name": "stdout",
     "output_type": "stream",
     "text": [
      "Epoch 46/100 |  LR: [1.0000000000000017e-32] |  val  | Loss: 0.5369 | Acc: 0.7845\n"
     ]
    },
    {
     "data": {
      "application/vnd.jupyter.widget-view+json": {
       "model_id": "3ecabb1196ce488fad2355f8fb89a08c",
       "version_major": 2,
       "version_minor": 0
      },
      "text/plain": [
       "  0%|          | 0/20541 [00:00<?, ?it/s]"
      ]
     },
     "metadata": {},
     "output_type": "display_data"
    },
    {
     "name": "stdout",
     "output_type": "stream",
     "text": [
      "Epoch 47/100 |  LR: [1.0000000000000016e-33] | train | Loss: 0.5090 | Acc: 0.7956\n"
     ]
    },
    {
     "data": {
      "application/vnd.jupyter.widget-view+json": {
       "model_id": "d99ee7bf436d4cbeb0af938caf64c4fe",
       "version_major": 2,
       "version_minor": 0
      },
      "text/plain": [
       "  0%|          | 0/2283 [00:00<?, ?it/s]"
      ]
     },
     "metadata": {},
     "output_type": "display_data"
    },
    {
     "name": "stdout",
     "output_type": "stream",
     "text": [
      "Epoch 47/100 |  LR: [1.0000000000000016e-33] |  val  | Loss: 0.5372 | Acc: 0.7840\n"
     ]
    },
    {
     "data": {
      "application/vnd.jupyter.widget-view+json": {
       "model_id": "c0eb5f013efb44a98cd2df8e0509866f",
       "version_major": 2,
       "version_minor": 0
      },
      "text/plain": [
       "  0%|          | 0/20541 [00:00<?, ?it/s]"
      ]
     },
     "metadata": {},
     "output_type": "display_data"
    },
    {
     "name": "stdout",
     "output_type": "stream",
     "text": [
      "Epoch 48/100 |  LR: [1.0000000000000019e-34] | train | Loss: 0.5089 | Acc: 0.7957\n"
     ]
    },
    {
     "data": {
      "application/vnd.jupyter.widget-view+json": {
       "model_id": "f04751c0bc18494a9619cc1f18a3a533",
       "version_major": 2,
       "version_minor": 0
      },
      "text/plain": [
       "  0%|          | 0/2283 [00:00<?, ?it/s]"
      ]
     },
     "metadata": {},
     "output_type": "display_data"
    },
    {
     "name": "stdout",
     "output_type": "stream",
     "text": [
      "Epoch 48/100 |  LR: [1.0000000000000019e-34] |  val  | Loss: 0.5368 | Acc: 0.7843\n"
     ]
    },
    {
     "data": {
      "application/vnd.jupyter.widget-view+json": {
       "model_id": "48118c98350b43698f1199f51b288b5c",
       "version_major": 2,
       "version_minor": 0
      },
      "text/plain": [
       "  0%|          | 0/20541 [00:00<?, ?it/s]"
      ]
     },
     "metadata": {},
     "output_type": "display_data"
    },
    {
     "name": "stdout",
     "output_type": "stream",
     "text": [
      "Epoch 49/100 |  LR: [1.0000000000000017e-35] | train | Loss: 0.5089 | Acc: 0.7956\n"
     ]
    },
    {
     "data": {
      "application/vnd.jupyter.widget-view+json": {
       "model_id": "2d3df22a70dd420f8e71317e6cf902bf",
       "version_major": 2,
       "version_minor": 0
      },
      "text/plain": [
       "  0%|          | 0/2283 [00:00<?, ?it/s]"
      ]
     },
     "metadata": {},
     "output_type": "display_data"
    },
    {
     "name": "stdout",
     "output_type": "stream",
     "text": [
      "Epoch 49/100 |  LR: [1.0000000000000017e-35] |  val  | Loss: 0.5374 | Acc: 0.7840\n"
     ]
    },
    {
     "data": {
      "application/vnd.jupyter.widget-view+json": {
       "model_id": "9c6c7096d26c403a9363f1b4829bfd95",
       "version_major": 2,
       "version_minor": 0
      },
      "text/plain": [
       "  0%|          | 0/20541 [00:00<?, ?it/s]"
      ]
     },
     "metadata": {},
     "output_type": "display_data"
    },
    {
     "name": "stdout",
     "output_type": "stream",
     "text": [
      "Epoch 50/100 |  LR: [1.000000000000002e-36] | train | Loss: 0.5091 | Acc: 0.7954\n"
     ]
    },
    {
     "data": {
      "application/vnd.jupyter.widget-view+json": {
       "model_id": "114bb096766746f389db3359821ebe0c",
       "version_major": 2,
       "version_minor": 0
      },
      "text/plain": [
       "  0%|          | 0/2283 [00:00<?, ?it/s]"
      ]
     },
     "metadata": {},
     "output_type": "display_data"
    },
    {
     "name": "stdout",
     "output_type": "stream",
     "text": [
      "Epoch 50/100 |  LR: [1.000000000000002e-36] |  val  | Loss: 0.5371 | Acc: 0.7841\n"
     ]
    },
    {
     "data": {
      "application/vnd.jupyter.widget-view+json": {
       "model_id": "f06e69a895de4258b63439c1dafbfa75",
       "version_major": 2,
       "version_minor": 0
      },
      "text/plain": [
       "  0%|          | 0/20541 [00:00<?, ?it/s]"
      ]
     },
     "metadata": {},
     "output_type": "display_data"
    },
    {
     "name": "stdout",
     "output_type": "stream",
     "text": [
      "Epoch 51/100 |  LR: [1.000000000000002e-37] | train | Loss: 0.5090 | Acc: 0.7955\n"
     ]
    },
    {
     "data": {
      "application/vnd.jupyter.widget-view+json": {
       "model_id": "debeffa22b2d4d1b95fc4df31e06c693",
       "version_major": 2,
       "version_minor": 0
      },
      "text/plain": [
       "  0%|          | 0/2283 [00:00<?, ?it/s]"
      ]
     },
     "metadata": {},
     "output_type": "display_data"
    },
    {
     "name": "stdout",
     "output_type": "stream",
     "text": [
      "Epoch 51/100 |  LR: [1.000000000000002e-37] |  val  | Loss: 0.5366 | Acc: 0.7843\n"
     ]
    },
    {
     "data": {
      "application/vnd.jupyter.widget-view+json": {
       "model_id": "b14d89f126b94f06a5aed7f365ee707d",
       "version_major": 2,
       "version_minor": 0
      },
      "text/plain": [
       "  0%|          | 0/20541 [00:00<?, ?it/s]"
      ]
     },
     "metadata": {},
     "output_type": "display_data"
    },
    {
     "name": "stdout",
     "output_type": "stream",
     "text": [
      "Epoch 52/100 |  LR: [1.0000000000000019e-38] | train | Loss: 0.5089 | Acc: 0.7957\n"
     ]
    },
    {
     "data": {
      "application/vnd.jupyter.widget-view+json": {
       "model_id": "cb5c138234504306a28784034ea314a1",
       "version_major": 2,
       "version_minor": 0
      },
      "text/plain": [
       "  0%|          | 0/2283 [00:00<?, ?it/s]"
      ]
     },
     "metadata": {},
     "output_type": "display_data"
    },
    {
     "name": "stdout",
     "output_type": "stream",
     "text": [
      "Epoch 52/100 |  LR: [1.0000000000000019e-38] |  val  | Loss: 0.5380 | Acc: 0.7837\n"
     ]
    },
    {
     "data": {
      "application/vnd.jupyter.widget-view+json": {
       "model_id": "ae9b470a48404aceacf969a3aed0ee6d",
       "version_major": 2,
       "version_minor": 0
      },
      "text/plain": [
       "  0%|          | 0/20541 [00:00<?, ?it/s]"
      ]
     },
     "metadata": {},
     "output_type": "display_data"
    },
    {
     "name": "stdout",
     "output_type": "stream",
     "text": [
      "Epoch 53/100 |  LR: [1.0000000000000022e-39] | train | Loss: 0.5089 | Acc: 0.7956\n"
     ]
    },
    {
     "data": {
      "application/vnd.jupyter.widget-view+json": {
       "model_id": "8561c39365df4cad91b945d38a77f85a",
       "version_major": 2,
       "version_minor": 0
      },
      "text/plain": [
       "  0%|          | 0/2283 [00:00<?, ?it/s]"
      ]
     },
     "metadata": {},
     "output_type": "display_data"
    },
    {
     "name": "stdout",
     "output_type": "stream",
     "text": [
      "Epoch 53/100 |  LR: [1.0000000000000022e-39] |  val  | Loss: 0.5369 | Acc: 0.7843\n"
     ]
    },
    {
     "data": {
      "application/vnd.jupyter.widget-view+json": {
       "model_id": "efc5e37d32c84215bef66a49f79a2a32",
       "version_major": 2,
       "version_minor": 0
      },
      "text/plain": [
       "  0%|          | 0/20541 [00:00<?, ?it/s]"
      ]
     },
     "metadata": {},
     "output_type": "display_data"
    },
    {
     "name": "stdout",
     "output_type": "stream",
     "text": [
      "Epoch 54/100 |  LR: [1.0000000000000022e-40] | train | Loss: 0.5092 | Acc: 0.7956\n"
     ]
    },
    {
     "data": {
      "application/vnd.jupyter.widget-view+json": {
       "model_id": "7e80abe558e540259a01f0bcfc33b7ad",
       "version_major": 2,
       "version_minor": 0
      },
      "text/plain": [
       "  0%|          | 0/2283 [00:00<?, ?it/s]"
      ]
     },
     "metadata": {},
     "output_type": "display_data"
    },
    {
     "name": "stdout",
     "output_type": "stream",
     "text": [
      "Epoch 54/100 |  LR: [1.0000000000000022e-40] |  val  | Loss: 0.5367 | Acc: 0.7844\n"
     ]
    },
    {
     "data": {
      "application/vnd.jupyter.widget-view+json": {
       "model_id": "79a31bb2104c4c7cb94774935b9731ff",
       "version_major": 2,
       "version_minor": 0
      },
      "text/plain": [
       "  0%|          | 0/20541 [00:00<?, ?it/s]"
      ]
     },
     "metadata": {},
     "output_type": "display_data"
    },
    {
     "name": "stdout",
     "output_type": "stream",
     "text": [
      "Epoch 55/100 |  LR: [1.0000000000000022e-41] | train | Loss: 0.5090 | Acc: 0.7956\n"
     ]
    },
    {
     "data": {
      "application/vnd.jupyter.widget-view+json": {
       "model_id": "336337edf6574b5a84db6794853305b1",
       "version_major": 2,
       "version_minor": 0
      },
      "text/plain": [
       "  0%|          | 0/2283 [00:00<?, ?it/s]"
      ]
     },
     "metadata": {},
     "output_type": "display_data"
    },
    {
     "name": "stdout",
     "output_type": "stream",
     "text": [
      "Epoch 55/100 |  LR: [1.0000000000000022e-41] |  val  | Loss: 0.5370 | Acc: 0.7844\n"
     ]
    },
    {
     "data": {
      "application/vnd.jupyter.widget-view+json": {
       "model_id": "684cfe3b03514470a24fd37d8942aed9",
       "version_major": 2,
       "version_minor": 0
      },
      "text/plain": [
       "  0%|          | 0/20541 [00:00<?, ?it/s]"
      ]
     },
     "metadata": {},
     "output_type": "display_data"
    },
    {
     "name": "stdout",
     "output_type": "stream",
     "text": [
      "Epoch 56/100 |  LR: [1.0000000000000023e-42] | train | Loss: 0.5090 | Acc: 0.7957\n"
     ]
    },
    {
     "data": {
      "application/vnd.jupyter.widget-view+json": {
       "model_id": "c4d3ba4756f141f09dbc2f21d18c7b0d",
       "version_major": 2,
       "version_minor": 0
      },
      "text/plain": [
       "  0%|          | 0/2283 [00:00<?, ?it/s]"
      ]
     },
     "metadata": {},
     "output_type": "display_data"
    },
    {
     "name": "stdout",
     "output_type": "stream",
     "text": [
      "Epoch 56/100 |  LR: [1.0000000000000023e-42] |  val  | Loss: 0.5378 | Acc: 0.7840\n"
     ]
    },
    {
     "data": {
      "application/vnd.jupyter.widget-view+json": {
       "model_id": "fcb6c30e11bf484ab5d2b0ceb7a3c9f7",
       "version_major": 2,
       "version_minor": 0
      },
      "text/plain": [
       "  0%|          | 0/20541 [00:00<?, ?it/s]"
      ]
     },
     "metadata": {},
     "output_type": "display_data"
    },
    {
     "name": "stdout",
     "output_type": "stream",
     "text": [
      "Epoch 57/100 |  LR: [1.0000000000000023e-43] | train | Loss: 0.5089 | Acc: 0.7954\n"
     ]
    },
    {
     "data": {
      "application/vnd.jupyter.widget-view+json": {
       "model_id": "953589d1934941649bd9acf26e967a9f",
       "version_major": 2,
       "version_minor": 0
      },
      "text/plain": [
       "  0%|          | 0/2283 [00:00<?, ?it/s]"
      ]
     },
     "metadata": {},
     "output_type": "display_data"
    },
    {
     "name": "stdout",
     "output_type": "stream",
     "text": [
      "Epoch 57/100 |  LR: [1.0000000000000023e-43] |  val  | Loss: 0.5371 | Acc: 0.7842\n"
     ]
    },
    {
     "data": {
      "application/vnd.jupyter.widget-view+json": {
       "model_id": "0f97d108af46417aa595852935fce620",
       "version_major": 2,
       "version_minor": 0
      },
      "text/plain": [
       "  0%|          | 0/20541 [00:00<?, ?it/s]"
      ]
     },
     "metadata": {},
     "output_type": "display_data"
    },
    {
     "name": "stdout",
     "output_type": "stream",
     "text": [
      "Epoch 58/100 |  LR: [1.0000000000000023e-44] | train | Loss: 0.5089 | Acc: 0.7957\n"
     ]
    },
    {
     "data": {
      "application/vnd.jupyter.widget-view+json": {
       "model_id": "f0aa8f01c32d44c2978721766d6deb0b",
       "version_major": 2,
       "version_minor": 0
      },
      "text/plain": [
       "  0%|          | 0/2283 [00:00<?, ?it/s]"
      ]
     },
     "metadata": {},
     "output_type": "display_data"
    },
    {
     "name": "stdout",
     "output_type": "stream",
     "text": [
      "Epoch 58/100 |  LR: [1.0000000000000023e-44] |  val  | Loss: 0.5370 | Acc: 0.7839\n"
     ]
    },
    {
     "data": {
      "application/vnd.jupyter.widget-view+json": {
       "model_id": "602f81f25dfb4916aea005aeccb6e17d",
       "version_major": 2,
       "version_minor": 0
      },
      "text/plain": [
       "  0%|          | 0/20541 [00:00<?, ?it/s]"
      ]
     },
     "metadata": {},
     "output_type": "display_data"
    },
    {
     "name": "stdout",
     "output_type": "stream",
     "text": [
      "Epoch 59/100 |  LR: [1.0000000000000025e-45] | train | Loss: 0.5090 | Acc: 0.7956\n"
     ]
    },
    {
     "data": {
      "application/vnd.jupyter.widget-view+json": {
       "model_id": "a5e1e1ad05774a0bb2ef9c2fcb745570",
       "version_major": 2,
       "version_minor": 0
      },
      "text/plain": [
       "  0%|          | 0/2283 [00:00<?, ?it/s]"
      ]
     },
     "metadata": {},
     "output_type": "display_data"
    },
    {
     "name": "stdout",
     "output_type": "stream",
     "text": [
      "Epoch 59/100 |  LR: [1.0000000000000025e-45] |  val  | Loss: 0.5370 | Acc: 0.7844\n"
     ]
    },
    {
     "data": {
      "application/vnd.jupyter.widget-view+json": {
       "model_id": "42404ec511f64632b631741ba6db66d1",
       "version_major": 2,
       "version_minor": 0
      },
      "text/plain": [
       "  0%|          | 0/20541 [00:00<?, ?it/s]"
      ]
     },
     "metadata": {},
     "output_type": "display_data"
    },
    {
     "name": "stdout",
     "output_type": "stream",
     "text": [
      "Epoch 60/100 |  LR: [1.0000000000000026e-46] | train | Loss: 0.5090 | Acc: 0.7957\n"
     ]
    },
    {
     "data": {
      "application/vnd.jupyter.widget-view+json": {
       "model_id": "f39a117f732743d8848e76aec55f2c19",
       "version_major": 2,
       "version_minor": 0
      },
      "text/plain": [
       "  0%|          | 0/2283 [00:00<?, ?it/s]"
      ]
     },
     "metadata": {},
     "output_type": "display_data"
    },
    {
     "name": "stdout",
     "output_type": "stream",
     "text": [
      "Epoch 60/100 |  LR: [1.0000000000000026e-46] |  val  | Loss: 0.5370 | Acc: 0.7844\n"
     ]
    },
    {
     "data": {
      "application/vnd.jupyter.widget-view+json": {
       "model_id": "898f1729da314c079aa5ef26dc49aa96",
       "version_major": 2,
       "version_minor": 0
      },
      "text/plain": [
       "  0%|          | 0/20541 [00:00<?, ?it/s]"
      ]
     },
     "metadata": {},
     "output_type": "display_data"
    },
    {
     "name": "stdout",
     "output_type": "stream",
     "text": [
      "Epoch 61/100 |  LR: [1.0000000000000025e-47] | train | Loss: 0.5091 | Acc: 0.7956\n"
     ]
    },
    {
     "data": {
      "application/vnd.jupyter.widget-view+json": {
       "model_id": "ac1b553983b74845b801f12bcd653481",
       "version_major": 2,
       "version_minor": 0
      },
      "text/plain": [
       "  0%|          | 0/2283 [00:00<?, ?it/s]"
      ]
     },
     "metadata": {},
     "output_type": "display_data"
    },
    {
     "name": "stdout",
     "output_type": "stream",
     "text": [
      "Epoch 61/100 |  LR: [1.0000000000000025e-47] |  val  | Loss: 0.5368 | Acc: 0.7847\n"
     ]
    },
    {
     "data": {
      "application/vnd.jupyter.widget-view+json": {
       "model_id": "81721128f4e746a08c8e8f682eb468cc",
       "version_major": 2,
       "version_minor": 0
      },
      "text/plain": [
       "  0%|          | 0/20541 [00:00<?, ?it/s]"
      ]
     },
     "metadata": {},
     "output_type": "display_data"
    },
    {
     "name": "stdout",
     "output_type": "stream",
     "text": [
      "Epoch 62/100 |  LR: [1.0000000000000025e-47] | train | Loss: 0.5091 | Acc: 0.7955\n"
     ]
    },
    {
     "data": {
      "application/vnd.jupyter.widget-view+json": {
       "model_id": "393061b90d504ff7a959fadff6252c45",
       "version_major": 2,
       "version_minor": 0
      },
      "text/plain": [
       "  0%|          | 0/2283 [00:00<?, ?it/s]"
      ]
     },
     "metadata": {},
     "output_type": "display_data"
    },
    {
     "name": "stdout",
     "output_type": "stream",
     "text": [
      "Epoch 62/100 |  LR: [1.0000000000000025e-47] |  val  | Loss: 0.5366 | Acc: 0.7847\n"
     ]
    },
    {
     "data": {
      "application/vnd.jupyter.widget-view+json": {
       "model_id": "0c260210c3874fa0b9960e3605489370",
       "version_major": 2,
       "version_minor": 0
      },
      "text/plain": [
       "  0%|          | 0/20541 [00:00<?, ?it/s]"
      ]
     },
     "metadata": {},
     "output_type": "display_data"
    },
    {
     "name": "stdout",
     "output_type": "stream",
     "text": [
      "Epoch 63/100 |  LR: [1.0000000000000025e-47] | train | Loss: 0.5091 | Acc: 0.7957\n"
     ]
    },
    {
     "data": {
      "application/vnd.jupyter.widget-view+json": {
       "model_id": "f8252521fd7740cca8454bd3964df06d",
       "version_major": 2,
       "version_minor": 0
      },
      "text/plain": [
       "  0%|          | 0/2283 [00:00<?, ?it/s]"
      ]
     },
     "metadata": {},
     "output_type": "display_data"
    },
    {
     "name": "stdout",
     "output_type": "stream",
     "text": [
      "Epoch 63/100 |  LR: [1.0000000000000025e-47] |  val  | Loss: 0.5373 | Acc: 0.7840\n"
     ]
    },
    {
     "data": {
      "application/vnd.jupyter.widget-view+json": {
       "model_id": "ba8cda7b8e4f48b38dfed04d2005d219",
       "version_major": 2,
       "version_minor": 0
      },
      "text/plain": [
       "  0%|          | 0/20541 [00:00<?, ?it/s]"
      ]
     },
     "metadata": {},
     "output_type": "display_data"
    },
    {
     "name": "stdout",
     "output_type": "stream",
     "text": [
      "Epoch 64/100 |  LR: [1.0000000000000026e-48] | train | Loss: 0.5092 | Acc: 0.7954\n"
     ]
    },
    {
     "data": {
      "application/vnd.jupyter.widget-view+json": {
       "model_id": "ad3e968bba4944bfbf14bc5716c2d420",
       "version_major": 2,
       "version_minor": 0
      },
      "text/plain": [
       "  0%|          | 0/2283 [00:00<?, ?it/s]"
      ]
     },
     "metadata": {},
     "output_type": "display_data"
    },
    {
     "name": "stdout",
     "output_type": "stream",
     "text": [
      "Epoch 64/100 |  LR: [1.0000000000000026e-48] |  val  | Loss: 0.5368 | Acc: 0.7844\n"
     ]
    },
    {
     "data": {
      "application/vnd.jupyter.widget-view+json": {
       "model_id": "ac70e47749734314af88ddcff2b6f0a6",
       "version_major": 2,
       "version_minor": 0
      },
      "text/plain": [
       "  0%|          | 0/20541 [00:00<?, ?it/s]"
      ]
     },
     "metadata": {},
     "output_type": "display_data"
    },
    {
     "name": "stdout",
     "output_type": "stream",
     "text": [
      "Epoch 65/100 |  LR: [1.0000000000000026e-49] | train | Loss: 0.5092 | Acc: 0.7955\n"
     ]
    },
    {
     "data": {
      "application/vnd.jupyter.widget-view+json": {
       "model_id": "09ed7b1e9a234a279ff5f90e2a4f8f7f",
       "version_major": 2,
       "version_minor": 0
      },
      "text/plain": [
       "  0%|          | 0/2283 [00:00<?, ?it/s]"
      ]
     },
     "metadata": {},
     "output_type": "display_data"
    },
    {
     "name": "stdout",
     "output_type": "stream",
     "text": [
      "Epoch 65/100 |  LR: [1.0000000000000026e-49] |  val  | Loss: 0.5370 | Acc: 0.7840\n"
     ]
    },
    {
     "data": {
      "application/vnd.jupyter.widget-view+json": {
       "model_id": "4ff07dbc0c4346b2b3aa9c9a06e675e7",
       "version_major": 2,
       "version_minor": 0
      },
      "text/plain": [
       "  0%|          | 0/20541 [00:00<?, ?it/s]"
      ]
     },
     "metadata": {},
     "output_type": "display_data"
    },
    {
     "name": "stdout",
     "output_type": "stream",
     "text": [
      "Epoch 66/100 |  LR: [1.0000000000000027e-50] | train | Loss: 0.5091 | Acc: 0.7957\n"
     ]
    },
    {
     "data": {
      "application/vnd.jupyter.widget-view+json": {
       "model_id": "8c99f73f229a4120a8b266b2dc0a9c89",
       "version_major": 2,
       "version_minor": 0
      },
      "text/plain": [
       "  0%|          | 0/2283 [00:00<?, ?it/s]"
      ]
     },
     "metadata": {},
     "output_type": "display_data"
    },
    {
     "name": "stdout",
     "output_type": "stream",
     "text": [
      "Epoch 66/100 |  LR: [1.0000000000000027e-50] |  val  | Loss: 0.5366 | Acc: 0.7846\n"
     ]
    },
    {
     "data": {
      "application/vnd.jupyter.widget-view+json": {
       "model_id": "0bed42b5e4d84fe3aa73238cca306f2a",
       "version_major": 2,
       "version_minor": 0
      },
      "text/plain": [
       "  0%|          | 0/20541 [00:00<?, ?it/s]"
      ]
     },
     "metadata": {},
     "output_type": "display_data"
    },
    {
     "name": "stdout",
     "output_type": "stream",
     "text": [
      "Epoch 67/100 |  LR: [1.0000000000000028e-51] | train | Loss: 0.5092 | Acc: 0.7956\n"
     ]
    },
    {
     "data": {
      "application/vnd.jupyter.widget-view+json": {
       "model_id": "a6aa5258c6d74735b7d882dc85a3ffd6",
       "version_major": 2,
       "version_minor": 0
      },
      "text/plain": [
       "  0%|          | 0/2283 [00:00<?, ?it/s]"
      ]
     },
     "metadata": {},
     "output_type": "display_data"
    },
    {
     "name": "stdout",
     "output_type": "stream",
     "text": [
      "Epoch 67/100 |  LR: [1.0000000000000028e-51] |  val  | Loss: 0.5368 | Acc: 0.7846\n"
     ]
    },
    {
     "data": {
      "application/vnd.jupyter.widget-view+json": {
       "model_id": "3a33ffeddc3f4eb4adc0f46542b056a6",
       "version_major": 2,
       "version_minor": 0
      },
      "text/plain": [
       "  0%|          | 0/20541 [00:00<?, ?it/s]"
      ]
     },
     "metadata": {},
     "output_type": "display_data"
    },
    {
     "name": "stdout",
     "output_type": "stream",
     "text": [
      "Epoch 68/100 |  LR: [1.0000000000000028e-52] | train | Loss: 0.5093 | Acc: 0.7953\n"
     ]
    },
    {
     "data": {
      "application/vnd.jupyter.widget-view+json": {
       "model_id": "ea926db4dd6f4d768c38414240f94db4",
       "version_major": 2,
       "version_minor": 0
      },
      "text/plain": [
       "  0%|          | 0/2283 [00:00<?, ?it/s]"
      ]
     },
     "metadata": {},
     "output_type": "display_data"
    },
    {
     "name": "stdout",
     "output_type": "stream",
     "text": [
      "Epoch 68/100 |  LR: [1.0000000000000028e-52] |  val  | Loss: 0.5366 | Acc: 0.7841\n"
     ]
    },
    {
     "data": {
      "application/vnd.jupyter.widget-view+json": {
       "model_id": "a9b531b5a3a941d7b99495e71df2d2f5",
       "version_major": 2,
       "version_minor": 0
      },
      "text/plain": [
       "  0%|          | 0/20541 [00:00<?, ?it/s]"
      ]
     },
     "metadata": {},
     "output_type": "display_data"
    },
    {
     "name": "stdout",
     "output_type": "stream",
     "text": [
      "Epoch 69/100 |  LR: [1.0000000000000028e-53] | train | Loss: 0.5089 | Acc: 0.7956\n"
     ]
    },
    {
     "data": {
      "application/vnd.jupyter.widget-view+json": {
       "model_id": "f445fe63713d4c5f88f52cf600f5bb69",
       "version_major": 2,
       "version_minor": 0
      },
      "text/plain": [
       "  0%|          | 0/2283 [00:00<?, ?it/s]"
      ]
     },
     "metadata": {},
     "output_type": "display_data"
    },
    {
     "name": "stdout",
     "output_type": "stream",
     "text": [
      "Epoch 69/100 |  LR: [1.0000000000000028e-53] |  val  | Loss: 0.5370 | Acc: 0.7841\n"
     ]
    },
    {
     "data": {
      "application/vnd.jupyter.widget-view+json": {
       "model_id": "f3d8698d71174e14afabacd7d6a61215",
       "version_major": 2,
       "version_minor": 0
      },
      "text/plain": [
       "  0%|          | 0/20541 [00:00<?, ?it/s]"
      ]
     },
     "metadata": {},
     "output_type": "display_data"
    },
    {
     "name": "stdout",
     "output_type": "stream",
     "text": [
      "Epoch 70/100 |  LR: [1.000000000000003e-54] | train | Loss: 0.5090 | Acc: 0.7956\n"
     ]
    },
    {
     "data": {
      "application/vnd.jupyter.widget-view+json": {
       "model_id": "85d27662e41b42c5808bfcd4421ddad9",
       "version_major": 2,
       "version_minor": 0
      },
      "text/plain": [
       "  0%|          | 0/2283 [00:00<?, ?it/s]"
      ]
     },
     "metadata": {},
     "output_type": "display_data"
    },
    {
     "name": "stdout",
     "output_type": "stream",
     "text": [
      "Epoch 70/100 |  LR: [1.000000000000003e-54] |  val  | Loss: 0.5368 | Acc: 0.7845\n"
     ]
    },
    {
     "data": {
      "application/vnd.jupyter.widget-view+json": {
       "model_id": "8208d35bc4bd44bda0da6ab0b9b04086",
       "version_major": 2,
       "version_minor": 0
      },
      "text/plain": [
       "  0%|          | 0/20541 [00:00<?, ?it/s]"
      ]
     },
     "metadata": {},
     "output_type": "display_data"
    },
    {
     "name": "stdout",
     "output_type": "stream",
     "text": [
      "Epoch 71/100 |  LR: [1.0000000000000029e-55] | train | Loss: 0.5087 | Acc: 0.7957\n"
     ]
    },
    {
     "data": {
      "application/vnd.jupyter.widget-view+json": {
       "model_id": "6edda6745e9c4d3a8660815c209773a4",
       "version_major": 2,
       "version_minor": 0
      },
      "text/plain": [
       "  0%|          | 0/2283 [00:00<?, ?it/s]"
      ]
     },
     "metadata": {},
     "output_type": "display_data"
    },
    {
     "name": "stdout",
     "output_type": "stream",
     "text": [
      "Epoch 71/100 |  LR: [1.0000000000000029e-55] |  val  | Loss: 0.5368 | Acc: 0.7841\n"
     ]
    },
    {
     "data": {
      "application/vnd.jupyter.widget-view+json": {
       "model_id": "d33378aae1e74339a379a2edff8c3cbc",
       "version_major": 2,
       "version_minor": 0
      },
      "text/plain": [
       "  0%|          | 0/20541 [00:00<?, ?it/s]"
      ]
     },
     "metadata": {},
     "output_type": "display_data"
    },
    {
     "name": "stdout",
     "output_type": "stream",
     "text": [
      "Epoch 72/100 |  LR: [1.000000000000003e-56] | train | Loss: 0.5088 | Acc: 0.7959\n"
     ]
    },
    {
     "data": {
      "application/vnd.jupyter.widget-view+json": {
       "model_id": "342af9f2e80a4200b311fac62d259e92",
       "version_major": 2,
       "version_minor": 0
      },
      "text/plain": [
       "  0%|          | 0/2283 [00:00<?, ?it/s]"
      ]
     },
     "metadata": {},
     "output_type": "display_data"
    },
    {
     "name": "stdout",
     "output_type": "stream",
     "text": [
      "Epoch 72/100 |  LR: [1.000000000000003e-56] |  val  | Loss: 0.5370 | Acc: 0.7843\n"
     ]
    },
    {
     "data": {
      "application/vnd.jupyter.widget-view+json": {
       "model_id": "fa6e0b9e834d4c55b80a4543cc0f9a01",
       "version_major": 2,
       "version_minor": 0
      },
      "text/plain": [
       "  0%|          | 0/20541 [00:00<?, ?it/s]"
      ]
     },
     "metadata": {},
     "output_type": "display_data"
    },
    {
     "name": "stdout",
     "output_type": "stream",
     "text": [
      "Epoch 73/100 |  LR: [1.000000000000003e-57] | train | Loss: 0.5092 | Acc: 0.7956\n"
     ]
    },
    {
     "data": {
      "application/vnd.jupyter.widget-view+json": {
       "model_id": "c5a96cce448d4b1883c60dcc4368014f",
       "version_major": 2,
       "version_minor": 0
      },
      "text/plain": [
       "  0%|          | 0/2283 [00:00<?, ?it/s]"
      ]
     },
     "metadata": {},
     "output_type": "display_data"
    },
    {
     "name": "stdout",
     "output_type": "stream",
     "text": [
      "Epoch 73/100 |  LR: [1.000000000000003e-57] |  val  | Loss: 0.5371 | Acc: 0.7839\n"
     ]
    },
    {
     "data": {
      "application/vnd.jupyter.widget-view+json": {
       "model_id": "215e5ecdeb0c4b0cab90aaef094240e9",
       "version_major": 2,
       "version_minor": 0
      },
      "text/plain": [
       "  0%|          | 0/20541 [00:00<?, ?it/s]"
      ]
     },
     "metadata": {},
     "output_type": "display_data"
    },
    {
     "name": "stdout",
     "output_type": "stream",
     "text": [
      "Epoch 74/100 |  LR: [1.000000000000003e-58] | train | Loss: 0.5091 | Acc: 0.7956\n"
     ]
    },
    {
     "data": {
      "application/vnd.jupyter.widget-view+json": {
       "model_id": "197c3173a4754c2183a5d99712d35ba7",
       "version_major": 2,
       "version_minor": 0
      },
      "text/plain": [
       "  0%|          | 0/2283 [00:00<?, ?it/s]"
      ]
     },
     "metadata": {},
     "output_type": "display_data"
    },
    {
     "name": "stdout",
     "output_type": "stream",
     "text": [
      "Epoch 74/100 |  LR: [1.000000000000003e-58] |  val  | Loss: 0.5368 | Acc: 0.7843\n"
     ]
    },
    {
     "data": {
      "application/vnd.jupyter.widget-view+json": {
       "model_id": "8d2e322145944e19954c875576a269f0",
       "version_major": 2,
       "version_minor": 0
      },
      "text/plain": [
       "  0%|          | 0/20541 [00:00<?, ?it/s]"
      ]
     },
     "metadata": {},
     "output_type": "display_data"
    },
    {
     "name": "stdout",
     "output_type": "stream",
     "text": [
      "Epoch 75/100 |  LR: [1.0000000000000031e-59] | train | Loss: 0.5091 | Acc: 0.7956\n"
     ]
    },
    {
     "data": {
      "application/vnd.jupyter.widget-view+json": {
       "model_id": "fe613abb479c4f2b970f92c5807c616a",
       "version_major": 2,
       "version_minor": 0
      },
      "text/plain": [
       "  0%|          | 0/2283 [00:00<?, ?it/s]"
      ]
     },
     "metadata": {},
     "output_type": "display_data"
    },
    {
     "name": "stdout",
     "output_type": "stream",
     "text": [
      "Epoch 75/100 |  LR: [1.0000000000000031e-59] |  val  | Loss: 0.5370 | Acc: 0.7842\n"
     ]
    },
    {
     "data": {
      "application/vnd.jupyter.widget-view+json": {
       "model_id": "cc6ab6f84cd047c5a283b66a9bdd3238",
       "version_major": 2,
       "version_minor": 0
      },
      "text/plain": [
       "  0%|          | 0/20541 [00:00<?, ?it/s]"
      ]
     },
     "metadata": {},
     "output_type": "display_data"
    },
    {
     "name": "stdout",
     "output_type": "stream",
     "text": [
      "Epoch 76/100 |  LR: [1.0000000000000033e-60] | train | Loss: 0.5087 | Acc: 0.7958\n"
     ]
    },
    {
     "data": {
      "application/vnd.jupyter.widget-view+json": {
       "model_id": "baa6fdd2e4a0462fb87bd75f4af0fe8a",
       "version_major": 2,
       "version_minor": 0
      },
      "text/plain": [
       "  0%|          | 0/2283 [00:00<?, ?it/s]"
      ]
     },
     "metadata": {},
     "output_type": "display_data"
    },
    {
     "name": "stdout",
     "output_type": "stream",
     "text": [
      "Epoch 76/100 |  LR: [1.0000000000000033e-60] |  val  | Loss: 0.5370 | Acc: 0.7841\n"
     ]
    },
    {
     "data": {
      "application/vnd.jupyter.widget-view+json": {
       "model_id": "04ca66578c9045e8998aa3b4c1dff232",
       "version_major": 2,
       "version_minor": 0
      },
      "text/plain": [
       "  0%|          | 0/20541 [00:00<?, ?it/s]"
      ]
     },
     "metadata": {},
     "output_type": "display_data"
    },
    {
     "name": "stdout",
     "output_type": "stream",
     "text": [
      "Epoch 77/100 |  LR: [1.0000000000000033e-61] | train | Loss: 0.5091 | Acc: 0.7956\n"
     ]
    },
    {
     "data": {
      "application/vnd.jupyter.widget-view+json": {
       "model_id": "4803aca2b0404bf2b40883f92eb3697a",
       "version_major": 2,
       "version_minor": 0
      },
      "text/plain": [
       "  0%|          | 0/2283 [00:00<?, ?it/s]"
      ]
     },
     "metadata": {},
     "output_type": "display_data"
    },
    {
     "name": "stdout",
     "output_type": "stream",
     "text": [
      "Epoch 77/100 |  LR: [1.0000000000000033e-61] |  val  | Loss: 0.5365 | Acc: 0.7845\n"
     ]
    },
    {
     "data": {
      "application/vnd.jupyter.widget-view+json": {
       "model_id": "fcb859e429b644bba2ceb70ec9caa58f",
       "version_major": 2,
       "version_minor": 0
      },
      "text/plain": [
       "  0%|          | 0/20541 [00:00<?, ?it/s]"
      ]
     },
     "metadata": {},
     "output_type": "display_data"
    },
    {
     "name": "stdout",
     "output_type": "stream",
     "text": [
      "Epoch 78/100 |  LR: [1.0000000000000033e-62] | train | Loss: 0.5090 | Acc: 0.7955\n"
     ]
    },
    {
     "data": {
      "application/vnd.jupyter.widget-view+json": {
       "model_id": "68f5b7a7b5bb4bf0b590313b863003bf",
       "version_major": 2,
       "version_minor": 0
      },
      "text/plain": [
       "  0%|          | 0/2283 [00:00<?, ?it/s]"
      ]
     },
     "metadata": {},
     "output_type": "display_data"
    },
    {
     "name": "stdout",
     "output_type": "stream",
     "text": [
      "Epoch 78/100 |  LR: [1.0000000000000033e-62] |  val  | Loss: 0.5371 | Acc: 0.7845\n"
     ]
    },
    {
     "data": {
      "application/vnd.jupyter.widget-view+json": {
       "model_id": "8c997244e7634faa94310af790307081",
       "version_major": 2,
       "version_minor": 0
      },
      "text/plain": [
       "  0%|          | 0/20541 [00:00<?, ?it/s]"
      ]
     },
     "metadata": {},
     "output_type": "display_data"
    },
    {
     "name": "stdout",
     "output_type": "stream",
     "text": [
      "Epoch 79/100 |  LR: [1.0000000000000033e-63] | train | Loss: 0.5088 | Acc: 0.7955\n"
     ]
    },
    {
     "data": {
      "application/vnd.jupyter.widget-view+json": {
       "model_id": "93b98466027145068d823f953a5a1fd9",
       "version_major": 2,
       "version_minor": 0
      },
      "text/plain": [
       "  0%|          | 0/2283 [00:00<?, ?it/s]"
      ]
     },
     "metadata": {},
     "output_type": "display_data"
    },
    {
     "name": "stdout",
     "output_type": "stream",
     "text": [
      "Epoch 79/100 |  LR: [1.0000000000000033e-63] |  val  | Loss: 0.5372 | Acc: 0.7837\n"
     ]
    },
    {
     "data": {
      "application/vnd.jupyter.widget-view+json": {
       "model_id": "84db206f0e8b43898328b9b9de6f409d",
       "version_major": 2,
       "version_minor": 0
      },
      "text/plain": [
       "  0%|          | 0/20541 [00:00<?, ?it/s]"
      ]
     },
     "metadata": {},
     "output_type": "display_data"
    },
    {
     "name": "stdout",
     "output_type": "stream",
     "text": [
      "Epoch 80/100 |  LR: [1.0000000000000035e-64] | train | Loss: 0.5090 | Acc: 0.7956\n"
     ]
    },
    {
     "data": {
      "application/vnd.jupyter.widget-view+json": {
       "model_id": "cde9c075fa354980b35559dbdbe2f522",
       "version_major": 2,
       "version_minor": 0
      },
      "text/plain": [
       "  0%|          | 0/2283 [00:00<?, ?it/s]"
      ]
     },
     "metadata": {},
     "output_type": "display_data"
    },
    {
     "name": "stdout",
     "output_type": "stream",
     "text": [
      "Epoch 80/100 |  LR: [1.0000000000000035e-64] |  val  | Loss: 0.5375 | Acc: 0.7838\n"
     ]
    },
    {
     "data": {
      "application/vnd.jupyter.widget-view+json": {
       "model_id": "6cd83e86e0044361b38a9a2710ecb2ad",
       "version_major": 2,
       "version_minor": 0
      },
      "text/plain": [
       "  0%|          | 0/20541 [00:00<?, ?it/s]"
      ]
     },
     "metadata": {},
     "output_type": "display_data"
    },
    {
     "name": "stdout",
     "output_type": "stream",
     "text": [
      "Epoch 81/100 |  LR: [1.0000000000000035e-65] | train | Loss: 0.5090 | Acc: 0.7958\n"
     ]
    },
    {
     "data": {
      "application/vnd.jupyter.widget-view+json": {
       "model_id": "2015010e42b747ea9473787cbe092bb8",
       "version_major": 2,
       "version_minor": 0
      },
      "text/plain": [
       "  0%|          | 0/2283 [00:00<?, ?it/s]"
      ]
     },
     "metadata": {},
     "output_type": "display_data"
    },
    {
     "name": "stdout",
     "output_type": "stream",
     "text": [
      "Epoch 81/100 |  LR: [1.0000000000000035e-65] |  val  | Loss: 0.5369 | Acc: 0.7847\n"
     ]
    },
    {
     "data": {
      "application/vnd.jupyter.widget-view+json": {
       "model_id": "9abe1c3b80ab4b37b0f6bca1b4d196b5",
       "version_major": 2,
       "version_minor": 0
      },
      "text/plain": [
       "  0%|          | 0/20541 [00:00<?, ?it/s]"
      ]
     },
     "metadata": {},
     "output_type": "display_data"
    },
    {
     "name": "stdout",
     "output_type": "stream",
     "text": [
      "Epoch 82/100 |  LR: [1.0000000000000035e-66] | train | Loss: 0.5088 | Acc: 0.7958\n"
     ]
    },
    {
     "data": {
      "application/vnd.jupyter.widget-view+json": {
       "model_id": "60b1534db32644f8b3ef92b230c806a6",
       "version_major": 2,
       "version_minor": 0
      },
      "text/plain": [
       "  0%|          | 0/2283 [00:00<?, ?it/s]"
      ]
     },
     "metadata": {},
     "output_type": "display_data"
    },
    {
     "name": "stdout",
     "output_type": "stream",
     "text": [
      "Epoch 82/100 |  LR: [1.0000000000000035e-66] |  val  | Loss: 0.5366 | Acc: 0.7846\n"
     ]
    },
    {
     "data": {
      "application/vnd.jupyter.widget-view+json": {
       "model_id": "50a8905e457a42acae89ae4bc13148c4",
       "version_major": 2,
       "version_minor": 0
      },
      "text/plain": [
       "  0%|          | 0/20541 [00:00<?, ?it/s]"
      ]
     },
     "metadata": {},
     "output_type": "display_data"
    },
    {
     "name": "stdout",
     "output_type": "stream",
     "text": [
      "Epoch 83/100 |  LR: [1.0000000000000036e-67] | train | Loss: 0.5089 | Acc: 0.7956\n"
     ]
    },
    {
     "data": {
      "application/vnd.jupyter.widget-view+json": {
       "model_id": "1454c2f04c7149bea58daa1e3b57f3df",
       "version_major": 2,
       "version_minor": 0
      },
      "text/plain": [
       "  0%|          | 0/2283 [00:00<?, ?it/s]"
      ]
     },
     "metadata": {},
     "output_type": "display_data"
    },
    {
     "name": "stdout",
     "output_type": "stream",
     "text": [
      "Epoch 83/100 |  LR: [1.0000000000000036e-67] |  val  | Loss: 0.5368 | Acc: 0.7842\n"
     ]
    },
    {
     "data": {
      "application/vnd.jupyter.widget-view+json": {
       "model_id": "b7197e859b574500ab96f3a0711f0c7c",
       "version_major": 2,
       "version_minor": 0
      },
      "text/plain": [
       "  0%|          | 0/20541 [00:00<?, ?it/s]"
      ]
     },
     "metadata": {},
     "output_type": "display_data"
    },
    {
     "name": "stdout",
     "output_type": "stream",
     "text": [
      "Epoch 84/100 |  LR: [1.0000000000000038e-68] | train | Loss: 0.5091 | Acc: 0.7955\n"
     ]
    },
    {
     "data": {
      "application/vnd.jupyter.widget-view+json": {
       "model_id": "5d55f26182c64bcdb7d25ac5c582c590",
       "version_major": 2,
       "version_minor": 0
      },
      "text/plain": [
       "  0%|          | 0/2283 [00:00<?, ?it/s]"
      ]
     },
     "metadata": {},
     "output_type": "display_data"
    },
    {
     "name": "stdout",
     "output_type": "stream",
     "text": [
      "Epoch 84/100 |  LR: [1.0000000000000038e-68] |  val  | Loss: 0.5371 | Acc: 0.7841\n"
     ]
    },
    {
     "data": {
      "application/vnd.jupyter.widget-view+json": {
       "model_id": "895e1d572ea04e0fbda219d37d140604",
       "version_major": 2,
       "version_minor": 0
      },
      "text/plain": [
       "  0%|          | 0/20541 [00:00<?, ?it/s]"
      ]
     },
     "metadata": {},
     "output_type": "display_data"
    },
    {
     "name": "stdout",
     "output_type": "stream",
     "text": [
      "Epoch 85/100 |  LR: [1.0000000000000037e-69] | train | Loss: 0.5091 | Acc: 0.7956\n"
     ]
    },
    {
     "data": {
      "application/vnd.jupyter.widget-view+json": {
       "model_id": "d85085268f644788a68a7c42855622e3",
       "version_major": 2,
       "version_minor": 0
      },
      "text/plain": [
       "  0%|          | 0/2283 [00:00<?, ?it/s]"
      ]
     },
     "metadata": {},
     "output_type": "display_data"
    },
    {
     "name": "stdout",
     "output_type": "stream",
     "text": [
      "Epoch 85/100 |  LR: [1.0000000000000037e-69] |  val  | Loss: 0.5365 | Acc: 0.7844\n"
     ]
    },
    {
     "data": {
      "application/vnd.jupyter.widget-view+json": {
       "model_id": "a774c9ccf04d4e188963846cfcc79cce",
       "version_major": 2,
       "version_minor": 0
      },
      "text/plain": [
       "  0%|          | 0/20541 [00:00<?, ?it/s]"
      ]
     },
     "metadata": {},
     "output_type": "display_data"
    },
    {
     "name": "stdout",
     "output_type": "stream",
     "text": [
      "Epoch 86/100 |  LR: [1.0000000000000039e-70] | train | Loss: 0.5090 | Acc: 0.7958\n"
     ]
    },
    {
     "data": {
      "application/vnd.jupyter.widget-view+json": {
       "model_id": "32f2960a992941b7a059e12f001c44e2",
       "version_major": 2,
       "version_minor": 0
      },
      "text/plain": [
       "  0%|          | 0/2283 [00:00<?, ?it/s]"
      ]
     },
     "metadata": {},
     "output_type": "display_data"
    },
    {
     "name": "stdout",
     "output_type": "stream",
     "text": [
      "Epoch 86/100 |  LR: [1.0000000000000039e-70] |  val  | Loss: 0.5370 | Acc: 0.7849\n"
     ]
    },
    {
     "data": {
      "application/vnd.jupyter.widget-view+json": {
       "model_id": "dacec084fd474cc48654080bc0f6739f",
       "version_major": 2,
       "version_minor": 0
      },
      "text/plain": [
       "  0%|          | 0/20541 [00:00<?, ?it/s]"
      ]
     },
     "metadata": {},
     "output_type": "display_data"
    },
    {
     "name": "stdout",
     "output_type": "stream",
     "text": [
      "Epoch 87/100 |  LR: [1.0000000000000039e-70] | train | Loss: 0.5090 | Acc: 0.7956\n"
     ]
    },
    {
     "data": {
      "application/vnd.jupyter.widget-view+json": {
       "model_id": "12dc004e11864df0a1387d016a48bbca",
       "version_major": 2,
       "version_minor": 0
      },
      "text/plain": [
       "  0%|          | 0/2283 [00:00<?, ?it/s]"
      ]
     },
     "metadata": {},
     "output_type": "display_data"
    },
    {
     "name": "stdout",
     "output_type": "stream",
     "text": [
      "Epoch 87/100 |  LR: [1.0000000000000039e-70] |  val  | Loss: 0.5370 | Acc: 0.7844\n"
     ]
    },
    {
     "data": {
      "application/vnd.jupyter.widget-view+json": {
       "model_id": "619d1590aa67496e95716d7300f70a71",
       "version_major": 2,
       "version_minor": 0
      },
      "text/plain": [
       "  0%|          | 0/20541 [00:00<?, ?it/s]"
      ]
     },
     "metadata": {},
     "output_type": "display_data"
    },
    {
     "name": "stdout",
     "output_type": "stream",
     "text": [
      "Epoch 88/100 |  LR: [1.000000000000004e-71] | train | Loss: 0.5089 | Acc: 0.7957\n"
     ]
    },
    {
     "data": {
      "application/vnd.jupyter.widget-view+json": {
       "model_id": "0fa8f89f31b7401b87bfc5d6b21d8434",
       "version_major": 2,
       "version_minor": 0
      },
      "text/plain": [
       "  0%|          | 0/2283 [00:00<?, ?it/s]"
      ]
     },
     "metadata": {},
     "output_type": "display_data"
    },
    {
     "name": "stdout",
     "output_type": "stream",
     "text": [
      "Epoch 88/100 |  LR: [1.000000000000004e-71] |  val  | Loss: 0.5375 | Acc: 0.7844\n"
     ]
    },
    {
     "data": {
      "application/vnd.jupyter.widget-view+json": {
       "model_id": "50f0a94cf8124211bb08c264b3c8875a",
       "version_major": 2,
       "version_minor": 0
      },
      "text/plain": [
       "  0%|          | 0/20541 [00:00<?, ?it/s]"
      ]
     },
     "metadata": {},
     "output_type": "display_data"
    },
    {
     "name": "stdout",
     "output_type": "stream",
     "text": [
      "Epoch 89/100 |  LR: [1.0000000000000039e-72] | train | Loss: 0.5089 | Acc: 0.7958\n"
     ]
    },
    {
     "data": {
      "application/vnd.jupyter.widget-view+json": {
       "model_id": "d6071b24f7c34152847b05f54d81a558",
       "version_major": 2,
       "version_minor": 0
      },
      "text/plain": [
       "  0%|          | 0/2283 [00:00<?, ?it/s]"
      ]
     },
     "metadata": {},
     "output_type": "display_data"
    },
    {
     "name": "stdout",
     "output_type": "stream",
     "text": [
      "Epoch 89/100 |  LR: [1.0000000000000039e-72] |  val  | Loss: 0.5371 | Acc: 0.7842\n"
     ]
    },
    {
     "data": {
      "application/vnd.jupyter.widget-view+json": {
       "model_id": "6d8bbe11582c4418a6c4bf55a159243a",
       "version_major": 2,
       "version_minor": 0
      },
      "text/plain": [
       "  0%|          | 0/20541 [00:00<?, ?it/s]"
      ]
     },
     "metadata": {},
     "output_type": "display_data"
    },
    {
     "name": "stdout",
     "output_type": "stream",
     "text": [
      "Epoch 90/100 |  LR: [1.000000000000004e-73] | train | Loss: 0.5092 | Acc: 0.7955\n"
     ]
    },
    {
     "data": {
      "application/vnd.jupyter.widget-view+json": {
       "model_id": "311931e9da3448e193d9aef3aea939fd",
       "version_major": 2,
       "version_minor": 0
      },
      "text/plain": [
       "  0%|          | 0/2283 [00:00<?, ?it/s]"
      ]
     },
     "metadata": {},
     "output_type": "display_data"
    },
    {
     "name": "stdout",
     "output_type": "stream",
     "text": [
      "Epoch 90/100 |  LR: [1.000000000000004e-73] |  val  | Loss: 0.5366 | Acc: 0.7846\n"
     ]
    },
    {
     "data": {
      "application/vnd.jupyter.widget-view+json": {
       "model_id": "6bc2bc0ec4884b2594708bc43ee512dc",
       "version_major": 2,
       "version_minor": 0
      },
      "text/plain": [
       "  0%|          | 0/20541 [00:00<?, ?it/s]"
      ]
     },
     "metadata": {},
     "output_type": "display_data"
    },
    {
     "name": "stdout",
     "output_type": "stream",
     "text": [
      "Epoch 91/100 |  LR: [1.000000000000004e-74] | train | Loss: 0.5092 | Acc: 0.7956\n"
     ]
    },
    {
     "data": {
      "application/vnd.jupyter.widget-view+json": {
       "model_id": "888c185cc0954fab83f1ae56c4223371",
       "version_major": 2,
       "version_minor": 0
      },
      "text/plain": [
       "  0%|          | 0/2283 [00:00<?, ?it/s]"
      ]
     },
     "metadata": {},
     "output_type": "display_data"
    },
    {
     "name": "stdout",
     "output_type": "stream",
     "text": [
      "Epoch 91/100 |  LR: [1.000000000000004e-74] |  val  | Loss: 0.5367 | Acc: 0.7843\n"
     ]
    },
    {
     "data": {
      "application/vnd.jupyter.widget-view+json": {
       "model_id": "efd7456c98d4472db82ff5ef33141b2c",
       "version_major": 2,
       "version_minor": 0
      },
      "text/plain": [
       "  0%|          | 0/20541 [00:00<?, ?it/s]"
      ]
     },
     "metadata": {},
     "output_type": "display_data"
    },
    {
     "name": "stdout",
     "output_type": "stream",
     "text": [
      "Epoch 92/100 |  LR: [1.0000000000000041e-75] | train | Loss: 0.5089 | Acc: 0.7951\n"
     ]
    },
    {
     "data": {
      "application/vnd.jupyter.widget-view+json": {
       "model_id": "f410e0ba7672441f8c57a7ecf1b527f3",
       "version_major": 2,
       "version_minor": 0
      },
      "text/plain": [
       "  0%|          | 0/2283 [00:00<?, ?it/s]"
      ]
     },
     "metadata": {},
     "output_type": "display_data"
    },
    {
     "name": "stdout",
     "output_type": "stream",
     "text": [
      "Epoch 92/100 |  LR: [1.0000000000000041e-75] |  val  | Loss: 0.5371 | Acc: 0.7846\n"
     ]
    },
    {
     "data": {
      "application/vnd.jupyter.widget-view+json": {
       "model_id": "8dc41e61cbc74cf18892bb82f6c34d02",
       "version_major": 2,
       "version_minor": 0
      },
      "text/plain": [
       "  0%|          | 0/20541 [00:00<?, ?it/s]"
      ]
     },
     "metadata": {},
     "output_type": "display_data"
    },
    {
     "name": "stdout",
     "output_type": "stream",
     "text": [
      "Epoch 93/100 |  LR: [1.000000000000004e-76] | train | Loss: 0.5090 | Acc: 0.7956\n"
     ]
    },
    {
     "data": {
      "application/vnd.jupyter.widget-view+json": {
       "model_id": "fce2069145d8473780f7b0ead1982f03",
       "version_major": 2,
       "version_minor": 0
      },
      "text/plain": [
       "  0%|          | 0/2283 [00:00<?, ?it/s]"
      ]
     },
     "metadata": {},
     "output_type": "display_data"
    },
    {
     "name": "stdout",
     "output_type": "stream",
     "text": [
      "Epoch 93/100 |  LR: [1.000000000000004e-76] |  val  | Loss: 0.5366 | Acc: 0.7845\n"
     ]
    },
    {
     "data": {
      "application/vnd.jupyter.widget-view+json": {
       "model_id": "f634f1088e6a4a4ca7e97ded3df1c542",
       "version_major": 2,
       "version_minor": 0
      },
      "text/plain": [
       "  0%|          | 0/20541 [00:00<?, ?it/s]"
      ]
     },
     "metadata": {},
     "output_type": "display_data"
    },
    {
     "name": "stdout",
     "output_type": "stream",
     "text": [
      "Epoch 94/100 |  LR: [1.0000000000000041e-77] | train | Loss: 0.5089 | Acc: 0.7958\n"
     ]
    },
    {
     "data": {
      "application/vnd.jupyter.widget-view+json": {
       "model_id": "f92b58c3838a41cd8770f873607eba17",
       "version_major": 2,
       "version_minor": 0
      },
      "text/plain": [
       "  0%|          | 0/2283 [00:00<?, ?it/s]"
      ]
     },
     "metadata": {},
     "output_type": "display_data"
    },
    {
     "name": "stdout",
     "output_type": "stream",
     "text": [
      "Epoch 94/100 |  LR: [1.0000000000000041e-77] |  val  | Loss: 0.5366 | Acc: 0.7843\n"
     ]
    },
    {
     "data": {
      "application/vnd.jupyter.widget-view+json": {
       "model_id": "c7351f0c00374b9288e7d05d9a61d242",
       "version_major": 2,
       "version_minor": 0
      },
      "text/plain": [
       "  0%|          | 0/20541 [00:00<?, ?it/s]"
      ]
     },
     "metadata": {},
     "output_type": "display_data"
    },
    {
     "name": "stdout",
     "output_type": "stream",
     "text": [
      "Epoch 95/100 |  LR: [1.0000000000000042e-78] | train | Loss: 0.5089 | Acc: 0.7956\n"
     ]
    },
    {
     "data": {
      "application/vnd.jupyter.widget-view+json": {
       "model_id": "cef036da26734ad88d83ff430079e584",
       "version_major": 2,
       "version_minor": 0
      },
      "text/plain": [
       "  0%|          | 0/2283 [00:00<?, ?it/s]"
      ]
     },
     "metadata": {},
     "output_type": "display_data"
    },
    {
     "name": "stdout",
     "output_type": "stream",
     "text": [
      "Epoch 95/100 |  LR: [1.0000000000000042e-78] |  val  | Loss: 0.5368 | Acc: 0.7843\n"
     ]
    },
    {
     "data": {
      "application/vnd.jupyter.widget-view+json": {
       "model_id": "675f17efbe8549b3ab64022ba2b12b65",
       "version_major": 2,
       "version_minor": 0
      },
      "text/plain": [
       "  0%|          | 0/20541 [00:00<?, ?it/s]"
      ]
     },
     "metadata": {},
     "output_type": "display_data"
    },
    {
     "name": "stdout",
     "output_type": "stream",
     "text": [
      "Epoch 96/100 |  LR: [1.0000000000000043e-79] | train | Loss: 0.5091 | Acc: 0.7958\n"
     ]
    },
    {
     "data": {
      "application/vnd.jupyter.widget-view+json": {
       "model_id": "9fa3c4fbde9e41ac90069e6d0821a434",
       "version_major": 2,
       "version_minor": 0
      },
      "text/plain": [
       "  0%|          | 0/2283 [00:00<?, ?it/s]"
      ]
     },
     "metadata": {},
     "output_type": "display_data"
    },
    {
     "name": "stdout",
     "output_type": "stream",
     "text": [
      "Epoch 96/100 |  LR: [1.0000000000000043e-79] |  val  | Loss: 0.5369 | Acc: 0.7846\n"
     ]
    },
    {
     "data": {
      "application/vnd.jupyter.widget-view+json": {
       "model_id": "9583beb489374d8dadde77ebdc439d82",
       "version_major": 2,
       "version_minor": 0
      },
      "text/plain": [
       "  0%|          | 0/20541 [00:00<?, ?it/s]"
      ]
     },
     "metadata": {},
     "output_type": "display_data"
    },
    {
     "name": "stdout",
     "output_type": "stream",
     "text": [
      "Epoch 97/100 |  LR: [1.0000000000000043e-80] | train | Loss: 0.5089 | Acc: 0.7958\n"
     ]
    },
    {
     "data": {
      "application/vnd.jupyter.widget-view+json": {
       "model_id": "2b2da40316bd42f4a341fb6910888c1e",
       "version_major": 2,
       "version_minor": 0
      },
      "text/plain": [
       "  0%|          | 0/2283 [00:00<?, ?it/s]"
      ]
     },
     "metadata": {},
     "output_type": "display_data"
    },
    {
     "name": "stdout",
     "output_type": "stream",
     "text": [
      "Epoch 97/100 |  LR: [1.0000000000000043e-80] |  val  | Loss: 0.5372 | Acc: 0.7841\n"
     ]
    },
    {
     "data": {
      "application/vnd.jupyter.widget-view+json": {
       "model_id": "3cade0f4bc8e4afd8d131ca2f26bc76b",
       "version_major": 2,
       "version_minor": 0
      },
      "text/plain": [
       "  0%|          | 0/20541 [00:00<?, ?it/s]"
      ]
     },
     "metadata": {},
     "output_type": "display_data"
    },
    {
     "name": "stdout",
     "output_type": "stream",
     "text": [
      "Epoch 98/100 |  LR: [1.0000000000000044e-81] | train | Loss: 0.5089 | Acc: 0.7956\n"
     ]
    },
    {
     "data": {
      "application/vnd.jupyter.widget-view+json": {
       "model_id": "e801c416472b45009b336c06eed117cb",
       "version_major": 2,
       "version_minor": 0
      },
      "text/plain": [
       "  0%|          | 0/2283 [00:00<?, ?it/s]"
      ]
     },
     "metadata": {},
     "output_type": "display_data"
    },
    {
     "name": "stdout",
     "output_type": "stream",
     "text": [
      "Epoch 98/100 |  LR: [1.0000000000000044e-81] |  val  | Loss: 0.5369 | Acc: 0.7839\n"
     ]
    },
    {
     "data": {
      "application/vnd.jupyter.widget-view+json": {
       "model_id": "4943a9b7208446219e9a9f810cfa2680",
       "version_major": 2,
       "version_minor": 0
      },
      "text/plain": [
       "  0%|          | 0/20541 [00:00<?, ?it/s]"
      ]
     },
     "metadata": {},
     "output_type": "display_data"
    },
    {
     "name": "stdout",
     "output_type": "stream",
     "text": [
      "Epoch 99/100 |  LR: [1.0000000000000045e-82] | train | Loss: 0.5092 | Acc: 0.7954\n"
     ]
    },
    {
     "data": {
      "application/vnd.jupyter.widget-view+json": {
       "model_id": "d1f015031f2448e898981e97a962cc8d",
       "version_major": 2,
       "version_minor": 0
      },
      "text/plain": [
       "  0%|          | 0/2283 [00:00<?, ?it/s]"
      ]
     },
     "metadata": {},
     "output_type": "display_data"
    },
    {
     "name": "stdout",
     "output_type": "stream",
     "text": [
      "Epoch 99/100 |  LR: [1.0000000000000045e-82] |  val  | Loss: 0.5368 | Acc: 0.7843\n"
     ]
    },
    {
     "data": {
      "application/vnd.jupyter.widget-view+json": {
       "model_id": "0fbf96e52d834b1695c17e37a49bed70",
       "version_major": 2,
       "version_minor": 0
      },
      "text/plain": [
       "  0%|          | 0/20541 [00:00<?, ?it/s]"
      ]
     },
     "metadata": {},
     "output_type": "display_data"
    },
    {
     "name": "stdout",
     "output_type": "stream",
     "text": [
      "Epoch 100/100 |  LR: [1.0000000000000046e-83] | train | Loss: 0.5092 | Acc: 0.7955\n"
     ]
    },
    {
     "data": {
      "application/vnd.jupyter.widget-view+json": {
       "model_id": "e94e7c3e1505423ca35b1d57f7c79d7e",
       "version_major": 2,
       "version_minor": 0
      },
      "text/plain": [
       "  0%|          | 0/2283 [00:00<?, ?it/s]"
      ]
     },
     "metadata": {},
     "output_type": "display_data"
    },
    {
     "name": "stdout",
     "output_type": "stream",
     "text": [
      "Epoch 100/100 |  LR: [1.0000000000000046e-83] |  val  | Loss: 0.5368 | Acc: 0.7843\n"
     ]
    },
    {
     "data": {
      "image/png": "[encoded data removed]",
      "text/plain": [
       "<Figure size 432x288 with 1 Axes>"
      ]
     },
     "metadata": {
      "needs_background": "light"
     },
     "output_type": "display_data"
    },
    {
     "data": {
      "image/png": "[encoded data removed]",
      "text/plain": [
       "<Figure size 432x288 with 1 Axes>"
      ]
     },
     "metadata": {
      "needs_background": "light"
     },
     "output_type": "display_data"
    }
   ],
   "source": [
    "\n",
    "print(f\"Optimizer: {op_name}\")\n",
    "optimizer = optimizers[op_name]\n",
    "train_losses, train_accs, val_losses, val_accs, lrs = train_model(model, dataloaders_dict, criterion, optimizer, num_epochs=num_epochs)\n",
    "\n",
    "epochs = range(num_epochs)\n",
    "\n",
    "plt.figure(1)\n",
    "plt.plot(epochs, train_losses, 'r', label='train_loss')\n",
    "plt.plot(epochs, train_accs, 'g', label='train_acc')\n",
    "plt.plot(epochs, val_losses, 'b', label='val_loss')\n",
    "plt.plot(epochs, val_accs, 'm', label='val_acc')\n",
    "\n",
    "plt.title(f'Losses and Accuracies (optimizer: {op_name}, lr: {learning_rate}, epochs: {num_epochs})')\n",
    "\n",
    "plt.xlabel('Epochs')\n",
    "plt.ylabel('Loss/Accuracy')\n",
    "\n",
    "plt.legend()\n",
    "plt.savefig(f\"./results/Losses and Accuracies({op_name}).jpg\", dpi=200)\n",
    "plt.show()\n",
    "\n",
    "plt.figure(2)\n",
    "plt.plot(epochs, lrs, 'b')\n",
    "plt.title(f'LambdaLR({lambda_c}^epoch)')\n",
    "\n",
    "plt.xlabel('Epochs')\n",
    "plt.ylabel('LR')\n",
    "plt.savefig(f\"./results/LambdaLR(optimizer: {op_name}, {lambda_c}^epoch).jpg\", dpi=200)\n"
   ]
  }
 ],
 "metadata": {
  "interpreter": {
   "hash": "48f4bc069920ebbbd1eda6554a35184c9b55389f39cf7b5b16b60be2a7081220"
  },
  "kernelspec": {
   "display_name": "Python 3.7.12 64-bit ('venv': venv)",
   "name": "python3"
  },
  "language_info": {
   "codemirror_mode": {
    "name": "ipython",
    "version": 3
   },
   "file_extension": ".py",
   "mimetype": "text/x-python",
   "name": "python",
   "nbconvert_exporter": "python",
   "pygments_lexer": "ipython3",
   "version": "3.7.12"
  },
  "orig_nbformat": 4
 },
 "nbformat": 4,
 "nbformat_minor": 2
}
